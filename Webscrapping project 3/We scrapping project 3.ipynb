{
 "cells": [
  {
   "cell_type": "code",
   "execution_count": 58,
   "id": "baa03fa3",
   "metadata": {},
   "outputs": [],
   "source": [
    "import selenium\n",
    "from selenium import webdriver\n",
    "import pandas as pd\n",
    "from selenium .webdriver.common.by import By\n",
    "import time\n",
    "import warnings\n",
    "from selenium.common.exceptions import NoSuchElementException,WebDriverException\n",
    "warnings.filterwarnings(\"ignore\")"
   ]
  },
  {
   "cell_type": "code",
   "execution_count": 59,
   "id": "422ef8f1",
   "metadata": {},
   "outputs": [],
   "source": [
    "driver=webdriver.Chrome(r'C:\\Users\\dell\\Downloads\\chromedriver_win32\\chromedriver.exe')"
   ]
  },
  {
   "cell_type": "code",
   "execution_count": 231,
   "id": "835bbafa",
   "metadata": {},
   "outputs": [],
   "source": [
    "url='https://www.amazon.in/'\n",
    "driver.get(url)"
   ]
  },
  {
   "cell_type": "code",
   "execution_count": 235,
   "id": "47b76b2b",
   "metadata": {},
   "outputs": [
    {
     "data": {
      "text/plain": [
       "<selenium.webdriver.remote.webelement.WebElement (session=\"3b2cd8a4da947ac18c8f9a69f58d27b5\", element=\"cf99153e-3d9f-4607-8ce3-acfbb60dad6c\")>"
      ]
     },
     "execution_count": 235,
     "metadata": {},
     "output_type": "execute_result"
    }
   ],
   "source": [
    "Guitar=driver.find_element(By.XPATH,\"/html/body/div[1]/header/div/div[1]/div[2]/div/form/div[2]/div[1]/input\")\n",
    "Guitar"
   ]
  },
  {
   "cell_type": "code",
   "execution_count": 232,
   "id": "6440f47e",
   "metadata": {},
   "outputs": [
    {
     "name": "stdout",
     "output_type": "stream",
     "text": [
      "enter the product:Guitar\n"
     ]
    }
   ],
   "source": [
    "user_inp=input('enter the product:')"
   ]
  },
  {
   "cell_type": "code",
   "execution_count": 236,
   "id": "74bd4205",
   "metadata": {},
   "outputs": [],
   "source": [
    "Guitar.send_keys(user_inp)"
   ]
  },
  {
   "cell_type": "code",
   "execution_count": 237,
   "id": "929cd7f9",
   "metadata": {},
   "outputs": [],
   "source": [
    "search_btn=driver.find_element(By.XPATH,\"/html/body/div[1]/header/div/div[1]/div[2]/div/form/div[3]/div/span\")"
   ]
  },
  {
   "cell_type": "code",
   "execution_count": 238,
   "id": "7b115374",
   "metadata": {},
   "outputs": [],
   "source": [
    "search_btn.click()"
   ]
  },
  {
   "cell_type": "code",
   "execution_count": 195,
   "id": "b91597c4",
   "metadata": {},
   "outputs": [
    {
     "data": {
      "text/plain": [
       "60"
      ]
     },
     "execution_count": 195,
     "metadata": {},
     "output_type": "execute_result"
    }
   ],
   "source": [
    "Expected_del=driver.find_elements(By.XPATH,'//span[@class=\"a-color-base a-text-bold\"]')\n",
    "EXP_DEL=[]\n",
    "for i in Expected_del:\n",
    "    EXP_DEL.append(i.text)\n",
    "len(EXP_DEL)"
   ]
  },
  {
   "cell_type": "code",
   "execution_count": 196,
   "id": "6bdca7f8",
   "metadata": {},
   "outputs": [
    {
     "data": {
      "text/plain": [
       "66"
      ]
     },
     "execution_count": 196,
     "metadata": {},
     "output_type": "execute_result"
    }
   ],
   "source": [
    "price=driver.find_elements(By.XPATH,'//span[@class=\"a-price-whole\"]')\n",
    "len(brand)\n",
    "PRICE=[]\n",
    "for i in price:\n",
    "    PRICE.append(i.text)\n",
    "len(PRICE)"
   ]
  },
  {
   "cell_type": "code",
   "execution_count": 243,
   "id": "30f9fa0c",
   "metadata": {},
   "outputs": [],
   "source": [
    "name_url=[]\n",
    "start=0\n",
    "end=3\n",
    "\n",
    "for i in range(start,end):\n",
    "    url_1=driver.find_elements(By.XPATH,'//a[@class=\"s-pagination-item s-pagination-next s-pagination-button s-pagination-separator\"]')\n",
    "    for i in url_1:\n",
    "        name_url.append(i.get_attribute('href'))\n",
    "    next_button=driver.find_element(By.XPATH,'/html/body/div[1]/div[2]/div[1]/div[1]/div/span[3]/div[2]/div[67]/div/div/span/a[3]')"
   ]
  },
  {
   "cell_type": "code",
   "execution_count": 259,
   "id": "a6b28fa6",
   "metadata": {},
   "outputs": [],
   "source": [
    "BRAND=[]\n",
    "for i in name_url[0:3]:\n",
    "    driver.get(i)\n",
    "    time.sleep(5)\n",
    "    \n",
    "    try:\n",
    "        brand=driver.find_elements(By.XPATH,'//a[@class=\"a-link-normal s-underline-text s-underline-link-text s-link-style a-text-normal\"]')\n",
    "        for i in brand:\n",
    "            BRAND.append(i.text)\n",
    "    except NoSuchElementException:\n",
    "        Brand.append('-')"
   ]
  },
  {
   "cell_type": "code",
   "execution_count": 260,
   "id": "6ddc0288",
   "metadata": {},
   "outputs": [
    {
     "data": {
      "text/plain": [
       "180"
      ]
     },
     "execution_count": 260,
     "metadata": {},
     "output_type": "execute_result"
    }
   ],
   "source": [
    "len(BRAND)"
   ]
  },
  {
   "cell_type": "code",
   "execution_count": 261,
   "id": "ba304d65",
   "metadata": {},
   "outputs": [],
   "source": [
    "PREVIOUS=driver.find_element(By.XPATH,'/html/body/div[1]/div[2]/div[1]/div[1]/div/span[3]/div[2]/div[66]/div/div/span/a[2]')"
   ]
  },
  {
   "cell_type": "code",
   "execution_count": 262,
   "id": "59e8f297",
   "metadata": {},
   "outputs": [],
   "source": [
    "PREVIOUS.click()"
   ]
  },
  {
   "cell_type": "code",
   "execution_count": 263,
   "id": "c6910234",
   "metadata": {},
   "outputs": [],
   "source": [
    "EXP_DEL=[]\n",
    "for i in name_url[0:3]:\n",
    "    driver.get(i)\n",
    "    time.sleep(5)\n",
    "    \n",
    "    try:\n",
    "        Expected_del=driver.find_elements(By.XPATH,'//span[@class=\"a-color-base a-text-bold\"]')\n",
    "        for i in Expected_del:\n",
    "            EXP_DEL.append(i.text)\n",
    "    except NoSuchElementException:\n",
    "        EXP-_DEL.append('-')\n",
    "\n"
   ]
  },
  {
   "cell_type": "code",
   "execution_count": 264,
   "id": "86cb89e3",
   "metadata": {},
   "outputs": [
    {
     "data": {
      "text/plain": [
       "191"
      ]
     },
     "execution_count": 264,
     "metadata": {},
     "output_type": "execute_result"
    }
   ],
   "source": [
    "len(EXP_DEL)"
   ]
  },
  {
   "cell_type": "code",
   "execution_count": 267,
   "id": "7d1331ad",
   "metadata": {},
   "outputs": [],
   "source": [
    "PREVIOUS=driver.find_element(By.XPATH,'/html/body/div[1]/div[2]/div[1]/div[1]/div/span[3]/div[2]/div[65]/div/div/span/a[1]')"
   ]
  },
  {
   "cell_type": "code",
   "execution_count": 268,
   "id": "ff8a13fd",
   "metadata": {},
   "outputs": [],
   "source": [
    "PREVIOUS.click()"
   ]
  },
  {
   "cell_type": "code",
   "execution_count": 270,
   "id": "0d63449e",
   "metadata": {},
   "outputs": [],
   "source": [
    "PRICE=[]\n",
    "for i in name_url[0:3]:\n",
    "    driver.get(i)\n",
    "    time.sleep(5)\n",
    "    try:\n",
    "        price=driver.find_elements(By.XPATH,'//span[@class=\"a-price-whole\"]')\n",
    "        for i in price:\n",
    "            PRICE.append(i.text)\n",
    "    except NoSuchElementException:\n",
    "        PRICE.append('-')"
   ]
  },
  {
   "cell_type": "code",
   "execution_count": 271,
   "id": "012c441f",
   "metadata": {},
   "outputs": [
    {
     "data": {
      "text/plain": [
       "179"
      ]
     },
     "execution_count": 271,
     "metadata": {},
     "output_type": "execute_result"
    }
   ],
   "source": [
    "len(PRICE)"
   ]
  },
  {
   "cell_type": "code",
   "execution_count": 272,
   "id": "958359e4",
   "metadata": {},
   "outputs": [],
   "source": [
    "PRODUCT_LINK=[]\n",
    "for i in name_url[0:3]:\n",
    "    driver.get(i)\n",
    "    time.sleep(5)\n",
    "    \n",
    "    try:\n",
    "        product_link=driver.find_elements(By.XPATH,'//a[@class=\"a-link-normal s-underline-text s-underline-link-text s-link-style a-text-normal\"]')\n",
    "        for i in product_link:\n",
    "            PRODUCT_LINK.append(i.get_attribute('href'))\n",
    "    except NoSuchElementException:\n",
    "        PRODUCT_LINK.append('-')"
   ]
  },
  {
   "cell_type": "code",
   "execution_count": 273,
   "id": "80c55153",
   "metadata": {},
   "outputs": [
    {
     "data": {
      "text/plain": [
       "180"
      ]
     },
     "execution_count": 273,
     "metadata": {},
     "output_type": "execute_result"
    }
   ],
   "source": [
    "len(PRODUCT_LINK)"
   ]
  },
  {
   "cell_type": "code",
   "execution_count": null,
   "id": "aa46202f",
   "metadata": {},
   "outputs": [],
   "source": [
    "df=pd.DataFrame({'Brand':BRAND,'EXPECTED_DEL':EXP_DEL,'GUITAR_PRICE':PRICE,'PRODUCT_LINK':PRODUCT_LINK})"
   ]
  },
  {
   "cell_type": "code",
   "execution_count": null,
   "id": "3f25a2fe",
   "metadata": {},
   "outputs": [],
   "source": [
    "df.to_csv('guitar webscrapping.csv',index=True)"
   ]
  },
  {
   "cell_type": "code",
   "execution_count": null,
   "id": "5d2dbb87",
   "metadata": {},
   "outputs": [],
   "source": []
  },
  {
   "cell_type": "markdown",
   "id": "014df70c",
   "metadata": {},
   "source": [
    "# 3"
   ]
  },
  {
   "cell_type": "code",
   "execution_count": 3,
   "id": "88eec58e",
   "metadata": {},
   "outputs": [],
   "source": [
    "url='https://images.google.com/?gws_rd=ssl'\n",
    "driver.get(url)"
   ]
  },
  {
   "cell_type": "code",
   "execution_count": 4,
   "id": "c19e499c",
   "metadata": {},
   "outputs": [
    {
     "name": "stdout",
     "output_type": "stream",
     "text": [
      "enter your search :fruits\n"
     ]
    }
   ],
   "source": [
    "int_=input('enter your search :')"
   ]
  },
  {
   "cell_type": "code",
   "execution_count": 5,
   "id": "1303de4f",
   "metadata": {},
   "outputs": [],
   "source": [
    "search_bar=driver.find_element(By.XPATH,('/html/body/div[1]/div[3]/form/div[1]/div[1]/div[1]/div/div[2]/input'))"
   ]
  },
  {
   "cell_type": "code",
   "execution_count": 6,
   "id": "3ee413a6",
   "metadata": {},
   "outputs": [],
   "source": [
    "search_bar.send_keys(int_)"
   ]
  },
  {
   "cell_type": "code",
   "execution_count": 9,
   "id": "41626b8c",
   "metadata": {},
   "outputs": [],
   "source": [
    "search=driver.find_element(By.XPATH,'/html/body/div[1]/div[3]/form/div[1]/div[1]/div[1]/button/div')\n"
   ]
  },
  {
   "cell_type": "code",
   "execution_count": 10,
   "id": "4e24ee74",
   "metadata": {},
   "outputs": [],
   "source": [
    "search.click()"
   ]
  },
  {
   "cell_type": "code",
   "execution_count": 19,
   "id": "aaf9ead7",
   "metadata": {},
   "outputs": [],
   "source": [
    "fruits=driver.find_elements(By.XPATH,'//img[@class=\"rg_i Q4LuWd\"]')"
   ]
  },
  {
   "cell_type": "code",
   "execution_count": 20,
   "id": "896938fb",
   "metadata": {},
   "outputs": [],
   "source": [
    "FRUITS=[]\n",
    "for i in fruits:\n",
    "    FRUITS.append(i.get_attribute('src'))"
   ]
  },
  {
   "cell_type": "code",
   "execution_count": 24,
   "id": "e11f04d0",
   "metadata": {},
   "outputs": [],
   "source": [
    "fru=FRUITS[0:20]"
   ]
  },
  {
   "cell_type": "code",
   "execution_count": 26,
   "id": "c3d9a007",
   "metadata": {},
   "outputs": [
    {
     "name": "stdout",
     "output_type": "stream",
     "text": [
      "enter your search :cars\n"
     ]
    }
   ],
   "source": [
    "int_=input('enter your search :')"
   ]
  },
  {
   "cell_type": "code",
   "execution_count": 57,
   "id": "83336934",
   "metadata": {},
   "outputs": [],
   "source": [
    "search_bar=driver.find_element(By.XPATH,('/html/body/c-wiz/c-wiz/div/div[3]/div[2]/div/div[1]/form/div[1]/div[2]/div/div[2]/input'))"
   ]
  },
  {
   "cell_type": "code",
   "execution_count": 58,
   "id": "66c7729d",
   "metadata": {},
   "outputs": [],
   "source": [
    "from selenium.webdriver.common.keys import Keys"
   ]
  },
  {
   "cell_type": "code",
   "execution_count": 60,
   "id": "b1b1b48b",
   "metadata": {},
   "outputs": [],
   "source": [
    "search_bar.send_keys(len(fruits)*Keys.BACKSPACE)"
   ]
  },
  {
   "cell_type": "code",
   "execution_count": 61,
   "id": "d5f9f2d1",
   "metadata": {},
   "outputs": [],
   "source": [
    "search_bar.send_keys(int_)"
   ]
  },
  {
   "cell_type": "code",
   "execution_count": 64,
   "id": "9ebcdbaa",
   "metadata": {},
   "outputs": [],
   "source": [
    "search=driver.find_element(By.XPATH,'/html/body/c-wiz/c-wiz/div/div[3]/div[2]/div/div[1]/form/div[1]/div[2]/button')"
   ]
  },
  {
   "cell_type": "code",
   "execution_count": 65,
   "id": "3f087dd5",
   "metadata": {},
   "outputs": [],
   "source": [
    "search.click()"
   ]
  },
  {
   "cell_type": "code",
   "execution_count": 71,
   "id": "c63982e4",
   "metadata": {},
   "outputs": [],
   "source": [
    "cars=driver.find_elements(By.XPATH,'//img[@class=\"rg_i Q4LuWd\"]')"
   ]
  },
  {
   "cell_type": "code",
   "execution_count": 73,
   "id": "6ec8f117",
   "metadata": {},
   "outputs": [],
   "source": [
    "CARS=[]\n",
    "for i in cars:\n",
    "    CARS.append(i.get_attribute('src'))"
   ]
  },
  {
   "cell_type": "code",
   "execution_count": 75,
   "id": "44701c52",
   "metadata": {},
   "outputs": [],
   "source": [
    "Cars=CARS[0:20]"
   ]
  },
  {
   "cell_type": "code",
   "execution_count": 76,
   "id": "a6b2af99",
   "metadata": {},
   "outputs": [],
   "source": [
    "search_bar=driver.find_element(By.XPATH,('/html/body/c-wiz/c-wiz/div/div[3]/div[2]/div/div[1]/form/div[1]/div[2]/div/div[2]/input'))"
   ]
  },
  {
   "cell_type": "code",
   "execution_count": 77,
   "id": "76aa1359",
   "metadata": {},
   "outputs": [],
   "source": [
    "search_bar.send_keys(len(cars)*Keys.BACKSPACE)"
   ]
  },
  {
   "cell_type": "code",
   "execution_count": 78,
   "id": "00ef5d12",
   "metadata": {},
   "outputs": [
    {
     "name": "stdout",
     "output_type": "stream",
     "text": [
      "enter your search :Machine Learning\n"
     ]
    }
   ],
   "source": [
    "int_=input('enter your search :')"
   ]
  },
  {
   "cell_type": "code",
   "execution_count": 79,
   "id": "7cbb475f",
   "metadata": {},
   "outputs": [],
   "source": [
    "search_bar.send_keys(int_)"
   ]
  },
  {
   "cell_type": "code",
   "execution_count": 80,
   "id": "a48f9a5f",
   "metadata": {},
   "outputs": [],
   "source": [
    "search=driver.find_element(By.XPATH,'/html/body/c-wiz/c-wiz/div/div[3]/div[2]/div/div[1]/form/div[1]/div[2]/button')"
   ]
  },
  {
   "cell_type": "code",
   "execution_count": 81,
   "id": "9b912c25",
   "metadata": {},
   "outputs": [],
   "source": [
    "search.click()"
   ]
  },
  {
   "cell_type": "code",
   "execution_count": 82,
   "id": "6b783faf",
   "metadata": {},
   "outputs": [],
   "source": [
    "machine_learning=driver.find_elements(By.XPATH,'//img[@class=\"rg_i Q4LuWd\"]')"
   ]
  },
  {
   "cell_type": "code",
   "execution_count": 83,
   "id": "4d0601d7",
   "metadata": {},
   "outputs": [],
   "source": [
    "ML=[]\n",
    "for i in machine_learning:\n",
    "    ML.append(i.get_attribute('src'))"
   ]
  },
  {
   "cell_type": "code",
   "execution_count": 85,
   "id": "7adc15ff",
   "metadata": {},
   "outputs": [],
   "source": [
    "ml=ML[0:20]"
   ]
  },
  {
   "cell_type": "code",
   "execution_count": 95,
   "id": "1332ec37",
   "metadata": {},
   "outputs": [],
   "source": [
    "search_bar=driver.find_element(By.XPATH,('/html/body/c-wiz/c-wiz/div/div[3]/div[2]/div/div[1]/form/div[1]/div[2]/div/div[2]/input'))"
   ]
  },
  {
   "cell_type": "code",
   "execution_count": 96,
   "id": "f8e5c6dc",
   "metadata": {},
   "outputs": [],
   "source": [
    "search_bar.send_keys(len(machine_learning)*Keys.BACKSPACE)"
   ]
  },
  {
   "cell_type": "code",
   "execution_count": 97,
   "id": "16dd12a5",
   "metadata": {},
   "outputs": [
    {
     "name": "stdout",
     "output_type": "stream",
     "text": [
      "enter your search :guitar\n"
     ]
    }
   ],
   "source": [
    "int_=input('enter your search :')"
   ]
  },
  {
   "cell_type": "code",
   "execution_count": 98,
   "id": "7d8cf9fe",
   "metadata": {},
   "outputs": [],
   "source": [
    "search_bar.send_keys(int_)"
   ]
  },
  {
   "cell_type": "code",
   "execution_count": 101,
   "id": "219ef7d2",
   "metadata": {},
   "outputs": [],
   "source": [
    "search=driver.find_element(By.XPATH,'/html/body/c-wiz/c-wiz/div/div[3]/div[2]/div/div[1]/form/div[1]/div[2]/button/div/span')"
   ]
  },
  {
   "cell_type": "code",
   "execution_count": 102,
   "id": "abf38c3d",
   "metadata": {},
   "outputs": [],
   "source": [
    "search.click()"
   ]
  },
  {
   "cell_type": "code",
   "execution_count": 103,
   "id": "05b77c8f",
   "metadata": {},
   "outputs": [],
   "source": [
    "guitar=driver.find_elements(By.XPATH,'//img[@class=\"rg_i Q4LuWd\"]')"
   ]
  },
  {
   "cell_type": "code",
   "execution_count": 111,
   "id": "45c848c1",
   "metadata": {},
   "outputs": [],
   "source": [
    "GUITAR=[]\n",
    "for i in guitar:\n",
    "    GUITAR.append(i.get_attribute('src'))"
   ]
  },
  {
   "cell_type": "code",
   "execution_count": 112,
   "id": "8a995ee0",
   "metadata": {},
   "outputs": [],
   "source": [
    "GUI=GUITAR[0:20]"
   ]
  },
  {
   "cell_type": "code",
   "execution_count": 113,
   "id": "3116468d",
   "metadata": {},
   "outputs": [],
   "source": [
    "search_bar=driver.find_element(By.XPATH,('/html/body/c-wiz/c-wiz/div/div[3]/div[2]/div/div[1]/form/div[1]/div[2]/div/div[2]/input'))"
   ]
  },
  {
   "cell_type": "code",
   "execution_count": 114,
   "id": "2f1e0055",
   "metadata": {},
   "outputs": [],
   "source": [
    "search_bar.send_keys(len(guitar)*Keys.BACKSPACE)"
   ]
  },
  {
   "cell_type": "code",
   "execution_count": 115,
   "id": "b632c002",
   "metadata": {},
   "outputs": [
    {
     "name": "stdout",
     "output_type": "stream",
     "text": [
      "enter your search :cakes\n"
     ]
    }
   ],
   "source": [
    "int_=input('enter your search :')"
   ]
  },
  {
   "cell_type": "code",
   "execution_count": 116,
   "id": "6ab35628",
   "metadata": {},
   "outputs": [],
   "source": [
    "search_bar.send_keys(int_)"
   ]
  },
  {
   "cell_type": "code",
   "execution_count": 117,
   "id": "ac9c4752",
   "metadata": {},
   "outputs": [],
   "source": [
    "search=driver.find_element(By.XPATH,'/html/body/c-wiz/c-wiz/div/div[3]/div[2]/div/div[1]/form/div[1]/div[2]/button/div/span')"
   ]
  },
  {
   "cell_type": "code",
   "execution_count": 118,
   "id": "17a004ab",
   "metadata": {},
   "outputs": [],
   "source": [
    "search.click()"
   ]
  },
  {
   "cell_type": "code",
   "execution_count": 128,
   "id": "e23d1365",
   "metadata": {},
   "outputs": [],
   "source": [
    "cakes=driver.find_elements(By.XPATH,'//img[@class=\"rg_i Q4LuWd\"]')"
   ]
  },
  {
   "cell_type": "code",
   "execution_count": 129,
   "id": "adf0a087",
   "metadata": {},
   "outputs": [],
   "source": [
    "CAKES=[]\n",
    "for i in cakes:\n",
    "    CAKES.append(i.get_attribute('src'))\n"
   ]
  },
  {
   "cell_type": "code",
   "execution_count": 131,
   "id": "2cf610aa",
   "metadata": {},
   "outputs": [],
   "source": [
    "CAK=CAKES[0:20]"
   ]
  },
  {
   "cell_type": "code",
   "execution_count": 132,
   "id": "ac5d9f9c",
   "metadata": {},
   "outputs": [],
   "source": [
    "DF=pd.DataFrame({'CAKES':CAK,'GUITAR':GUI,'MACHINE_LEARNING':ml,'CARS':Cars})"
   ]
  },
  {
   "cell_type": "code",
   "execution_count": 133,
   "id": "3b5102ff",
   "metadata": {},
   "outputs": [
    {
     "data": {
      "text/html": [
       "<div>\n",
       "<style scoped>\n",
       "    .dataframe tbody tr th:only-of-type {\n",
       "        vertical-align: middle;\n",
       "    }\n",
       "\n",
       "    .dataframe tbody tr th {\n",
       "        vertical-align: top;\n",
       "    }\n",
       "\n",
       "    .dataframe thead th {\n",
       "        text-align: right;\n",
       "    }\n",
       "</style>\n",
       "<table border=\"1\" class=\"dataframe\">\n",
       "  <thead>\n",
       "    <tr style=\"text-align: right;\">\n",
       "      <th></th>\n",
       "      <th>CAKES</th>\n",
       "      <th>GUITAR</th>\n",
       "      <th>MACHINE_LEARNING</th>\n",
       "      <th>CARS</th>\n",
       "    </tr>\n",
       "  </thead>\n",
       "  <tbody>\n",
       "    <tr>\n",
       "      <th>0</th>\n",
       "      <td>data:image/jpeg;base64,/9j/4AAQSkZJRgABAQAAAQA...</td>\n",
       "      <td>data:image/jpeg;base64,/9j/4AAQSkZJRgABAQAAAQA...</td>\n",
       "      <td>data:image/jpeg;base64,/9j/4AAQSkZJRgABAQAAAQA...</td>\n",
       "      <td>data:image/jpeg;base64,/9j/4AAQSkZJRgABAQAAAQA...</td>\n",
       "    </tr>\n",
       "    <tr>\n",
       "      <th>1</th>\n",
       "      <td>data:image/jpeg;base64,/9j/4AAQSkZJRgABAQAAAQA...</td>\n",
       "      <td>data:image/jpeg;base64,/9j/4AAQSkZJRgABAQAAAQA...</td>\n",
       "      <td>data:image/jpeg;base64,/9j/4AAQSkZJRgABAQAAAQA...</td>\n",
       "      <td>data:image/jpeg;base64,/9j/4AAQSkZJRgABAQAAAQA...</td>\n",
       "    </tr>\n",
       "    <tr>\n",
       "      <th>2</th>\n",
       "      <td>data:image/jpeg;base64,/9j/4AAQSkZJRgABAQAAAQA...</td>\n",
       "      <td>data:image/jpeg;base64,/9j/4AAQSkZJRgABAQAAAQA...</td>\n",
       "      <td>data:image/png;base64,iVBORw0KGgoAAAANSUhEUgAA...</td>\n",
       "      <td>data:image/jpeg;base64,/9j/4AAQSkZJRgABAQAAAQA...</td>\n",
       "    </tr>\n",
       "    <tr>\n",
       "      <th>3</th>\n",
       "      <td>data:image/jpeg;base64,/9j/4AAQSkZJRgABAQAAAQA...</td>\n",
       "      <td>data:image/jpeg;base64,/9j/4AAQSkZJRgABAQAAAQA...</td>\n",
       "      <td>data:image/jpeg;base64,/9j/4AAQSkZJRgABAQAAAQA...</td>\n",
       "      <td>data:image/jpeg;base64,/9j/4AAQSkZJRgABAQAAAQA...</td>\n",
       "    </tr>\n",
       "    <tr>\n",
       "      <th>4</th>\n",
       "      <td>data:image/jpeg;base64,/9j/4AAQSkZJRgABAQAAAQA...</td>\n",
       "      <td>data:image/jpeg;base64,/9j/4AAQSkZJRgABAQAAAQA...</td>\n",
       "      <td>data:image/jpeg;base64,/9j/4AAQSkZJRgABAQAAAQA...</td>\n",
       "      <td>data:image/jpeg;base64,/9j/4AAQSkZJRgABAQAAAQA...</td>\n",
       "    </tr>\n",
       "    <tr>\n",
       "      <th>5</th>\n",
       "      <td>data:image/jpeg;base64,/9j/4AAQSkZJRgABAQAAAQA...</td>\n",
       "      <td>data:image/jpeg;base64,/9j/4AAQSkZJRgABAQAAAQA...</td>\n",
       "      <td>data:image/jpeg;base64,/9j/4AAQSkZJRgABAQAAAQA...</td>\n",
       "      <td>data:image/jpeg;base64,/9j/4AAQSkZJRgABAQAAAQA...</td>\n",
       "    </tr>\n",
       "    <tr>\n",
       "      <th>6</th>\n",
       "      <td>data:image/jpeg;base64,/9j/4AAQSkZJRgABAQAAAQA...</td>\n",
       "      <td>data:image/jpeg;base64,/9j/4AAQSkZJRgABAQAAAQA...</td>\n",
       "      <td>data:image/jpeg;base64,/9j/4AAQSkZJRgABAQAAAQA...</td>\n",
       "      <td>data:image/jpeg;base64,/9j/4AAQSkZJRgABAQAAAQA...</td>\n",
       "    </tr>\n",
       "    <tr>\n",
       "      <th>7</th>\n",
       "      <td>data:image/jpeg;base64,/9j/4AAQSkZJRgABAQAAAQA...</td>\n",
       "      <td>data:image/jpeg;base64,/9j/4AAQSkZJRgABAQAAAQA...</td>\n",
       "      <td>data:image/jpeg;base64,/9j/4AAQSkZJRgABAQAAAQA...</td>\n",
       "      <td>data:image/jpeg;base64,/9j/4AAQSkZJRgABAQAAAQA...</td>\n",
       "    </tr>\n",
       "    <tr>\n",
       "      <th>8</th>\n",
       "      <td>data:image/jpeg;base64,/9j/4AAQSkZJRgABAQAAAQA...</td>\n",
       "      <td>data:image/jpeg;base64,/9j/4AAQSkZJRgABAQAAAQA...</td>\n",
       "      <td>data:image/jpeg;base64,/9j/4AAQSkZJRgABAQAAAQA...</td>\n",
       "      <td>data:image/jpeg;base64,/9j/4AAQSkZJRgABAQAAAQA...</td>\n",
       "    </tr>\n",
       "    <tr>\n",
       "      <th>9</th>\n",
       "      <td>data:image/jpeg;base64,/9j/4AAQSkZJRgABAQAAAQA...</td>\n",
       "      <td>data:image/jpeg;base64,/9j/4AAQSkZJRgABAQAAAQA...</td>\n",
       "      <td>data:image/jpeg;base64,/9j/4AAQSkZJRgABAQAAAQA...</td>\n",
       "      <td>data:image/jpeg;base64,/9j/4AAQSkZJRgABAQAAAQA...</td>\n",
       "    </tr>\n",
       "    <tr>\n",
       "      <th>10</th>\n",
       "      <td>data:image/jpeg;base64,/9j/4AAQSkZJRgABAQAAAQA...</td>\n",
       "      <td>data:image/jpeg;base64,/9j/4AAQSkZJRgABAQAAAQA...</td>\n",
       "      <td>data:image/jpeg;base64,/9j/4AAQSkZJRgABAQAAAQA...</td>\n",
       "      <td>data:image/jpeg;base64,/9j/4AAQSkZJRgABAQAAAQA...</td>\n",
       "    </tr>\n",
       "    <tr>\n",
       "      <th>11</th>\n",
       "      <td>data:image/jpeg;base64,/9j/4AAQSkZJRgABAQAAAQA...</td>\n",
       "      <td>data:image/jpeg;base64,/9j/4AAQSkZJRgABAQAAAQA...</td>\n",
       "      <td>data:image/jpeg;base64,/9j/4AAQSkZJRgABAQAAAQA...</td>\n",
       "      <td>data:image/jpeg;base64,/9j/4AAQSkZJRgABAQAAAQA...</td>\n",
       "    </tr>\n",
       "    <tr>\n",
       "      <th>12</th>\n",
       "      <td>data:image/jpeg;base64,/9j/4AAQSkZJRgABAQAAAQA...</td>\n",
       "      <td>data:image/jpeg;base64,/9j/4AAQSkZJRgABAQAAAQA...</td>\n",
       "      <td>data:image/jpeg;base64,/9j/4AAQSkZJRgABAQAAAQA...</td>\n",
       "      <td>data:image/jpeg;base64,/9j/4AAQSkZJRgABAQAAAQA...</td>\n",
       "    </tr>\n",
       "    <tr>\n",
       "      <th>13</th>\n",
       "      <td>data:image/jpeg;base64,/9j/4AAQSkZJRgABAQAAAQA...</td>\n",
       "      <td>data:image/jpeg;base64,/9j/4AAQSkZJRgABAQAAAQA...</td>\n",
       "      <td>data:image/png;base64,iVBORw0KGgoAAAANSUhEUgAA...</td>\n",
       "      <td>data:image/jpeg;base64,/9j/4AAQSkZJRgABAQAAAQA...</td>\n",
       "    </tr>\n",
       "    <tr>\n",
       "      <th>14</th>\n",
       "      <td>data:image/jpeg;base64,/9j/4AAQSkZJRgABAQAAAQA...</td>\n",
       "      <td>data:image/jpeg;base64,/9j/4AAQSkZJRgABAQAAAQA...</td>\n",
       "      <td>data:image/jpeg;base64,/9j/4AAQSkZJRgABAQAAAQA...</td>\n",
       "      <td>data:image/jpeg;base64,/9j/4AAQSkZJRgABAQAAAQA...</td>\n",
       "    </tr>\n",
       "    <tr>\n",
       "      <th>15</th>\n",
       "      <td>data:image/jpeg;base64,/9j/4AAQSkZJRgABAQAAAQA...</td>\n",
       "      <td>data:image/png;base64,iVBORw0KGgoAAAANSUhEUgAA...</td>\n",
       "      <td>data:image/jpeg;base64,/9j/4AAQSkZJRgABAQAAAQA...</td>\n",
       "      <td>data:image/jpeg;base64,/9j/4AAQSkZJRgABAQAAAQA...</td>\n",
       "    </tr>\n",
       "    <tr>\n",
       "      <th>16</th>\n",
       "      <td>data:image/jpeg;base64,/9j/4AAQSkZJRgABAQAAAQA...</td>\n",
       "      <td>data:image/jpeg;base64,/9j/4AAQSkZJRgABAQAAAQA...</td>\n",
       "      <td>data:image/jpeg;base64,/9j/4AAQSkZJRgABAQAAAQA...</td>\n",
       "      <td>data:image/jpeg;base64,/9j/4AAQSkZJRgABAQAAAQA...</td>\n",
       "    </tr>\n",
       "    <tr>\n",
       "      <th>17</th>\n",
       "      <td>data:image/jpeg;base64,/9j/4AAQSkZJRgABAQAAAQA...</td>\n",
       "      <td>data:image/jpeg;base64,/9j/4AAQSkZJRgABAQAAAQA...</td>\n",
       "      <td>data:image/jpeg;base64,/9j/4AAQSkZJRgABAQAAAQA...</td>\n",
       "      <td>data:image/jpeg;base64,/9j/4AAQSkZJRgABAQAAAQA...</td>\n",
       "    </tr>\n",
       "    <tr>\n",
       "      <th>18</th>\n",
       "      <td>data:image/jpeg;base64,/9j/4AAQSkZJRgABAQAAAQA...</td>\n",
       "      <td>data:image/jpeg;base64,/9j/4AAQSkZJRgABAQAAAQA...</td>\n",
       "      <td>data:image/jpeg;base64,/9j/4AAQSkZJRgABAQAAAQA...</td>\n",
       "      <td>data:image/jpeg;base64,/9j/4AAQSkZJRgABAQAAAQA...</td>\n",
       "    </tr>\n",
       "    <tr>\n",
       "      <th>19</th>\n",
       "      <td>data:image/jpeg;base64,/9j/4AAQSkZJRgABAQAAAQA...</td>\n",
       "      <td>data:image/jpeg;base64,/9j/4AAQSkZJRgABAQAAAQA...</td>\n",
       "      <td>data:image/jpeg;base64,/9j/4AAQSkZJRgABAQAAAQA...</td>\n",
       "      <td>data:image/jpeg;base64,/9j/4AAQSkZJRgABAQAAAQA...</td>\n",
       "    </tr>\n",
       "  </tbody>\n",
       "</table>\n",
       "</div>"
      ],
      "text/plain": [
       "                                                CAKES  \\\n",
       "0   data:image/jpeg;base64,/9j/4AAQSkZJRgABAQAAAQA...   \n",
       "1   data:image/jpeg;base64,/9j/4AAQSkZJRgABAQAAAQA...   \n",
       "2   data:image/jpeg;base64,/9j/4AAQSkZJRgABAQAAAQA...   \n",
       "3   data:image/jpeg;base64,/9j/4AAQSkZJRgABAQAAAQA...   \n",
       "4   data:image/jpeg;base64,/9j/4AAQSkZJRgABAQAAAQA...   \n",
       "5   data:image/jpeg;base64,/9j/4AAQSkZJRgABAQAAAQA...   \n",
       "6   data:image/jpeg;base64,/9j/4AAQSkZJRgABAQAAAQA...   \n",
       "7   data:image/jpeg;base64,/9j/4AAQSkZJRgABAQAAAQA...   \n",
       "8   data:image/jpeg;base64,/9j/4AAQSkZJRgABAQAAAQA...   \n",
       "9   data:image/jpeg;base64,/9j/4AAQSkZJRgABAQAAAQA...   \n",
       "10  data:image/jpeg;base64,/9j/4AAQSkZJRgABAQAAAQA...   \n",
       "11  data:image/jpeg;base64,/9j/4AAQSkZJRgABAQAAAQA...   \n",
       "12  data:image/jpeg;base64,/9j/4AAQSkZJRgABAQAAAQA...   \n",
       "13  data:image/jpeg;base64,/9j/4AAQSkZJRgABAQAAAQA...   \n",
       "14  data:image/jpeg;base64,/9j/4AAQSkZJRgABAQAAAQA...   \n",
       "15  data:image/jpeg;base64,/9j/4AAQSkZJRgABAQAAAQA...   \n",
       "16  data:image/jpeg;base64,/9j/4AAQSkZJRgABAQAAAQA...   \n",
       "17  data:image/jpeg;base64,/9j/4AAQSkZJRgABAQAAAQA...   \n",
       "18  data:image/jpeg;base64,/9j/4AAQSkZJRgABAQAAAQA...   \n",
       "19  data:image/jpeg;base64,/9j/4AAQSkZJRgABAQAAAQA...   \n",
       "\n",
       "                                               GUITAR  \\\n",
       "0   data:image/jpeg;base64,/9j/4AAQSkZJRgABAQAAAQA...   \n",
       "1   data:image/jpeg;base64,/9j/4AAQSkZJRgABAQAAAQA...   \n",
       "2   data:image/jpeg;base64,/9j/4AAQSkZJRgABAQAAAQA...   \n",
       "3   data:image/jpeg;base64,/9j/4AAQSkZJRgABAQAAAQA...   \n",
       "4   data:image/jpeg;base64,/9j/4AAQSkZJRgABAQAAAQA...   \n",
       "5   data:image/jpeg;base64,/9j/4AAQSkZJRgABAQAAAQA...   \n",
       "6   data:image/jpeg;base64,/9j/4AAQSkZJRgABAQAAAQA...   \n",
       "7   data:image/jpeg;base64,/9j/4AAQSkZJRgABAQAAAQA...   \n",
       "8   data:image/jpeg;base64,/9j/4AAQSkZJRgABAQAAAQA...   \n",
       "9   data:image/jpeg;base64,/9j/4AAQSkZJRgABAQAAAQA...   \n",
       "10  data:image/jpeg;base64,/9j/4AAQSkZJRgABAQAAAQA...   \n",
       "11  data:image/jpeg;base64,/9j/4AAQSkZJRgABAQAAAQA...   \n",
       "12  data:image/jpeg;base64,/9j/4AAQSkZJRgABAQAAAQA...   \n",
       "13  data:image/jpeg;base64,/9j/4AAQSkZJRgABAQAAAQA...   \n",
       "14  data:image/jpeg;base64,/9j/4AAQSkZJRgABAQAAAQA...   \n",
       "15  data:image/png;base64,iVBORw0KGgoAAAANSUhEUgAA...   \n",
       "16  data:image/jpeg;base64,/9j/4AAQSkZJRgABAQAAAQA...   \n",
       "17  data:image/jpeg;base64,/9j/4AAQSkZJRgABAQAAAQA...   \n",
       "18  data:image/jpeg;base64,/9j/4AAQSkZJRgABAQAAAQA...   \n",
       "19  data:image/jpeg;base64,/9j/4AAQSkZJRgABAQAAAQA...   \n",
       "\n",
       "                                     MACHINE_LEARNING  \\\n",
       "0   data:image/jpeg;base64,/9j/4AAQSkZJRgABAQAAAQA...   \n",
       "1   data:image/jpeg;base64,/9j/4AAQSkZJRgABAQAAAQA...   \n",
       "2   data:image/png;base64,iVBORw0KGgoAAAANSUhEUgAA...   \n",
       "3   data:image/jpeg;base64,/9j/4AAQSkZJRgABAQAAAQA...   \n",
       "4   data:image/jpeg;base64,/9j/4AAQSkZJRgABAQAAAQA...   \n",
       "5   data:image/jpeg;base64,/9j/4AAQSkZJRgABAQAAAQA...   \n",
       "6   data:image/jpeg;base64,/9j/4AAQSkZJRgABAQAAAQA...   \n",
       "7   data:image/jpeg;base64,/9j/4AAQSkZJRgABAQAAAQA...   \n",
       "8   data:image/jpeg;base64,/9j/4AAQSkZJRgABAQAAAQA...   \n",
       "9   data:image/jpeg;base64,/9j/4AAQSkZJRgABAQAAAQA...   \n",
       "10  data:image/jpeg;base64,/9j/4AAQSkZJRgABAQAAAQA...   \n",
       "11  data:image/jpeg;base64,/9j/4AAQSkZJRgABAQAAAQA...   \n",
       "12  data:image/jpeg;base64,/9j/4AAQSkZJRgABAQAAAQA...   \n",
       "13  data:image/png;base64,iVBORw0KGgoAAAANSUhEUgAA...   \n",
       "14  data:image/jpeg;base64,/9j/4AAQSkZJRgABAQAAAQA...   \n",
       "15  data:image/jpeg;base64,/9j/4AAQSkZJRgABAQAAAQA...   \n",
       "16  data:image/jpeg;base64,/9j/4AAQSkZJRgABAQAAAQA...   \n",
       "17  data:image/jpeg;base64,/9j/4AAQSkZJRgABAQAAAQA...   \n",
       "18  data:image/jpeg;base64,/9j/4AAQSkZJRgABAQAAAQA...   \n",
       "19  data:image/jpeg;base64,/9j/4AAQSkZJRgABAQAAAQA...   \n",
       "\n",
       "                                                 CARS  \n",
       "0   data:image/jpeg;base64,/9j/4AAQSkZJRgABAQAAAQA...  \n",
       "1   data:image/jpeg;base64,/9j/4AAQSkZJRgABAQAAAQA...  \n",
       "2   data:image/jpeg;base64,/9j/4AAQSkZJRgABAQAAAQA...  \n",
       "3   data:image/jpeg;base64,/9j/4AAQSkZJRgABAQAAAQA...  \n",
       "4   data:image/jpeg;base64,/9j/4AAQSkZJRgABAQAAAQA...  \n",
       "5   data:image/jpeg;base64,/9j/4AAQSkZJRgABAQAAAQA...  \n",
       "6   data:image/jpeg;base64,/9j/4AAQSkZJRgABAQAAAQA...  \n",
       "7   data:image/jpeg;base64,/9j/4AAQSkZJRgABAQAAAQA...  \n",
       "8   data:image/jpeg;base64,/9j/4AAQSkZJRgABAQAAAQA...  \n",
       "9   data:image/jpeg;base64,/9j/4AAQSkZJRgABAQAAAQA...  \n",
       "10  data:image/jpeg;base64,/9j/4AAQSkZJRgABAQAAAQA...  \n",
       "11  data:image/jpeg;base64,/9j/4AAQSkZJRgABAQAAAQA...  \n",
       "12  data:image/jpeg;base64,/9j/4AAQSkZJRgABAQAAAQA...  \n",
       "13  data:image/jpeg;base64,/9j/4AAQSkZJRgABAQAAAQA...  \n",
       "14  data:image/jpeg;base64,/9j/4AAQSkZJRgABAQAAAQA...  \n",
       "15  data:image/jpeg;base64,/9j/4AAQSkZJRgABAQAAAQA...  \n",
       "16  data:image/jpeg;base64,/9j/4AAQSkZJRgABAQAAAQA...  \n",
       "17  data:image/jpeg;base64,/9j/4AAQSkZJRgABAQAAAQA...  \n",
       "18  data:image/jpeg;base64,/9j/4AAQSkZJRgABAQAAAQA...  \n",
       "19  data:image/jpeg;base64,/9j/4AAQSkZJRgABAQAAAQA...  "
      ]
     },
     "execution_count": 133,
     "metadata": {},
     "output_type": "execute_result"
    }
   ],
   "source": [
    "DF"
   ]
  },
  {
   "cell_type": "markdown",
   "id": "228feab5",
   "metadata": {},
   "source": [
    "# 4Write a python program to search for a smartphone(e.g.: Oneplus Nord, pixel 4A, etc.) on\n",
    "www.flipkart.com and scrape following details "
   ]
  },
  {
   "cell_type": "code",
   "execution_count": null,
   "id": "650b45b8",
   "metadata": {},
   "outputs": [],
   "source": [
    "url='https://www.flipkart.com/'\n",
    "driver.get(url)"
   ]
  },
  {
   "cell_type": "code",
   "execution_count": null,
   "id": "51bf08e7",
   "metadata": {},
   "outputs": [],
   "source": [
    "search_bar=driver.find_element(By.XPATH,'/html/body/div[1]/div/div[1]/div[1]/div[2]/div[2]/form/div/div/input')"
   ]
  },
  {
   "cell_type": "code",
   "execution_count": null,
   "id": "11dcf7fb",
   "metadata": {},
   "outputs": [],
   "source": [
    "search_bar.send_keys('oneplus nord')"
   ]
  },
  {
   "cell_type": "code",
   "execution_count": null,
   "id": "04226f87",
   "metadata": {},
   "outputs": [],
   "source": [
    "search=driver.find_element(By.XPATH,'/html/body/div[1]/div/div[1]/div[1]/div[2]/div[2]/form/div/button')"
   ]
  },
  {
   "cell_type": "code",
   "execution_count": null,
   "id": "d317d82e",
   "metadata": {},
   "outputs": [],
   "source": [
    "search.click()"
   ]
  },
  {
   "cell_type": "code",
   "execution_count": null,
   "id": "429975f8",
   "metadata": {},
   "outputs": [],
   "source": [
    "link=driver.find_elements(By.XPATH,'//a[@class=\"_1fQZEK\"]')"
   ]
  },
  {
   "cell_type": "code",
   "execution_count": null,
   "id": "da8368ca",
   "metadata": {},
   "outputs": [],
   "source": [
    "LINK=[]\n",
    "for i in link:\n",
    "    LINK.append(i.get_attribute('href'))"
   ]
  },
  {
   "cell_type": "code",
   "execution_count": null,
   "id": "540fd99e",
   "metadata": {},
   "outputs": [],
   "source": [
    "Brand=[]\n",
    "for i in LINK[0:3]:\n",
    "    driver.get(i)\n",
    "    try:\n",
    "        brand=driver.find_elements(By.XPATH,'/html/body/div[1]/div/div[3]/div[1]/div[2]/div[2]/div/div[1]/h1')\n",
    "        for i in brand:\n",
    "            Brand.append(i.text)\n",
    "                                   \n",
    "    except NoSuchElementException:\n",
    "        Brand.append('-')"
   ]
  },
  {
   "cell_type": "code",
   "execution_count": null,
   "id": "53b0caa6",
   "metadata": {},
   "outputs": [
    {
     "data": {
      "text/plain": [
       "['OnePlus Nord CE 2 Lite 5G (Blue Tide, 128 GB)  (6 GB RAM)',\n",
       " 'OnePlus Nord 2T 5G (Gray Shadow, 128 GB)  (8 GB RAM)',\n",
       " 'OnePlus Nord CE 2 Lite 5G (Black Dusk, 128 GB)  (6 GB RAM)']"
      ]
     },
     "execution_count": 244,
     "metadata": {},
     "output_type": "execute_result"
    }
   ],
   "source": [
    "Brand"
   ]
  },
  {
   "cell_type": "code",
   "execution_count": null,
   "id": "d0b04431",
   "metadata": {},
   "outputs": [],
   "source": [
    "Model=[]\n",
    "for i in LINK[0:3]:\n",
    "    driver.get(i)\n",
    "    \n",
    "    try:\n",
    "        model=driver.find_elements(By.XPATH,'/html/body/div[1]/div/div[3]/div[1]/div[2]/div[8]/div[4]/div/div[2]/div/div[1]/table/tbody/tr[3]/td[2]/ul/li')\n",
    "        for i in model:\n",
    "            Model.append(i.text)\n",
    "    except NoSuchElementException:\n",
    "        Model.append('-')\n",
    "            \n",
    "        "
   ]
  },
  {
   "cell_type": "code",
   "execution_count": null,
   "id": "fe18badc",
   "metadata": {},
   "outputs": [
    {
     "data": {
      "text/plain": [
       "list[['Nord CE 2 Lite 5G', 'Nord 2T 5G', 'Nord CE 2 Lite 5G']]"
      ]
     },
     "execution_count": 253,
     "metadata": {},
     "output_type": "execute_result"
    }
   ],
   "source": [
    "Model"
   ]
  },
  {
   "cell_type": "code",
   "execution_count": null,
   "id": "e301d3ec",
   "metadata": {},
   "outputs": [],
   "source": [
    "COLOUR=[]\n",
    "for i in LINK[0:3]:\n",
    "    driver.get(i)\n",
    "    \n",
    "    try:\n",
    "        colour=driver.find_elements(By.XPATH,'/html/body/div[1]/div/div[3]/div[1]/div[2]/div[8]/div[4]/div/div[2]/div[1]/div[1]/table/tbody/tr[4]/td[2]/ul')\n",
    "        for i in colour:\n",
    "            COLOUR.append(i.text)\n",
    "    except NoSuchElementException:\n",
    "        COLOUR.append('-')\n"
   ]
  },
  {
   "cell_type": "code",
   "execution_count": null,
   "id": "ce364cd9",
   "metadata": {},
   "outputs": [],
   "source": [
    "RAM=[]\n",
    "for i in LINK[0:3]:\n",
    "    driver.get(i)\n",
    "    \n",
    "    try:\n",
    "        ram=driver.find_elements(By.XPATH,'/html/body/div[1]/div/div[3]/div[1]/div[2]/div[8]/div[4]/div/div[2]/div[1]/div[4]/table/tbody/tr[1]/td[2]/ul/li')\n",
    "        for i in ram:\n",
    "            RAM.append(i.text)\n",
    "    except NoSuchElementException:\n",
    "        RAM.append('-')"
   ]
  },
  {
   "cell_type": "code",
   "execution_count": null,
   "id": "487368bd",
   "metadata": {},
   "outputs": [],
   "source": [
    "P_CAM=[]\n",
    "for i in LINK[0:3]:\n",
    "    driver.get(i)\n",
    "    try:\n",
    "        p_cam=driver.find_elements(By.XPATH,'/html/body/div[1]/div/div[3]/div[1]/div[2]/div[7]/div[1]/div/div[2]/ul/li[3]')\n",
    "        for i in p_cam:\n",
    "            P_CAM.append(i.text)\n",
    "    except NoSuchElementException:\n",
    "        P.CAM.append('-')"
   ]
  },
  {
   "cell_type": "code",
   "execution_count": null,
   "id": "e07360a2",
   "metadata": {},
   "outputs": [],
   "source": [
    "DIS=[]\n",
    "for i in LINK[0:3]:\n",
    "    driver.get(i)\n",
    "    \n",
    "    try:\n",
    "        dis=driver.find_elements(By.XPATH,'/html/body/div[1]/div/div[3]/div[1]/div[2]/div[8]/div[4]/div/div[2]/div[1]/div[2]/table/tbody/tr[1]/td[2]/ul/li')\n",
    "        for i in dis:\n",
    "            DIS.append(i.text)\n",
    "    except NoSuchElementException:\n",
    "        P.CAM.append('-')"
   ]
  },
  {
   "cell_type": "code",
   "execution_count": null,
   "id": "97c37c8d",
   "metadata": {},
   "outputs": [],
   "source": [
    "BAT=[]\n",
    "for i in LINK[0:3]:\n",
    "    driver.get(i)\n",
    "    \n",
    "    try:\n",
    "        bat=driver.find_elements(By.XPATH,'/html/body/div[1]/div/div[3]/div[1]/div[2]/div[7]/div[1]/div/div[2]/ul/li[4]')\n",
    "        for i in bat:\n",
    "            BAT.append(i.text)\n",
    "    except NoSuchElementException:\n",
    "        BAT.append('-')"
   ]
  },
  {
   "cell_type": "code",
   "execution_count": null,
   "id": "cb082234",
   "metadata": {},
   "outputs": [
    {
     "data": {
      "text/plain": [
       "['5000 mAh Battery', '4500 mAh Battery', '5000 mAh Battery']"
      ]
     },
     "execution_count": 289,
     "metadata": {},
     "output_type": "execute_result"
    }
   ],
   "source": [
    "BAT"
   ]
  },
  {
   "cell_type": "code",
   "execution_count": null,
   "id": "5264c02d",
   "metadata": {},
   "outputs": [],
   "source": [
    "PRICE=[]\n",
    "for i in LINK[0:3]:\n",
    "    driver.get(i)\n",
    "    try:\n",
    "        pri=driver.find_elements(By.XPATH,'/html/body/div[1]/div/div[3]/div[1]/div[2]/div[2]/div/div[3]/div[1]/div')\n",
    "        for i in pri:\n",
    "            PRICE.append(i.text)\n",
    "    except NoSuchElementException:\n",
    "        PRICE.append('-')"
   ]
  },
  {
   "cell_type": "code",
   "execution_count": null,
   "id": "5cd29281",
   "metadata": {},
   "outputs": [
    {
     "data": {
      "text/plain": [
       "['₹28,949', '₹19,990']"
      ]
     },
     "execution_count": 292,
     "metadata": {},
     "output_type": "execute_result"
    }
   ],
   "source": [
    "PRICE"
   ]
  },
  {
   "cell_type": "code",
   "execution_count": null,
   "id": "2949732a",
   "metadata": {},
   "outputs": [
    {
     "data": {
      "text/plain": [
       "{'BRAND': ['OnePlus Nord CE 2 Lite 5G (Blue Tide, 128 GB)  (6 GB RAM)',\n",
       "  'OnePlus Nord 2T 5G (Gray Shadow, 128 GB)  (8 GB RAM)',\n",
       "  'OnePlus Nord CE 2 Lite 5G (Black Dusk, 128 GB)  (6 GB RAM)'],\n",
       " 'Model': ['Nord CE 2 Lite 5G', 'Nord 2T 5G', 'Nord CE 2 Lite 5G'],\n",
       " 'colour': ['Blue Tide', 'Black Dusk'],\n",
       " 'RAM': ['', '', ''],\n",
       " 'P_CAM': ['64MP Rear Camera | 16MP Front Camera', '64MP Rear Camera'],\n",
       " 'BATTERY': ['5000 mAh Battery', '4500 mAh Battery', '5000 mAh Battery'],\n",
       " 'PRICE': ['₹28,949', '₹19,990']}"
      ]
     },
     "execution_count": 313,
     "metadata": {},
     "output_type": "execute_result"
    }
   ],
   "source": [
    "df=({'BRAND':Brand,'Model':Model,'colour':COLOUR,'RAM':RAM,'P_CAM':P_CAM,'BATTERY':BAT,'PRICE':PRICE})\n",
    "df"
   ]
  },
  {
   "cell_type": "code",
   "execution_count": null,
   "id": "146b9fa9",
   "metadata": {},
   "outputs": [],
   "source": [
    "DF=pd.DataFrame(df)"
   ]
  },
  {
   "cell_type": "code",
   "execution_count": null,
   "id": "d821bbd9",
   "metadata": {},
   "outputs": [],
   "source": [
    "DF.to_csv('Oneplus.csv',index=True)"
   ]
  },
  {
   "cell_type": "markdown",
   "id": "698fc8ed",
   "metadata": {},
   "source": [
    "# 5. Write a program to scrap geospatial coordinates (latitude, longitude) of a city searched on google Maps."
   ]
  },
  {
   "cell_type": "code",
   "execution_count": 28,
   "id": "6ec8e077",
   "metadata": {},
   "outputs": [],
   "source": [
    "import re"
   ]
  },
  {
   "cell_type": "code",
   "execution_count": 4,
   "id": "6f6db87c",
   "metadata": {},
   "outputs": [],
   "source": [
    "url='https://www.google.com/maps/@10.7828364,78.2885026,7z'\n",
    "driver.get(url)"
   ]
  },
  {
   "cell_type": "code",
   "execution_count": 9,
   "id": "d64c3356",
   "metadata": {},
   "outputs": [],
   "source": [
    "search=driver.find_element(By.XPATH,'/html/body/div[3]/div[9]/div[3]/div[1]/div[1]/div[1]/div[2]/form/div[2]/div[3]/div/input[1]')"
   ]
  },
  {
   "cell_type": "code",
   "execution_count": 10,
   "id": "b4ed66df",
   "metadata": {},
   "outputs": [],
   "source": [
    "search.send_keys('Chennai')"
   ]
  },
  {
   "cell_type": "code",
   "execution_count": 12,
   "id": "54b20c28",
   "metadata": {},
   "outputs": [],
   "source": [
    "search_=driver.find_element(By.XPATH,'/html/body/div[3]/div[9]/div[3]/div[1]/div[1]/div[1]/div[2]/div[1]/button')\n",
    "search_.click()"
   ]
  },
  {
   "cell_type": "code",
   "execution_count": 27,
   "id": "810121d4",
   "metadata": {},
   "outputs": [
    {
     "data": {
      "text/plain": [
       "'https://www.google.com/maps/place/Chennai,+Tamil+Nadu/@13.0475255,80.2090117,10z/data=!3m1!4b1!4m5!3m4!1s0x3a5265ea4f7d3361:0x6e61a70b6863d433!8m2!3d13.0826802!4d80.2707184'"
      ]
     },
     "execution_count": 27,
     "metadata": {},
     "output_type": "execute_result"
    }
   ],
   "source": [
    "current_url=driver.current_url\n",
    "current_url"
   ]
  },
  {
   "cell_type": "code",
   "execution_count": 30,
   "id": "0301be35",
   "metadata": {},
   "outputs": [
    {
     "name": "stdout",
     "output_type": "stream",
     "text": [
      "url Extracted: https://www.google.com/maps/place/Chennai,+Tamil+Nadu/@13.0475255,80.2090117,10z/data=!3m1!4b1!4m5!3m4!1s0x3a5265ea4f7d3361:0x6e61a70b6863d433!8m2!3d13.0826802!4d80.2707184\n"
     ]
    }
   ],
   "source": [
    "print('url Extracted:',current_url)"
   ]
  },
  {
   "cell_type": "code",
   "execution_count": 48,
   "id": "faa94a42",
   "metadata": {},
   "outputs": [
    {
     "data": {
      "text/plain": [
       "['13.0475255,80.2090117,10z/']"
      ]
     },
     "execution_count": 48,
     "metadata": {},
     "output_type": "execute_result"
    }
   ],
   "source": [
    "lat_lng = re.findall('@(.*)data',current_url)\n",
    "lat_lng"
   ]
  },
  {
   "cell_type": "code",
   "execution_count": 38,
   "id": "76c453c6",
   "metadata": {},
   "outputs": [
    {
     "name": "stdout",
     "output_type": "stream",
     "text": [
      "Latitude = 13.0475255, Longitude = 80.2090117\n"
     ]
    }
   ],
   "source": [
    "if len(lat_lng):\n",
    "\n",
    "        lat_lng_list = lat_lng[0].split(\",\")\n",
    "\n",
    "        if len(lat_lng_list)>=2:\n",
    "\n",
    "            lat = lat_lng_list[0]\n",
    "\n",
    "            lng = lat_lng_list[1]\n",
    "\n",
    "        print(\"Latitude = {}, Longitude = {}\".format(lat,lng))\n",
    "\n"
   ]
  },
  {
   "cell_type": "markdown",
   "id": "80108f98",
   "metadata": {},
   "source": [
    "6. Write a program to scrap details of all the funding deals for second quarter (i.e Jan 21 – March 21) \n",
    "from trak.in"
   ]
  },
  {
   "cell_type": "code",
   "execution_count": null,
   "id": "99c6c64d",
   "metadata": {},
   "outputs": [],
   "source": [
    "url='https://trak.in/'\n",
    "driver.get(url)"
   ]
  },
  {
   "cell_type": "code",
   "execution_count": null,
   "id": "a660e753",
   "metadata": {},
   "outputs": [],
   "source": [
    "funding_det=driver.find_element(By.XPATH,'/html/body/div[1]/header/div[2]/div/div/div/div/nav/ul/li[9]/a')"
   ]
  },
  {
   "cell_type": "code",
   "execution_count": null,
   "id": "1630becd",
   "metadata": {},
   "outputs": [],
   "source": [
    "funding_det.click()"
   ]
  },
  {
   "cell_type": "code",
   "execution_count": null,
   "id": "8a63a700",
   "metadata": {},
   "outputs": [],
   "source": [
    "col_1=driver.find_elements(By.XPATH,'//td[@class=\"column-2\"]')"
   ]
  },
  {
   "cell_type": "code",
   "execution_count": null,
   "id": "72968d5d",
   "metadata": {},
   "outputs": [
    {
     "data": {
      "text/plain": [
       "['04/03/2021',\n",
       " '31/03/2021',\n",
       " '30/03/2021',\n",
       " '30/03/2021',\n",
       " '23/03/2021',\n",
       " '25/03/2021',\n",
       " '26/03/2021',\n",
       " '11/02/2021',\n",
       " '22/02/2021',\n",
       " '19/02/2021',\n",
       " '17/02/2021',\n",
       " '15/02/2021',\n",
       " '12/02/2021',\n",
       " '12/02/2021',\n",
       " '09/02/2021',\n",
       " '09/02/2021',\n",
       " '15/01/2021',\n",
       " '28/01/2021',\n",
       " '19/01/2021',\n",
       " '19/01/2021',\n",
       " '18/01/2021',\n",
       " '18/01/2021',\n",
       " '11/01/2021',\n",
       " '13/01/2021']"
      ]
     },
     "execution_count": 361,
     "metadata": {},
     "output_type": "execute_result"
    }
   ],
   "source": [
    "COL_=[]\n",
    "for i in col_1:\n",
    "    COL_.append(i.text)\n",
    "COL_[0:28]\n",
    "COL_.index('04/03/2021')\n",
    "COLUMN_1=COL_[5:29]\n",
    "COLUMN_1"
   ]
  },
  {
   "cell_type": "code",
   "execution_count": null,
   "id": "e6810768",
   "metadata": {},
   "outputs": [],
   "source": [
    "C_2=driver.find_elements(By.XPATH,'//td[@class=\"column-3\"]')"
   ]
  },
  {
   "cell_type": "code",
   "execution_count": null,
   "id": "99f5a39d",
   "metadata": {},
   "outputs": [],
   "source": [
    "COL_2=[]\n",
    "for i in C_2:\n",
    "    COL_2.append(i.text)\n",
    "COL_2=COL_2[5:29]"
   ]
  },
  {
   "cell_type": "code",
   "execution_count": null,
   "id": "f7e102f2",
   "metadata": {},
   "outputs": [],
   "source": [
    "C_3=driver.find_elements(By.XPATH,'//td[@class=\"column-4\"]')"
   ]
  },
  {
   "cell_type": "code",
   "execution_count": null,
   "id": "42030fbd",
   "metadata": {},
   "outputs": [],
   "source": [
    "COL_3=[]\n",
    "for i in C_3:\n",
    "    COL_3.append(i.text)\n",
    "COL_3=COL_3[5:29]"
   ]
  },
  {
   "cell_type": "code",
   "execution_count": null,
   "id": "dd027c12",
   "metadata": {},
   "outputs": [],
   "source": [
    "C_4=driver.find_elements(By.XPATH,'//td[@class=\"column-5\"]')"
   ]
  },
  {
   "cell_type": "code",
   "execution_count": null,
   "id": "0f73c684",
   "metadata": {},
   "outputs": [],
   "source": [
    "COL_4=[]\n",
    "for i in C_4:\n",
    "    COL_4.append(i.text)\n",
    "COL_4=COL_4[5:29]"
   ]
  },
  {
   "cell_type": "code",
   "execution_count": null,
   "id": "2410cef0",
   "metadata": {},
   "outputs": [],
   "source": [
    "C_5=driver.find_elements(By.XPATH,'//td[@class=\"column-6\"]')"
   ]
  },
  {
   "cell_type": "code",
   "execution_count": null,
   "id": "b595e183",
   "metadata": {},
   "outputs": [],
   "source": [
    "COL_5=[]\n",
    "for i in C_5:\n",
    "    COL_5.append(i.text)\n",
    "COL_5=COL_5[5:29]"
   ]
  },
  {
   "cell_type": "code",
   "execution_count": null,
   "id": "66cc01a8",
   "metadata": {},
   "outputs": [],
   "source": [
    "C_6=driver.find_elements(By.XPATH,'//td[@class=\"column-7\"]')"
   ]
  },
  {
   "cell_type": "code",
   "execution_count": null,
   "id": "c6c81052",
   "metadata": {},
   "outputs": [],
   "source": [
    "COL_6=[]\n",
    "for i in C_6:\n",
    "    COL_6.append(i.text)\n",
    "COL_6=COL_6[5:29]"
   ]
  },
  {
   "cell_type": "code",
   "execution_count": null,
   "id": "451aa477",
   "metadata": {},
   "outputs": [],
   "source": [
    "C_7=driver.find_elements(By.XPATH,'//td[@class=\"column-8\"]')"
   ]
  },
  {
   "cell_type": "code",
   "execution_count": null,
   "id": "ab66b2a1",
   "metadata": {},
   "outputs": [],
   "source": [
    "COL_7=[]\n",
    "for i in C_7:\n",
    "    COL_7.append(i.text)\n",
    "COL_7=COL_7[5:29]"
   ]
  },
  {
   "cell_type": "code",
   "execution_count": null,
   "id": "8c1656a3",
   "metadata": {},
   "outputs": [],
   "source": [
    "C_8=driver.find_elements(By.XPATH,'//td[@class=\"column-9\"]')"
   ]
  },
  {
   "cell_type": "code",
   "execution_count": null,
   "id": "a5d97b08",
   "metadata": {},
   "outputs": [],
   "source": [
    "COL_8=[]\n",
    "for i in C_8:\n",
    "    COL_8.append(i.text)\n",
    "COL_8=COL_8[5:29]"
   ]
  },
  {
   "cell_type": "code",
   "execution_count": null,
   "id": "699cd41f",
   "metadata": {},
   "outputs": [
    {
     "data": {
      "text/plain": [
       "392"
      ]
     },
     "execution_count": 389,
     "metadata": {},
     "output_type": "execute_result"
    }
   ],
   "source": [
    "len(COL_)"
   ]
  },
  {
   "cell_type": "code",
   "execution_count": null,
   "id": "93148df8",
   "metadata": {},
   "outputs": [],
   "source": [
    "df=pd.DataFrame({'DATE':COLUMN_1,'STARTUP_NAME':COL_2,'INDUSTRY':COL_3,'SUB_VERTICAL':COL_4,'CITY/LOCATION':COL_5,'INVESTOR TYPE':COL_6,'INVESTMENT TYPE':COL_7,'AMOUNT/$':COL_8})"
   ]
  },
  {
   "cell_type": "code",
   "execution_count": null,
   "id": "11555e81",
   "metadata": {},
   "outputs": [
    {
     "data": {
      "text/html": [
       "<div>\n",
       "<style scoped>\n",
       "    .dataframe tbody tr th:only-of-type {\n",
       "        vertical-align: middle;\n",
       "    }\n",
       "\n",
       "    .dataframe tbody tr th {\n",
       "        vertical-align: top;\n",
       "    }\n",
       "\n",
       "    .dataframe thead th {\n",
       "        text-align: right;\n",
       "    }\n",
       "</style>\n",
       "<table border=\"1\" class=\"dataframe\">\n",
       "  <thead>\n",
       "    <tr style=\"text-align: right;\">\n",
       "      <th></th>\n",
       "      <th>DATE</th>\n",
       "      <th>STARTUP_NAME</th>\n",
       "      <th>INDUSTRY</th>\n",
       "      <th>SUB_VERTICAL</th>\n",
       "      <th>CITY/LOCATION</th>\n",
       "      <th>INVESTOR TYPE</th>\n",
       "      <th>INVESTMENT TYPE</th>\n",
       "      <th>AMOUNT/$</th>\n",
       "    </tr>\n",
       "  </thead>\n",
       "  <tbody>\n",
       "    <tr>\n",
       "      <th>0</th>\n",
       "      <td>04/03/2021</td>\n",
       "      <td>DealShare</td>\n",
       "      <td>E-commerce</td>\n",
       "      <td>Online shopping platform</td>\n",
       "      <td>Jaipur, Rajasthan</td>\n",
       "      <td>Innoven Capital</td>\n",
       "      <td>Debt Financing</td>\n",
       "      <td>250,000,000</td>\n",
       "    </tr>\n",
       "    <tr>\n",
       "      <th>1</th>\n",
       "      <td>31/03/2021</td>\n",
       "      <td>Uniphore</td>\n",
       "      <td>Technology</td>\n",
       "      <td>Conversational Service Automation (CSA)</td>\n",
       "      <td>Palo Alto</td>\n",
       "      <td>Sorenson Capital Partners</td>\n",
       "      <td>Series D</td>\n",
       "      <td>140,000,000</td>\n",
       "    </tr>\n",
       "    <tr>\n",
       "      <th>2</th>\n",
       "      <td>30/03/2021</td>\n",
       "      <td>Dunzo</td>\n",
       "      <td>E-commerce</td>\n",
       "      <td>Hyper-local delivery app</td>\n",
       "      <td>Bengaluru</td>\n",
       "      <td>Krishtal Advisors Pte Ltd</td>\n",
       "      <td>Series E</td>\n",
       "      <td>8,000,000</td>\n",
       "    </tr>\n",
       "    <tr>\n",
       "      <th>3</th>\n",
       "      <td>30/03/2021</td>\n",
       "      <td>BYJU’S</td>\n",
       "      <td>Edu-tech</td>\n",
       "      <td>Online tutoring</td>\n",
       "      <td>Bengaluru</td>\n",
       "      <td>MC Global Edtech, B Capital, Baron, others</td>\n",
       "      <td>Series F</td>\n",
       "      <td>460,000,000</td>\n",
       "    </tr>\n",
       "    <tr>\n",
       "      <th>4</th>\n",
       "      <td>23/03/2021</td>\n",
       "      <td>SkilloVilla</td>\n",
       "      <td>Edu-tech</td>\n",
       "      <td>Career and job-oriented upskilling.</td>\n",
       "      <td>Bengaluru</td>\n",
       "      <td>Titan Capital, others</td>\n",
       "      <td>Seed</td>\n",
       "      <td>300,000,000</td>\n",
       "    </tr>\n",
       "    <tr>\n",
       "      <th>5</th>\n",
       "      <td>25/03/2021</td>\n",
       "      <td>CityMall</td>\n",
       "      <td>E-commerce</td>\n",
       "      <td>Social ecommerce and online grocery platform</td>\n",
       "      <td>Gurgaon</td>\n",
       "      <td>Accel Partners</td>\n",
       "      <td>Series A</td>\n",
       "      <td>11,000,000</td>\n",
       "    </tr>\n",
       "    <tr>\n",
       "      <th>6</th>\n",
       "      <td>26/03/2021</td>\n",
       "      <td>DotPe</td>\n",
       "      <td>FinTech</td>\n",
       "      <td>Commerce and payments platform to offline ente...</td>\n",
       "      <td>Gurgaon</td>\n",
       "      <td>PayU</td>\n",
       "      <td>Series A</td>\n",
       "      <td>27,500,000</td>\n",
       "    </tr>\n",
       "    <tr>\n",
       "      <th>7</th>\n",
       "      <td>11/02/2021</td>\n",
       "      <td>Doubtnut</td>\n",
       "      <td>Edu Tech</td>\n",
       "      <td>E-Learning Platform</td>\n",
       "      <td>Gurgaon</td>\n",
       "      <td>SIG Global, Sequoia Capital, WaterBridge Ventu...</td>\n",
       "      <td>Series B</td>\n",
       "      <td>2,500,000</td>\n",
       "    </tr>\n",
       "    <tr>\n",
       "      <th>8</th>\n",
       "      <td>22/02/2021</td>\n",
       "      <td>Zomato</td>\n",
       "      <td>Hospitality</td>\n",
       "      <td>Online Food Delivery Platform</td>\n",
       "      <td>Gurgaon</td>\n",
       "      <td>Tiger Global, Kora</td>\n",
       "      <td>Venture</td>\n",
       "      <td>250,000,000</td>\n",
       "    </tr>\n",
       "    <tr>\n",
       "      <th>9</th>\n",
       "      <td>19/02/2021</td>\n",
       "      <td>Fingerlix</td>\n",
       "      <td>Hospitality</td>\n",
       "      <td>Semi-cooked food delivery app</td>\n",
       "      <td>Mumbai</td>\n",
       "      <td>Rhodium Trust, Accel Partners and Swiggy</td>\n",
       "      <td>Series C</td>\n",
       "      <td>2,747,045.20</td>\n",
       "    </tr>\n",
       "    <tr>\n",
       "      <th>10</th>\n",
       "      <td>17/02/2021</td>\n",
       "      <td>Zolve</td>\n",
       "      <td>FinTech</td>\n",
       "      <td>Global Neobank Venture</td>\n",
       "      <td>Mumbai</td>\n",
       "      <td>Accel Partners and Lightspeed Venture Partners</td>\n",
       "      <td>Seed</td>\n",
       "      <td>1,50,00,000</td>\n",
       "    </tr>\n",
       "    <tr>\n",
       "      <th>11</th>\n",
       "      <td>15/02/2021</td>\n",
       "      <td>KreditBee</td>\n",
       "      <td>Finance</td>\n",
       "      <td>Digital lending platform</td>\n",
       "      <td>Bengaluru</td>\n",
       "      <td>Azim Premji’s PremjiInvest and South Korea’s M...</td>\n",
       "      <td>Series C</td>\n",
       "      <td>75,000,000</td>\n",
       "    </tr>\n",
       "    <tr>\n",
       "      <th>12</th>\n",
       "      <td>12/02/2021</td>\n",
       "      <td>Pepperfry</td>\n",
       "      <td>E-commerce</td>\n",
       "      <td>Multi-brand furniture brand</td>\n",
       "      <td>Mumbai</td>\n",
       "      <td>InnoVen Capital</td>\n",
       "      <td>Debt Financing</td>\n",
       "      <td>4,773,958</td>\n",
       "    </tr>\n",
       "    <tr>\n",
       "      <th>13</th>\n",
       "      <td>12/02/2021</td>\n",
       "      <td>Grofers</td>\n",
       "      <td>E-Commerce</td>\n",
       "      <td>Online supermarket</td>\n",
       "      <td>Gurgaon</td>\n",
       "      <td>SoftBank Vision Fund (SVF)</td>\n",
       "      <td>Unspecified</td>\n",
       "      <td>55,000,000</td>\n",
       "    </tr>\n",
       "    <tr>\n",
       "      <th>14</th>\n",
       "      <td>09/02/2021</td>\n",
       "      <td>Nothing</td>\n",
       "      <td>Technology</td>\n",
       "      <td>Consumer Technology Venture</td>\n",
       "      <td>London</td>\n",
       "      <td>GV</td>\n",
       "      <td>Series A</td>\n",
       "      <td>15,000,000</td>\n",
       "    </tr>\n",
       "    <tr>\n",
       "      <th>15</th>\n",
       "      <td>09/02/2021</td>\n",
       "      <td>SplashLearn</td>\n",
       "      <td>EdTech</td>\n",
       "      <td>Game-based learning programme</td>\n",
       "      <td>Gurgaon</td>\n",
       "      <td>Owl Ventures</td>\n",
       "      <td>Series C</td>\n",
       "      <td>18,000,000</td>\n",
       "    </tr>\n",
       "    <tr>\n",
       "      <th>16</th>\n",
       "      <td>15/01/2021</td>\n",
       "      <td>True Elements</td>\n",
       "      <td>Food Startup</td>\n",
       "      <td>Whole Food plant based Nashta</td>\n",
       "      <td>Pune</td>\n",
       "      <td>SIDBI Venture Capital</td>\n",
       "      <td>Series</td>\n",
       "      <td>100,000,000</td>\n",
       "    </tr>\n",
       "    <tr>\n",
       "      <th>17</th>\n",
       "      <td>28/01/2021</td>\n",
       "      <td>Saveo</td>\n",
       "      <td>B2B E-commerce</td>\n",
       "      <td>Pharmacies</td>\n",
       "      <td>Bengaluru</td>\n",
       "      <td>Matrix Partners India, RTP Global, others</td>\n",
       "      <td>Seed</td>\n",
       "      <td>4,000,000</td>\n",
       "    </tr>\n",
       "    <tr>\n",
       "      <th>18</th>\n",
       "      <td>19/01/2021</td>\n",
       "      <td>Digit Insurance</td>\n",
       "      <td>Financial Services</td>\n",
       "      <td>Insurance Services</td>\n",
       "      <td>Bengaluru</td>\n",
       "      <td>A91 Partners, Faering Capital, TVS Capital Funds</td>\n",
       "      <td>Venture</td>\n",
       "      <td>1,80,00,000</td>\n",
       "    </tr>\n",
       "    <tr>\n",
       "      <th>19</th>\n",
       "      <td>19/01/2021</td>\n",
       "      <td>mfine</td>\n",
       "      <td>Health Tech Startup</td>\n",
       "      <td>AI-powered telemedicine mobile app</td>\n",
       "      <td>Bengaluru</td>\n",
       "      <td>Heritas Capital Management</td>\n",
       "      <td>Venture Round</td>\n",
       "      <td>16,000,000</td>\n",
       "    </tr>\n",
       "    <tr>\n",
       "      <th>20</th>\n",
       "      <td>18/01/2021</td>\n",
       "      <td>Udayy</td>\n",
       "      <td>EdTech</td>\n",
       "      <td>Online learning platform for kids in class 1-5</td>\n",
       "      <td>Gurgaon</td>\n",
       "      <td>Sequoia Capital</td>\n",
       "      <td>Seed Funding</td>\n",
       "      <td>15,000,000</td>\n",
       "    </tr>\n",
       "    <tr>\n",
       "      <th>21</th>\n",
       "      <td>18/01/2021</td>\n",
       "      <td>DeHaat</td>\n",
       "      <td>AgriTech Startup</td>\n",
       "      <td>online marketplace for farm products and services</td>\n",
       "      <td>Patna</td>\n",
       "      <td>Prosus Ventures</td>\n",
       "      <td>Series C</td>\n",
       "      <td>30,000,000</td>\n",
       "    </tr>\n",
       "    <tr>\n",
       "      <th>22</th>\n",
       "      <td>11/01/2021</td>\n",
       "      <td>Darwinbox</td>\n",
       "      <td>SaaS</td>\n",
       "      <td>HR Tech</td>\n",
       "      <td>Mumbai</td>\n",
       "      <td>Salesforce Ventures</td>\n",
       "      <td>Seed</td>\n",
       "      <td>15,000,000</td>\n",
       "    </tr>\n",
       "    <tr>\n",
       "      <th>23</th>\n",
       "      <td>13/01/2021</td>\n",
       "      <td>Bombay Shaving Company</td>\n",
       "      <td>Consumer Goods Company</td>\n",
       "      <td>Shave care, beard care, and skincare products</td>\n",
       "      <td>New Delhi</td>\n",
       "      <td>Reckitt Benckiser</td>\n",
       "      <td>Venture</td>\n",
       "      <td>6,172,258.50</td>\n",
       "    </tr>\n",
       "  </tbody>\n",
       "</table>\n",
       "</div>"
      ],
      "text/plain": [
       "          DATE            STARTUP_NAME                INDUSTRY  \\\n",
       "0   04/03/2021               DealShare              E-commerce   \n",
       "1   31/03/2021                Uniphore              Technology   \n",
       "2   30/03/2021                   Dunzo              E-commerce   \n",
       "3   30/03/2021                  BYJU’S                Edu-tech   \n",
       "4   23/03/2021             SkilloVilla                Edu-tech   \n",
       "5   25/03/2021                CityMall              E-commerce   \n",
       "6   26/03/2021                   DotPe                 FinTech   \n",
       "7   11/02/2021                Doubtnut                Edu Tech   \n",
       "8   22/02/2021                  Zomato             Hospitality   \n",
       "9   19/02/2021               Fingerlix             Hospitality   \n",
       "10  17/02/2021                   Zolve                 FinTech   \n",
       "11  15/02/2021               KreditBee                 Finance   \n",
       "12  12/02/2021               Pepperfry              E-commerce   \n",
       "13  12/02/2021                 Grofers              E-Commerce   \n",
       "14  09/02/2021                 Nothing              Technology   \n",
       "15  09/02/2021             SplashLearn                  EdTech   \n",
       "16  15/01/2021           True Elements            Food Startup   \n",
       "17  28/01/2021                   Saveo          B2B E-commerce   \n",
       "18  19/01/2021         Digit Insurance      Financial Services   \n",
       "19  19/01/2021                   mfine     Health Tech Startup   \n",
       "20  18/01/2021                   Udayy                  EdTech   \n",
       "21  18/01/2021                  DeHaat        AgriTech Startup   \n",
       "22  11/01/2021               Darwinbox                    SaaS   \n",
       "23  13/01/2021  Bombay Shaving Company  Consumer Goods Company   \n",
       "\n",
       "                                         SUB_VERTICAL      CITY/LOCATION  \\\n",
       "0                            Online shopping platform  Jaipur, Rajasthan   \n",
       "1             Conversational Service Automation (CSA)          Palo Alto   \n",
       "2                            Hyper-local delivery app          Bengaluru   \n",
       "3                                     Online tutoring          Bengaluru   \n",
       "4                 Career and job-oriented upskilling.          Bengaluru   \n",
       "5        Social ecommerce and online grocery platform            Gurgaon   \n",
       "6   Commerce and payments platform to offline ente...            Gurgaon   \n",
       "7                                 E-Learning Platform            Gurgaon   \n",
       "8                       Online Food Delivery Platform            Gurgaon   \n",
       "9                       Semi-cooked food delivery app             Mumbai   \n",
       "10                             Global Neobank Venture             Mumbai   \n",
       "11                           Digital lending platform          Bengaluru   \n",
       "12                        Multi-brand furniture brand             Mumbai   \n",
       "13                                 Online supermarket            Gurgaon   \n",
       "14                        Consumer Technology Venture             London   \n",
       "15                      Game-based learning programme            Gurgaon   \n",
       "16                      Whole Food plant based Nashta               Pune   \n",
       "17                                         Pharmacies          Bengaluru   \n",
       "18                                 Insurance Services          Bengaluru   \n",
       "19                 AI-powered telemedicine mobile app          Bengaluru   \n",
       "20     Online learning platform for kids in class 1-5            Gurgaon   \n",
       "21  online marketplace for farm products and services              Patna   \n",
       "22                                            HR Tech             Mumbai   \n",
       "23      Shave care, beard care, and skincare products          New Delhi   \n",
       "\n",
       "                                        INVESTOR TYPE INVESTMENT TYPE  \\\n",
       "0                                     Innoven Capital  Debt Financing   \n",
       "1                           Sorenson Capital Partners        Series D   \n",
       "2                           Krishtal Advisors Pte Ltd        Series E   \n",
       "3          MC Global Edtech, B Capital, Baron, others        Series F   \n",
       "4                               Titan Capital, others            Seed   \n",
       "5                                      Accel Partners        Series A   \n",
       "6                                                PayU        Series A   \n",
       "7   SIG Global, Sequoia Capital, WaterBridge Ventu...        Series B   \n",
       "8                                  Tiger Global, Kora         Venture   \n",
       "9            Rhodium Trust, Accel Partners and Swiggy        Series C   \n",
       "10     Accel Partners and Lightspeed Venture Partners            Seed   \n",
       "11  Azim Premji’s PremjiInvest and South Korea’s M...        Series C   \n",
       "12                                    InnoVen Capital  Debt Financing   \n",
       "13                         SoftBank Vision Fund (SVF)     Unspecified   \n",
       "14                                                 GV        Series A   \n",
       "15                                       Owl Ventures        Series C   \n",
       "16                              SIDBI Venture Capital          Series   \n",
       "17          Matrix Partners India, RTP Global, others            Seed   \n",
       "18   A91 Partners, Faering Capital, TVS Capital Funds         Venture   \n",
       "19                         Heritas Capital Management   Venture Round   \n",
       "20                                    Sequoia Capital    Seed Funding   \n",
       "21                                    Prosus Ventures        Series C   \n",
       "22                                Salesforce Ventures            Seed   \n",
       "23                                  Reckitt Benckiser         Venture   \n",
       "\n",
       "        AMOUNT/$  \n",
       "0    250,000,000  \n",
       "1    140,000,000  \n",
       "2      8,000,000  \n",
       "3    460,000,000  \n",
       "4    300,000,000  \n",
       "5     11,000,000  \n",
       "6     27,500,000  \n",
       "7      2,500,000  \n",
       "8    250,000,000  \n",
       "9   2,747,045.20  \n",
       "10   1,50,00,000  \n",
       "11    75,000,000  \n",
       "12     4,773,958  \n",
       "13    55,000,000  \n",
       "14    15,000,000  \n",
       "15    18,000,000  \n",
       "16   100,000,000  \n",
       "17     4,000,000  \n",
       "18   1,80,00,000  \n",
       "19    16,000,000  \n",
       "20    15,000,000  \n",
       "21    30,000,000  \n",
       "22    15,000,000  \n",
       "23  6,172,258.50  "
      ]
     },
     "execution_count": 391,
     "metadata": {},
     "output_type": "execute_result"
    }
   ],
   "source": [
    "df"
   ]
  },
  {
   "cell_type": "code",
   "execution_count": null,
   "id": "ff2ab6c8",
   "metadata": {},
   "outputs": [],
   "source": [
    "df.to_csv('trakdata.csv',index=True)"
   ]
  },
  {
   "cell_type": "markdown",
   "id": "9b71d960",
   "metadata": {},
   "source": [
    "\n",
    "7. Write a program to scrap all the available details of best gaming laptops from digit.in.\n"
   ]
  },
  {
   "cell_type": "code",
   "execution_count": 245,
   "id": "32154491",
   "metadata": {},
   "outputs": [],
   "source": [
    "URL='https://www.digit.in/top-products/best-gaming-laptops-40.html'\n",
    "driver.get(URL)"
   ]
  },
  {
   "cell_type": "code",
   "execution_count": 246,
   "id": "2855d60b",
   "metadata": {},
   "outputs": [
    {
     "data": {
      "text/plain": [
       "[<selenium.webdriver.remote.webelement.WebElement (session=\"fc649d63453af9c04a9c4e24e5da64ff\", element=\"047a66f7-f4d0-4223-85a8-67ebf0d98ea3\")>,\n",
       " <selenium.webdriver.remote.webelement.WebElement (session=\"fc649d63453af9c04a9c4e24e5da64ff\", element=\"06def1b6-9152-495c-93e4-74696dd7cfb7\")>,\n",
       " <selenium.webdriver.remote.webelement.WebElement (session=\"fc649d63453af9c04a9c4e24e5da64ff\", element=\"4288b587-1226-40c0-8712-b5e0decc391a\")>,\n",
       " <selenium.webdriver.remote.webelement.WebElement (session=\"fc649d63453af9c04a9c4e24e5da64ff\", element=\"0d374e05-762b-4434-840e-e74a589cc7b6\")>,\n",
       " <selenium.webdriver.remote.webelement.WebElement (session=\"fc649d63453af9c04a9c4e24e5da64ff\", element=\"c253f514-8cc8-4652-9d97-f4bb9ec64559\")>,\n",
       " <selenium.webdriver.remote.webelement.WebElement (session=\"fc649d63453af9c04a9c4e24e5da64ff\", element=\"5d79e306-fe86-4fad-ac32-464f4ae36284\")>,\n",
       " <selenium.webdriver.remote.webelement.WebElement (session=\"fc649d63453af9c04a9c4e24e5da64ff\", element=\"6783cdc4-99c0-46cf-bded-9fd740c0acf9\")>,\n",
       " <selenium.webdriver.remote.webelement.WebElement (session=\"fc649d63453af9c04a9c4e24e5da64ff\", element=\"ada872b5-5640-4bb1-a0fd-524b05f3c399\")>,\n",
       " <selenium.webdriver.remote.webelement.WebElement (session=\"fc649d63453af9c04a9c4e24e5da64ff\", element=\"bc45f1e8-90b9-4ef6-83c6-f0ce3b36ec61\")>,\n",
       " <selenium.webdriver.remote.webelement.WebElement (session=\"fc649d63453af9c04a9c4e24e5da64ff\", element=\"9e30d65e-c825-4de7-b3b7-a4581ccdd547\")>]"
      ]
     },
     "execution_count": 246,
     "metadata": {},
     "output_type": "execute_result"
    }
   ],
   "source": [
    "url=driver.find_elements(By.XPATH,'//div[@class=\"TopNumbeHeading sticky-footer\"]//a')\n",
    "url"
   ]
  },
  {
   "cell_type": "code",
   "execution_count": 252,
   "id": "a1dfe4d9",
   "metadata": {},
   "outputs": [
    {
     "data": {
      "text/plain": [
       "['https://www.digit.in/laptops/msi-titan-gt77-12uhs-12th-gen-core-i9-12900hx-2022-price-303891.html',\n",
       " 'https://www.digit.in/laptops/alienware-x17-r2-12th-gen-core-i9-12900hk-2022-price-305697.html',\n",
       " 'https://www.digit.in/laptops/acer-predator-triton-500-se-12th-gen-core-i7-12700h-2022-price-305711.html',\n",
       " 'https://www.digit.in/laptops/omen-by-hp-16-b1371tx-12th-gen-core-i7-12700h-2022-price-290829.html',\n",
       " 'https://www.digit.in/laptops/acer-nitro-5-an515-45-nh-qbrsi-007-ryzen-9-5900hx-2022-price-305725.html',\n",
       " 'https://www.digit.in/laptops/msi-delta-15-5th-gen-ryzen-9-5900hx-2022-price-288855.html',\n",
       " 'https://www.digit.in/laptops/hp-omen-16-c0141ax-ryzen-9-5900hx-2022-price-289331.html',\n",
       " 'https://www.digit.in/laptops/lenovo-legion-5i-pro-82rf00mgin-12th-gen-core-i7-12700h-2022-price-305739.html',\n",
       " 'https://www.digit.in/laptops/dell-alienware-m15-r5-gaming-ryzen-r7-5800h-2022-price-288001.html',\n",
       " 'https://www.digit.in/laptops/lenovo-legion-s7-ryzen-7-5800h-2022-price-288281.html']"
      ]
     },
     "execution_count": 252,
     "metadata": {},
     "output_type": "execute_result"
    }
   ],
   "source": [
    "URL_=[]\n",
    "for i in url:\n",
    "    URL_.append(i.get_attribute('href'))\n",
    "URL_"
   ]
  },
  {
   "cell_type": "code",
   "execution_count": 255,
   "id": "0cec3997",
   "metadata": {},
   "outputs": [],
   "source": [
    "title=[]\n",
    "for i in URL_:\n",
    "    driver.get(i)\n",
    "    time.sleep(2)\n",
    "    try:\n",
    "        tit=driver.find_element(By.XPATH,'/html/body/div[3]/div[2]/div[2]/h1')\n",
    "        title.append(tit.text)\n",
    "    \n",
    "    except WebDriverException:\n",
    "        TITLE.append('-')"
   ]
  },
  {
   "cell_type": "code",
   "execution_count": 256,
   "id": "1381829e",
   "metadata": {},
   "outputs": [
    {
     "data": {
      "text/plain": [
       "['MSI Titan GT77 12UHS 12th Gen Core i9-12900HX (2022)',\n",
       " 'Alienware x17 R2 12th Gen Core i9-12900HK (2022)',\n",
       " 'Acer Predator Triton 500 SE 12th Gen Core i7-12700H (2022)',\n",
       " 'HP OMEN 16-B1371TX 12th Gen core i7-12700H (2022)',\n",
       " 'Acer Nitro 5 AN515-45 NH.QBRSI.007 Ryzen 9-5900HX (2022)',\n",
       " 'MSI Delta 15 5th Gen Ryzen 9-5900HX (2022)',\n",
       " 'HP Omen 16-C0141AX Ryzen 9 5900HX (2022)',\n",
       " 'Lenovo Legion 5i Pro 82RF00MGIN 12th Gen Core i7-12700H (2022)',\n",
       " 'DELL ALIENWARE M15 R5 GAMING Ryzen R7-5800H (2022)',\n",
       " 'Lenovo Legion S7 Ryzen 7-5800H (2022)']"
      ]
     },
     "execution_count": 256,
     "metadata": {},
     "output_type": "execute_result"
    }
   ],
   "source": [
    "title"
   ]
  },
  {
   "cell_type": "code",
   "execution_count": 257,
   "id": "60a471d6",
   "metadata": {},
   "outputs": [],
   "source": [
    "Basic_info=[]\n",
    "for i in URL_:\n",
    "    driver.get(i)\n",
    "    time.sleep(2)\n",
    "    try:\n",
    "        bs=driver.find_element(By.XPATH,'/html/body/div[3]/div[2]/div[8]/div/div[1]/div[1]')\n",
    "        Basic_info.append(bs.text)\n",
    "    \n",
    "    except WebDriverException:\n",
    "         Basic_info.append('-')\n",
    "    "
   ]
  },
  {
   "cell_type": "code",
   "execution_count": 258,
   "id": "fc6cf5e2",
   "metadata": {},
   "outputs": [
    {
     "data": {
      "text/plain": [
       "['Basic Information\\nModel name : Titan GT77\\nLaunch date (global) : 14-07-2022\\noperating system (with version) : Windows 11 Home\\nlaptop type : Gaming\\nSeries : Titan',\n",
       " 'Basic Information\\nModel name : Alienware x17 R2\\nLaunch date (global) : 21-07-2022\\noperating system (with version) : Windows 11 Home\\nlaptop type : Gaming\\nSeries : Alienware',\n",
       " 'Basic Information\\nModel name : Predator Triton 500 SE\\nLaunch date (global) : 21-07-2022\\noperating system (with version) : Windows 11 Home\\nlaptop type : Gaming\\nSeries : Predator',\n",
       " 'Basic Information\\nModel name : OMEN\\nLaunch date (global) : 09-05-2022\\noperating system (with version) : Windows 11 Home\\nlaptop type : Gaming\\nSeries : Omen',\n",
       " 'Basic Information\\nModel name : Nitro 5\\nLaunch date (global) : 21-07-2022\\noperating system (with version) : Windows 11 Home\\nlaptop type : Gaming',\n",
       " 'Basic Information\\nModel name : Delta 15\\nLaunch date (global) : 14-04-2022\\noperating system (with version) : Windows 11 Home\\nlaptop type : Gaming',\n",
       " 'Basic Information\\nModel name : Omen 16-C0141AX\\noperating system (with version) : Windows 11 Home\\nSeries : Omen',\n",
       " 'Basic Information\\nModel name : Legion 5i Pro\\nLaunch date (global) : 21-07-2022\\noperating system (with version) : Windows 11 Home\\nlaptop type : Gaming\\nSeries : Legion',\n",
       " 'Basic Information\\nModel name : ALIENWARE M15 R5\\nLaunch date (global) : 11-04-2022\\noperating system (with version) : Windows 11 Home\\nlaptop type : Gaming',\n",
       " 'Basic Information\\nModel name : Legion S7\\nLaunch date (global) : 11-04-2022\\noperating system (with version) : Windows 11 Home\\nSeries : Legion']"
      ]
     },
     "execution_count": 258,
     "metadata": {},
     "output_type": "execute_result"
    }
   ],
   "source": [
    "Basic_info"
   ]
  },
  {
   "cell_type": "code",
   "execution_count": 259,
   "id": "13b8541c",
   "metadata": {},
   "outputs": [],
   "source": [
    "Display=[]\n",
    "for i in URL_:\n",
    "    driver.get(i)\n",
    "    time.sleep(2)\n",
    "    try:\n",
    "        dis=driver.find_element(By.XPATH,'/html/body/div[3]/div[2]/div[8]/div/div[1]/div[2]')\n",
    "        Display.append(dis.text)\n",
    "    \n",
    "    except WebDriverException:\n",
    "         Display.append('-')\n",
    "    "
   ]
  },
  {
   "cell_type": "code",
   "execution_count": 261,
   "id": "61d8c311",
   "metadata": {},
   "outputs": [
    {
     "data": {
      "text/plain": [
       "['Display\\nResolution : 3840 x 2160\\ndisplay size (in inches) : 17.3\\nRefresh Rate : 120 Hz',\n",
       " 'Display\\nResolution : 1920x1080\\ndisplay size (in inches) : 17.3\\nRefresh Rate : 360 Hz',\n",
       " 'Display\\nResolution : 2560 x 1600\\ndisplay size (in inches) : 16\\nRefresh Rate : 240 Hz',\n",
       " 'Display\\nResolution : 2560 x 1440\\ndisplay size (in inches) : 16.1',\n",
       " 'Display\\nResolution : 2560 x 1440\\ndisplay size (in inches) : 15.6\\nRefresh Rate : 165 Hz',\n",
       " 'Display\\nResolution : 1920 x 1080\\ndisplay size (in inches) : 15.6\\nRefresh Rate : 240Hz',\n",
       " 'Display\\nResolution : 2560 x 1440\\ndisplay size (in inches) : 16.1',\n",
       " 'Display\\nResolution : 2560 x 1600\\ndisplay size (in inches) : 16\\nRefresh Rate : 165 Hz',\n",
       " 'Display\\nResolution : 1920 x 1080\\ndisplay size (in inches) : 15.6\\nRefresh Rate : 165Hz',\n",
       " 'Display\\ndisplay size (in inches) : 15.6\\nRefresh Rate : 165 Hz']"
      ]
     },
     "execution_count": 261,
     "metadata": {},
     "output_type": "execute_result"
    }
   ],
   "source": [
    "Display"
   ]
  },
  {
   "cell_type": "code",
   "execution_count": 265,
   "id": "2a51e827",
   "metadata": {},
   "outputs": [],
   "source": [
    "Memory=[]\n",
    "for i in URL_:\n",
    "    driver.get(i)\n",
    "    time.sleep(2)\n",
    "    try:\n",
    "        mem=driver.find_element(By.XPATH,'/html/body/div[3]/div[2]/div[8]/div/div[1]/div[4]')\n",
    "        Memory.append(mem.text)\n",
    "    \n",
    "    except WebDriverException:\n",
    "         Menory.append('-')\n",
    "    "
   ]
  },
  {
   "cell_type": "code",
   "execution_count": 266,
   "id": "04ec9dd3",
   "metadata": {},
   "outputs": [
    {
     "data": {
      "text/plain": [
       "['Memory\\nram included (in gb) : 64 GB\\nram type : DDR5',\n",
       " 'Memory\\nram included (in gb) : 32 GB\\nram type : DDR5',\n",
       " 'Memory\\nram included (in gb) : 32 GB\\nram type : DDR5',\n",
       " 'Memory\\nram included (in gb) : 8 GB\\nram type : DDR5',\n",
       " 'Memory\\nram included (in gb) : 16 GB\\nram type : DDR4',\n",
       " 'Memory\\nram included (in gb) : 16 GB\\nram type : DDR4',\n",
       " 'Memory\\nram included (in gb) : 16 GB\\nram type : DDR4',\n",
       " 'Memory\\nram included (in gb) : 16 GB\\nram type : DDR5',\n",
       " 'Memory\\nram included (in gb) : 16 GB\\nram type : DDR4',\n",
       " 'Memory\\nram included (in gb) : 16 GB\\nram type : DDR4']"
      ]
     },
     "execution_count": 266,
     "metadata": {},
     "output_type": "execute_result"
    }
   ],
   "source": [
    "Memory"
   ]
  },
  {
   "cell_type": "code",
   "execution_count": 267,
   "id": "0fe6b7f7",
   "metadata": {},
   "outputs": [],
   "source": [
    "Physical_specification=[]\n",
    "for i in URL_:\n",
    "    driver.get(i)\n",
    "    time.sleep(2)\n",
    "    try:\n",
    "        phy=driver.find_element(By.XPATH,'/html/body/div[3]/div[2]/div[8]/div/div[1]/div[5]')\n",
    "        Physical_specification.append(phy.text)\n",
    "    \n",
    "    except WebDriverException:\n",
    "         Physical_specification.append('-')\n",
    "    "
   ]
  },
  {
   "cell_type": "code",
   "execution_count": 268,
   "id": "0e8a7611",
   "metadata": {},
   "outputs": [
    {
     "data": {
      "text/plain": [
       "['Physical Specifications\\nlaptop weight (in kgs) : 3.3\\nlaptop dimension (in mm) : 397 x 330 x 23',\n",
       " 'Physical Specifications\\nlaptop weight (in kgs) : 3.02\\nlaptop dimension (in mm) : 399.23 x 299.57 x 14.75',\n",
       " 'Physical Specifications\\nlaptop weight (in kgs) : 2.4\\nlaptop dimension (in mm) : 358 x 262 x 19.9',\n",
       " 'Physical Specifications\\nlaptop weight (in kgs) : 2.32\\nlaptop dimension (in mm) : 369 x 248 x 23',\n",
       " 'Physical Specifications\\nlaptop weight (in kgs) : 2.4\\nlaptop dimension (in mm) : 363 x 255 x 23.9',\n",
       " 'Physical Specifications\\nlaptop weight (in kgs) : 1.9\\nlaptop dimension (in mm) : 357 x 247 x 19',\n",
       " 'Physical Specifications\\nlaptop weight (in kgs) : 2.3\\nlaptop dimension (in mm) : 36.92 x 24.8 x 2.3',\n",
       " 'Physical Specifications\\nlaptop weight (in kgs) : 2.5\\nlaptop dimension (in mm) : 359.9 x 264.4 x 19.9',\n",
       " 'Physical Specifications\\nlaptop weight (in kgs) : 2.69\\nlaptop dimension (in mm) : 356.2 x 272.5 x 22.85',\n",
       " 'Physical Specifications\\nlaptop weight (in kgs) : 1.9\\nlaptop dimension (in mm) : 356 x 252 x 16']"
      ]
     },
     "execution_count": 268,
     "metadata": {},
     "output_type": "execute_result"
    }
   ],
   "source": [
    "Physical_specification"
   ]
  },
  {
   "cell_type": "code",
   "execution_count": 269,
   "id": "99a9e82f",
   "metadata": {},
   "outputs": [],
   "source": [
    "Processor=[]\n",
    "for i in URL_:\n",
    "    driver.get(i)\n",
    "    time.sleep(2)\n",
    "    try:\n",
    "        pro=driver.find_element(By.XPATH,'/html/body/div[3]/div[2]/div[8]/div/div[1]/div[6]')\n",
    "        Processor.append(pro.text)\n",
    "    \n",
    "    except WebDriverException:\n",
    "        Processor.append('-')\n",
    "    "
   ]
  },
  {
   "cell_type": "code",
   "execution_count": 270,
   "id": "6bece83a",
   "metadata": {},
   "outputs": [
    {
     "data": {
      "text/plain": [
       "['Processor\\nprocessor model name : 12th Gen Intel Core i9-12900HX\\ncores : 16\\ngraphics processor : NVIDIA GeForce RTX 3080 Ti\\nGPU Memory type : DDR6\\nGPU Memory amount : 16 GB',\n",
       " 'Processor\\nprocessor model name : 12th Gen Intel Core i9-12900HK\\nclock speed : 5.00 GHz\\ncores : 14\\ngraphics processor : NVIDIA GeForce RTX 3080 Ti,\\nGPU Memory type : DDR6\\nGPU Memory amount : 16 GB\\nCache L3 : 24 MB\\nBoost Clock Speed : 5.00 GHz',\n",
       " 'Processor\\nprocessor model name : 12th Gen Intel Core i7-12700H\\nclock speed : 3.50 GHz\\ncores : 14\\ngraphics processor : NVIDIA GeForce RTXTM 3070 Ti\\nGPU Memory type : DDR6\\nGPU Memory amount : 8 GB\\nBoost Clock Speed : 4.70 GHz',\n",
       " 'Processor\\nprocessor model name : 12th Gen Intel Core i7-12700H\\nclock speed : 4.7 GHz\\ncores : 14\\ngraphics processor : NVIDIA GeForce RTX 3070\\nGPU Memory type : GDDR6\\nGPU Memory amount : 8 GB\\nCache L3 : 24 MB\\nBoost Clock Speed : 4.7 GHz',\n",
       " 'Processor\\nprocessor model name : AMD Ryzen 9-5900HX\\ncores : 8\\ngraphics processor : NVIDIA GeForce RTX 3070\\nGPU Memory type : DDR6\\nGPU Memory amount : 8 GB',\n",
       " 'Processor\\nprocessor model name : AMD 5th Gen Ryzen 9-5900HX\\nclock speed : 3.3GHz\\ncores : 8\\ngraphics processor : AMD Radeon RX 6700M\\nGPU Memory type : DDR6\\nGPU Memory amount : 10 GB\\nCache L3 : 20 MB\\nBoost Clock Speed : 4.6 GHz',\n",
       " 'Processor\\nprocessor model name : AMD Ryzen™ 9 5900HX\\nclock speed : 3.3 GHz\\ncores : 8\\ngraphics processor : AMD Radeon™ RX 6600M\\nGPU Memory type : GDDR6\\nGPU Memory amount : 8 GB\\nCache L3 : 16 MB\\nBoost Clock Speed : 4.6 GHz',\n",
       " 'Processor\\nprocessor model name : 12th Gen Intel Core i7-12700H\\nclock speed : 3.50 GHz\\ncores : 14\\ngraphics processor : NVIDIA GeForce RTX 3060\\nGPU Memory type : DDR6\\nGPU Memory amount : 6 GB\\nCache L3 : 24 Mb\\nBoost Clock Speed : 4.70 GHz',\n",
       " 'Processor\\nprocessor model name : AMD Ryzen R7-5800H\\nclock speed : 4.40 GHz\\ncores : 8\\ngraphics processor : NVIDIA GeForce RTX 3060\\nGPU Memory type : DDR6\\nGPU Memory amount : 6 GB\\nCache L3 : 20 MB\\nBoost Clock Speed : 4.40 GHz',\n",
       " 'Processor\\nprocessor model name : Lenovo Ryzen 7-5800H\\nclock speed : 3.2 GHz\\ngraphics processor : NVIDIA GeForce 3060 Max-Q\\nGPU Memory type : DDR6\\nGPU Memory amount : 6 GB\\nCache L3 : 16 MB\\nBoost Clock Speed : 4.4 GHz']"
      ]
     },
     "execution_count": 270,
     "metadata": {},
     "output_type": "execute_result"
    }
   ],
   "source": [
    "Processor"
   ]
  },
  {
   "cell_type": "code",
   "execution_count": 271,
   "id": "6d09e070",
   "metadata": {},
   "outputs": [],
   "source": [
    "Storage=[]\n",
    "for i in URL_:\n",
    "    driver.get(i)\n",
    "    time.sleep(2)\n",
    "    try:\n",
    "        sto=driver.find_element(By.XPATH,'/html/body/div[3]/div[2]/div[8]/div/div[2]/div[1]')\n",
    "        Storage.append(sto.text)\n",
    "    \n",
    "    except WebDriverException:\n",
    "        Storage.append('-')\n",
    "    "
   ]
  },
  {
   "cell_type": "code",
   "execution_count": 272,
   "id": "0d91d720",
   "metadata": {},
   "outputs": [
    {
     "data": {
      "text/plain": [
       "['Storage\\nStorage drive type : SSD\\nStorage drive capacity : 2 TB',\n",
       " 'Storage\\nStorage drive type : SSD\\nStorage drive capacity : 1 TB',\n",
       " 'Storage\\nStorage drive type : SSD\\nStorage drive capacity : 2 TB',\n",
       " 'Storage\\nStorage drive type : SSD\\nStorage drive capacity : 1 TB',\n",
       " 'Storage\\nStorage drive type : SSD\\nStorage drive capacity : 512 GB',\n",
       " 'Storage\\nStorage drive type : SSD\\nStorage drive capacity : 1 TB',\n",
       " 'Storage\\nStorage drive type : NVMe\\nStorage drive capacity : 1 TB',\n",
       " 'Storage\\nStorage drive type : SSD\\nStorage drive capacity : 1 TB',\n",
       " 'Storage\\nStorage drive type : SSD\\nStorage drive capacity : 512 GB',\n",
       " 'Storage\\nStorage drive type : SSD\\nStorage drive capacity : 1 TB']"
      ]
     },
     "execution_count": 272,
     "metadata": {},
     "output_type": "execute_result"
    }
   ],
   "source": [
    "Storage"
   ]
  },
  {
   "cell_type": "code",
   "execution_count": 273,
   "id": "4654f61b",
   "metadata": {},
   "outputs": [],
   "source": [
    "Power=[]\n",
    "for i in URL_:\n",
    "    driver.get(i)\n",
    "    time.sleep(2)\n",
    "    try:\n",
    "        power=driver.find_element(By.XPATH,'/html/body/div[3]/div[2]/div[8]/div/div[2]/div[2]')\n",
    "        Power.append(power.text)\n",
    "    \n",
    "    except WebDriverException:\n",
    "        Power.append('-')\n",
    "    "
   ]
  },
  {
   "cell_type": "code",
   "execution_count": 274,
   "id": "b303c975",
   "metadata": {},
   "outputs": [
    {
     "data": {
      "text/plain": [
       "['Power\\nbattery type : 4 Cell\\npower supply : 99.9 W',\n",
       " 'Power\\nbattery type : 6 Cell, 87 Wh\\npower supply : 330W',\n",
       " 'Power\\nbattery type : 4-cell 99.98 Wh Li-ion battery',\n",
       " 'Power\\nbattery type : 6 Cell\\npower supply : 83 W',\n",
       " 'Power\\nbattery type : 4 Cell 57.5 Wh Lithium Ion',\n",
       " 'Power\\npower supply : 82 W',\n",
       " 'Power\\nbattery backup (in hours) : 8 Hours\\npower supply : 230 W',\n",
       " 'Power\\nbattery backup (in hours) : 4 Hours\\nbattery type : 4 cell, 80Wh',\n",
       " 'Power\\nbattery type : 86 Wh, integrated\\npower supply : 240W',\n",
       " 'Power']"
      ]
     },
     "execution_count": 274,
     "metadata": {},
     "output_type": "execute_result"
    }
   ],
   "source": [
    "Power"
   ]
  },
  {
   "cell_type": "code",
   "execution_count": 278,
   "id": "13342cef",
   "metadata": {},
   "outputs": [],
   "source": [
    "Description=[]\n",
    "for i in URL_:\n",
    "    driver.get(i)\n",
    "    time.sleep(2)\n",
    "    try:\n",
    "        des=driver.find_element(By.XPATH,'/html/body/div[3]/div[2]/div[13]/div[1]')\n",
    "        Description.append(des.text)\n",
    "    \n",
    "    except WebDriverException:\n",
    "        Description.append('-')\n"
   ]
  },
  {
   "cell_type": "code",
   "execution_count": 279,
   "id": "c1604f46",
   "metadata": {},
   "outputs": [
    {
     "data": {
      "text/plain": [
       "['MSI Titan GT77 12UHS 12th Gen Core i9-12900HX (2022) is a stylish and powerful Gaming Laptop and is powered by 16 core and sports a 17.3 inchOn the memory front, the laptop is equipped with a hard drive of 2 TB and a 64 GB DDR5 RAM,thereby making it possible to store ample amount of data.All the above features ensure that you breeze through all your tasks throughout the day.',\n",
       " 'Dell Alienware x17 R2 12th Gen Core i9-12900HK (2022) is a stylish and powerful Gaming Laptop and is powered by 14 core clocked at a speed of 5.00 GHz and sports a 17.3 inchOn the memory front, the laptop is equipped with a hard drive of 1 TB and a 32 GB DDR5 RAM,thereby making it possible to store ample amount of data.All the above features ensure that you breeze through all your tasks throughout the day.',\n",
       " 'Acer Predator Triton 500 SE 12th Gen Core i7-12700H (2022) is a stylish and powerful Gaming Laptop and is powered by 14 core clocked at a speed of 3.50 GHz and sports a 16 inchOn the memory front, the laptop is equipped with a hard drive of 2 TB and a 32 GB DDR5 RAM,thereby making it possible to store ample amount of data.All the above features ensure that you breeze through all your tasks throughout the day.',\n",
       " 'HP OMEN 16-B1371TX 12th Gen core i7-12700H (2022) is a stylish and powerful Gaming Laptop and is powered by 14 core clocked at a speed of 4.7 GHz and sports a 16.1 inchOn the memory front, the laptop is equipped with a hard drive of 1 TB and a 8 GB DDR5 RAM,thereby making it possible to store ample amount of data.All the above features ensure that you breeze through all your tasks throughout the day.',\n",
       " 'Acer Nitro 5 AN515-45 NH.QBRSI.007 Ryzen 9-5900HX (2022) is a stylish and powerful Gaming Laptop and is powered by 8 core and sports a 15.6 inchOn the memory front, the laptop is equipped with a hard drive of 512 GB and a 16 GB DDR4 RAM,thereby making it possible to store ample amount of data.All the above features ensure that you breeze through all your tasks throughout the day.',\n",
       " 'MSI Delta 15 5th Gen Ryzen 9-5900HX (2022) is a stylish and powerful Gaming Laptop and is powered by 8 core clocked at a speed of 3.3GHz and sports a 15.6 inchOn the memory front, the laptop is equipped with a hard drive of 1 TB and a 16 GB DDR4 RAM,thereby making it possible to store ample amount of data.All the above features ensure that you breeze through all your tasks throughout the day.',\n",
       " 'HP Omen 16-C0141AX Ryzen 9 5900HX (2022) is a stylish and powerful and is powered by 8 core clocked at a speed of 3.3 GHz and sports a 16.1 inchOn the memory front, the laptop is equipped with a hard drive of 1 TB and a 16 GB DDR4 RAM,thereby making it possible to store ample amount of data.All the above features ensure that you breeze through all your tasks throughout the day.',\n",
       " 'Lenovo Legion 5i Pro 82RF00MGIN 12th Gen Core i7-12700H (2022) is a stylish and powerful Gaming Laptop and is powered by 14 core clocked at a speed of 3.50 GHz and sports a 16 inchOn the memory front, the laptop is equipped with a hard drive of 1 TB and a 16 GB DDR5 RAM,thereby making it possible to store ample amount of data.All the above features ensure that you breeze through all your tasks throughout the day.It is backed\\nup by a 4 cell, 80Wh battery that keeps the device running for upto 4 Hours hours or a considerable amount of time.',\n",
       " 'Dell DELL ALIENWARE M15 R5 GAMING Ryzen R7-5800H (2022) is a stylish and powerful Gaming Laptop and is powered by 8 core clocked at a speed of 4.40 GHz and sports a 15.6 inchOn the memory front, the laptop is equipped with a hard drive of 512 GB and a 16 GB DDR4 RAM,thereby making it possible to store ample amount of data.All the above features ensure that you breeze through all your tasks throughout the day.',\n",
       " 'Lenovo Legion S7 Ryzen 7-5800H (2022) is a stylish and powerful and is powered by Lenovo Ryzen 7-5800H processor clocked at a speed of 3.2 GHz and sports a 15.6 inchOn the memory front, the laptop is equipped with a hard drive of 1 TB and a 16 GB DDR4 RAM,thereby making it possible to store ample amount of data.All the above features ensure that you breeze through all your tasks throughout the day.']"
      ]
     },
     "execution_count": 279,
     "metadata": {},
     "output_type": "execute_result"
    }
   ],
   "source": [
    "Description"
   ]
  },
  {
   "cell_type": "code",
   "execution_count": 280,
   "id": "4f9ce0e5",
   "metadata": {},
   "outputs": [],
   "source": [
    "Alt_pro=[]\n",
    "for i in URL_:\n",
    "    driver.get(i)\n",
    "    time.sleep(2)\n",
    "    try:\n",
    "        ap=driver.find_element(By.XPATH,'/html/body/div[3]/div[2]/div[8]/div/div[2]/div[2]')\n",
    "        Alt_pro.append(ap.text)\n",
    "    \n",
    "    except WebDriverException:\n",
    "        Alt_pro.append('-')\n",
    "\n"
   ]
  },
  {
   "cell_type": "code",
   "execution_count": 281,
   "id": "d773d064",
   "metadata": {},
   "outputs": [
    {
     "data": {
      "text/plain": [
       "['Power\\nbattery type : 4 Cell\\npower supply : 99.9 W',\n",
       " 'Power\\nbattery type : 6 Cell, 87 Wh\\npower supply : 330W',\n",
       " 'Power\\nbattery type : 4-cell 99.98 Wh Li-ion battery',\n",
       " 'Power\\nbattery type : 6 Cell\\npower supply : 83 W',\n",
       " 'Power\\nbattery type : 4 Cell 57.5 Wh Lithium Ion',\n",
       " 'Power\\npower supply : 82 W',\n",
       " 'Power\\nbattery backup (in hours) : 8 Hours\\npower supply : 230 W',\n",
       " 'Power\\nbattery backup (in hours) : 4 Hours\\nbattery type : 4 cell, 80Wh',\n",
       " 'Power\\nbattery type : 86 Wh, integrated\\npower supply : 240W',\n",
       " 'Power']"
      ]
     },
     "execution_count": 281,
     "metadata": {},
     "output_type": "execute_result"
    }
   ],
   "source": [
    "Alt_pro"
   ]
  },
  {
   "cell_type": "code",
   "execution_count": 282,
   "id": "ae38add4",
   "metadata": {},
   "outputs": [],
   "source": [
    "df=pd.DataFrame({'Title':title,'Basic_info':Basic_info,'Display':Display,'Memory':Memory,'Physical_specification':Physical_specification,'Processor':Processor,'Storage':Storage,'Power':Power,'Description':Description,'Alternate_options':Alt_pro})"
   ]
  },
  {
   "cell_type": "code",
   "execution_count": 283,
   "id": "a1e0780b",
   "metadata": {},
   "outputs": [
    {
     "data": {
      "text/html": [
       "<div>\n",
       "<style scoped>\n",
       "    .dataframe tbody tr th:only-of-type {\n",
       "        vertical-align: middle;\n",
       "    }\n",
       "\n",
       "    .dataframe tbody tr th {\n",
       "        vertical-align: top;\n",
       "    }\n",
       "\n",
       "    .dataframe thead th {\n",
       "        text-align: right;\n",
       "    }\n",
       "</style>\n",
       "<table border=\"1\" class=\"dataframe\">\n",
       "  <thead>\n",
       "    <tr style=\"text-align: right;\">\n",
       "      <th></th>\n",
       "      <th>Title</th>\n",
       "      <th>Basic_info</th>\n",
       "      <th>Display</th>\n",
       "      <th>Memory</th>\n",
       "      <th>Physical_specification</th>\n",
       "      <th>Processor</th>\n",
       "      <th>Storage</th>\n",
       "      <th>Power</th>\n",
       "      <th>Description</th>\n",
       "      <th>Alternate_options</th>\n",
       "    </tr>\n",
       "  </thead>\n",
       "  <tbody>\n",
       "    <tr>\n",
       "      <th>0</th>\n",
       "      <td>MSI Titan GT77 12UHS 12th Gen Core i9-12900HX ...</td>\n",
       "      <td>Basic Information\\nModel name : Titan GT77\\nLa...</td>\n",
       "      <td>Display\\nResolution : 3840 x 2160\\ndisplay siz...</td>\n",
       "      <td>Memory\\nram included (in gb) : 64 GB\\nram type...</td>\n",
       "      <td>Physical Specifications\\nlaptop weight (in kgs...</td>\n",
       "      <td>Processor\\nprocessor model name : 12th Gen Int...</td>\n",
       "      <td>Storage\\nStorage drive type : SSD\\nStorage dri...</td>\n",
       "      <td>Power\\nbattery type : 4 Cell\\npower supply : 9...</td>\n",
       "      <td>MSI Titan GT77 12UHS 12th Gen Core i9-12900HX ...</td>\n",
       "      <td>Power\\nbattery type : 4 Cell\\npower supply : 9...</td>\n",
       "    </tr>\n",
       "    <tr>\n",
       "      <th>1</th>\n",
       "      <td>Alienware x17 R2 12th Gen Core i9-12900HK (2022)</td>\n",
       "      <td>Basic Information\\nModel name : Alienware x17 ...</td>\n",
       "      <td>Display\\nResolution : 1920x1080\\ndisplay size ...</td>\n",
       "      <td>Memory\\nram included (in gb) : 32 GB\\nram type...</td>\n",
       "      <td>Physical Specifications\\nlaptop weight (in kgs...</td>\n",
       "      <td>Processor\\nprocessor model name : 12th Gen Int...</td>\n",
       "      <td>Storage\\nStorage drive type : SSD\\nStorage dri...</td>\n",
       "      <td>Power\\nbattery type : 6 Cell, 87 Wh\\npower sup...</td>\n",
       "      <td>Dell Alienware x17 R2 12th Gen Core i9-12900HK...</td>\n",
       "      <td>Power\\nbattery type : 6 Cell, 87 Wh\\npower sup...</td>\n",
       "    </tr>\n",
       "    <tr>\n",
       "      <th>2</th>\n",
       "      <td>Acer Predator Triton 500 SE 12th Gen Core i7-1...</td>\n",
       "      <td>Basic Information\\nModel name : Predator Trito...</td>\n",
       "      <td>Display\\nResolution : 2560 x 1600\\ndisplay siz...</td>\n",
       "      <td>Memory\\nram included (in gb) : 32 GB\\nram type...</td>\n",
       "      <td>Physical Specifications\\nlaptop weight (in kgs...</td>\n",
       "      <td>Processor\\nprocessor model name : 12th Gen Int...</td>\n",
       "      <td>Storage\\nStorage drive type : SSD\\nStorage dri...</td>\n",
       "      <td>Power\\nbattery type : 4-cell 99.98 Wh Li-ion b...</td>\n",
       "      <td>Acer Predator Triton 500 SE 12th Gen Core i7-1...</td>\n",
       "      <td>Power\\nbattery type : 4-cell 99.98 Wh Li-ion b...</td>\n",
       "    </tr>\n",
       "    <tr>\n",
       "      <th>3</th>\n",
       "      <td>HP OMEN 16-B1371TX 12th Gen core i7-12700H (2022)</td>\n",
       "      <td>Basic Information\\nModel name : OMEN\\nLaunch d...</td>\n",
       "      <td>Display\\nResolution : 2560 x 1440\\ndisplay siz...</td>\n",
       "      <td>Memory\\nram included (in gb) : 8 GB\\nram type ...</td>\n",
       "      <td>Physical Specifications\\nlaptop weight (in kgs...</td>\n",
       "      <td>Processor\\nprocessor model name : 12th Gen Int...</td>\n",
       "      <td>Storage\\nStorage drive type : SSD\\nStorage dri...</td>\n",
       "      <td>Power\\nbattery type : 6 Cell\\npower supply : 83 W</td>\n",
       "      <td>HP OMEN 16-B1371TX 12th Gen core i7-12700H (20...</td>\n",
       "      <td>Power\\nbattery type : 6 Cell\\npower supply : 83 W</td>\n",
       "    </tr>\n",
       "    <tr>\n",
       "      <th>4</th>\n",
       "      <td>Acer Nitro 5 AN515-45 NH.QBRSI.007 Ryzen 9-590...</td>\n",
       "      <td>Basic Information\\nModel name : Nitro 5\\nLaunc...</td>\n",
       "      <td>Display\\nResolution : 2560 x 1440\\ndisplay siz...</td>\n",
       "      <td>Memory\\nram included (in gb) : 16 GB\\nram type...</td>\n",
       "      <td>Physical Specifications\\nlaptop weight (in kgs...</td>\n",
       "      <td>Processor\\nprocessor model name : AMD Ryzen 9-...</td>\n",
       "      <td>Storage\\nStorage drive type : SSD\\nStorage dri...</td>\n",
       "      <td>Power\\nbattery type : 4 Cell 57.5 Wh Lithium Ion</td>\n",
       "      <td>Acer Nitro 5 AN515-45 NH.QBRSI.007 Ryzen 9-590...</td>\n",
       "      <td>Power\\nbattery type : 4 Cell 57.5 Wh Lithium Ion</td>\n",
       "    </tr>\n",
       "    <tr>\n",
       "      <th>5</th>\n",
       "      <td>MSI Delta 15 5th Gen Ryzen 9-5900HX (2022)</td>\n",
       "      <td>Basic Information\\nModel name : Delta 15\\nLaun...</td>\n",
       "      <td>Display\\nResolution : 1920 x 1080\\ndisplay siz...</td>\n",
       "      <td>Memory\\nram included (in gb) : 16 GB\\nram type...</td>\n",
       "      <td>Physical Specifications\\nlaptop weight (in kgs...</td>\n",
       "      <td>Processor\\nprocessor model name : AMD 5th Gen ...</td>\n",
       "      <td>Storage\\nStorage drive type : SSD\\nStorage dri...</td>\n",
       "      <td>Power\\npower supply : 82 W</td>\n",
       "      <td>MSI Delta 15 5th Gen Ryzen 9-5900HX (2022) is ...</td>\n",
       "      <td>Power\\npower supply : 82 W</td>\n",
       "    </tr>\n",
       "    <tr>\n",
       "      <th>6</th>\n",
       "      <td>HP Omen 16-C0141AX Ryzen 9 5900HX (2022)</td>\n",
       "      <td>Basic Information\\nModel name : Omen 16-C0141A...</td>\n",
       "      <td>Display\\nResolution : 2560 x 1440\\ndisplay siz...</td>\n",
       "      <td>Memory\\nram included (in gb) : 16 GB\\nram type...</td>\n",
       "      <td>Physical Specifications\\nlaptop weight (in kgs...</td>\n",
       "      <td>Processor\\nprocessor model name : AMD Ryzen™ 9...</td>\n",
       "      <td>Storage\\nStorage drive type : NVMe\\nStorage dr...</td>\n",
       "      <td>Power\\nbattery backup (in hours) : 8 Hours\\npo...</td>\n",
       "      <td>HP Omen 16-C0141AX Ryzen 9 5900HX (2022) is a ...</td>\n",
       "      <td>Power\\nbattery backup (in hours) : 8 Hours\\npo...</td>\n",
       "    </tr>\n",
       "    <tr>\n",
       "      <th>7</th>\n",
       "      <td>Lenovo Legion 5i Pro 82RF00MGIN 12th Gen Core ...</td>\n",
       "      <td>Basic Information\\nModel name : Legion 5i Pro\\...</td>\n",
       "      <td>Display\\nResolution : 2560 x 1600\\ndisplay siz...</td>\n",
       "      <td>Memory\\nram included (in gb) : 16 GB\\nram type...</td>\n",
       "      <td>Physical Specifications\\nlaptop weight (in kgs...</td>\n",
       "      <td>Processor\\nprocessor model name : 12th Gen Int...</td>\n",
       "      <td>Storage\\nStorage drive type : SSD\\nStorage dri...</td>\n",
       "      <td>Power\\nbattery backup (in hours) : 4 Hours\\nba...</td>\n",
       "      <td>Lenovo Legion 5i Pro 82RF00MGIN 12th Gen Core ...</td>\n",
       "      <td>Power\\nbattery backup (in hours) : 4 Hours\\nba...</td>\n",
       "    </tr>\n",
       "    <tr>\n",
       "      <th>8</th>\n",
       "      <td>DELL ALIENWARE M15 R5 GAMING Ryzen R7-5800H (2...</td>\n",
       "      <td>Basic Information\\nModel name : ALIENWARE M15 ...</td>\n",
       "      <td>Display\\nResolution : 1920 x 1080\\ndisplay siz...</td>\n",
       "      <td>Memory\\nram included (in gb) : 16 GB\\nram type...</td>\n",
       "      <td>Physical Specifications\\nlaptop weight (in kgs...</td>\n",
       "      <td>Processor\\nprocessor model name : AMD Ryzen R7...</td>\n",
       "      <td>Storage\\nStorage drive type : SSD\\nStorage dri...</td>\n",
       "      <td>Power\\nbattery type : 86 Wh, integrated\\npower...</td>\n",
       "      <td>Dell DELL ALIENWARE M15 R5 GAMING Ryzen R7-580...</td>\n",
       "      <td>Power\\nbattery type : 86 Wh, integrated\\npower...</td>\n",
       "    </tr>\n",
       "    <tr>\n",
       "      <th>9</th>\n",
       "      <td>Lenovo Legion S7 Ryzen 7-5800H (2022)</td>\n",
       "      <td>Basic Information\\nModel name : Legion S7\\nLau...</td>\n",
       "      <td>Display\\ndisplay size (in inches) : 15.6\\nRefr...</td>\n",
       "      <td>Memory\\nram included (in gb) : 16 GB\\nram type...</td>\n",
       "      <td>Physical Specifications\\nlaptop weight (in kgs...</td>\n",
       "      <td>Processor\\nprocessor model name : Lenovo Ryzen...</td>\n",
       "      <td>Storage\\nStorage drive type : SSD\\nStorage dri...</td>\n",
       "      <td>Power</td>\n",
       "      <td>Lenovo Legion S7 Ryzen 7-5800H (2022) is a sty...</td>\n",
       "      <td>Power</td>\n",
       "    </tr>\n",
       "  </tbody>\n",
       "</table>\n",
       "</div>"
      ],
      "text/plain": [
       "                                               Title  \\\n",
       "0  MSI Titan GT77 12UHS 12th Gen Core i9-12900HX ...   \n",
       "1   Alienware x17 R2 12th Gen Core i9-12900HK (2022)   \n",
       "2  Acer Predator Triton 500 SE 12th Gen Core i7-1...   \n",
       "3  HP OMEN 16-B1371TX 12th Gen core i7-12700H (2022)   \n",
       "4  Acer Nitro 5 AN515-45 NH.QBRSI.007 Ryzen 9-590...   \n",
       "5         MSI Delta 15 5th Gen Ryzen 9-5900HX (2022)   \n",
       "6           HP Omen 16-C0141AX Ryzen 9 5900HX (2022)   \n",
       "7  Lenovo Legion 5i Pro 82RF00MGIN 12th Gen Core ...   \n",
       "8  DELL ALIENWARE M15 R5 GAMING Ryzen R7-5800H (2...   \n",
       "9              Lenovo Legion S7 Ryzen 7-5800H (2022)   \n",
       "\n",
       "                                          Basic_info  \\\n",
       "0  Basic Information\\nModel name : Titan GT77\\nLa...   \n",
       "1  Basic Information\\nModel name : Alienware x17 ...   \n",
       "2  Basic Information\\nModel name : Predator Trito...   \n",
       "3  Basic Information\\nModel name : OMEN\\nLaunch d...   \n",
       "4  Basic Information\\nModel name : Nitro 5\\nLaunc...   \n",
       "5  Basic Information\\nModel name : Delta 15\\nLaun...   \n",
       "6  Basic Information\\nModel name : Omen 16-C0141A...   \n",
       "7  Basic Information\\nModel name : Legion 5i Pro\\...   \n",
       "8  Basic Information\\nModel name : ALIENWARE M15 ...   \n",
       "9  Basic Information\\nModel name : Legion S7\\nLau...   \n",
       "\n",
       "                                             Display  \\\n",
       "0  Display\\nResolution : 3840 x 2160\\ndisplay siz...   \n",
       "1  Display\\nResolution : 1920x1080\\ndisplay size ...   \n",
       "2  Display\\nResolution : 2560 x 1600\\ndisplay siz...   \n",
       "3  Display\\nResolution : 2560 x 1440\\ndisplay siz...   \n",
       "4  Display\\nResolution : 2560 x 1440\\ndisplay siz...   \n",
       "5  Display\\nResolution : 1920 x 1080\\ndisplay siz...   \n",
       "6  Display\\nResolution : 2560 x 1440\\ndisplay siz...   \n",
       "7  Display\\nResolution : 2560 x 1600\\ndisplay siz...   \n",
       "8  Display\\nResolution : 1920 x 1080\\ndisplay siz...   \n",
       "9  Display\\ndisplay size (in inches) : 15.6\\nRefr...   \n",
       "\n",
       "                                              Memory  \\\n",
       "0  Memory\\nram included (in gb) : 64 GB\\nram type...   \n",
       "1  Memory\\nram included (in gb) : 32 GB\\nram type...   \n",
       "2  Memory\\nram included (in gb) : 32 GB\\nram type...   \n",
       "3  Memory\\nram included (in gb) : 8 GB\\nram type ...   \n",
       "4  Memory\\nram included (in gb) : 16 GB\\nram type...   \n",
       "5  Memory\\nram included (in gb) : 16 GB\\nram type...   \n",
       "6  Memory\\nram included (in gb) : 16 GB\\nram type...   \n",
       "7  Memory\\nram included (in gb) : 16 GB\\nram type...   \n",
       "8  Memory\\nram included (in gb) : 16 GB\\nram type...   \n",
       "9  Memory\\nram included (in gb) : 16 GB\\nram type...   \n",
       "\n",
       "                              Physical_specification  \\\n",
       "0  Physical Specifications\\nlaptop weight (in kgs...   \n",
       "1  Physical Specifications\\nlaptop weight (in kgs...   \n",
       "2  Physical Specifications\\nlaptop weight (in kgs...   \n",
       "3  Physical Specifications\\nlaptop weight (in kgs...   \n",
       "4  Physical Specifications\\nlaptop weight (in kgs...   \n",
       "5  Physical Specifications\\nlaptop weight (in kgs...   \n",
       "6  Physical Specifications\\nlaptop weight (in kgs...   \n",
       "7  Physical Specifications\\nlaptop weight (in kgs...   \n",
       "8  Physical Specifications\\nlaptop weight (in kgs...   \n",
       "9  Physical Specifications\\nlaptop weight (in kgs...   \n",
       "\n",
       "                                           Processor  \\\n",
       "0  Processor\\nprocessor model name : 12th Gen Int...   \n",
       "1  Processor\\nprocessor model name : 12th Gen Int...   \n",
       "2  Processor\\nprocessor model name : 12th Gen Int...   \n",
       "3  Processor\\nprocessor model name : 12th Gen Int...   \n",
       "4  Processor\\nprocessor model name : AMD Ryzen 9-...   \n",
       "5  Processor\\nprocessor model name : AMD 5th Gen ...   \n",
       "6  Processor\\nprocessor model name : AMD Ryzen™ 9...   \n",
       "7  Processor\\nprocessor model name : 12th Gen Int...   \n",
       "8  Processor\\nprocessor model name : AMD Ryzen R7...   \n",
       "9  Processor\\nprocessor model name : Lenovo Ryzen...   \n",
       "\n",
       "                                             Storage  \\\n",
       "0  Storage\\nStorage drive type : SSD\\nStorage dri...   \n",
       "1  Storage\\nStorage drive type : SSD\\nStorage dri...   \n",
       "2  Storage\\nStorage drive type : SSD\\nStorage dri...   \n",
       "3  Storage\\nStorage drive type : SSD\\nStorage dri...   \n",
       "4  Storage\\nStorage drive type : SSD\\nStorage dri...   \n",
       "5  Storage\\nStorage drive type : SSD\\nStorage dri...   \n",
       "6  Storage\\nStorage drive type : NVMe\\nStorage dr...   \n",
       "7  Storage\\nStorage drive type : SSD\\nStorage dri...   \n",
       "8  Storage\\nStorage drive type : SSD\\nStorage dri...   \n",
       "9  Storage\\nStorage drive type : SSD\\nStorage dri...   \n",
       "\n",
       "                                               Power  \\\n",
       "0  Power\\nbattery type : 4 Cell\\npower supply : 9...   \n",
       "1  Power\\nbattery type : 6 Cell, 87 Wh\\npower sup...   \n",
       "2  Power\\nbattery type : 4-cell 99.98 Wh Li-ion b...   \n",
       "3  Power\\nbattery type : 6 Cell\\npower supply : 83 W   \n",
       "4   Power\\nbattery type : 4 Cell 57.5 Wh Lithium Ion   \n",
       "5                         Power\\npower supply : 82 W   \n",
       "6  Power\\nbattery backup (in hours) : 8 Hours\\npo...   \n",
       "7  Power\\nbattery backup (in hours) : 4 Hours\\nba...   \n",
       "8  Power\\nbattery type : 86 Wh, integrated\\npower...   \n",
       "9                                              Power   \n",
       "\n",
       "                                         Description  \\\n",
       "0  MSI Titan GT77 12UHS 12th Gen Core i9-12900HX ...   \n",
       "1  Dell Alienware x17 R2 12th Gen Core i9-12900HK...   \n",
       "2  Acer Predator Triton 500 SE 12th Gen Core i7-1...   \n",
       "3  HP OMEN 16-B1371TX 12th Gen core i7-12700H (20...   \n",
       "4  Acer Nitro 5 AN515-45 NH.QBRSI.007 Ryzen 9-590...   \n",
       "5  MSI Delta 15 5th Gen Ryzen 9-5900HX (2022) is ...   \n",
       "6  HP Omen 16-C0141AX Ryzen 9 5900HX (2022) is a ...   \n",
       "7  Lenovo Legion 5i Pro 82RF00MGIN 12th Gen Core ...   \n",
       "8  Dell DELL ALIENWARE M15 R5 GAMING Ryzen R7-580...   \n",
       "9  Lenovo Legion S7 Ryzen 7-5800H (2022) is a sty...   \n",
       "\n",
       "                                   Alternate_options  \n",
       "0  Power\\nbattery type : 4 Cell\\npower supply : 9...  \n",
       "1  Power\\nbattery type : 6 Cell, 87 Wh\\npower sup...  \n",
       "2  Power\\nbattery type : 4-cell 99.98 Wh Li-ion b...  \n",
       "3  Power\\nbattery type : 6 Cell\\npower supply : 83 W  \n",
       "4   Power\\nbattery type : 4 Cell 57.5 Wh Lithium Ion  \n",
       "5                         Power\\npower supply : 82 W  \n",
       "6  Power\\nbattery backup (in hours) : 8 Hours\\npo...  \n",
       "7  Power\\nbattery backup (in hours) : 4 Hours\\nba...  \n",
       "8  Power\\nbattery type : 86 Wh, integrated\\npower...  \n",
       "9                                              Power  "
      ]
     },
     "execution_count": 283,
     "metadata": {},
     "output_type": "execute_result"
    }
   ],
   "source": [
    "df"
   ]
  },
  {
   "cell_type": "markdown",
   "id": "7203d7ae",
   "metadata": {},
   "source": [
    "# 8. Write a python program to scrape the details for all billionaires from www.forbes.com. Details to be \n",
    "scrapped: “Rank”, “Name”, “Net worth”, “Age”, “Citizenship”, “Source”, “Industry”"
   ]
  },
  {
   "cell_type": "code",
   "execution_count": null,
   "id": "0eae4dc0",
   "metadata": {},
   "outputs": [],
   "source": [
    "url='https://www.forbes.com/billionaires/'\n",
    "driver.get(url)"
   ]
  },
  {
   "cell_type": "code",
   "execution_count": null,
   "id": "481f12ec",
   "metadata": {},
   "outputs": [],
   "source": [
    "Rank=[]\n",
    "try:\n",
    "    rank=driver.find_elements(By.XPATH,'//div[@class=\"rank\"]')\n",
    "    for i in rank:\n",
    "        Rank.append(i.text.replace('.','').replace(',',''))\n",
    "except WebDriverException :\n",
    "     display.append('-')\n"
   ]
  },
  {
   "cell_type": "code",
   "execution_count": null,
   "id": "19adc4e7",
   "metadata": {},
   "outputs": [
    {
     "data": {
      "text/plain": [
       "200"
      ]
     },
     "execution_count": 516,
     "metadata": {},
     "output_type": "execute_result"
    }
   ],
   "source": [
    "len(Rank)"
   ]
  },
  {
   "cell_type": "code",
   "execution_count": null,
   "id": "13ca5c3b",
   "metadata": {},
   "outputs": [],
   "source": [
    "Name=[]\n",
    "try:\n",
    "    name=driver.find_elements(By.XPATH,'//div[@class=\"personName\"]')\n",
    "    for i in name:\n",
    "        Name.append(i.text)\n",
    "except WebDriverException:\n",
    "    display.append('-')"
   ]
  },
  {
   "cell_type": "code",
   "execution_count": null,
   "id": "29166db5",
   "metadata": {},
   "outputs": [
    {
     "data": {
      "text/plain": [
       "['',\n",
       " '',\n",
       " 'Bernard Arnault & family',\n",
       " '',\n",
       " '',\n",
       " '',\n",
       " '',\n",
       " '',\n",
       " '',\n",
       " '',\n",
       " 'Gautam Adani & family',\n",
       " 'Michael Bloomberg',\n",
       " 'Carlos Slim Helu & family',\n",
       " 'Francoise Bettencourt Meyers & family',\n",
       " '',\n",
       " 'Jim Walton',\n",
       " 'Zhong Shanshan',\n",
       " 'Alice Walton',\n",
       " 'Rob Walton',\n",
       " 'Changpeng Zhao',\n",
       " 'Charles Koch',\n",
       " 'Julia Koch & family',\n",
       " 'Amancio Ortega',\n",
       " 'Michael Dell',\n",
       " 'Zhang Yiming',\n",
       " 'David Thomson & family',\n",
       " 'Phil Knight & family',\n",
       " 'Dieter Schwarz',\n",
       " 'Robin Zeng',\n",
       " 'MacKenzie Scott',\n",
       " 'Rodolphe Saadé & family',\n",
       " 'François Pinault & family',\n",
       " 'Klaus-Michael Kuehne',\n",
       " 'Ma Huateng',\n",
       " 'Beate Heister & Karl Albrecht Jr. & family',\n",
       " 'Giovanni Ferrero',\n",
       " 'Li Ka-shing',\n",
       " 'Stephen Schwarzman',\n",
       " 'Lee Shau Kee',\n",
       " 'Len Blavatnik',\n",
       " 'Jacqueline Mars',\n",
       " 'John Mars',\n",
       " 'Alain Wertheimer',\n",
       " 'Gerard Wertheimer',\n",
       " 'German Larrea Mota Velasco & family',\n",
       " 'Gina Rinehart',\n",
       " 'Shiv Nadar',\n",
       " 'Jim Simons',\n",
       " 'He Xiangjian',\n",
       " 'Miriam Adelson',\n",
       " 'Dietrich Mateschitz',\n",
       " 'Leonardo Del Vecchio & family',\n",
       " 'Ken Griffin',\n",
       " 'Tadashi Yanai & family',\n",
       " 'William Lei Ding',\n",
       " 'Susanne Klatten',\n",
       " 'Cyrus Poonawalla',\n",
       " 'Wang Wei',\n",
       " 'Qin Yinglin',\n",
       " 'Sam Bankman-Fried',\n",
       " 'Takemitsu Takizaki',\n",
       " 'Li Shufu',\n",
       " 'Emmanuel Besnier',\n",
       " 'R. Budi Hartono',\n",
       " 'Leonard Lauder',\n",
       " 'Guillaume Pousaz',\n",
       " 'Iris Fontbona & family',\n",
       " 'Jack Ma',\n",
       " 'Michael Hartono',\n",
       " 'Eric Schmidt',\n",
       " 'Ray Dalio',\n",
       " 'Daniel Gilbert',\n",
       " 'Thomas Frist, Jr. & family',\n",
       " 'Masayoshi Son',\n",
       " 'Abigail Johnson',\n",
       " 'Rupert Murdoch & family',\n",
       " 'Stefan Quandt',\n",
       " 'Jensen Huang',\n",
       " 'Huang Shilin',\n",
       " 'Thomas Peterffy',\n",
       " 'Radhakishan Damani',\n",
       " 'Pang Kang',\n",
       " 'Wang Chuanfu',\n",
       " 'Reinhold Wuerth & family',\n",
       " 'Theo Albrecht, Jr. & family',\n",
       " 'Yang Huiyan & family',\n",
       " 'Vladimir Lisin',\n",
       " 'Fan Hongwei & family',\n",
       " 'Lakshmi Mittal',\n",
       " 'Andrew Forrest',\n",
       " 'Jiang Rensheng & family',\n",
       " 'Savitri Jindal & family',\n",
       " 'Wang Wenyin',\n",
       " 'Li Xiting',\n",
       " 'Stefan Persson',\n",
       " 'Steve Cohen',\n",
       " 'Vladimir Potanin',\n",
       " 'Harold Hamm & family',\n",
       " 'Sun Piaoyang',\n",
       " 'Luo Liguo & family',\n",
       " 'Peter Woo',\n",
       " 'Gianluigi & Rafaela Aponte',\n",
       " 'David Tepper',\n",
       " 'Renata Kellnerova & family',\n",
       " 'John Menard, Jr.',\n",
       " 'Kumar Birla',\n",
       " 'Carl Icahn',\n",
       " 'Hank & Doug Meijer',\n",
       " 'Lukas Walton',\n",
       " 'Laurene Powell Jobs & family',\n",
       " 'James Ratcliffe',\n",
       " 'Donald Bren',\n",
       " 'Xu Hang',\n",
       " 'Lu Xiangyang',\n",
       " 'Dilip Shanghvi',\n",
       " 'Wei Jianjun & family',\n",
       " 'Jorge Paulo Lemann & family',\n",
       " 'Eyal Ofer',\n",
       " 'Mike Cannon-Brookes',\n",
       " 'Wu Yajun',\n",
       " 'Charlene de Carvalho-Heineken & family',\n",
       " 'Michael Platt',\n",
       " 'Pavel Durov',\n",
       " 'Scott Farquhar',\n",
       " 'Pallonji Mistry',\n",
       " 'Dang Yanbao',\n",
       " 'Robert Pera',\n",
       " 'Donald Newhouse',\n",
       " 'Uday Kotak',\n",
       " 'Aliko Dangote',\n",
       " 'Leonid Mikhelson',\n",
       " 'Sunil Mittal & family',\n",
       " 'Robert & Philip Ng',\n",
       " 'Liu Hanyuan',\n",
       " 'Joseph Lau',\n",
       " 'Anders Holch Povlsen',\n",
       " 'Dhanin Chearavanont',\n",
       " 'Gong Hongjia & family',\n",
       " 'Liu Yongxing',\n",
       " 'Alexey Mordashov',\n",
       " 'Wang Jianlin',\n",
       " 'David Duffield',\n",
       " 'Li Zhenguo & family',\n",
       " 'Harry Triguboff',\n",
       " 'Zhang Zhidong',\n",
       " 'Chen Bang',\n",
       " 'John Doerr',\n",
       " 'Hinduja brothers',\n",
       " 'Kwong Siu-hing',\n",
       " 'Pei Zhenhua',\n",
       " 'Ricardo Salinas Pliego & family',\n",
       " 'Jim Pattison',\n",
       " 'Charles Schwab',\n",
       " 'Goh Cheng Liang',\n",
       " 'Lin Jianhua & family',\n",
       " 'Charoen Sirivadhanabhakdi',\n",
       " 'Jeff Yass',\n",
       " 'John Fredriksen',\n",
       " 'Andreas Struengmann & family',\n",
       " 'Thomas Struengmann & family',\n",
       " 'Mikhail Fridman',\n",
       " 'Sarath Ratanavadi',\n",
       " 'Robert Kuok',\n",
       " 'Lei Jun',\n",
       " 'Zhang Congyuan',\n",
       " 'Lui Che Woo',\n",
       " 'Brian Chesky',\n",
       " 'Israel Englander',\n",
       " 'Dustin Moskovitz',\n",
       " 'Alisher Usmanov',\n",
       " 'Jay Chaudhry',\n",
       " 'Anthony Pratt',\n",
       " 'Colin Zheng Huang',\n",
       " 'Jin Baofang',\n",
       " 'Pierre Omidyar',\n",
       " 'Gennady Timchenko',\n",
       " 'Carl Cook',\n",
       " 'Andrey Melnichenko',\n",
       " 'Xing Wang',\n",
       " 'Philip Anschutz',\n",
       " 'David Cheriton',\n",
       " 'Alexander Otto',\n",
       " 'Diane Hendricks',\n",
       " 'Stanley Kroenke',\n",
       " 'Jerry Jones',\n",
       " 'Quek Leng Chan',\n",
       " 'Eduardo Saverin',\n",
       " 'Vagit Alekperov',\n",
       " 'Richard Liu',\n",
       " 'Idan Ofer',\n",
       " 'Melker Schorling & family',\n",
       " 'Chase Coleman, III.',\n",
       " 'Shuirong Li',\n",
       " 'Stefano Pessina',\n",
       " 'Mikhail Prokhorov',\n",
       " 'Marcel Herrmann Telles',\n",
       " 'Leon Black',\n",
       " 'Joe Gebbia',\n",
       " 'David Geffen',\n",
       " 'Yu Renrong']"
      ]
     },
     "execution_count": 545,
     "metadata": {},
     "output_type": "execute_result"
    }
   ],
   "source": [
    "Name"
   ]
  },
  {
   "cell_type": "code",
   "execution_count": null,
   "id": "287b66fc",
   "metadata": {},
   "outputs": [],
   "source": [
    "NetWorth=[]\n",
    "try:\n",
    "    net=driver.find_elements(By.XPATH,'//div[@class=\"netWorth\"]')\n",
    "    for i in net:\n",
    "        NetWorth.append(i.text)\n",
    "except WebDriverException:\n",
    "    NetWorth.append('-')"
   ]
  },
  {
   "cell_type": "code",
   "execution_count": null,
   "id": "7193a4d2",
   "metadata": {},
   "outputs": [
    {
     "data": {
      "text/plain": [
       "['$219 B',\n",
       " '$171 B',\n",
       " '$158 B',\n",
       " '$129 B',\n",
       " '$118 B',\n",
       " '$111 B',\n",
       " '$107 B',\n",
       " '$106 B',\n",
       " '$91.4 B',\n",
       " '$90.7 B',\n",
       " '$90 B',\n",
       " '$82 B',\n",
       " '$81.2 B',\n",
       " '$74.8 B',\n",
       " '$67.3 B',\n",
       " '',\n",
       " '',\n",
       " '',\n",
       " '',\n",
       " '',\n",
       " '',\n",
       " '',\n",
       " '',\n",
       " '',\n",
       " '',\n",
       " '',\n",
       " '',\n",
       " '',\n",
       " '',\n",
       " '',\n",
       " '',\n",
       " '',\n",
       " '',\n",
       " '',\n",
       " '',\n",
       " '',\n",
       " '',\n",
       " '',\n",
       " '',\n",
       " '',\n",
       " '',\n",
       " '',\n",
       " '',\n",
       " '',\n",
       " '',\n",
       " '',\n",
       " '',\n",
       " '',\n",
       " '',\n",
       " '',\n",
       " '',\n",
       " '',\n",
       " '',\n",
       " '',\n",
       " '',\n",
       " '',\n",
       " '',\n",
       " '',\n",
       " '',\n",
       " '',\n",
       " '',\n",
       " '',\n",
       " '',\n",
       " '',\n",
       " '',\n",
       " '',\n",
       " '',\n",
       " '',\n",
       " '',\n",
       " '',\n",
       " '',\n",
       " '',\n",
       " '',\n",
       " '',\n",
       " '',\n",
       " '',\n",
       " '',\n",
       " '',\n",
       " '',\n",
       " '',\n",
       " '',\n",
       " '',\n",
       " '',\n",
       " '',\n",
       " '',\n",
       " '',\n",
       " '',\n",
       " '',\n",
       " '',\n",
       " '',\n",
       " '',\n",
       " '',\n",
       " '',\n",
       " '',\n",
       " '',\n",
       " '',\n",
       " '',\n",
       " '',\n",
       " '',\n",
       " '',\n",
       " '',\n",
       " '',\n",
       " '',\n",
       " '',\n",
       " '',\n",
       " '',\n",
       " '',\n",
       " '',\n",
       " '',\n",
       " '',\n",
       " '',\n",
       " '',\n",
       " '',\n",
       " '',\n",
       " '',\n",
       " '',\n",
       " '',\n",
       " '',\n",
       " '',\n",
       " '',\n",
       " '',\n",
       " '',\n",
       " '',\n",
       " '',\n",
       " '',\n",
       " '',\n",
       " '',\n",
       " '',\n",
       " '',\n",
       " '',\n",
       " '',\n",
       " '',\n",
       " '',\n",
       " '',\n",
       " '',\n",
       " '',\n",
       " '',\n",
       " '',\n",
       " '',\n",
       " '',\n",
       " '',\n",
       " '',\n",
       " '',\n",
       " '',\n",
       " '',\n",
       " '',\n",
       " '',\n",
       " '',\n",
       " '',\n",
       " '',\n",
       " '',\n",
       " '',\n",
       " '',\n",
       " '',\n",
       " '',\n",
       " '',\n",
       " '',\n",
       " '',\n",
       " '',\n",
       " '',\n",
       " '',\n",
       " '',\n",
       " '',\n",
       " '',\n",
       " '',\n",
       " '',\n",
       " '',\n",
       " '',\n",
       " '',\n",
       " '',\n",
       " '',\n",
       " '',\n",
       " '',\n",
       " '',\n",
       " '',\n",
       " '',\n",
       " '',\n",
       " '',\n",
       " '',\n",
       " '',\n",
       " '',\n",
       " '',\n",
       " '',\n",
       " '',\n",
       " '',\n",
       " '',\n",
       " '',\n",
       " '',\n",
       " '',\n",
       " '',\n",
       " '',\n",
       " '',\n",
       " '',\n",
       " '',\n",
       " '',\n",
       " '',\n",
       " '',\n",
       " '',\n",
       " '',\n",
       " '']"
      ]
     },
     "execution_count": 534,
     "metadata": {},
     "output_type": "execute_result"
    }
   ],
   "source": [
    "NetWorth"
   ]
  },
  {
   "cell_type": "code",
   "execution_count": null,
   "id": "d033c1a9",
   "metadata": {},
   "outputs": [],
   "source": [
    "Country=[]\n",
    "try:\n",
    "    country=driver.find_elements(By.XPATH,'//div[@class=\"countryOfCitizenship\"]')\n",
    "    for i in country:\n",
    "        Country.append(i.text)\n",
    "except WebDriverException:\n",
    "        Country.append('-')"
   ]
  },
  {
   "cell_type": "code",
   "execution_count": null,
   "id": "a1e1f77a",
   "metadata": {},
   "outputs": [
    {
     "data": {
      "text/plain": [
       "['United States',\n",
       " 'United States',\n",
       " 'France',\n",
       " 'United States',\n",
       " 'United States',\n",
       " 'United States',\n",
       " 'United States',\n",
       " 'United States',\n",
       " 'United States',\n",
       " 'India',\n",
       " 'India',\n",
       " 'United States',\n",
       " 'Mexico',\n",
       " 'France',\n",
       " 'United States',\n",
       " '',\n",
       " '',\n",
       " '',\n",
       " '',\n",
       " '',\n",
       " '',\n",
       " '',\n",
       " '',\n",
       " '',\n",
       " '',\n",
       " '',\n",
       " '',\n",
       " '',\n",
       " '',\n",
       " '',\n",
       " '',\n",
       " '',\n",
       " '',\n",
       " '',\n",
       " '',\n",
       " '',\n",
       " '',\n",
       " '',\n",
       " '',\n",
       " '',\n",
       " '',\n",
       " '',\n",
       " '',\n",
       " '',\n",
       " '',\n",
       " '',\n",
       " '',\n",
       " '',\n",
       " '',\n",
       " '',\n",
       " '',\n",
       " '',\n",
       " '',\n",
       " '',\n",
       " '',\n",
       " '',\n",
       " '',\n",
       " '',\n",
       " '',\n",
       " '',\n",
       " '',\n",
       " '',\n",
       " '',\n",
       " '',\n",
       " '',\n",
       " '',\n",
       " '',\n",
       " '',\n",
       " '',\n",
       " '',\n",
       " '',\n",
       " '',\n",
       " '',\n",
       " '',\n",
       " '',\n",
       " '',\n",
       " '',\n",
       " '',\n",
       " '',\n",
       " '',\n",
       " '',\n",
       " '',\n",
       " '',\n",
       " '',\n",
       " '',\n",
       " '',\n",
       " '',\n",
       " '',\n",
       " '',\n",
       " '',\n",
       " '',\n",
       " '',\n",
       " '',\n",
       " '',\n",
       " '',\n",
       " '',\n",
       " '',\n",
       " '',\n",
       " '',\n",
       " '',\n",
       " '',\n",
       " '',\n",
       " '',\n",
       " '',\n",
       " '',\n",
       " '',\n",
       " '',\n",
       " '',\n",
       " '',\n",
       " '',\n",
       " '',\n",
       " '',\n",
       " '',\n",
       " '',\n",
       " '',\n",
       " '',\n",
       " '',\n",
       " '',\n",
       " '',\n",
       " '',\n",
       " '',\n",
       " '',\n",
       " '',\n",
       " '',\n",
       " '',\n",
       " '',\n",
       " '',\n",
       " '',\n",
       " '',\n",
       " '',\n",
       " '',\n",
       " '',\n",
       " '',\n",
       " '',\n",
       " '',\n",
       " '',\n",
       " '',\n",
       " '',\n",
       " '',\n",
       " '',\n",
       " '',\n",
       " '',\n",
       " '',\n",
       " '',\n",
       " '',\n",
       " '',\n",
       " '',\n",
       " '',\n",
       " '',\n",
       " '',\n",
       " '',\n",
       " '',\n",
       " '',\n",
       " '',\n",
       " '',\n",
       " '',\n",
       " '',\n",
       " '',\n",
       " '',\n",
       " '',\n",
       " '',\n",
       " '',\n",
       " '',\n",
       " '',\n",
       " '',\n",
       " '',\n",
       " '',\n",
       " '',\n",
       " '',\n",
       " '',\n",
       " '',\n",
       " '',\n",
       " '',\n",
       " '',\n",
       " '',\n",
       " '',\n",
       " '',\n",
       " '',\n",
       " '',\n",
       " '',\n",
       " '',\n",
       " '',\n",
       " '',\n",
       " '',\n",
       " '',\n",
       " '',\n",
       " '',\n",
       " '',\n",
       " '',\n",
       " '',\n",
       " '',\n",
       " '',\n",
       " '',\n",
       " '',\n",
       " '',\n",
       " '',\n",
       " '',\n",
       " '',\n",
       " '',\n",
       " '']"
      ]
     },
     "execution_count": 536,
     "metadata": {},
     "output_type": "execute_result"
    }
   ],
   "source": [
    "Country"
   ]
  },
  {
   "cell_type": "code",
   "execution_count": null,
   "id": "da620e91",
   "metadata": {},
   "outputs": [],
   "source": [
    "Source=[]\n",
    "try:\n",
    "    source=driver.find_elements(By.XPATH,'//div[@class=\"source\"]')\n",
    "    for i in source:\n",
    "        Source.append(i.text)\n",
    "except WebDriverException:\n",
    "        Source.append('-')\n"
   ]
  },
  {
   "cell_type": "code",
   "execution_count": null,
   "id": "e20cf689",
   "metadata": {},
   "outputs": [
    {
     "data": {
      "text/plain": [
       "['Tesla, SpaceX',\n",
       " 'Amazon',\n",
       " 'LVMH',\n",
       " 'Microsoft',\n",
       " 'Berkshire Hathaway',\n",
       " 'Google',\n",
       " 'Google',\n",
       " 'software',\n",
       " 'Microsoft',\n",
       " 'diversified',\n",
       " 'infrastructure, commodities',\n",
       " 'Bloomberg LP',\n",
       " 'telecom',\n",
       " \"L'Oréal\",\n",
       " 'Facebook',\n",
       " '',\n",
       " '',\n",
       " '',\n",
       " '',\n",
       " '',\n",
       " '',\n",
       " '',\n",
       " '',\n",
       " '',\n",
       " '',\n",
       " '',\n",
       " '',\n",
       " '',\n",
       " '',\n",
       " '',\n",
       " '',\n",
       " '',\n",
       " '',\n",
       " '',\n",
       " '',\n",
       " '',\n",
       " '',\n",
       " '',\n",
       " '',\n",
       " '',\n",
       " '',\n",
       " '',\n",
       " '',\n",
       " '',\n",
       " '',\n",
       " '',\n",
       " '',\n",
       " '',\n",
       " '',\n",
       " '',\n",
       " '',\n",
       " '',\n",
       " '',\n",
       " '',\n",
       " '',\n",
       " '',\n",
       " '',\n",
       " '',\n",
       " '',\n",
       " '',\n",
       " '',\n",
       " '',\n",
       " '',\n",
       " '',\n",
       " '',\n",
       " '',\n",
       " '',\n",
       " '',\n",
       " '',\n",
       " '',\n",
       " '',\n",
       " '',\n",
       " '',\n",
       " '',\n",
       " '',\n",
       " '',\n",
       " '',\n",
       " '',\n",
       " '',\n",
       " '',\n",
       " '',\n",
       " '',\n",
       " '',\n",
       " '',\n",
       " '',\n",
       " '',\n",
       " '',\n",
       " '',\n",
       " '',\n",
       " '',\n",
       " '',\n",
       " '',\n",
       " '',\n",
       " '',\n",
       " '',\n",
       " '',\n",
       " '',\n",
       " '',\n",
       " '',\n",
       " '',\n",
       " '',\n",
       " '',\n",
       " '',\n",
       " '',\n",
       " '',\n",
       " '',\n",
       " '',\n",
       " '',\n",
       " '',\n",
       " '',\n",
       " '',\n",
       " '',\n",
       " '',\n",
       " '',\n",
       " '',\n",
       " '',\n",
       " '',\n",
       " '',\n",
       " '',\n",
       " '',\n",
       " '',\n",
       " '',\n",
       " '',\n",
       " '',\n",
       " '',\n",
       " '',\n",
       " '',\n",
       " '',\n",
       " '',\n",
       " '',\n",
       " '',\n",
       " '',\n",
       " '',\n",
       " '',\n",
       " '',\n",
       " '',\n",
       " '',\n",
       " '',\n",
       " '',\n",
       " '',\n",
       " '',\n",
       " '',\n",
       " '',\n",
       " '',\n",
       " '',\n",
       " '',\n",
       " '',\n",
       " '',\n",
       " '',\n",
       " '',\n",
       " '',\n",
       " '',\n",
       " '',\n",
       " '',\n",
       " '',\n",
       " '',\n",
       " '',\n",
       " '',\n",
       " '',\n",
       " '',\n",
       " '',\n",
       " '',\n",
       " '',\n",
       " '',\n",
       " '',\n",
       " '',\n",
       " '',\n",
       " '',\n",
       " '',\n",
       " '',\n",
       " '',\n",
       " '',\n",
       " '',\n",
       " '',\n",
       " '',\n",
       " '',\n",
       " '',\n",
       " '',\n",
       " '',\n",
       " '',\n",
       " '',\n",
       " '',\n",
       " '',\n",
       " '',\n",
       " '',\n",
       " '',\n",
       " '',\n",
       " '',\n",
       " '',\n",
       " '',\n",
       " '',\n",
       " '',\n",
       " '',\n",
       " '',\n",
       " '',\n",
       " '',\n",
       " '',\n",
       " '',\n",
       " '',\n",
       " '']"
      ]
     },
     "execution_count": 539,
     "metadata": {},
     "output_type": "execute_result"
    }
   ],
   "source": [
    "Source"
   ]
  },
  {
   "cell_type": "code",
   "execution_count": null,
   "id": "73248348",
   "metadata": {},
   "outputs": [],
   "source": [
    "df=pd.DataFrame({'Name':Name,'NetWorth':NetWorth,'Country':Country,'Source':Source})"
   ]
  },
  {
   "cell_type": "code",
   "execution_count": null,
   "id": "2ddadedc",
   "metadata": {},
   "outputs": [
    {
     "data": {
      "text/html": [
       "<div>\n",
       "<style scoped>\n",
       "    .dataframe tbody tr th:only-of-type {\n",
       "        vertical-align: middle;\n",
       "    }\n",
       "\n",
       "    .dataframe tbody tr th {\n",
       "        vertical-align: top;\n",
       "    }\n",
       "\n",
       "    .dataframe thead th {\n",
       "        text-align: right;\n",
       "    }\n",
       "</style>\n",
       "<table border=\"1\" class=\"dataframe\">\n",
       "  <thead>\n",
       "    <tr style=\"text-align: right;\">\n",
       "      <th></th>\n",
       "      <th>Name</th>\n",
       "      <th>NetWorth</th>\n",
       "      <th>Country</th>\n",
       "      <th>Source</th>\n",
       "    </tr>\n",
       "  </thead>\n",
       "  <tbody>\n",
       "    <tr>\n",
       "      <th>0</th>\n",
       "      <td></td>\n",
       "      <td>$219 B</td>\n",
       "      <td>United States</td>\n",
       "      <td>Tesla, SpaceX</td>\n",
       "    </tr>\n",
       "    <tr>\n",
       "      <th>1</th>\n",
       "      <td></td>\n",
       "      <td>$171 B</td>\n",
       "      <td>United States</td>\n",
       "      <td>Amazon</td>\n",
       "    </tr>\n",
       "    <tr>\n",
       "      <th>2</th>\n",
       "      <td>Bernard Arnault &amp; family</td>\n",
       "      <td>$158 B</td>\n",
       "      <td>France</td>\n",
       "      <td>LVMH</td>\n",
       "    </tr>\n",
       "    <tr>\n",
       "      <th>3</th>\n",
       "      <td></td>\n",
       "      <td>$129 B</td>\n",
       "      <td>United States</td>\n",
       "      <td>Microsoft</td>\n",
       "    </tr>\n",
       "    <tr>\n",
       "      <th>4</th>\n",
       "      <td></td>\n",
       "      <td>$118 B</td>\n",
       "      <td>United States</td>\n",
       "      <td>Berkshire Hathaway</td>\n",
       "    </tr>\n",
       "    <tr>\n",
       "      <th>...</th>\n",
       "      <td>...</td>\n",
       "      <td>...</td>\n",
       "      <td>...</td>\n",
       "      <td>...</td>\n",
       "    </tr>\n",
       "    <tr>\n",
       "      <th>195</th>\n",
       "      <td>Marcel Herrmann Telles</td>\n",
       "      <td></td>\n",
       "      <td></td>\n",
       "      <td></td>\n",
       "    </tr>\n",
       "    <tr>\n",
       "      <th>196</th>\n",
       "      <td>Leon Black</td>\n",
       "      <td></td>\n",
       "      <td></td>\n",
       "      <td></td>\n",
       "    </tr>\n",
       "    <tr>\n",
       "      <th>197</th>\n",
       "      <td>Joe Gebbia</td>\n",
       "      <td></td>\n",
       "      <td></td>\n",
       "      <td></td>\n",
       "    </tr>\n",
       "    <tr>\n",
       "      <th>198</th>\n",
       "      <td>David Geffen</td>\n",
       "      <td></td>\n",
       "      <td></td>\n",
       "      <td></td>\n",
       "    </tr>\n",
       "    <tr>\n",
       "      <th>199</th>\n",
       "      <td>Yu Renrong</td>\n",
       "      <td></td>\n",
       "      <td></td>\n",
       "      <td></td>\n",
       "    </tr>\n",
       "  </tbody>\n",
       "</table>\n",
       "<p>200 rows × 4 columns</p>\n",
       "</div>"
      ],
      "text/plain": [
       "                         Name NetWorth        Country              Source\n",
       "0                               $219 B  United States       Tesla, SpaceX\n",
       "1                               $171 B  United States              Amazon\n",
       "2    Bernard Arnault & family   $158 B         France                LVMH\n",
       "3                               $129 B  United States           Microsoft\n",
       "4                               $118 B  United States  Berkshire Hathaway\n",
       "..                        ...      ...            ...                 ...\n",
       "195    Marcel Herrmann Telles                                            \n",
       "196                Leon Black                                            \n",
       "197                Joe Gebbia                                            \n",
       "198              David Geffen                                            \n",
       "199                Yu Renrong                                            \n",
       "\n",
       "[200 rows x 4 columns]"
      ]
     },
     "execution_count": 547,
     "metadata": {},
     "output_type": "execute_result"
    }
   ],
   "source": [
    "df"
   ]
  },
  {
   "cell_type": "code",
   "execution_count": null,
   "id": "1f3d18f5",
   "metadata": {},
   "outputs": [],
   "source": []
  },
  {
   "cell_type": "markdown",
   "id": "3a1fa0a5",
   "metadata": {},
   "source": [
    "# 9. Write a program to extract at least 500 Comments, Comment upvote and time when comment was posted \n",
    "from any YouTube Video."
   ]
  },
  {
   "cell_type": "code",
   "execution_count": null,
   "id": "ca4f6e27",
   "metadata": {},
   "outputs": [],
   "source": [
    "url='https://www.youtube.com/watch?v=3jS_yEK8qVI'\n",
    "driver.get(url)"
   ]
  },
  {
   "cell_type": "code",
   "execution_count": null,
   "id": "d3a922a1",
   "metadata": {},
   "outputs": [],
   "source": [
    "Comments=[]\n",
    "sleep=10\n",
    "try:\n",
    "    comm=driver.find_elements(By.CLASS_NAME,\"style-scope ytd-expander\")\n",
    "    for i in comm:\n",
    "        Comments.append(i.text)\n",
    "except WebDriverException:\n",
    "        Country.append('-')\n",
    "                        "
   ]
  },
  {
   "cell_type": "code",
   "execution_count": null,
   "id": "02fb0095",
   "metadata": {},
   "outputs": [
    {
     "data": {
      "text/plain": [
       "517"
      ]
     },
     "execution_count": 650,
     "metadata": {},
     "output_type": "execute_result"
    }
   ],
   "source": [
    "len(Comments)"
   ]
  },
  {
   "cell_type": "code",
   "execution_count": null,
   "id": "1211e5b4",
   "metadata": {},
   "outputs": [],
   "source": [
    "COMMENTS=Comments[0:501]"
   ]
  },
  {
   "cell_type": "code",
   "execution_count": null,
   "id": "1ce160b4",
   "metadata": {},
   "outputs": [],
   "source": [
    "LIKES=[]\n",
    "try:\n",
    "    likes=driver.find_elements(By.XPATH,'//*[@id=\"vote-count-middle\"]')\n",
    "    for i in likes:\n",
    "        LIKES.append(i.text)\n",
    "except WebDriverException:\n",
    "        LIKES.append('-')\n"
   ]
  },
  {
   "cell_type": "code",
   "execution_count": null,
   "id": "cbdff18c",
   "metadata": {},
   "outputs": [
    {
     "data": {
      "text/plain": [
       "['',\n",
       " '',\n",
       " '',\n",
       " '',\n",
       " '',\n",
       " '',\n",
       " '',\n",
       " '',\n",
       " '',\n",
       " '',\n",
       " '',\n",
       " '',\n",
       " '',\n",
       " '',\n",
       " '',\n",
       " '',\n",
       " '',\n",
       " '',\n",
       " '',\n",
       " '',\n",
       " '',\n",
       " '',\n",
       " '',\n",
       " '',\n",
       " '',\n",
       " '',\n",
       " '',\n",
       " '',\n",
       " '',\n",
       " '',\n",
       " '',\n",
       " '',\n",
       " '',\n",
       " '',\n",
       " '',\n",
       " '',\n",
       " '',\n",
       " '',\n",
       " '',\n",
       " '',\n",
       " '26K',\n",
       " '84K',\n",
       " '4.5K',\n",
       " '704',\n",
       " '7',\n",
       " '638',\n",
       " '95',\n",
       " '70',\n",
       " '42',\n",
       " '246',\n",
       " '2',\n",
       " '25',\n",
       " '5',\n",
       " '104',\n",
       " '20',\n",
       " '2',\n",
       " '3.2K',\n",
       " '557',\n",
       " '233',\n",
       " '2',\n",
       " '622',\n",
       " '4',\n",
       " '888',\n",
       " '70',\n",
       " '375',\n",
       " '1',\n",
       " '2',\n",
       " '2',\n",
       " '77',\n",
       " '',\n",
       " '21',\n",
       " '',\n",
       " '736',\n",
       " '1',\n",
       " '',\n",
       " '1.7K',\n",
       " '4',\n",
       " '',\n",
       " '',\n",
       " '5.1K',\n",
       " '',\n",
       " '44',\n",
       " '',\n",
       " '540',\n",
       " '35',\n",
       " '',\n",
       " '2',\n",
       " '7',\n",
       " '',\n",
       " '47',\n",
       " '1',\n",
       " '1.3K',\n",
       " '3',\n",
       " '',\n",
       " '33',\n",
       " '',\n",
       " '550',\n",
       " '49',\n",
       " '7',\n",
       " '1',\n",
       " '5',\n",
       " '',\n",
       " '1.5K',\n",
       " '21',\n",
       " '',\n",
       " '',\n",
       " '18',\n",
       " '6',\n",
       " '1',\n",
       " '6',\n",
       " '',\n",
       " '2',\n",
       " '1',\n",
       " '',\n",
       " '3',\n",
       " '1',\n",
       " '4K',\n",
       " '2',\n",
       " '1',\n",
       " '4',\n",
       " '1',\n",
       " '619',\n",
       " '2',\n",
       " '3',\n",
       " '',\n",
       " '5',\n",
       " '2',\n",
       " '1.2K',\n",
       " '1',\n",
       " '9',\n",
       " '1',\n",
       " '1',\n",
       " '',\n",
       " '765',\n",
       " '13',\n",
       " '1',\n",
       " '',\n",
       " '1',\n",
       " '',\n",
       " '444',\n",
       " '3',\n",
       " '1',\n",
       " '2',\n",
       " '3',\n",
       " '2',\n",
       " '2',\n",
       " '1',\n",
       " '',\n",
       " '1',\n",
       " '',\n",
       " '1',\n",
       " '',\n",
       " '735',\n",
       " '2',\n",
       " '',\n",
       " '1',\n",
       " '765',\n",
       " '2',\n",
       " '6',\n",
       " '1',\n",
       " '1',\n",
       " '1',\n",
       " '',\n",
       " '10',\n",
       " '1',\n",
       " '459',\n",
       " '65',\n",
       " '2',\n",
       " '',\n",
       " '1',\n",
       " '1',\n",
       " '',\n",
       " '2',\n",
       " '',\n",
       " '2',\n",
       " '1',\n",
       " '',\n",
       " '2',\n",
       " '',\n",
       " '2',\n",
       " '',\n",
       " '',\n",
       " '273',\n",
       " '',\n",
       " '',\n",
       " '',\n",
       " '346',\n",
       " '',\n",
       " '1',\n",
       " '',\n",
       " '5',\n",
       " '',\n",
       " '209',\n",
       " '2',\n",
       " '6',\n",
       " '',\n",
       " '1',\n",
       " '1',\n",
       " '140',\n",
       " '',\n",
       " '',\n",
       " '',\n",
       " '',\n",
       " '155',\n",
       " '',\n",
       " '2.8K',\n",
       " '59',\n",
       " '49K',\n",
       " '20',\n",
       " '17',\n",
       " '2',\n",
       " '1.3K',\n",
       " '1K',\n",
       " '529',\n",
       " '886',\n",
       " '537',\n",
       " '432',\n",
       " '1',\n",
       " '5',\n",
       " '38',\n",
       " '7',\n",
       " '3',\n",
       " '1.5K',\n",
       " '3',\n",
       " '5',\n",
       " '24',\n",
       " '3',\n",
       " '1',\n",
       " '1',\n",
       " '1',\n",
       " '4',\n",
       " '3',\n",
       " '8',\n",
       " '2',\n",
       " '',\n",
       " '',\n",
       " '713',\n",
       " '664',\n",
       " '3',\n",
       " '3',\n",
       " '',\n",
       " '',\n",
       " '26',\n",
       " '',\n",
       " '969',\n",
       " '1',\n",
       " '3',\n",
       " '',\n",
       " '1',\n",
       " '1',\n",
       " '1.8K',\n",
       " '95',\n",
       " '6',\n",
       " '1',\n",
       " '',\n",
       " '1',\n",
       " '2.1K',\n",
       " '',\n",
       " '',\n",
       " '',\n",
       " '',\n",
       " '',\n",
       " '580',\n",
       " '',\n",
       " '',\n",
       " '1',\n",
       " '1',\n",
       " '',\n",
       " '5.7K',\n",
       " '1',\n",
       " '',\n",
       " '',\n",
       " '',\n",
       " '',\n",
       " '323',\n",
       " '',\n",
       " '',\n",
       " '1',\n",
       " '',\n",
       " '',\n",
       " '620',\n",
       " '',\n",
       " '',\n",
       " '2',\n",
       " '',\n",
       " '',\n",
       " '1K',\n",
       " '5',\n",
       " '2',\n",
       " '',\n",
       " '1',\n",
       " '',\n",
       " '105',\n",
       " '2',\n",
       " '5',\n",
       " '',\n",
       " '',\n",
       " '434',\n",
       " '',\n",
       " '',\n",
       " '',\n",
       " '6',\n",
       " '',\n",
       " '144',\n",
       " '',\n",
       " '',\n",
       " '',\n",
       " '',\n",
       " '',\n",
       " '228',\n",
       " '',\n",
       " '2',\n",
       " '',\n",
       " '',\n",
       " '',\n",
       " '3.2K',\n",
       " '',\n",
       " '',\n",
       " '',\n",
       " '1',\n",
       " '',\n",
       " '367',\n",
       " '',\n",
       " '',\n",
       " '',\n",
       " '1',\n",
       " '',\n",
       " '866',\n",
       " '',\n",
       " '',\n",
       " '',\n",
       " '',\n",
       " '563',\n",
       " '',\n",
       " '',\n",
       " '',\n",
       " '',\n",
       " '182',\n",
       " '',\n",
       " '',\n",
       " '',\n",
       " '',\n",
       " '',\n",
       " '246',\n",
       " '',\n",
       " '1',\n",
       " '',\n",
       " '1',\n",
       " '',\n",
       " '200',\n",
       " '',\n",
       " '4',\n",
       " '',\n",
       " '1',\n",
       " '',\n",
       " '132',\n",
       " '',\n",
       " '',\n",
       " '',\n",
       " '1',\n",
       " '',\n",
       " '235',\n",
       " '',\n",
       " '',\n",
       " '',\n",
       " '',\n",
       " '1',\n",
       " '1K',\n",
       " '',\n",
       " '',\n",
       " '',\n",
       " '2',\n",
       " '1',\n",
       " '108',\n",
       " '1',\n",
       " '17',\n",
       " '',\n",
       " '81',\n",
       " '',\n",
       " '2.9K',\n",
       " '1',\n",
       " '',\n",
       " '',\n",
       " '',\n",
       " '',\n",
       " '2.1K',\n",
       " '1',\n",
       " '',\n",
       " '',\n",
       " '',\n",
       " '',\n",
       " '22',\n",
       " '1',\n",
       " '',\n",
       " '2',\n",
       " '',\n",
       " '76',\n",
       " '1',\n",
       " '',\n",
       " '',\n",
       " '',\n",
       " '453',\n",
       " '',\n",
       " '',\n",
       " '',\n",
       " '',\n",
       " '',\n",
       " '1.3K',\n",
       " '',\n",
       " '',\n",
       " '',\n",
       " '',\n",
       " '',\n",
       " '42',\n",
       " '1',\n",
       " '',\n",
       " '',\n",
       " '',\n",
       " '313',\n",
       " '1',\n",
       " '',\n",
       " '',\n",
       " '3',\n",
       " '',\n",
       " '38',\n",
       " '',\n",
       " '',\n",
       " '',\n",
       " '11',\n",
       " '855',\n",
       " '',\n",
       " '',\n",
       " '1',\n",
       " '',\n",
       " '',\n",
       " '57',\n",
       " '1',\n",
       " '',\n",
       " '',\n",
       " '',\n",
       " '',\n",
       " '3K',\n",
       " '',\n",
       " '1',\n",
       " '',\n",
       " '',\n",
       " '',\n",
       " '658',\n",
       " '',\n",
       " '',\n",
       " '',\n",
       " '',\n",
       " '',\n",
       " '52',\n",
       " '',\n",
       " '',\n",
       " '',\n",
       " '',\n",
       " '',\n",
       " '3.2K',\n",
       " '',\n",
       " '',\n",
       " '1',\n",
       " '',\n",
       " '1',\n",
       " '139',\n",
       " '',\n",
       " '',\n",
       " '',\n",
       " '',\n",
       " '',\n",
       " '39',\n",
       " '',\n",
       " '',\n",
       " '',\n",
       " '1',\n",
       " '',\n",
       " '374',\n",
       " '',\n",
       " '',\n",
       " '',\n",
       " '10',\n",
       " '',\n",
       " '555',\n",
       " '',\n",
       " '',\n",
       " '',\n",
       " '',\n",
       " '',\n",
       " '29',\n",
       " '',\n",
       " '',\n",
       " '',\n",
       " '1',\n",
       " '',\n",
       " '107',\n",
       " '',\n",
       " '',\n",
       " '',\n",
       " '',\n",
       " '',\n",
       " '138',\n",
       " '',\n",
       " '',\n",
       " '',\n",
       " '',\n",
       " '',\n",
       " '369',\n",
       " '',\n",
       " '',\n",
       " '1',\n",
       " '',\n",
       " '',\n",
       " '1.3K',\n",
       " '1']"
      ]
     },
     "execution_count": 662,
     "metadata": {},
     "output_type": "execute_result"
    }
   ],
   "source": [
    "LIKES"
   ]
  },
  {
   "cell_type": "code",
   "execution_count": null,
   "id": "b4750717",
   "metadata": {},
   "outputs": [],
   "source": [
    "Likes=LIKES[0:501]"
   ]
  },
  {
   "cell_type": "code",
   "execution_count": null,
   "id": "0177235f",
   "metadata": {},
   "outputs": [],
   "source": [
    "Time_Posted=[]\n",
    "try:\n",
    "    time=driver.find_elements(By.XPATH,'//a[@class=\"yt-simple-endpoint style-scope yt-formatted-string\"]')\n",
    "    for i in time:\n",
    "        Time_Posted.append(i.text)\n",
    "except WebDriverException:\n",
    "        LIKES.append('-')\n",
    "        \n",
    "\n",
    "\n",
    "        "
   ]
  },
  {
   "cell_type": "code",
   "execution_count": null,
   "id": "4b216efe",
   "metadata": {},
   "outputs": [
    {
     "data": {
      "text/plain": [
       "532"
      ]
     },
     "execution_count": 656,
     "metadata": {},
     "output_type": "execute_result"
    }
   ],
   "source": [
    "len(Time_Posted)"
   ]
  },
  {
   "cell_type": "code",
   "execution_count": null,
   "id": "dbabefae",
   "metadata": {},
   "outputs": [],
   "source": [
    "TIME_POSTED=Time_Posted[0:501]\n"
   ]
  },
  {
   "cell_type": "code",
   "execution_count": null,
   "id": "dcf8ec81",
   "metadata": {},
   "outputs": [],
   "source": [
    "df=pd.DataFrame({'Youtube_Comments':COMMENTS,'Youtube_LIKES':Likes,'Time_Posted':TIME_POSTED})"
   ]
  },
  {
   "cell_type": "code",
   "execution_count": null,
   "id": "24cc5e57",
   "metadata": {},
   "outputs": [
    {
     "data": {
      "text/html": [
       "<div>\n",
       "<style scoped>\n",
       "    .dataframe tbody tr th:only-of-type {\n",
       "        vertical-align: middle;\n",
       "    }\n",
       "\n",
       "    .dataframe tbody tr th {\n",
       "        vertical-align: top;\n",
       "    }\n",
       "\n",
       "    .dataframe thead th {\n",
       "        text-align: right;\n",
       "    }\n",
       "</style>\n",
       "<table border=\"1\" class=\"dataframe\">\n",
       "  <thead>\n",
       "    <tr style=\"text-align: right;\">\n",
       "      <th></th>\n",
       "      <th>Youtube_Comments</th>\n",
       "      <th>Youtube_LIKES</th>\n",
       "      <th>Time_Posted</th>\n",
       "    </tr>\n",
       "  </thead>\n",
       "  <tbody>\n",
       "    <tr>\n",
       "      <th>0</th>\n",
       "      <td></td>\n",
       "      <td></td>\n",
       "      <td>feastables.com</td>\n",
       "    </tr>\n",
       "    <tr>\n",
       "      <th>1</th>\n",
       "      <td></td>\n",
       "      <td></td>\n",
       "      <td>MrBeast</td>\n",
       "    </tr>\n",
       "    <tr>\n",
       "      <th>2</th>\n",
       "      <td></td>\n",
       "      <td></td>\n",
       "      <td></td>\n",
       "    </tr>\n",
       "    <tr>\n",
       "      <th>3</th>\n",
       "      <td></td>\n",
       "      <td></td>\n",
       "      <td></td>\n",
       "    </tr>\n",
       "    <tr>\n",
       "      <th>4</th>\n",
       "      <td></td>\n",
       "      <td></td>\n",
       "      <td></td>\n",
       "    </tr>\n",
       "    <tr>\n",
       "      <th>...</th>\n",
       "      <td>...</td>\n",
       "      <td>...</td>\n",
       "      <td>...</td>\n",
       "    </tr>\n",
       "    <tr>\n",
       "      <th>496</th>\n",
       "      <td>MR BEAST explain how you literally almost kill...</td>\n",
       "      <td></td>\n",
       "      <td>1 day ago</td>\n",
       "    </tr>\n",
       "    <tr>\n",
       "      <th>497</th>\n",
       "      <td>The effort to build this gigantic scape room, ...</td>\n",
       "      <td></td>\n",
       "      <td>1 month ago</td>\n",
       "    </tr>\n",
       "    <tr>\n",
       "      <th>498</th>\n",
       "      <td>Estos programas son exelentesimtructibos y gen...</td>\n",
       "      <td></td>\n",
       "      <td>13 days ago</td>\n",
       "    </tr>\n",
       "    <tr>\n",
       "      <th>499</th>\n",
       "      <td>That was DOPE!!!</td>\n",
       "      <td></td>\n",
       "      <td>5 months ago</td>\n",
       "    </tr>\n",
       "    <tr>\n",
       "      <th>500</th>\n",
       "      <td>QUIERO UN PREMIO POR MI FIDELIDAAAAAAAAAAAAAAD...</td>\n",
       "      <td></td>\n",
       "      <td>2 weeks ago</td>\n",
       "    </tr>\n",
       "  </tbody>\n",
       "</table>\n",
       "<p>501 rows × 3 columns</p>\n",
       "</div>"
      ],
      "text/plain": [
       "                                      Youtube_Comments Youtube_LIKES  \\\n",
       "0                                                                      \n",
       "1                                                                      \n",
       "2                                                                      \n",
       "3                                                                      \n",
       "4                                                                      \n",
       "..                                                 ...           ...   \n",
       "496  MR BEAST explain how you literally almost kill...                 \n",
       "497  The effort to build this gigantic scape room, ...                 \n",
       "498  Estos programas son exelentesimtructibos y gen...                 \n",
       "499                                   That was DOPE!!!                 \n",
       "500  QUIERO UN PREMIO POR MI FIDELIDAAAAAAAAAAAAAAD...                 \n",
       "\n",
       "        Time_Posted  \n",
       "0    feastables.com  \n",
       "1           MrBeast  \n",
       "2                    \n",
       "3                    \n",
       "4                    \n",
       "..              ...  \n",
       "496       1 day ago  \n",
       "497     1 month ago  \n",
       "498     13 days ago  \n",
       "499    5 months ago  \n",
       "500     2 weeks ago  \n",
       "\n",
       "[501 rows x 3 columns]"
      ]
     },
     "execution_count": 661,
     "metadata": {},
     "output_type": "execute_result"
    }
   ],
   "source": [
    "df"
   ]
  },
  {
   "cell_type": "code",
   "execution_count": null,
   "id": "8db87c2e",
   "metadata": {},
   "outputs": [],
   "source": [
    "df.to_csv('Youtue webscrap.csv',index=True)"
   ]
  },
  {
   "cell_type": "markdown",
   "id": "ea40d38c",
   "metadata": {},
   "source": [
    "# 10. Write a python program to scrape a data for all available Hostels from https://www.hostelworld.com/ in \n",
    "“London” location. You have to scrape hostel name, distance from city centre, ratings, total reviews, \n",
    "overall reviews, privates from price, dorms from price, facilities and property description"
   ]
  },
  {
   "cell_type": "code",
   "execution_count": 60,
   "id": "a1feb5a2",
   "metadata": {},
   "outputs": [],
   "source": [
    "url='https://www.hostelworld.com/'\n",
    "driver.get(url)"
   ]
  },
  {
   "cell_type": "code",
   "execution_count": 62,
   "id": "40f6dffc",
   "metadata": {},
   "outputs": [],
   "source": [
    "search=driver.find_element(By.XPATH,'/html/body/div/div/div/div[1]/div[1]/div/div/div[4]/div/div[2]/div/div[1]/div/input')"
   ]
  },
  {
   "cell_type": "code",
   "execution_count": 64,
   "id": "5e4f8863",
   "metadata": {},
   "outputs": [],
   "source": [
    "search.send_keys('London')"
   ]
  },
  {
   "cell_type": "code",
   "execution_count": 54,
   "id": "56b1f85c",
   "metadata": {},
   "outputs": [
    {
     "ename": "NoSuchElementException",
     "evalue": "Message: no such element: Unable to locate element: {\"method\":\"xpath\",\"selector\":\"/html/body/div[3]/div/div/div[1]/div[1]/div/div/div[4]/div/div[2]/div/div[1]/div/div/ul/li[2]/div\"}\n  (Session info: chrome=103.0.5060.134)\nStacktrace:\nBacktrace:\n\tOrdinal0 [0x00916463+2188387]\n\tOrdinal0 [0x008AE461+1762401]\n\tOrdinal0 [0x007C3D78+802168]\n\tOrdinal0 [0x007F1880+989312]\n\tOrdinal0 [0x007F1B1B+989979]\n\tOrdinal0 [0x0081E912+1173778]\n\tOrdinal0 [0x0080C824+1099812]\n\tOrdinal0 [0x0081CC22+1166370]\n\tOrdinal0 [0x0080C5F6+1099254]\n\tOrdinal0 [0x007E6BE0+945120]\n\tOrdinal0 [0x007E7AD6+948950]\n\tGetHandleVerifier [0x00BB71F2+2712546]\n\tGetHandleVerifier [0x00BA886D+2652765]\n\tGetHandleVerifier [0x009A002A+520730]\n\tGetHandleVerifier [0x0099EE06+516086]\n\tOrdinal0 [0x008B468B+1787531]\n\tOrdinal0 [0x008B8E88+1805960]\n\tOrdinal0 [0x008B8F75+1806197]\n\tOrdinal0 [0x008C1DF1+1842673]\n\tBaseThreadInitThunk [0x75C0FA29+25]\n\tRtlGetAppContainerNamedObjectPath [0x77A87A9E+286]\n\tRtlGetAppContainerNamedObjectPath [0x77A87A6E+238]\n",
     "output_type": "error",
     "traceback": [
      "\u001b[1;31m---------------------------------------------------------------------------\u001b[0m",
      "\u001b[1;31mNoSuchElementException\u001b[0m                    Traceback (most recent call last)",
      "\u001b[1;32m~\\AppData\\Local\\Temp/ipykernel_15172/417198005.py\u001b[0m in \u001b[0;36m<module>\u001b[1;34m\u001b[0m\n\u001b[1;32m----> 1\u001b[1;33m \u001b[0mlondon\u001b[0m\u001b[1;33m=\u001b[0m\u001b[0mdriver\u001b[0m\u001b[1;33m.\u001b[0m\u001b[0mfind_element\u001b[0m\u001b[1;33m(\u001b[0m\u001b[0mBy\u001b[0m\u001b[1;33m.\u001b[0m\u001b[0mXPATH\u001b[0m\u001b[1;33m,\u001b[0m\u001b[1;34m'/html/body/div[3]/div/div/div[1]/div[1]/div/div/div[4]/div/div[2]/div/div[1]/div/div/ul/li[2]/div'\u001b[0m\u001b[1;33m)\u001b[0m\u001b[1;33m\u001b[0m\u001b[1;33m\u001b[0m\u001b[0m\n\u001b[0m\u001b[0;32m      2\u001b[0m \u001b[0mlondon\u001b[0m\u001b[1;33m.\u001b[0m\u001b[0mclick\u001b[0m\u001b[1;33m(\u001b[0m\u001b[1;33m)\u001b[0m\u001b[1;33m\u001b[0m\u001b[1;33m\u001b[0m\u001b[0m\n",
      "\u001b[1;32m~\\anaconda3\\lib\\site-packages\\selenium\\webdriver\\remote\\webdriver.py\u001b[0m in \u001b[0;36mfind_element\u001b[1;34m(self, by, value)\u001b[0m\n\u001b[0;32m    855\u001b[0m             \u001b[0mvalue\u001b[0m \u001b[1;33m=\u001b[0m \u001b[1;34m'[name=\"%s\"]'\u001b[0m \u001b[1;33m%\u001b[0m \u001b[0mvalue\u001b[0m\u001b[1;33m\u001b[0m\u001b[1;33m\u001b[0m\u001b[0m\n\u001b[0;32m    856\u001b[0m \u001b[1;33m\u001b[0m\u001b[0m\n\u001b[1;32m--> 857\u001b[1;33m         return self.execute(Command.FIND_ELEMENT, {\n\u001b[0m\u001b[0;32m    858\u001b[0m             \u001b[1;34m'using'\u001b[0m\u001b[1;33m:\u001b[0m \u001b[0mby\u001b[0m\u001b[1;33m,\u001b[0m\u001b[1;33m\u001b[0m\u001b[1;33m\u001b[0m\u001b[0m\n\u001b[0;32m    859\u001b[0m             'value': value})['value']\n",
      "\u001b[1;32m~\\anaconda3\\lib\\site-packages\\selenium\\webdriver\\remote\\webdriver.py\u001b[0m in \u001b[0;36mexecute\u001b[1;34m(self, driver_command, params)\u001b[0m\n\u001b[0;32m    433\u001b[0m         \u001b[0mresponse\u001b[0m \u001b[1;33m=\u001b[0m \u001b[0mself\u001b[0m\u001b[1;33m.\u001b[0m\u001b[0mcommand_executor\u001b[0m\u001b[1;33m.\u001b[0m\u001b[0mexecute\u001b[0m\u001b[1;33m(\u001b[0m\u001b[0mdriver_command\u001b[0m\u001b[1;33m,\u001b[0m \u001b[0mparams\u001b[0m\u001b[1;33m)\u001b[0m\u001b[1;33m\u001b[0m\u001b[1;33m\u001b[0m\u001b[0m\n\u001b[0;32m    434\u001b[0m         \u001b[1;32mif\u001b[0m \u001b[0mresponse\u001b[0m\u001b[1;33m:\u001b[0m\u001b[1;33m\u001b[0m\u001b[1;33m\u001b[0m\u001b[0m\n\u001b[1;32m--> 435\u001b[1;33m             \u001b[0mself\u001b[0m\u001b[1;33m.\u001b[0m\u001b[0merror_handler\u001b[0m\u001b[1;33m.\u001b[0m\u001b[0mcheck_response\u001b[0m\u001b[1;33m(\u001b[0m\u001b[0mresponse\u001b[0m\u001b[1;33m)\u001b[0m\u001b[1;33m\u001b[0m\u001b[1;33m\u001b[0m\u001b[0m\n\u001b[0m\u001b[0;32m    436\u001b[0m             response['value'] = self._unwrap_value(\n\u001b[0;32m    437\u001b[0m                 response.get('value', None))\n",
      "\u001b[1;32m~\\anaconda3\\lib\\site-packages\\selenium\\webdriver\\remote\\errorhandler.py\u001b[0m in \u001b[0;36mcheck_response\u001b[1;34m(self, response)\u001b[0m\n\u001b[0;32m    245\u001b[0m                 \u001b[0malert_text\u001b[0m \u001b[1;33m=\u001b[0m \u001b[0mvalue\u001b[0m\u001b[1;33m[\u001b[0m\u001b[1;34m'alert'\u001b[0m\u001b[1;33m]\u001b[0m\u001b[1;33m.\u001b[0m\u001b[0mget\u001b[0m\u001b[1;33m(\u001b[0m\u001b[1;34m'text'\u001b[0m\u001b[1;33m)\u001b[0m\u001b[1;33m\u001b[0m\u001b[1;33m\u001b[0m\u001b[0m\n\u001b[0;32m    246\u001b[0m             \u001b[1;32mraise\u001b[0m \u001b[0mexception_class\u001b[0m\u001b[1;33m(\u001b[0m\u001b[0mmessage\u001b[0m\u001b[1;33m,\u001b[0m \u001b[0mscreen\u001b[0m\u001b[1;33m,\u001b[0m \u001b[0mstacktrace\u001b[0m\u001b[1;33m,\u001b[0m \u001b[0malert_text\u001b[0m\u001b[1;33m)\u001b[0m  \u001b[1;31m# type: ignore[call-arg]  # mypy is not smart enough here\u001b[0m\u001b[1;33m\u001b[0m\u001b[1;33m\u001b[0m\u001b[0m\n\u001b[1;32m--> 247\u001b[1;33m         \u001b[1;32mraise\u001b[0m \u001b[0mexception_class\u001b[0m\u001b[1;33m(\u001b[0m\u001b[0mmessage\u001b[0m\u001b[1;33m,\u001b[0m \u001b[0mscreen\u001b[0m\u001b[1;33m,\u001b[0m \u001b[0mstacktrace\u001b[0m\u001b[1;33m)\u001b[0m\u001b[1;33m\u001b[0m\u001b[1;33m\u001b[0m\u001b[0m\n\u001b[0m\u001b[0;32m    248\u001b[0m \u001b[1;33m\u001b[0m\u001b[0m\n\u001b[0;32m    249\u001b[0m     \u001b[1;32mdef\u001b[0m \u001b[0m_value_or_default\u001b[0m\u001b[1;33m(\u001b[0m\u001b[0mself\u001b[0m\u001b[1;33m,\u001b[0m \u001b[0mobj\u001b[0m\u001b[1;33m:\u001b[0m \u001b[0mMapping\u001b[0m\u001b[1;33m[\u001b[0m\u001b[0m_KT\u001b[0m\u001b[1;33m,\u001b[0m \u001b[0m_VT\u001b[0m\u001b[1;33m]\u001b[0m\u001b[1;33m,\u001b[0m \u001b[0mkey\u001b[0m\u001b[1;33m:\u001b[0m \u001b[0m_KT\u001b[0m\u001b[1;33m,\u001b[0m \u001b[0mdefault\u001b[0m\u001b[1;33m:\u001b[0m \u001b[0m_VT\u001b[0m\u001b[1;33m)\u001b[0m \u001b[1;33m->\u001b[0m \u001b[0m_VT\u001b[0m\u001b[1;33m:\u001b[0m\u001b[1;33m\u001b[0m\u001b[1;33m\u001b[0m\u001b[0m\n",
      "\u001b[1;31mNoSuchElementException\u001b[0m: Message: no such element: Unable to locate element: {\"method\":\"xpath\",\"selector\":\"/html/body/div[3]/div/div/div[1]/div[1]/div/div/div[4]/div/div[2]/div/div[1]/div/div/ul/li[2]/div\"}\n  (Session info: chrome=103.0.5060.134)\nStacktrace:\nBacktrace:\n\tOrdinal0 [0x00916463+2188387]\n\tOrdinal0 [0x008AE461+1762401]\n\tOrdinal0 [0x007C3D78+802168]\n\tOrdinal0 [0x007F1880+989312]\n\tOrdinal0 [0x007F1B1B+989979]\n\tOrdinal0 [0x0081E912+1173778]\n\tOrdinal0 [0x0080C824+1099812]\n\tOrdinal0 [0x0081CC22+1166370]\n\tOrdinal0 [0x0080C5F6+1099254]\n\tOrdinal0 [0x007E6BE0+945120]\n\tOrdinal0 [0x007E7AD6+948950]\n\tGetHandleVerifier [0x00BB71F2+2712546]\n\tGetHandleVerifier [0x00BA886D+2652765]\n\tGetHandleVerifier [0x009A002A+520730]\n\tGetHandleVerifier [0x0099EE06+516086]\n\tOrdinal0 [0x008B468B+1787531]\n\tOrdinal0 [0x008B8E88+1805960]\n\tOrdinal0 [0x008B8F75+1806197]\n\tOrdinal0 [0x008C1DF1+1842673]\n\tBaseThreadInitThunk [0x75C0FA29+25]\n\tRtlGetAppContainerNamedObjectPath [0x77A87A9E+286]\n\tRtlGetAppContainerNamedObjectPath [0x77A87A6E+238]\n"
     ]
    }
   ],
   "source": [
    "london=driver.find_element(By.XPATH,'/html/body/div[3]/div/div/div[1]/div[1]/div/div/div[4]/div/div[2]/div/div[1]/div/div/ul/li[2]/div')\n",
    "london.click()"
   ]
  },
  {
   "cell_type": "code",
   "execution_count": 69,
   "id": "5f77ec06",
   "metadata": {},
   "outputs": [],
   "source": [
    "search_=driver.find_element(By.XPATH,'/html/body/div[3]/div/div/div[1]/div[1]/div/div/div[4]/div/div[2]/div/div[5]/button')"
   ]
  },
  {
   "cell_type": "code",
   "execution_count": 70,
   "id": "ce5ac992",
   "metadata": {},
   "outputs": [],
   "source": [
    "search_.click()"
   ]
  },
  {
   "cell_type": "code",
   "execution_count": 157,
   "id": "eaf9608a",
   "metadata": {},
   "outputs": [],
   "source": [
    "hostel_url = []\n",
    "\n",
    "\n",
    "\n",
    "while(True):\n",
    "\n",
    "    urls = driver.find_elements(By.XPATH,'//h2[@class=\"title title-6\"]//a')\n",
    "\n",
    "    for url in urls:\n",
    "\n",
    "        hostel_url.append(url.get_attribute(\"href\"))\n",
    "\n",
    "    time.sleep(2)    \n",
    "\n",
    "        \n",
    "\n",
    "    try:\n",
    "\n",
    "        next_button = driver.find_element_by_xpath('//div[@class=\"pagination-item pagination-next\"]')\n",
    "\n",
    "        next_button.click()\n",
    "\n",
    "    except:\n",
    "\n",
    "        break"
   ]
  },
  {
   "cell_type": "code",
   "execution_count": 158,
   "id": "704b2c9a",
   "metadata": {},
   "outputs": [
    {
     "data": {
      "text/plain": [
       "['https://www.hostelworld.com/pwa/hosteldetails.php/St-Christopher-s-Village/London/502?from=2022-07-31&to=2022-08-03&guests=2',\n",
       " 'https://www.hostelworld.com/pwa/hosteldetails.php/Palmers-Lodge-Swiss-Cottage/London/14348?from=2022-07-31&to=2022-08-03&guests=2',\n",
       " 'https://www.hostelworld.com/pwa/hosteldetails.php/Wombat-s-City-Hostel-London/London/88047?from=2022-07-31&to=2022-08-03&guests=2',\n",
       " 'https://www.hostelworld.com/pwa/hosteldetails.php/Generator-London/London/510?from=2022-07-31&to=2022-08-03&guests=2',\n",
       " 'https://www.hostelworld.com/pwa/hosteldetails.php/Astor-Museum-Inn/London/520?from=2022-07-31&to=2022-08-03&guests=2',\n",
       " 'https://www.hostelworld.com/pwa/hosteldetails.php/Urbany-Hostel-London/London/303427?from=2022-07-31&to=2022-08-03&guests=2',\n",
       " 'https://www.hostelworld.com/pwa/hosteldetails.php/Safestay-London-Elephant-Castle/London/55551?from=2022-07-31&to=2022-08-03&guests=2',\n",
       " 'https://www.hostelworld.com/pwa/hosteldetails.php/Smart-Camden-Inn-Hostel/London/596?from=2022-07-31&to=2022-08-03&guests=2',\n",
       " 'https://www.hostelworld.com/pwa/hosteldetails.php/No-8-Willesden-Hostel-London/London/18420?from=2022-07-31&to=2022-08-03&guests=2',\n",
       " 'https://www.hostelworld.com/pwa/hosteldetails.php/Smart-Russell-Square-Hostel/London/29412?from=2022-07-31&to=2022-08-03&guests=2',\n",
       " 'https://www.hostelworld.com/pwa/hosteldetails.php/No-8-Seven-Sisters/London/91108?from=2022-07-31&to=2022-08-03&guests=2',\n",
       " 'https://www.hostelworld.com/pwa/hosteldetails.php/London-Backpackers/London/527?from=2022-07-31&to=2022-08-03&guests=2',\n",
       " 'https://www.hostelworld.com/pwa/hosteldetails.php/Barmy-Badger-Backpackers/London/64746?from=2022-07-31&to=2022-08-03&guests=2',\n",
       " 'https://www.hostelworld.com/pwa/hosteldetails.php/Safestay-London-Kensington-Holland-Park/London/93920?from=2022-07-31&to=2022-08-03&guests=2',\n",
       " 'https://www.hostelworld.com/pwa/hosteldetails.php/Phoenix-Hostel/London/48221?from=2022-07-31&to=2022-08-03&guests=2',\n",
       " 'https://www.hostelworld.com/pwa/hosteldetails.php/Smart-Hyde-Park-View-Hostel/London/8069?from=2022-07-31&to=2022-08-03&guests=2',\n",
       " 'https://www.hostelworld.com/pwa/hosteldetails.php/Queen-Elizabeth-Chelsea/London/50443?from=2022-07-31&to=2022-08-03&guests=2',\n",
       " 'https://www.hostelworld.com/pwa/hosteldetails.php/Smart-Hyde-Park-Inn-Hostel/London/517?from=2022-07-31&to=2022-08-03&guests=2',\n",
       " 'https://www.hostelworld.com/pwa/hosteldetails.php/NX-London-Hostel/London/15204?from=2022-07-31&to=2022-08-03&guests=2',\n",
       " 'https://www.hostelworld.com/pwa/hosteldetails.php/Hostel-One-Notting-Hill/London/291433?from=2022-07-31&to=2022-08-03&guests=2',\n",
       " 'https://www.hostelworld.com/pwa/hosteldetails.php/St-Christopher-s-Hammersmith/London/20976?from=2022-07-31&to=2022-08-03&guests=2',\n",
       " 'https://www.hostelworld.com/pwa/hosteldetails.php/Strand-Continental/London/51118?from=2022-07-31&to=2022-08-03&guests=2',\n",
       " 'https://www.hostelworld.com/pwa/hosteldetails.php/St-Christopher-s-Camden/London/505?from=2022-07-31&to=2022-08-03&guests=2',\n",
       " 'https://www.hostelworld.com/pwa/hosteldetails.php/London-Waterloo-Hostel/London/39493?from=2022-07-31&to=2022-08-03&guests=2',\n",
       " 'https://www.hostelworld.com/pwa/hosteldetails.php/PubLove-The-White-Ferry-Victoria/London/39761?from=2022-07-31&to=2022-08-03&guests=2',\n",
       " 'https://www.hostelworld.com/pwa/hosteldetails.php/Clink261/London/516?from=2022-07-31&to=2022-08-03&guests=2',\n",
       " 'https://www.hostelworld.com/pwa/hosteldetails.php/St-Christopher-s-Greenwich/London/501?from=2022-07-31&to=2022-08-03&guests=2',\n",
       " 'https://www.hostelworld.com/pwa/hosteldetails.php/PubLove-The-Steam-Engine-Waterloo/London/29389?from=2022-07-31&to=2022-08-03&guests=2',\n",
       " 'https://www.hostelworld.com/pwa/hosteldetails.php/St-Christopher-s-Shepherds-Bush/London/506?from=2022-07-31&to=2022-08-03&guests=2']"
      ]
     },
     "execution_count": 158,
     "metadata": {},
     "output_type": "execute_result"
    }
   ],
   "source": [
    "hostel_url"
   ]
  },
  {
   "cell_type": "code",
   "execution_count": 233,
   "id": "239caa4c",
   "metadata": {},
   "outputs": [],
   "source": [
    "TITLE=[]\n",
    "for i in hostel_url[0:1]:\n",
    "    driver.get(i)\n",
    "    try:\n",
    "        title=driver.find_element(By.XPATH,'/html/body/div[3]/div/div/div[1]/section/div[4]/div/div[1]/h1/div')\n",
    "        TITLE.append(title.text)\n",
    "    except WebDriverException:\n",
    "        TITLE.append('-')"
   ]
  },
  {
   "cell_type": "code",
   "execution_count": 234,
   "id": "7c0f8795",
   "metadata": {},
   "outputs": [
    {
     "data": {
      "text/plain": [
       "[\"St Christopher's Village\"]"
      ]
     },
     "execution_count": 234,
     "metadata": {},
     "output_type": "execute_result"
    }
   ],
   "source": [
    "TITLE"
   ]
  },
  {
   "cell_type": "code",
   "execution_count": 235,
   "id": "deda057c",
   "metadata": {},
   "outputs": [],
   "source": [
    "DISTANCE=[]\n",
    "for i in hostel_url[0:1]:\n",
    "    driver.get(i)\n",
    "    try:\n",
    "        distance=driver.find_element(By.XPATH,'/html/body/div[3]/div/div/div[1]/section/div[4]/div/div[1]/div/div')\n",
    "        DISTANCE.append(distance.text)\n",
    "    except WebDriverException:\n",
    "        DISTANCE.append('-')"
   ]
  },
  {
   "cell_type": "code",
   "execution_count": 236,
   "id": "15f48347",
   "metadata": {},
   "outputs": [
    {
     "data": {
      "text/plain": [
       "['165 Borough High Street, London, England']"
      ]
     },
     "execution_count": 236,
     "metadata": {},
     "output_type": "execute_result"
    }
   ],
   "source": [
    "DISTANCE"
   ]
  },
  {
   "cell_type": "code",
   "execution_count": 237,
   "id": "4ae8dee7",
   "metadata": {},
   "outputs": [],
   "source": [
    "RATING=[]\n",
    "for i in hostel_url[0:1]:\n",
    "    driver.get(i)\n",
    "    try:\n",
    "        rat=driver.find_element(By.XPATH,'/html/body/div[3]/div/div/div[1]/section/div[6]/div/div[1]/div[1]/div[1]')\n",
    "        RATING.append(rat.text)\n",
    "    except WebDriverException:\n",
    "        RATING.append('-')                     "
   ]
  },
  {
   "cell_type": "code",
   "execution_count": 238,
   "id": "273bfa88",
   "metadata": {},
   "outputs": [
    {
     "data": {
      "text/plain": [
       "['8.1']"
      ]
     },
     "execution_count": 238,
     "metadata": {},
     "output_type": "execute_result"
    }
   ],
   "source": [
    "RATING"
   ]
  },
  {
   "cell_type": "code",
   "execution_count": 231,
   "id": "ae9ff5d1",
   "metadata": {},
   "outputs": [],
   "source": [
    "ROV=[]\n",
    "for i in hostel_url[0:1]:\n",
    "    driver.get(i)\n",
    "    try:\n",
    "        rov=driver.find_element(By.XPATH,'/html/body/div[3]/div/div/div[1]/section/div[9]/div[1]/div/div[2]/div[2]')\n",
    "        ROV.append(rov.text)\n",
    "    except NoSuchElementException:\n",
    "         ROV.append('-')"
   ]
  },
  {
   "cell_type": "code",
   "execution_count": 232,
   "id": "79620a7b",
   "metadata": {},
   "outputs": [
    {
     "data": {
      "text/plain": [
       "['11394 Total Reviews']"
      ]
     },
     "execution_count": 232,
     "metadata": {},
     "output_type": "execute_result"
    }
   ],
   "source": [
    "ROV"
   ]
  },
  {
   "cell_type": "code",
   "execution_count": 197,
   "id": "106ac828",
   "metadata": {},
   "outputs": [],
   "source": [
    "ROC=[]\n",
    "for i in hostel_url[0:1]:\n",
    "    driver.get(i)\n",
    "    try:\n",
    "        roc=driver.find_element(By.XPATH,'/html/body/div[3]/div/div/div[1]/section/div[10]/div/ul')\n",
    "        ROC.append(roc.text)\n",
    "    \n",
    "    except WebDriverException:\n",
    "        roc.append('-')   "
   ]
  },
  {
   "cell_type": "code",
   "execution_count": 218,
   "id": "0084ccd3",
   "metadata": {},
   "outputs": [
    {
     "data": {
      "text/plain": [
       "'Free\\nLinen Included Free City Maps Free WiFi Free Internet Access\\nGeneral\\nSecurity Lockers Key Card Access Common Room Elevator Breakfast Not Included Air Conditioning Adaptors Book Exchange Hot Showers Dryer Reading Light Hair Dryers For Hire Hair Dryers Iron / Ironing Board Towels Not Included Follows Covid-19 sanitation guidance\\nServices\\nInternet access Laundry Facilities Towels for hire Luggage Storage 24 Hour Reception 24 Hour Security Housekeeping\\nFood & Drink\\nRestaurant Bar Meals Available Vending Machines Tea & Coffee Making Facilities\\nEntertainment\\nNightclub Games Room Wi-Fi'"
      ]
     },
     "execution_count": 218,
     "metadata": {},
     "output_type": "execute_result"
    }
   ],
   "source": [
    "roc"
   ]
  },
  {
   "cell_type": "code",
   "execution_count": 240,
   "id": "58a175bb",
   "metadata": {},
   "outputs": [],
   "source": [
    "Overallreviews=[]\n",
    "for i in hostel_url[0:1]:\n",
    "    driver.get(i)\n",
    "    try:\n",
    "        overall=driver.find_element(By.XPATH,'/html/body/div[3]/div/div/div[1]/section/div[9]/div[1]/div')\n",
    "        Overallreviews.append(overall.text)\n",
    "    except WebDriverException:\n",
    "         Overallreviews.append('-')\n",
    "        \n",
    "        "
   ]
  },
  {
   "cell_type": "code",
   "execution_count": 241,
   "id": "6fae072c",
   "metadata": {},
   "outputs": [
    {
     "data": {
      "text/plain": [
       "['-',\n",
       " '-',\n",
       " '-',\n",
       " '-',\n",
       " '-',\n",
       " '-',\n",
       " '-',\n",
       " 'Check Availability\\nJul 31, 2022, 3 nights\\n2 Guests\\nChange Search\\nDorm Beds\\nPrices are per bed\\nAverage price per night\\nBeds\\nBasic 10 Bed Mixed Dorm Ensuite\\nA single bed in a 10 shared Bedded dorm Ensuite. This room has ensuite facilities including a shower and toilet. Rate includes bed linen and Wifi. Breakfast available to purchase at property.\\nSleeps 10\\nBest Bed Price\\nRs1925.33\\n\\nStandard\\nChoose\\nRs1733.09\\n\\nNon-refundable\\nChoose\\nBasic 6 Bed Mixed Dorm Ensuite\\nA single bed in a 6 shared Bedded dorm Ensuite. This room has ensuite facilities including a shower and toilet. Rate includes bed linen and Wifi. Breakfast available to purchase at property.\\nSleeps 6\\nRs2147.53\\n\\nStandard\\nChoose\\nRs1933.06\\n\\nNon-refundable\\nChoose',\n",
       " '6.8\\nGood\\n4805 Total Reviews',\n",
       " 'Check Availability\\nJul 31, 2022, 3 nights\\n2 Guests\\nChange Search\\nSelling out fast!\\nDorm Beds\\nPrices are per bed\\nAverage price per night\\nBeds\\nBasic 9 Bed Mixed Dorm\\nOur 9 Bedded dorm with Shared Facilities offers Free WiFi, linen and bedding included in the rates.\\nSleeps 9\\nBest Bed Price\\nRs1857.71\\n\\nStandard\\nChoose\\nRs1672.23\\n\\nNon-refundable\\nChoose',\n",
       " '6.2\\nGood\\n3823 Total Reviews',\n",
       " '-',\n",
       " '-',\n",
       " '-',\n",
       " '-',\n",
       " '-',\n",
       " '-',\n",
       " '-',\n",
       " '-',\n",
       " '-',\n",
       " '-',\n",
       " '-',\n",
       " '-',\n",
       " 'Check Availability\\nJul 31, 2022, 3 nights\\n2 Guests\\nChange Search\\nDorm Beds\\nPrices are per bed\\nAverage price per night\\nBeds\\nStandard 12 Bed Mixed Dorm\\n12 Bed Mixed Dorm\\nSleeps 12\\nBest Bed Price\\nRs3429.47\\n\\nStandard\\nChoose\\nRs3086.52\\n\\nNon-refundable\\nChoose\\nStandard 9 Bed Mixed Dorm Ensuite\\nEach bed additionally has 2 USB sockets and 2 UK sockets\\nSleeps 9\\nOnly 1 bed left!\\nRs3574.38\\n\\nStandard\\nChoose\\nRs3216.94\\n\\nNon-refundable\\nChoose\\nStandard 3 Bed Female Dorm\\nThe room is only for females\\nSleeps 3\\nOnly 1 bed left!\\nRs4878.54\\n\\nStandard\\nChoose\\nRs4390.69\\n\\nNon-refundable\\nChoose',\n",
       " '-',\n",
       " '-',\n",
       " '-',\n",
       " '-',\n",
       " '7.4\\nVery Good\\n702 Total Reviews']"
      ]
     },
     "execution_count": 241,
     "metadata": {},
     "output_type": "execute_result"
    }
   ],
   "source": [
    "Overallreviews"
   ]
  },
  {
   "cell_type": "code",
   "execution_count": null,
   "id": "1593d0b0",
   "metadata": {},
   "outputs": [],
   "source": [
    "dorms_prices=[]\n",
    "for i in hostel_url[0:1]:\n",
    "    driver.get(i)\n",
    "    try:\n",
    "        dor=driver.find_element(By.XPATH,'/html/body/div[3]/div/div/div[1]/section/div[8]/div/div/section/div/div/div[2]')\n",
    "        dorms_prices.append(dor.text)\n",
    "    except WebDriverException:\n",
    "         Overallreviews.append('-')"
   ]
  },
  {
   "cell_type": "code",
   "execution_count": null,
   "id": "ddc19e92",
   "metadata": {},
   "outputs": [],
   "source": [
    "prop_des=[]\n",
    "for i in hostel_url[0:1]:\n",
    "    driver.get(i)\n",
    "    try:\n",
    "        pro=driver.find_element(By.XPATH,'/html/body/div[3]/div/div/div[1]/section/div[8]/div/div/section/div/div/div[2]')\n",
    "        prop_des.append(pro.text)\n",
    "    except WebDriverException:\n",
    "         Overallreviews.append('-')"
   ]
  },
  {
   "cell_type": "code",
   "execution_count": null,
   "id": "4fd53b3d",
   "metadata": {},
   "outputs": [],
   "source": []
  },
  {
   "cell_type": "code",
   "execution_count": null,
   "id": "0901538c",
   "metadata": {},
   "outputs": [],
   "source": []
  },
  {
   "cell_type": "code",
   "execution_count": null,
   "id": "eb8418ad",
   "metadata": {},
   "outputs": [],
   "source": []
  },
  {
   "cell_type": "code",
   "execution_count": null,
   "id": "3a2ea292",
   "metadata": {},
   "outputs": [],
   "source": []
  },
  {
   "cell_type": "code",
   "execution_count": null,
   "id": "5f85f5e5",
   "metadata": {},
   "outputs": [],
   "source": []
  },
  {
   "cell_type": "code",
   "execution_count": null,
   "id": "4aa19ed1",
   "metadata": {},
   "outputs": [],
   "source": []
  },
  {
   "cell_type": "code",
   "execution_count": null,
   "id": "22d37852",
   "metadata": {},
   "outputs": [],
   "source": []
  },
  {
   "cell_type": "code",
   "execution_count": null,
   "id": "70a0e22e",
   "metadata": {},
   "outputs": [],
   "source": []
  },
  {
   "cell_type": "code",
   "execution_count": null,
   "id": "dee692ee",
   "metadata": {},
   "outputs": [],
   "source": []
  },
  {
   "cell_type": "code",
   "execution_count": null,
   "id": "8659ded8",
   "metadata": {},
   "outputs": [],
   "source": []
  }
 ],
 "metadata": {
  "kernelspec": {
   "display_name": "Python 3 (ipykernel)",
   "language": "python",
   "name": "python3"
  },
  "language_info": {
   "codemirror_mode": {
    "name": "ipython",
    "version": 3
   },
   "file_extension": ".py",
   "mimetype": "text/x-python",
   "name": "python",
   "nbconvert_exporter": "python",
   "pygments_lexer": "ipython3",
   "version": "3.9.7"
  }
 },
 "nbformat": 4,
 "nbformat_minor": 5
}
