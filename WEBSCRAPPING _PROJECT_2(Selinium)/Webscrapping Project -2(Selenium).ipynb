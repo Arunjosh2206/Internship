{
 "cells": [
  {
   "cell_type": "markdown",
   "id": "5027906f",
   "metadata": {},
   "source": [
    "# Q1: Write a python program to scrape data for “Data Analyst” Job position in “Bangalore” location. "
   ]
  },
  {
   "cell_type": "code",
   "execution_count": 1,
   "id": "2128b56a",
   "metadata": {},
   "outputs": [
    {
     "name": "stdout",
     "output_type": "stream",
     "text": [
      "Requirement already satisfied: selenium in c:\\users\\dell\\anaconda3\\lib\\site-packages (4.3.0)\n",
      "Requirement already satisfied: trio-websocket~=0.9 in c:\\users\\dell\\anaconda3\\lib\\site-packages (from selenium) (0.9.2)\n",
      "Requirement already satisfied: urllib3[secure,socks]~=1.26 in c:\\users\\dell\\anaconda3\\lib\\site-packages (from selenium) (1.26.7)\n",
      "Requirement already satisfied: trio~=0.17 in c:\\users\\dell\\anaconda3\\lib\\site-packages (from selenium) (0.21.0)\n",
      "Requirement already satisfied: outcome in c:\\users\\dell\\anaconda3\\lib\\site-packages (from trio~=0.17->selenium) (1.2.0)\n",
      "Requirement already satisfied: attrs>=19.2.0 in c:\\users\\dell\\anaconda3\\lib\\site-packages (from trio~=0.17->selenium) (21.2.0)\n",
      "Requirement already satisfied: cffi>=1.14 in c:\\users\\dell\\anaconda3\\lib\\site-packages (from trio~=0.17->selenium) (1.14.6)\n",
      "Requirement already satisfied: idna in c:\\users\\dell\\anaconda3\\lib\\site-packages (from trio~=0.17->selenium) (3.2)\n",
      "Requirement already satisfied: async-generator>=1.9 in c:\\users\\dell\\anaconda3\\lib\\site-packages (from trio~=0.17->selenium) (1.10)\n",
      "Requirement already satisfied: sniffio in c:\\users\\dell\\anaconda3\\lib\\site-packages (from trio~=0.17->selenium) (1.2.0)\n",
      "Requirement already satisfied: sortedcontainers in c:\\users\\dell\\anaconda3\\lib\\site-packages (from trio~=0.17->selenium) (2.4.0)\n",
      "Requirement already satisfied: pycparser in c:\\users\\dell\\anaconda3\\lib\\site-packages (from cffi>=1.14->trio~=0.17->selenium) (2.20)\n",
      "Requirement already satisfied: wsproto>=0.14 in c:\\users\\dell\\anaconda3\\lib\\site-packages (from trio-websocket~=0.9->selenium) (1.1.0)\n",
      "Requirement already satisfied: pyOpenSSL>=0.14 in c:\\users\\dell\\anaconda3\\lib\\site-packages (from urllib3[secure,socks]~=1.26->selenium) (21.0.0)\n",
      "Requirement already satisfied: cryptography>=1.3.4 in c:\\users\\dell\\anaconda3\\lib\\site-packages (from urllib3[secure,socks]~=1.26->selenium) (3.4.8)\n",
      "Requirement already satisfied: certifi in c:\\users\\dell\\anaconda3\\lib\\site-packages (from urllib3[secure,socks]~=1.26->selenium) (2021.10.8)\n",
      "Requirement already satisfied: PySocks!=1.5.7,<2.0,>=1.5.6 in c:\\users\\dell\\anaconda3\\lib\\site-packages (from urllib3[secure,socks]~=1.26->selenium) (1.7.1)\n",
      "Requirement already satisfied: six>=1.5.2 in c:\\users\\dell\\anaconda3\\lib\\site-packages (from pyOpenSSL>=0.14->urllib3[secure,socks]~=1.26->selenium) (1.16.0)\n",
      "Requirement already satisfied: h11<1,>=0.9.0 in c:\\users\\dell\\anaconda3\\lib\\site-packages (from wsproto>=0.14->trio-websocket~=0.9->selenium) (0.13.0)\n",
      "Note: you may need to restart the kernel to use updated packages.\n"
     ]
    }
   ],
   "source": [
    "pip install selenium"
   ]
  },
  {
   "cell_type": "code",
   "execution_count": 1,
   "id": "f3792086",
   "metadata": {},
   "outputs": [],
   "source": [
    "import selenium\n",
    "from selenium import webdriver\n",
    "import pandas as pd\n",
    "import warnings\n",
    "warnings.filterwarnings(\"ignore\")"
   ]
  },
  {
   "cell_type": "code",
   "execution_count": 120,
   "id": "81f854f4",
   "metadata": {},
   "outputs": [],
   "source": [
    "driver=webdriver.Chrome(r'C:\\Users\\dell\\Downloads\\chromedriver_win32\\chromedriver.exe')"
   ]
  },
  {
   "cell_type": "code",
   "execution_count": 2,
   "id": "c718b794",
   "metadata": {},
   "outputs": [],
   "source": [
    "driver=webdriver.Chrome('chromedriver.exe')"
   ]
  },
  {
   "cell_type": "code",
   "execution_count": 122,
   "id": "3c14b39d",
   "metadata": {},
   "outputs": [],
   "source": [
    "url=('https://www.naukri.com/')\n",
    "driver.get(url)"
   ]
  },
  {
   "cell_type": "code",
   "execution_count": 5,
   "id": "72e89764",
   "metadata": {},
   "outputs": [],
   "source": [
    "from selenium .webdriver.common.by import By"
   ]
  },
  {
   "cell_type": "code",
   "execution_count": 125,
   "id": "f95d7c53",
   "metadata": {},
   "outputs": [
    {
     "data": {
      "text/plain": [
       "<selenium.webdriver.remote.webelement.WebElement (session=\"cf7e7e786de555450701be2cb2f007f6\", element=\"20eea9b4-7a28-46d7-bba5-d09df14d4069\")>"
      ]
     },
     "execution_count": 125,
     "metadata": {},
     "output_type": "execute_result"
    }
   ],
   "source": [
    "Search_jobs=driver.find_element(By.CLASS_NAME,\"suggestor-input\")\n",
    "Search_jobs"
   ]
  },
  {
   "cell_type": "code",
   "execution_count": 126,
   "id": "ca2c569f",
   "metadata": {},
   "outputs": [],
   "source": [
    "Search_jobs.send_keys(\"Data Analyst\")"
   ]
  },
  {
   "cell_type": "code",
   "execution_count": 127,
   "id": "d48d9186",
   "metadata": {},
   "outputs": [
    {
     "data": {
      "text/plain": [
       "<selenium.webdriver.remote.webelement.WebElement (session=\"cf7e7e786de555450701be2cb2f007f6\", element=\"316f5636-b80a-4151-914a-28f8bde11d65\")>"
      ]
     },
     "execution_count": 127,
     "metadata": {},
     "output_type": "execute_result"
    }
   ],
   "source": [
    "Search_locn=driver.find_element(By.XPATH,\"/html/body/div[1]/div[2]/div[3]/div/div/div[5]/div/div/div/input\")\n",
    "Search_locn"
   ]
  },
  {
   "cell_type": "code",
   "execution_count": 128,
   "id": "efdf8624",
   "metadata": {},
   "outputs": [],
   "source": [
    "Search_locn.send_keys(\"Banglore\")"
   ]
  },
  {
   "cell_type": "code",
   "execution_count": 129,
   "id": "98ed4dac",
   "metadata": {},
   "outputs": [
    {
     "data": {
      "text/plain": [
       "<selenium.webdriver.remote.webelement.WebElement (session=\"cf7e7e786de555450701be2cb2f007f6\", element=\"67027f9e-b662-4d44-8d1a-fe244d8227bc\")>"
      ]
     },
     "execution_count": 129,
     "metadata": {},
     "output_type": "execute_result"
    }
   ],
   "source": [
    "search_btn=driver.find_element(By.XPATH,\"/html/body/div[1]/div[2]/div[3]/div/div/div[6]\")\n",
    "search_btn"
   ]
  },
  {
   "cell_type": "code",
   "execution_count": 130,
   "id": "00934be0",
   "metadata": {},
   "outputs": [],
   "source": [
    "search_btn.click()"
   ]
  },
  {
   "cell_type": "code",
   "execution_count": 131,
   "id": "4f5883f1",
   "metadata": {},
   "outputs": [
    {
     "data": {
      "text/plain": [
       "20"
      ]
     },
     "execution_count": 131,
     "metadata": {},
     "output_type": "execute_result"
    }
   ],
   "source": [
    "tit=driver.find_elements(By.XPATH,'//a[@class=\"title fw500 ellipsis\"]')\n",
    "len(exp)"
   ]
  },
  {
   "cell_type": "code",
   "execution_count": 132,
   "id": "eb9914c0",
   "metadata": {},
   "outputs": [
    {
     "data": {
      "text/plain": [
       "20"
      ]
     },
     "execution_count": 132,
     "metadata": {},
     "output_type": "execute_result"
    }
   ],
   "source": [
    "title=[]\n",
    "\n",
    "\n",
    "for i in tit:\n",
    "    title.append(i.text)\n",
    "len(title)"
   ]
  },
  {
   "cell_type": "code",
   "execution_count": 133,
   "id": "935a28cd",
   "metadata": {},
   "outputs": [
    {
     "data": {
      "text/plain": [
       "[<selenium.webdriver.remote.webelement.WebElement (session=\"cf7e7e786de555450701be2cb2f007f6\", element=\"9c9f3dad-5206-4018-99ba-fba16c828a16\")>,\n",
       " <selenium.webdriver.remote.webelement.WebElement (session=\"cf7e7e786de555450701be2cb2f007f6\", element=\"c787e924-3976-4219-a2c9-f939d2ca6d78\")>,\n",
       " <selenium.webdriver.remote.webelement.WebElement (session=\"cf7e7e786de555450701be2cb2f007f6\", element=\"6d9246f2-ff70-411d-8751-05b629f6bea1\")>,\n",
       " <selenium.webdriver.remote.webelement.WebElement (session=\"cf7e7e786de555450701be2cb2f007f6\", element=\"61f3e47d-b693-4662-ad30-1fed69f7a434\")>,\n",
       " <selenium.webdriver.remote.webelement.WebElement (session=\"cf7e7e786de555450701be2cb2f007f6\", element=\"6218beea-7dbe-4ae6-993b-578efa667a68\")>,\n",
       " <selenium.webdriver.remote.webelement.WebElement (session=\"cf7e7e786de555450701be2cb2f007f6\", element=\"8e1e92bc-c356-4494-b0d3-7e3e57ef128e\")>,\n",
       " <selenium.webdriver.remote.webelement.WebElement (session=\"cf7e7e786de555450701be2cb2f007f6\", element=\"31b82906-a897-43fb-aac0-c8e45a08a6f4\")>,\n",
       " <selenium.webdriver.remote.webelement.WebElement (session=\"cf7e7e786de555450701be2cb2f007f6\", element=\"5046cbdd-0f89-442b-a6a2-6815e8b43948\")>,\n",
       " <selenium.webdriver.remote.webelement.WebElement (session=\"cf7e7e786de555450701be2cb2f007f6\", element=\"08824227-0566-46c1-9c20-ff21b22b7859\")>,\n",
       " <selenium.webdriver.remote.webelement.WebElement (session=\"cf7e7e786de555450701be2cb2f007f6\", element=\"a069054a-5b61-4760-91a0-59a15611aa74\")>,\n",
       " <selenium.webdriver.remote.webelement.WebElement (session=\"cf7e7e786de555450701be2cb2f007f6\", element=\"33350bb4-b0ef-4de8-ac25-110e06949c66\")>,\n",
       " <selenium.webdriver.remote.webelement.WebElement (session=\"cf7e7e786de555450701be2cb2f007f6\", element=\"a8a0fea4-0e71-4e77-b20d-ac22ae1e01f6\")>,\n",
       " <selenium.webdriver.remote.webelement.WebElement (session=\"cf7e7e786de555450701be2cb2f007f6\", element=\"679c5578-2581-412d-a59b-747da3eff356\")>,\n",
       " <selenium.webdriver.remote.webelement.WebElement (session=\"cf7e7e786de555450701be2cb2f007f6\", element=\"e0a588ed-a6b0-4310-8ec0-e04c47375451\")>,\n",
       " <selenium.webdriver.remote.webelement.WebElement (session=\"cf7e7e786de555450701be2cb2f007f6\", element=\"db1bbaca-ea2e-4699-8e3a-df42597cd3f0\")>,\n",
       " <selenium.webdriver.remote.webelement.WebElement (session=\"cf7e7e786de555450701be2cb2f007f6\", element=\"e1f3e95d-218d-43cf-ba28-c767338cd31e\")>,\n",
       " <selenium.webdriver.remote.webelement.WebElement (session=\"cf7e7e786de555450701be2cb2f007f6\", element=\"11541b86-f945-40e9-a7f6-6f14f549e4ac\")>,\n",
       " <selenium.webdriver.remote.webelement.WebElement (session=\"cf7e7e786de555450701be2cb2f007f6\", element=\"d098bd76-ffa2-48ad-9481-fb72b57800e9\")>,\n",
       " <selenium.webdriver.remote.webelement.WebElement (session=\"cf7e7e786de555450701be2cb2f007f6\", element=\"c13503ee-bbb6-4991-994e-cf298b9d2be8\")>,\n",
       " <selenium.webdriver.remote.webelement.WebElement (session=\"cf7e7e786de555450701be2cb2f007f6\", element=\"c19698d7-3a14-4ef4-947c-4f637db590bc\")>]"
      ]
     },
     "execution_count": 133,
     "metadata": {},
     "output_type": "execute_result"
    }
   ],
   "source": [
    "exp=driver.find_elements(By.XPATH,'//li[@class=\"fleft grey-text br2 placeHolderLi experience\"]')\n",
    "exp"
   ]
  },
  {
   "cell_type": "code",
   "execution_count": 134,
   "id": "eaba8bee",
   "metadata": {},
   "outputs": [
    {
     "data": {
      "text/plain": [
       "20"
      ]
     },
     "execution_count": 134,
     "metadata": {},
     "output_type": "execute_result"
    }
   ],
   "source": [
    "experiance=[]\n",
    "\n",
    "for i in exp:\n",
    "    experiance.append(i.text)\n",
    "len(experiance)"
   ]
  },
  {
   "cell_type": "code",
   "execution_count": 135,
   "id": "f811190e",
   "metadata": {},
   "outputs": [
    {
     "data": {
      "text/plain": [
       "[<selenium.webdriver.remote.webelement.WebElement (session=\"cf7e7e786de555450701be2cb2f007f6\", element=\"a7a9df8c-c8d1-4811-a2bf-4bcd845ef51e\")>,\n",
       " <selenium.webdriver.remote.webelement.WebElement (session=\"cf7e7e786de555450701be2cb2f007f6\", element=\"978942c3-8d95-4713-b0a0-e7497e729a2a\")>,\n",
       " <selenium.webdriver.remote.webelement.WebElement (session=\"cf7e7e786de555450701be2cb2f007f6\", element=\"af83d656-fa2e-492c-acf0-fa83964e4f67\")>,\n",
       " <selenium.webdriver.remote.webelement.WebElement (session=\"cf7e7e786de555450701be2cb2f007f6\", element=\"bcbe9a73-74c8-4915-a4ac-f1577e5aafd1\")>,\n",
       " <selenium.webdriver.remote.webelement.WebElement (session=\"cf7e7e786de555450701be2cb2f007f6\", element=\"488078aa-c414-4c7a-8e24-699841b989e3\")>,\n",
       " <selenium.webdriver.remote.webelement.WebElement (session=\"cf7e7e786de555450701be2cb2f007f6\", element=\"0373e312-98bd-4fa3-a55b-5f0ba23ed7ea\")>,\n",
       " <selenium.webdriver.remote.webelement.WebElement (session=\"cf7e7e786de555450701be2cb2f007f6\", element=\"5923c69c-1b41-4c6c-a1e7-4ad08b37405e\")>,\n",
       " <selenium.webdriver.remote.webelement.WebElement (session=\"cf7e7e786de555450701be2cb2f007f6\", element=\"41f6c17f-afe1-42ed-9236-03166f2e8b25\")>,\n",
       " <selenium.webdriver.remote.webelement.WebElement (session=\"cf7e7e786de555450701be2cb2f007f6\", element=\"e40e16b4-1eea-41d3-8159-0b0445836270\")>,\n",
       " <selenium.webdriver.remote.webelement.WebElement (session=\"cf7e7e786de555450701be2cb2f007f6\", element=\"63a6cca5-3f40-4f0b-9ac5-c17434964f4b\")>,\n",
       " <selenium.webdriver.remote.webelement.WebElement (session=\"cf7e7e786de555450701be2cb2f007f6\", element=\"1a679f71-f75d-4400-aa95-8b46063303df\")>,\n",
       " <selenium.webdriver.remote.webelement.WebElement (session=\"cf7e7e786de555450701be2cb2f007f6\", element=\"3de85b26-d8dc-47c6-86f6-7fa8f6143373\")>,\n",
       " <selenium.webdriver.remote.webelement.WebElement (session=\"cf7e7e786de555450701be2cb2f007f6\", element=\"bc82251d-80cc-4b56-ad18-7e62320f6926\")>,\n",
       " <selenium.webdriver.remote.webelement.WebElement (session=\"cf7e7e786de555450701be2cb2f007f6\", element=\"14368fea-ba40-47f3-8bec-a7ef2cd7f8ab\")>,\n",
       " <selenium.webdriver.remote.webelement.WebElement (session=\"cf7e7e786de555450701be2cb2f007f6\", element=\"9fa0dcf3-7484-473b-abb3-f419fd7dcfc4\")>,\n",
       " <selenium.webdriver.remote.webelement.WebElement (session=\"cf7e7e786de555450701be2cb2f007f6\", element=\"77be1a35-204f-4729-94a0-6fbf655c288a\")>,\n",
       " <selenium.webdriver.remote.webelement.WebElement (session=\"cf7e7e786de555450701be2cb2f007f6\", element=\"c587f941-61f7-43f6-8834-180f0b3b94d8\")>,\n",
       " <selenium.webdriver.remote.webelement.WebElement (session=\"cf7e7e786de555450701be2cb2f007f6\", element=\"2a3d8bd9-9162-4901-99d9-bae7a23d91be\")>,\n",
       " <selenium.webdriver.remote.webelement.WebElement (session=\"cf7e7e786de555450701be2cb2f007f6\", element=\"b53330af-c851-4c9b-ad45-5b37b7c6f0dd\")>,\n",
       " <selenium.webdriver.remote.webelement.WebElement (session=\"cf7e7e786de555450701be2cb2f007f6\", element=\"c816cb46-3fac-4c5a-b82c-808dc534e42a\")>]"
      ]
     },
     "execution_count": 135,
     "metadata": {},
     "output_type": "execute_result"
    }
   ],
   "source": [
    "loc=driver.find_elements(By.XPATH,'//li[@class=\"fleft grey-text br2 placeHolderLi location\"]')\n",
    "loc"
   ]
  },
  {
   "cell_type": "code",
   "execution_count": 100,
   "id": "e8d09d99",
   "metadata": {},
   "outputs": [
    {
     "data": {
      "text/plain": [
       "20"
      ]
     },
     "execution_count": 100,
     "metadata": {},
     "output_type": "execute_result"
    }
   ],
   "source": [
    "Location=[]\n",
    "\n",
    "\n",
    "for i in loc:\n",
    "    Location.append(i.text)\n",
    "len(Location)"
   ]
  },
  {
   "cell_type": "code",
   "execution_count": 136,
   "id": "17e9c045",
   "metadata": {},
   "outputs": [
    {
     "data": {
      "text/plain": [
       "[<selenium.webdriver.remote.webelement.WebElement (session=\"cf7e7e786de555450701be2cb2f007f6\", element=\"ff15061c-0fe2-4e3e-b6eb-75745c9616cd\")>,\n",
       " <selenium.webdriver.remote.webelement.WebElement (session=\"cf7e7e786de555450701be2cb2f007f6\", element=\"c2a623c1-00b6-4936-b138-a5f5dda74d3e\")>,\n",
       " <selenium.webdriver.remote.webelement.WebElement (session=\"cf7e7e786de555450701be2cb2f007f6\", element=\"2e7f98d0-a37a-4a7d-b940-79e1a9313091\")>,\n",
       " <selenium.webdriver.remote.webelement.WebElement (session=\"cf7e7e786de555450701be2cb2f007f6\", element=\"06ef7004-02a4-4436-97f3-b59e25942f51\")>,\n",
       " <selenium.webdriver.remote.webelement.WebElement (session=\"cf7e7e786de555450701be2cb2f007f6\", element=\"56d286bc-97b6-4a57-859d-b6918b4bad0b\")>,\n",
       " <selenium.webdriver.remote.webelement.WebElement (session=\"cf7e7e786de555450701be2cb2f007f6\", element=\"e76ffdbc-c2e2-4f16-889e-bb537b787ecf\")>,\n",
       " <selenium.webdriver.remote.webelement.WebElement (session=\"cf7e7e786de555450701be2cb2f007f6\", element=\"c41e1c4f-6594-41ee-a4d5-0991cf2ffc0e\")>,\n",
       " <selenium.webdriver.remote.webelement.WebElement (session=\"cf7e7e786de555450701be2cb2f007f6\", element=\"55e7b358-ee50-4687-bfc8-1e17b0b3e0ab\")>,\n",
       " <selenium.webdriver.remote.webelement.WebElement (session=\"cf7e7e786de555450701be2cb2f007f6\", element=\"4a7f7a5b-e48d-4a1a-9d52-0b702c666c11\")>,\n",
       " <selenium.webdriver.remote.webelement.WebElement (session=\"cf7e7e786de555450701be2cb2f007f6\", element=\"700f3193-4bba-4b38-87cf-ef8c579a933d\")>,\n",
       " <selenium.webdriver.remote.webelement.WebElement (session=\"cf7e7e786de555450701be2cb2f007f6\", element=\"f3652d2b-9179-42dc-be0e-31ed7f735832\")>,\n",
       " <selenium.webdriver.remote.webelement.WebElement (session=\"cf7e7e786de555450701be2cb2f007f6\", element=\"ff195987-e450-4e18-8e20-c8322c10cb66\")>,\n",
       " <selenium.webdriver.remote.webelement.WebElement (session=\"cf7e7e786de555450701be2cb2f007f6\", element=\"cd4acb3c-ca23-42bc-ab30-9199e5f3776f\")>,\n",
       " <selenium.webdriver.remote.webelement.WebElement (session=\"cf7e7e786de555450701be2cb2f007f6\", element=\"c29bfb1a-72f9-473d-952f-6863139bce7c\")>,\n",
       " <selenium.webdriver.remote.webelement.WebElement (session=\"cf7e7e786de555450701be2cb2f007f6\", element=\"6e2a0528-5fd5-4f01-a210-395586bd4f10\")>,\n",
       " <selenium.webdriver.remote.webelement.WebElement (session=\"cf7e7e786de555450701be2cb2f007f6\", element=\"e846cfcc-6ad9-439e-9bf7-f90cdad4beec\")>,\n",
       " <selenium.webdriver.remote.webelement.WebElement (session=\"cf7e7e786de555450701be2cb2f007f6\", element=\"c6cd3901-699f-4d01-a798-5aa37422b54e\")>,\n",
       " <selenium.webdriver.remote.webelement.WebElement (session=\"cf7e7e786de555450701be2cb2f007f6\", element=\"cda0fa50-d5e5-45d5-a7ff-276f9d0887d6\")>,\n",
       " <selenium.webdriver.remote.webelement.WebElement (session=\"cf7e7e786de555450701be2cb2f007f6\", element=\"d408f0be-dbed-4a30-848e-488af3e04bf1\")>,\n",
       " <selenium.webdriver.remote.webelement.WebElement (session=\"cf7e7e786de555450701be2cb2f007f6\", element=\"5c08d79b-3e92-4545-bf42-668207ee53a8\")>]"
      ]
     },
     "execution_count": 136,
     "metadata": {},
     "output_type": "execute_result"
    }
   ],
   "source": [
    "com=driver.find_elements(By.XPATH,'//a[@class=\"subTitle ellipsis fleft\"]')\n",
    "com"
   ]
  },
  {
   "cell_type": "code",
   "execution_count": 137,
   "id": "56a999e6",
   "metadata": {},
   "outputs": [
    {
     "data": {
      "text/plain": [
       "20"
      ]
     },
     "execution_count": 137,
     "metadata": {},
     "output_type": "execute_result"
    }
   ],
   "source": [
    "Company=[]\n",
    "\n",
    "for i in com:\n",
    "    Company.append(i.text)\n",
    "len(Company)"
   ]
  },
  {
   "cell_type": "code",
   "execution_count": 138,
   "id": "33644449",
   "metadata": {},
   "outputs": [],
   "source": [
    "df=pd.DataFrame({'Company Name':Company,'Job_Title':title,'Experiance':experiance,'Work_Location':Location})"
   ]
  },
  {
   "cell_type": "code",
   "execution_count": 139,
   "id": "42a144a4",
   "metadata": {},
   "outputs": [],
   "source": [
    "df_1=df[0:10]"
   ]
  },
  {
   "cell_type": "code",
   "execution_count": 140,
   "id": "fdd0f572",
   "metadata": {},
   "outputs": [
    {
     "data": {
      "text/html": [
       "<div>\n",
       "<style scoped>\n",
       "    .dataframe tbody tr th:only-of-type {\n",
       "        vertical-align: middle;\n",
       "    }\n",
       "\n",
       "    .dataframe tbody tr th {\n",
       "        vertical-align: top;\n",
       "    }\n",
       "\n",
       "    .dataframe thead th {\n",
       "        text-align: right;\n",
       "    }\n",
       "</style>\n",
       "<table border=\"1\" class=\"dataframe\">\n",
       "  <thead>\n",
       "    <tr style=\"text-align: right;\">\n",
       "      <th></th>\n",
       "      <th>Company Name</th>\n",
       "      <th>Job_Title</th>\n",
       "      <th>Experiance</th>\n",
       "      <th>Work_Location</th>\n",
       "    </tr>\n",
       "  </thead>\n",
       "  <tbody>\n",
       "    <tr>\n",
       "      <th>0</th>\n",
       "      <td>Meesho</td>\n",
       "      <td>Data Analyst/Senior Data Analyst</td>\n",
       "      <td>3-6 Yrs</td>\n",
       "      <td>Bangalore/Bengaluru</td>\n",
       "    </tr>\n",
       "    <tr>\n",
       "      <th>1</th>\n",
       "      <td>Flipkart</td>\n",
       "      <td>Senior Data Analyst II</td>\n",
       "      <td>3-6 Yrs</td>\n",
       "      <td>Bangalore/Bengaluru</td>\n",
       "    </tr>\n",
       "    <tr>\n",
       "      <th>2</th>\n",
       "      <td>BYJUS</td>\n",
       "      <td>Data Analyst</td>\n",
       "      <td>2-5 Yrs</td>\n",
       "      <td>Bangalore/Bengaluru</td>\n",
       "    </tr>\n",
       "    <tr>\n",
       "      <th>3</th>\n",
       "      <td>Artech Infosystems Pvt. Ltd.</td>\n",
       "      <td>Senior Business Analyst, Data Analytics &amp; Engi...</td>\n",
       "      <td>4-8 Yrs</td>\n",
       "      <td>Chennai, Bangalore/Bengaluru</td>\n",
       "    </tr>\n",
       "    <tr>\n",
       "      <th>4</th>\n",
       "      <td>Navitas LLP</td>\n",
       "      <td>Clinical Data Analyst</td>\n",
       "      <td>3-8 Yrs</td>\n",
       "      <td>Bangalore/Bengaluru</td>\n",
       "    </tr>\n",
       "    <tr>\n",
       "      <th>5</th>\n",
       "      <td>Walmart</td>\n",
       "      <td>Senior Data Analyst</td>\n",
       "      <td>4-7 Yrs</td>\n",
       "      <td>Bangalore/Bengaluru, Delhi / NCR</td>\n",
       "    </tr>\n",
       "    <tr>\n",
       "      <th>6</th>\n",
       "      <td>Wells Fargo</td>\n",
       "      <td>Senior Data Management Analyst</td>\n",
       "      <td>7-12 Yrs</td>\n",
       "      <td>Bangalore/Bengaluru</td>\n",
       "    </tr>\n",
       "    <tr>\n",
       "      <th>7</th>\n",
       "      <td>Wells Fargo</td>\n",
       "      <td>Senior Data Management Analyst</td>\n",
       "      <td>8-13 Yrs</td>\n",
       "      <td>Gurgaon/Gurugram, Bangalore/Bengaluru, Delhi /...</td>\n",
       "    </tr>\n",
       "    <tr>\n",
       "      <th>8</th>\n",
       "      <td>cliqhr.com</td>\n",
       "      <td>Business Analyst/Data Analyst</td>\n",
       "      <td>5-10 Yrs</td>\n",
       "      <td>Bangalore/Bengaluru\\n(WFH during Covid)</td>\n",
       "    </tr>\n",
       "    <tr>\n",
       "      <th>9</th>\n",
       "      <td>manoramaONLINE</td>\n",
       "      <td>Senior Data Analyst</td>\n",
       "      <td>5-10 Yrs</td>\n",
       "      <td>Bangalore/Bengaluru</td>\n",
       "    </tr>\n",
       "  </tbody>\n",
       "</table>\n",
       "</div>"
      ],
      "text/plain": [
       "                   Company Name  \\\n",
       "0                        Meesho   \n",
       "1                      Flipkart   \n",
       "2                         BYJUS   \n",
       "3  Artech Infosystems Pvt. Ltd.   \n",
       "4                   Navitas LLP   \n",
       "5                       Walmart   \n",
       "6                   Wells Fargo   \n",
       "7                   Wells Fargo   \n",
       "8                    cliqhr.com   \n",
       "9                manoramaONLINE   \n",
       "\n",
       "                                           Job_Title Experiance  \\\n",
       "0                   Data Analyst/Senior Data Analyst    3-6 Yrs   \n",
       "1                             Senior Data Analyst II    3-6 Yrs   \n",
       "2                                       Data Analyst    2-5 Yrs   \n",
       "3  Senior Business Analyst, Data Analytics & Engi...    4-8 Yrs   \n",
       "4                              Clinical Data Analyst    3-8 Yrs   \n",
       "5                                Senior Data Analyst    4-7 Yrs   \n",
       "6                     Senior Data Management Analyst   7-12 Yrs   \n",
       "7                     Senior Data Management Analyst   8-13 Yrs   \n",
       "8                      Business Analyst/Data Analyst   5-10 Yrs   \n",
       "9                                Senior Data Analyst   5-10 Yrs   \n",
       "\n",
       "                                       Work_Location  \n",
       "0                                Bangalore/Bengaluru  \n",
       "1                                Bangalore/Bengaluru  \n",
       "2                                Bangalore/Bengaluru  \n",
       "3                       Chennai, Bangalore/Bengaluru  \n",
       "4                                Bangalore/Bengaluru  \n",
       "5                   Bangalore/Bengaluru, Delhi / NCR  \n",
       "6                                Bangalore/Bengaluru  \n",
       "7  Gurgaon/Gurugram, Bangalore/Bengaluru, Delhi /...  \n",
       "8            Bangalore/Bengaluru\\n(WFH during Covid)  \n",
       "9                                Bangalore/Bengaluru  "
      ]
     },
     "execution_count": 140,
     "metadata": {},
     "output_type": "execute_result"
    }
   ],
   "source": [
    "df_1"
   ]
  },
  {
   "cell_type": "markdown",
   "id": "6f80221d",
   "metadata": {},
   "source": [
    "# 2 Write a python program to scrape data for “Data Scientist” Job position in “Bangalore” location"
   ]
  },
  {
   "cell_type": "code",
   "execution_count": null,
   "id": "e91f52ca",
   "metadata": {},
   "outputs": [],
   "source": [
    "url=('https://www.naukri.com/')\n",
    "driver.get(url)\n",
    "Search_jobs=driver.find_element(By.CLASS_NAME,\"suggestor-input\")\n",
    "Search_jobs\n",
    "Search_jobs.send_keys(\"Data Scientist\")"
   ]
  },
  {
   "cell_type": "code",
   "execution_count": null,
   "id": "9ea78c06",
   "metadata": {},
   "outputs": [],
   "source": [
    "Search_locn=driver.find_element(By.XPATH,\"/html/body/div[1]/div[2]/div[3]/div/div/div[5]/div/div/div/input\")\n",
    "Search_locn"
   ]
  },
  {
   "cell_type": "code",
   "execution_count": null,
   "id": "6f25b113",
   "metadata": {},
   "outputs": [],
   "source": [
    "Search_locn.send_keys(\"Banglore\")"
   ]
  },
  {
   "cell_type": "code",
   "execution_count": null,
   "id": "0eca98e1",
   "metadata": {},
   "outputs": [],
   "source": [
    "search_btn=driver.find_element(By.XPATH,\"/html/body/div[1]/div[2]/div[3]/div/div/div[6]\")\n",
    "search_btn"
   ]
  },
  {
   "cell_type": "code",
   "execution_count": null,
   "id": "53a0e043",
   "metadata": {},
   "outputs": [],
   "source": [
    "search_btn.click()"
   ]
  },
  {
   "cell_type": "code",
   "execution_count": null,
   "id": "a9c6f426",
   "metadata": {},
   "outputs": [],
   "source": [
    "tit=driver.find_elements(By.XPATH,'//a[@class=\"title fw500 ellipsis\"]')\n",
    "len(tit)\n",
    "title=[]"
   ]
  },
  {
   "cell_type": "code",
   "execution_count": null,
   "id": "673ec210",
   "metadata": {},
   "outputs": [],
   "source": [
    "for i in tit:\n",
    "    title.append(i.text)\n",
    "len(title)"
   ]
  },
  {
   "cell_type": "code",
   "execution_count": null,
   "id": "469c2b50",
   "metadata": {},
   "outputs": [],
   "source": [
    "exp=driver.find_elements(By.XPATH,'//li[@class=\"fleft grey-text br2 placeHolderLi experience\"]')\n",
    "exp"
   ]
  },
  {
   "cell_type": "code",
   "execution_count": null,
   "id": "14a4e1a2",
   "metadata": {},
   "outputs": [],
   "source": [
    "experiance=[]\n",
    "\n",
    "for i in exp:\n",
    "    experiance.append(i.text)\n",
    "len(experiance)\n"
   ]
  },
  {
   "cell_type": "code",
   "execution_count": null,
   "id": "361f2fdd",
   "metadata": {},
   "outputs": [],
   "source": [
    "loc=driver.find_elements(By.XPATH,'//li[@class=\"fleft grey-text br2 placeHolderLi location\"]')\n",
    "loc"
   ]
  },
  {
   "cell_type": "code",
   "execution_count": null,
   "id": "e70df244",
   "metadata": {},
   "outputs": [],
   "source": [
    "Location=[]\n",
    "\n",
    "\n",
    "for i in loc:\n",
    "    Location.append(i.text)\n",
    "len(Location)"
   ]
  },
  {
   "cell_type": "code",
   "execution_count": null,
   "id": "7b3a3098",
   "metadata": {},
   "outputs": [],
   "source": [
    "com=driver.find_elements(By.XPATH,'//a[@class=\"subTitle ellipsis fleft\"]')\n",
    "com"
   ]
  },
  {
   "cell_type": "code",
   "execution_count": null,
   "id": "a4de1e1a",
   "metadata": {},
   "outputs": [],
   "source": [
    "Company=[]\n",
    "\n",
    "for i in com:\n",
    "    Company.append(i.text)\n",
    "len(Company)"
   ]
  },
  {
   "cell_type": "code",
   "execution_count": null,
   "id": "d0d91a6f",
   "metadata": {},
   "outputs": [],
   "source": [
    "df=pd.DataFrame({'Company Name':Company,'Job_Title':title,'Experiance':experiance,'Work_Location':Location})\n",
    "df_1=df[0:10]\n",
    "df_1"
   ]
  },
  {
   "cell_type": "markdown",
   "id": "c3b868fb",
   "metadata": {},
   "source": [
    "# Q3: In this question you have to scrape data using the filters available on the webpage as shown below"
   ]
  },
  {
   "cell_type": "code",
   "execution_count": 3,
   "id": "58f94e94",
   "metadata": {},
   "outputs": [],
   "source": [
    "url=('https://www.naukri.com/')\n",
    "driver.get(url)"
   ]
  },
  {
   "cell_type": "code",
   "execution_count": 6,
   "id": "4e2a5b46",
   "metadata": {},
   "outputs": [],
   "source": [
    "Search_jobs=driver.find_element(By.CLASS_NAME,\"suggestor-input\")\n",
    "Search_jobs\n",
    "Search_jobs.send_keys(\"Data Scientist\")"
   ]
  },
  {
   "cell_type": "code",
   "execution_count": null,
   "id": "675ef7a8",
   "metadata": {},
   "outputs": [],
   "source": [
    "search_btn=driver.find_element(By.XPATH,\"/html/body/div[1]/div[2]/div[3]/div/div/div[6]\")\n",
    "search_btn"
   ]
  },
  {
   "cell_type": "code",
   "execution_count": null,
   "id": "f70721b1",
   "metadata": {},
   "outputs": [],
   "source": [
    "search_btn.click()"
   ]
  },
  {
   "cell_type": "code",
   "execution_count": null,
   "id": "2a2bad8a",
   "metadata": {},
   "outputs": [],
   "source": [
    "loc=driver.find_element(By.XPATH,'/html/body/div[1]/div[3]/div[2]/section[1]/div[2]/div[5]/div[2]/div[3]/label/i')"
   ]
  },
  {
   "cell_type": "code",
   "execution_count": null,
   "id": "492edeaa",
   "metadata": {},
   "outputs": [],
   "source": [
    "loc.click()"
   ]
  },
  {
   "cell_type": "code",
   "execution_count": null,
   "id": "32d28317",
   "metadata": {},
   "outputs": [],
   "source": [
    "sal=driver.find_element(By.XPATH,'/html/body/div[1]/div[3]/div[2]/section[1]/div[2]/div[6]/div[2]/div[2]/label/i')"
   ]
  },
  {
   "cell_type": "code",
   "execution_count": null,
   "id": "3c900389",
   "metadata": {},
   "outputs": [],
   "source": [
    "sal.click()"
   ]
  },
  {
   "cell_type": "code",
   "execution_count": null,
   "id": "fe769cc1",
   "metadata": {},
   "outputs": [],
   "source": [
    "tit=driver.find_elements(By.XPATH,'//a[@class=\"title fw500 ellipsis\"]')\n",
    "len(tit)"
   ]
  },
  {
   "cell_type": "code",
   "execution_count": null,
   "id": "33d8825a",
   "metadata": {},
   "outputs": [],
   "source": [
    "title=[]\n",
    "\n",
    "\n",
    "for i in tit:\n",
    "    title.append(i.text)\n",
    "len(title)"
   ]
  },
  {
   "cell_type": "code",
   "execution_count": null,
   "id": "83c2992d",
   "metadata": {},
   "outputs": [],
   "source": [
    "exp=driver.find_elements(By.XPATH,'//li[@class=\"fleft grey-text br2 placeHolderLi experience\"]')\n",
    "exp"
   ]
  },
  {
   "cell_type": "code",
   "execution_count": null,
   "id": "ac11a96a",
   "metadata": {},
   "outputs": [],
   "source": [
    "experiance=[]\n",
    "\n",
    "for i in exp:\n",
    "    experiance.append(i.text)\n",
    "len(experiance)"
   ]
  },
  {
   "cell_type": "code",
   "execution_count": null,
   "id": "5439ea31",
   "metadata": {},
   "outputs": [],
   "source": [
    "loc=driver.find_elements(By.XPATH,'//li[@class=\"fleft grey-text br2 placeHolderLi location\"]')\n",
    "loc"
   ]
  },
  {
   "cell_type": "code",
   "execution_count": null,
   "id": "f2285c1d",
   "metadata": {},
   "outputs": [],
   "source": [
    "Location=[]\n",
    "\n",
    "\n",
    "for i in loc:\n",
    "    Location.append(i.text)\n",
    "len(Location)"
   ]
  },
  {
   "cell_type": "code",
   "execution_count": null,
   "id": "e2ac78f6",
   "metadata": {},
   "outputs": [],
   "source": [
    "com=driver.find_elements(By.XPATH,'//a[@class=\"subTitle ellipsis fleft\"]')\n",
    "com"
   ]
  },
  {
   "cell_type": "code",
   "execution_count": null,
   "id": "7734ebfc",
   "metadata": {},
   "outputs": [],
   "source": [
    "Company=[]\n",
    "\n",
    "for i in com:\n",
    "    Company.append(i.text)\n",
    "len(Company)"
   ]
  },
  {
   "cell_type": "code",
   "execution_count": null,
   "id": "f3e937fc",
   "metadata": {},
   "outputs": [],
   "source": [
    "df=pd.DataFrame({'Company Name':Company,'Job_Title':title,'Experiance':experiance,'Work_Location':Location})"
   ]
  },
  {
   "cell_type": "code",
   "execution_count": null,
   "id": "45535ee0",
   "metadata": {},
   "outputs": [],
   "source": [
    "df_1=df[0:10]\n",
    "df_1"
   ]
  },
  {
   "cell_type": "markdown",
   "id": "a32c97d8",
   "metadata": {},
   "source": [
    "# Q4: Scrape data of first 100 sunglasses listings on flipkart.com. You have to scrape four attributes:\n",
    "#1Brand\n",
    "#2Product Description\n",
    "#3Price\n"
   ]
  },
  {
   "cell_type": "code",
   "execution_count": null,
   "id": "ea534829",
   "metadata": {},
   "outputs": [],
   "source": [
    "url=('https://www.flipkart.com/')\n",
    "driver.get(url)"
   ]
  },
  {
   "cell_type": "code",
   "execution_count": null,
   "id": "0d70550d",
   "metadata": {},
   "outputs": [],
   "source": [
    "Search_glass=driver.find_element(By.CLASS_NAME,\"_3704LK\")\n",
    "Search_glass"
   ]
  },
  {
   "cell_type": "code",
   "execution_count": null,
   "id": "e70252bc",
   "metadata": {},
   "outputs": [],
   "source": [
    "Search_glass.send_keys('Sunglass')"
   ]
  },
  {
   "cell_type": "code",
   "execution_count": null,
   "id": "6358e952",
   "metadata": {},
   "outputs": [],
   "source": [
    "search_btn=driver.find_element(By.CLASS_NAME,\"L0Z3Pu\")\n",
    "search_btn"
   ]
  },
  {
   "cell_type": "code",
   "execution_count": null,
   "id": "03c0cac2",
   "metadata": {},
   "outputs": [],
   "source": [
    "search_btn.click()"
   ]
  },
  {
   "cell_type": "code",
   "execution_count": null,
   "id": "ad1c1da5",
   "metadata": {},
   "outputs": [],
   "source": [
    "brand=driver.find_elements(By.XPATH,'//div[@class=\"_2WkVRV\"]')\n",
    "len(brand)"
   ]
  },
  {
   "cell_type": "code",
   "execution_count": null,
   "id": "5a6a07ff",
   "metadata": {},
   "outputs": [],
   "source": [
    "Glass_Brand=[]\n",
    "\n",
    "\n",
    "for i in brand:\n",
    "    Glass_Brand.append(i.text)\n",
    "len(Glass_Brand)"
   ]
  },
  {
   "cell_type": "code",
   "execution_count": null,
   "id": "e5b92217",
   "metadata": {},
   "outputs": [],
   "source": [
    "type_=driver.find_elements(By.XPATH,'//a[@class=\"IRpwTa\"]')\n",
    "len(type_)"
   ]
  },
  {
   "cell_type": "code",
   "execution_count": null,
   "id": "2051e007",
   "metadata": {},
   "outputs": [],
   "source": [
    "type_1=[]\n",
    "\n",
    "\n",
    "for i in type_:\n",
    "    type_1.append(i.text)\n",
    "len(type_1)"
   ]
  },
  {
   "cell_type": "code",
   "execution_count": null,
   "id": "1e8ef1d1",
   "metadata": {},
   "outputs": [],
   "source": [
    "price=driver.find_elements(By.XPATH,'//div[@class=\"_30jeq3\"]')\n",
    "len(price)"
   ]
  },
  {
   "cell_type": "code",
   "execution_count": null,
   "id": "8c73ef86",
   "metadata": {},
   "outputs": [],
   "source": [
    "PRICE=[]\n",
    "\n",
    "\n",
    "for i in price:\n",
    "    PRICE.append(i.text)\n",
    "PRICE"
   ]
  },
  {
   "cell_type": "code",
   "execution_count": null,
   "id": "82b6b115",
   "metadata": {},
   "outputs": [],
   "source": [
    "nxt=driver.find_element(By.XPATH,'/html/body/div[1]/div/div[3]/div[1]/div[2]/div[12]/div/div/nav/a[11]')\n",
    "nxt"
   ]
  },
  {
   "cell_type": "code",
   "execution_count": null,
   "id": "73ba0718",
   "metadata": {},
   "outputs": [],
   "source": [
    "nxt.click()"
   ]
  },
  {
   "cell_type": "code",
   "execution_count": null,
   "id": "7de55a5c",
   "metadata": {},
   "outputs": [],
   "source": [
    "brand_2=driver.find_elements(By.XPATH,'//div[@class=\"_2WkVRV\"]')\n",
    "len(brand_2)"
   ]
  },
  {
   "cell_type": "code",
   "execution_count": null,
   "id": "5ea3a908",
   "metadata": {},
   "outputs": [],
   "source": [
    "Glass_Brand_2=[]\n",
    "\n",
    "\n",
    "for i in brand_2:\n",
    "    Glass_Brand_2.append(i.text)\n",
    "Glass_Brand_2"
   ]
  },
  {
   "cell_type": "code",
   "execution_count": null,
   "id": "bbcd68ff",
   "metadata": {},
   "outputs": [],
   "source": [
    "Type_1=driver.find_elements(By.XPATH,'//a[@class=\"IRpwTa\"]')\n",
    "len(Type_1)"
   ]
  },
  {
   "cell_type": "code",
   "execution_count": null,
   "id": "4b96c408",
   "metadata": {},
   "outputs": [],
   "source": [
    "type_2=[]\n",
    "\n",
    "for i in Type_1:\n",
    "    type_2.append(i.text)\n",
    "len(type_2)"
   ]
  },
  {
   "cell_type": "code",
   "execution_count": null,
   "id": "8a04c1f3",
   "metadata": {},
   "outputs": [],
   "source": [
    "price_1=driver.find_elements(By.XPATH,'//div[@class=\"_30jeq3\"]')\n",
    "len(price_1)"
   ]
  },
  {
   "cell_type": "code",
   "execution_count": null,
   "id": "57c9c214",
   "metadata": {},
   "outputs": [],
   "source": [
    "PRICE_1=[]\n",
    "\n",
    "\n",
    "for i in price_1:\n",
    "    PRICE_1.append(i.text)\n",
    "PRICE_1"
   ]
  },
  {
   "cell_type": "code",
   "execution_count": null,
   "id": "ccb4501f",
   "metadata": {},
   "outputs": [],
   "source": [
    "nxt=driver.find_element(By.XPATH,'/html/body/div[1]/div/div[3]/div[1]/div[2]/div[12]/div/div/nav/a[11]')\n",
    "nxt"
   ]
  },
  {
   "cell_type": "code",
   "execution_count": null,
   "id": "5c38ebec",
   "metadata": {},
   "outputs": [],
   "source": [
    "nxt.click()"
   ]
  },
  {
   "cell_type": "code",
   "execution_count": null,
   "id": "46d78ae6",
   "metadata": {},
   "outputs": [],
   "source": [
    "brand_3=driver.find_elements(By.XPATH,'//div[@class=\"_2WkVRV\"]')\n",
    "len(brand_3)"
   ]
  },
  {
   "cell_type": "code",
   "execution_count": null,
   "id": "9a5ef8ec",
   "metadata": {},
   "outputs": [],
   "source": [
    "Glass_Brand_3=[]\n",
    "\n",
    "\n",
    "for i in brand_3:\n",
    "    Glass_Brand_3.append(i.text)\n",
    "len(Glass_Brand_3)"
   ]
  },
  {
   "cell_type": "code",
   "execution_count": null,
   "id": "750bda06",
   "metadata": {},
   "outputs": [],
   "source": [
    "Type_2=driver.find_elements(By.XPATH,'//a[@class=\"IRpwTa\"]')\n",
    "len(Type_2)"
   ]
  },
  {
   "cell_type": "code",
   "execution_count": null,
   "id": "8c3c331d",
   "metadata": {},
   "outputs": [],
   "source": [
    "type_3=[]\n",
    "\n",
    "\n",
    "for i in Type_2:\n",
    "    type_3.append(i.text)\n",
    "len(type_3)"
   ]
  },
  {
   "cell_type": "code",
   "execution_count": null,
   "id": "1846ef9f",
   "metadata": {},
   "outputs": [],
   "source": [
    "price_2=driver.find_elements(By.XPATH,'//div[@class=\"_30jeq3\"]')\n",
    "len(price_2)"
   ]
  },
  {
   "cell_type": "code",
   "execution_count": null,
   "id": "bf298378",
   "metadata": {},
   "outputs": [],
   "source": [
    "PRICE_2=[]\n",
    "\n",
    "\n",
    "for i in price_2:\n",
    "    PRICE_2.append(i.text)\n",
    "PRICE_2"
   ]
  },
  {
   "cell_type": "code",
   "execution_count": null,
   "id": "dab3e200",
   "metadata": {},
   "outputs": [],
   "source": [
    "S_BRAND=Glass_Brand+Glass_Brand_2+Glass_Brand_3\n",
    "S_B=S_BRAND[0:120]\n",
    "len(S_B)"
   ]
  },
  {
   "cell_type": "code",
   "execution_count": null,
   "id": "73025168",
   "metadata": {},
   "outputs": [],
   "source": [
    "S_TYPE=type_1+type_2+type_3\n",
    "len(S_TYPE)"
   ]
  },
  {
   "cell_type": "code",
   "execution_count": null,
   "id": "c55b6c28",
   "metadata": {},
   "outputs": [],
   "source": [
    "S_PRICE=PRICE+PRICE_1+PRICE_2\n",
    "len(S_PRICE)"
   ]
  },
  {
   "cell_type": "code",
   "execution_count": null,
   "id": "ca57fe03",
   "metadata": {},
   "outputs": [],
   "source": [
    "df=pd.DataFrame({'BRAND':S_B,'TYPE':S_TYPE,'PRICE':S_PRICE})\n",
    "df_1=df[0:100]\n",
    "df_1"
   ]
  },
  {
   "cell_type": "markdown",
   "id": "ed66ba5e",
   "metadata": {},
   "source": [
    "# Q5: Scrape 100 reviews data from flipkart.com for iphone11 phone.\n",
    "This task will be done in following steps:\n",
    "1. First get the webpage https://www.flipkart.com/\n",
    "2. Enter “iphone 11” in “Search” field . \n",
    "3. Then click the search button."
   ]
  },
  {
   "cell_type": "code",
   "execution_count": null,
   "id": "11f3c059",
   "metadata": {},
   "outputs": [],
   "source": [
    "url=('https://www.flipkart.com/apple-iphone-11-black-128-gb/product-reviews/itm8244e8d955aba?pid=MOBFWQ6BKRYBP5X8&lid=LSTMOBFWQ6BKRYBP5X8X0KYUG&marketplace=FLIPKART')\n",
    "driver.get(url)"
   ]
  },
  {
   "cell_type": "code",
   "execution_count": null,
   "id": "cc7075a2",
   "metadata": {},
   "outputs": [],
   "source": [
    "rating=driver.find_elements(By.XPATH,'//div[@class=\"_3LWZlK _1BLPMq\"]')\n",
    "rev=driver.find_elements(By.XPATH,'//p[@class=\"_2-N8zT\"]')\n",
    "feed=driver.find_elements(By.XPATH,'//div[@class=\"t-ZTKy\"]')"
   ]
  },
  {
   "cell_type": "code",
   "execution_count": null,
   "id": "11e6060a",
   "metadata": {},
   "outputs": [],
   "source": [
    "r=[]\n",
    "Rev=[]\n",
    "Feed=[]\n",
    "for i in rating:\n",
    "    r.append(i.text)\n",
    "    \n",
    "for i in rev:\n",
    "    Rev.append(i.text)\n",
    "    \n",
    "for i in feed:\n",
    "    Feed.append(i.text)"
   ]
  },
  {
   "cell_type": "code",
   "execution_count": null,
   "id": "cd1ece2f",
   "metadata": {},
   "outputs": [],
   "source": [
    "next_=driver.find_element(By.XPATH,'//a[@class=\"ge-49M\"]')\n",
    "next_.click()"
   ]
  },
  {
   "cell_type": "code",
   "execution_count": null,
   "id": "8fd424a5",
   "metadata": {},
   "outputs": [],
   "source": [
    "rating=driver.find_elements(By.XPATH,'//div[@class=\"_3LWZlK _1BLPMq\"]')\n",
    "rev=driver.find_elements(By.XPATH,'//p[@class=\"_2-N8zT\"]')\n",
    "feed=driver.find_elements(By.XPATH,'//div[@class=\"t-ZTKy\"]')"
   ]
  },
  {
   "cell_type": "code",
   "execution_count": null,
   "id": "bc144159",
   "metadata": {},
   "outputs": [],
   "source": [
    "A=[]\n",
    "B=[]\n",
    "C=[]\n",
    "for i in rating:\n",
    "    A.append(i.text)\n",
    "    \n",
    "for i in rev:\n",
    "    B.append(i.text)\n",
    "    \n",
    "for i in feed:\n",
    "    C.append(i.text)"
   ]
  },
  {
   "cell_type": "code",
   "execution_count": null,
   "id": "1e36432a",
   "metadata": {},
   "outputs": [],
   "source": [
    "next_=driver.find_element(By.XPATH,'/html/body/div/div/div[3]/div/div/div[2]/div[13]/div/div/nav/a[4]')"
   ]
  },
  {
   "cell_type": "code",
   "execution_count": null,
   "id": "66115b64",
   "metadata": {},
   "outputs": [],
   "source": [
    "next_.click()"
   ]
  },
  {
   "cell_type": "code",
   "execution_count": null,
   "id": "be195585",
   "metadata": {},
   "outputs": [],
   "source": [
    "rating=driver.find_elements(By.XPATH,'//div[@class=\"_3LWZlK _1BLPMq\"]')\n",
    "rev=driver.find_elements(By.XPATH,'//p[@class=\"_2-N8zT\"]')\n",
    "feed=driver.find_elements(By.XPATH,'//div[@class=\"t-ZTKy\"]')\n"
   ]
  },
  {
   "cell_type": "code",
   "execution_count": null,
   "id": "76a1c794",
   "metadata": {},
   "outputs": [],
   "source": [
    "D=[]\n",
    "E=[]\n",
    "F=[]\n",
    "for i in rating:\n",
    "    D.append(i.text)\n",
    "    \n",
    "for i in rev:\n",
    "    E.append(i.text)\n",
    "    \n",
    "for i in feed:\n",
    "    F.append(i.text)"
   ]
  },
  {
   "cell_type": "code",
   "execution_count": null,
   "id": "b67ac785",
   "metadata": {},
   "outputs": [],
   "source": [
    "next_=driver.find_element(By.XPATH,'/html/body/div/div/div[3]/div/div/div[2]/div[13]/div/div/nav/a[5]')\n",
    "next_.click()"
   ]
  },
  {
   "cell_type": "code",
   "execution_count": null,
   "id": "bf9882f8",
   "metadata": {},
   "outputs": [],
   "source": [
    "rating=driver.find_elements(By.XPATH,'//div[@class=\"_3LWZlK _1BLPMq\"]')\n",
    "rev=driver.find_elements(By.XPATH,'//p[@class=\"_2-N8zT\"]')\n",
    "feed=driver.find_elements(By.XPATH,'//div[@class=\"t-ZTKy\"]')"
   ]
  },
  {
   "cell_type": "code",
   "execution_count": null,
   "id": "3c760c0d",
   "metadata": {},
   "outputs": [],
   "source": [
    "G=[]\n",
    "H=[]\n",
    "I=[]\n",
    "for i in rating:\n",
    "    G.append(i.text)\n",
    "    \n",
    "for i in rev:\n",
    "    H.append(i.text)\n",
    "    \n",
    "for i in feed:\n",
    "    I.append(i.text)"
   ]
  },
  {
   "cell_type": "code",
   "execution_count": null,
   "id": "f756a83e",
   "metadata": {},
   "outputs": [],
   "source": [
    "next_=driver.find_element(By.XPATH,'/html/body/div/div/div[3]/div/div/div[2]/div[13]/div/div/nav/a[6]')\n",
    "next_.click()"
   ]
  },
  {
   "cell_type": "code",
   "execution_count": null,
   "id": "b5af6ed7",
   "metadata": {},
   "outputs": [],
   "source": [
    "rating=driver.find_elements(By.XPATH,'//div[@class=\"_3LWZlK _1BLPMq\"]')\n",
    "rev=driver.find_elements(By.XPATH,'//p[@class=\"_2-N8zT\"]')\n",
    "feed=driver.find_elements(By.XPATH,'//div[@class=\"t-ZTKy\"]')"
   ]
  },
  {
   "cell_type": "code",
   "execution_count": null,
   "id": "a52922d7",
   "metadata": {},
   "outputs": [],
   "source": [
    "J=[]\n",
    "K=[]\n",
    "L=[]\n",
    "for i in rating:\n",
    "    J.append(i.text)\n",
    "    \n",
    "for i in rev:\n",
    "    K.append(i.text)\n",
    "    \n",
    "for i in feed:\n",
    "    L.append(i.text)"
   ]
  },
  {
   "cell_type": "code",
   "execution_count": null,
   "id": "4e8ca306",
   "metadata": {},
   "outputs": [],
   "source": [
    "next_=driver.find_element(By.XPATH,'/html/body/div/div/div[3]/div/div/div[2]/div[13]/div/div/nav/a[7]')\n",
    "next_.click()"
   ]
  },
  {
   "cell_type": "code",
   "execution_count": null,
   "id": "566cb9e5",
   "metadata": {},
   "outputs": [],
   "source": [
    "rating=driver.find_elements(By.XPATH,'//div[@class=\"_3LWZlK _1BLPMq\"]')\n",
    "rev=driver.find_elements(By.XPATH,'//p[@class=\"_2-N8zT\"]')\n",
    "feed=driver.find_elements(By.XPATH,'//div[@class=\"t-ZTKy\"]')"
   ]
  },
  {
   "cell_type": "code",
   "execution_count": null,
   "id": "46fe8092",
   "metadata": {},
   "outputs": [],
   "source": [
    "M=[]\n",
    "N=[]\n",
    "O=[]\n",
    "for i in rating:\n",
    "    M.append(i.text)\n",
    "    \n",
    "for i in rev:\n",
    "    N.append(i.text)\n",
    "    \n",
    "for i in feed:\n",
    "    O.append(i.text)"
   ]
  },
  {
   "cell_type": "code",
   "execution_count": null,
   "id": "11aa802a",
   "metadata": {},
   "outputs": [],
   "source": [
    "next_=driver.find_element(By.XPATH,'/html/body/div/div/div[3]/div/div/div[2]/div[13]/div/div/nav/a[5]')\n",
    "next_.click()"
   ]
  },
  {
   "cell_type": "code",
   "execution_count": null,
   "id": "c32834ae",
   "metadata": {},
   "outputs": [],
   "source": [
    "rating=driver.find_elements(By.XPATH,'//div[@class=\"_3LWZlK _1BLPMq\"]')\n",
    "rev=driver.find_elements(By.XPATH,'//p[@class=\"_2-N8zT\"]')\n",
    "feed=driver.find_elements(By.XPATH,'//div[@class=\"t-ZTKy\"]')"
   ]
  },
  {
   "cell_type": "code",
   "execution_count": null,
   "id": "97a1551b",
   "metadata": {},
   "outputs": [],
   "source": [
    "P=[]\n",
    "Q=[]\n",
    "R=[]\n",
    "for i in rating:\n",
    "    P.append(i.text)\n",
    "    \n",
    "for i in rev:\n",
    "    Q.append(i.text)\n",
    "    \n",
    "for i in feed:\n",
    "    R.append(i.text)"
   ]
  },
  {
   "cell_type": "code",
   "execution_count": null,
   "id": "c5944f66",
   "metadata": {},
   "outputs": [],
   "source": [
    "next_=driver.find_element(By.XPATH,'/html/body/div/div/div[3]/div/div/div[2]/div[13]/div/div/nav/a[7]')\n",
    "next_.click()"
   ]
  },
  {
   "cell_type": "code",
   "execution_count": null,
   "id": "b489f8ee",
   "metadata": {},
   "outputs": [],
   "source": [
    "rating=driver.find_elements(By.XPATH,'//div[@class=\"_3LWZlK _1BLPMq\"]')\n",
    "rev=driver.find_elements(By.XPATH,'//p[@class=\"_2-N8zT\"]')\n",
    "feed=driver.find_elements(By.XPATH,'//div[@class=\"t-ZTKy\"]')"
   ]
  },
  {
   "cell_type": "code",
   "execution_count": null,
   "id": "2af00769",
   "metadata": {},
   "outputs": [],
   "source": [
    "S=[]\n",
    "T=[]\n",
    "U=[]\n",
    "for i in rating:\n",
    "    S.append(i.text)\n",
    "    \n",
    "for i in rev:\n",
    "    T.append(i.text)\n",
    "    \n",
    "for i in feed:\n",
    "    U.append(i.text)"
   ]
  },
  {
   "cell_type": "code",
   "execution_count": null,
   "id": "c0f29759",
   "metadata": {},
   "outputs": [],
   "source": [
    "next_=driver.find_element(By.XPATH,'/html/body/div/div/div[3]/div/div/div[2]/div[13]/div/div/nav/a[7]')\n",
    "next_.click()"
   ]
  },
  {
   "cell_type": "code",
   "execution_count": null,
   "id": "cc873948",
   "metadata": {},
   "outputs": [],
   "source": [
    "rating=driver.find_elements(By.XPATH,'//div[@class=\"_3LWZlK _1BLPMq\"]')\n",
    "rev=driver.find_elements(By.XPATH,'//p[@class=\"_2-N8zT\"]')\n",
    "feed=driver.find_elements(By.XPATH,'//div[@class=\"t-ZTKy\"]')"
   ]
  },
  {
   "cell_type": "code",
   "execution_count": null,
   "id": "1a44e3bc",
   "metadata": {},
   "outputs": [],
   "source": [
    "V=[]\n",
    "W=[]\n",
    "X=[]\n",
    "for i in rating:\n",
    "    V.append(i.text)\n",
    "    \n",
    "for i in rev:\n",
    "    W.append(i.text)\n",
    "    \n",
    "for i in feed:\n",
    "    X.append(i.text)"
   ]
  },
  {
   "cell_type": "code",
   "execution_count": null,
   "id": "9080ccf1",
   "metadata": {},
   "outputs": [],
   "source": [
    "next_=driver.find_element(By.XPATH,'/html/body/div/div/div[3]/div/div/div[2]/div[13]/div/div/nav/a[7]')\n",
    "next_.click()"
   ]
  },
  {
   "cell_type": "code",
   "execution_count": null,
   "id": "7872b474",
   "metadata": {},
   "outputs": [],
   "source": [
    "rating=driver.find_elements(By.XPATH,'//div[@class=\"_3LWZlK _1BLPMq\"]')\n",
    "rev=driver.find_elements(By.XPATH,'//p[@class=\"_2-N8zT\"]')\n",
    "feed=driver.find_elements(By.XPATH,'//div[@class=\"t-ZTKy\"]')"
   ]
  },
  {
   "cell_type": "code",
   "execution_count": null,
   "id": "4f894e3c",
   "metadata": {},
   "outputs": [],
   "source": [
    "Y=[]\n",
    "Z=[]\n",
    "Z1=[]\n",
    "for i in rating:\n",
    "    Y.append(i.text)\n",
    "    \n",
    "for i in rev:\n",
    "    Z.append(i.text)\n",
    "    \n",
    "for i in feed:\n",
    "    Z1.append(i.text)"
   ]
  },
  {
   "cell_type": "code",
   "execution_count": null,
   "id": "1fa64248",
   "metadata": {},
   "outputs": [],
   "source": [
    "next_=driver.find_element(By.XPATH,'/html/body/div/div/div[3]/div/div/div[2]/div[13]/div/div/nav/a[7]')\n",
    "next_.click()"
   ]
  },
  {
   "cell_type": "code",
   "execution_count": null,
   "id": "65cb81d8",
   "metadata": {},
   "outputs": [],
   "source": [
    "rating=driver.find_elements(By.XPATH,'//div[@class=\"_3LWZlK _1BLPMq\"]')\n",
    "rev=driver.find_elements(By.XPATH,'//p[@class=\"_2-N8zT\"]')\n",
    "feed=driver.find_elements(By.XPATH,'//div[@class=\"t-ZTKy\"]')"
   ]
  },
  {
   "cell_type": "code",
   "execution_count": null,
   "id": "e3016fd8",
   "metadata": {},
   "outputs": [],
   "source": [
    "AA=[]\n",
    "BB=[]\n",
    "CC=[]\n",
    "for i in rating:\n",
    "    AA.append(i.text)\n",
    "    \n",
    "for i in rev:\n",
    "    BB.append(i.text)\n",
    "    \n",
    "for i in feed:\n",
    "    CC.append(i.text)"
   ]
  },
  {
   "cell_type": "code",
   "execution_count": null,
   "id": "64e7c41e",
   "metadata": {},
   "outputs": [],
   "source": [
    "M_RAT=r+A+D+G+J+M+P+S+V+Y+AA\n",
    "len(M_RAT)\n",
    "M_RA=M_RAT[0:100]"
   ]
  },
  {
   "cell_type": "code",
   "execution_count": null,
   "id": "fbdf4383",
   "metadata": {},
   "outputs": [],
   "source": [
    "M_REV=Rev+B+E+H+K+N+Q+T+W+N+BB\n",
    "len(M_REV)\n",
    "M_R=M_REV[0:100]\n",
    "len(M_R)"
   ]
  },
  {
   "cell_type": "code",
   "execution_count": null,
   "id": "9767aedb",
   "metadata": {},
   "outputs": [],
   "source": [
    "M_FEED=Feed+C+F+I+L+O+R+U+X+Z1+CC\n",
    "len(M_FEED)\n",
    "M_F=M_FEED[0:100]\n",
    "len(M_F)"
   ]
  },
  {
   "cell_type": "code",
   "execution_count": null,
   "id": "e1700127",
   "metadata": {},
   "outputs": [],
   "source": [
    "df=pd.DataFrame({'RATING':M_RA,'SHORT_REVIEW':M_R,'REVIEW':M_F})\n",
    "DF"
   ]
  },
  {
   "cell_type": "markdown",
   "id": "88ccd103",
   "metadata": {},
   "source": [
    "# Q6: Scrape data for first 100 sneakers you find when you visit flipkart.com and search for “sneakers” in the \n",
    "search field.\n",
    "You have to scrape 4 attributes of each sneaker:\n",
    "1. Brand\n",
    "2. Product Description\n",
    "3. Price"
   ]
  },
  {
   "cell_type": "code",
   "execution_count": null,
   "id": "46e928c0",
   "metadata": {},
   "outputs": [],
   "source": [
    "url=driver.get(\"https://www.flipkart.com\")\n"
   ]
  },
  {
   "cell_type": "code",
   "execution_count": null,
   "id": "98958079",
   "metadata": {},
   "outputs": [],
   "source": [
    "search_sne=driver.find_element(By.CLASS_NAME,\"_3704LK\")\n",
    "search_sne"
   ]
  },
  {
   "cell_type": "code",
   "execution_count": null,
   "id": "527ec60c",
   "metadata": {},
   "outputs": [],
   "source": [
    "search_sne.send_keys('Sneakers')"
   ]
  },
  {
   "cell_type": "code",
   "execution_count": null,
   "id": "3d04f976",
   "metadata": {},
   "outputs": [],
   "source": [
    "search_btn=driver.find_element(By.CLASS_NAME,\"L0Z3Pu\")\n",
    "search_btn"
   ]
  },
  {
   "cell_type": "code",
   "execution_count": null,
   "id": "f0edd258",
   "metadata": {},
   "outputs": [],
   "source": [
    "search_btn.click()"
   ]
  },
  {
   "cell_type": "code",
   "execution_count": null,
   "id": "7597a72c",
   "metadata": {},
   "outputs": [],
   "source": [
    "brand=driver.find_elements(By.XPATH,'//div[@class=\"_2WkVRV\"]')\n",
    "len(brand)"
   ]
  },
  {
   "cell_type": "code",
   "execution_count": null,
   "id": "535f31d7",
   "metadata": {},
   "outputs": [],
   "source": [
    "BRAND=[]\n",
    "for i in brand:\n",
    "    BRAND.append(i.text)\n",
    "len(BRAND)\n",
    "BRAND"
   ]
  },
  {
   "cell_type": "code",
   "execution_count": null,
   "id": "d93f8ff5",
   "metadata": {},
   "outputs": [],
   "source": [
    "pro_des=driver.find_elements(By.XPATH,'//a[@class=\"IRpwTa\"]')\n",
    "len(pro_des)"
   ]
  },
  {
   "cell_type": "code",
   "execution_count": null,
   "id": "4ca0c831",
   "metadata": {},
   "outputs": [],
   "source": [
    "PRO_DES=[]\n",
    "for i in pro_des:\n",
    "     PRO_DES.append(i.text)\n",
    "PRO_DES\n"
   ]
  },
  {
   "cell_type": "code",
   "execution_count": null,
   "id": "de374125",
   "metadata": {},
   "outputs": [],
   "source": [
    "price=driver.find_elements(By.XPATH,'//div[@class=\"_30jeq3\"]')"
   ]
  },
  {
   "cell_type": "code",
   "execution_count": null,
   "id": "24c24350",
   "metadata": {},
   "outputs": [],
   "source": [
    "PRICE=[]\n",
    "for i in price:\n",
    "    PRICE.append(i.text)\n",
    "PRICE"
   ]
  },
  {
   "cell_type": "code",
   "execution_count": null,
   "id": "e589e956",
   "metadata": {},
   "outputs": [],
   "source": [
    "nxt_btn=driver.find_element(By.CLASS_NAME,\"_1LKTO3\")\n",
    "nxt_btn.click()"
   ]
  },
  {
   "cell_type": "code",
   "execution_count": null,
   "id": "4fcf1aad",
   "metadata": {},
   "outputs": [],
   "source": [
    "brand_1=driver.find_elements(By.XPATH,'//div[@class=\"_2WkVRV\"]')\n",
    "len(brand_1)"
   ]
  },
  {
   "cell_type": "code",
   "execution_count": null,
   "id": "6e932aa4",
   "metadata": {},
   "outputs": [],
   "source": [
    "BRAND_1=[]\n",
    "for i in brand_1:\n",
    "    BRAND_1.append(i.text)\n",
    "len(BRAND_1)\n",
    "BRAND_1"
   ]
  },
  {
   "cell_type": "code",
   "execution_count": null,
   "id": "10d75bc3",
   "metadata": {},
   "outputs": [],
   "source": [
    "pro_des_1=driver.find_elements(By.XPATH,'//a[@class=\"IRpwTa\"]')\n",
    "len(pro_des_1)"
   ]
  },
  {
   "cell_type": "code",
   "execution_count": null,
   "id": "0dfbd42e",
   "metadata": {},
   "outputs": [],
   "source": [
    "PRO_DES_1=[]\n",
    "for i in pro_des_1:\n",
    "     PRO_DES_1.append(i.text)\n",
    "PRO_DES_1"
   ]
  },
  {
   "cell_type": "code",
   "execution_count": null,
   "id": "ae7082bf",
   "metadata": {},
   "outputs": [],
   "source": [
    "price_1=driver.find_elements(By.XPATH,'//div[@class=\"_30jeq3\"]')"
   ]
  },
  {
   "cell_type": "code",
   "execution_count": null,
   "id": "a92b7882",
   "metadata": {},
   "outputs": [],
   "source": [
    "PRICE_1=[]\n",
    "for i in price_1:\n",
    "    PRICE_1.append(i.text)\n",
    "PRICE_1"
   ]
  },
  {
   "cell_type": "code",
   "execution_count": null,
   "id": "aa955d0a",
   "metadata": {},
   "outputs": [],
   "source": [
    "nxt_btn_3=driver.find_element(By.XPATH,'/html/body/div/div/div[3]/div[1]/div[2]/div[12]/div/div/nav/a[4]')"
   ]
  },
  {
   "cell_type": "code",
   "execution_count": null,
   "id": "0408c8ff",
   "metadata": {},
   "outputs": [],
   "source": [
    "nxt_btn_3.click()"
   ]
  },
  {
   "cell_type": "code",
   "execution_count": null,
   "id": "5179e8f0",
   "metadata": {},
   "outputs": [],
   "source": [
    "brand_2=driver.find_elements(By.XPATH,'//div[@class=\"_2WkVRV\"]')\n",
    "len(brand_2)"
   ]
  },
  {
   "cell_type": "code",
   "execution_count": null,
   "id": "eb0a6fd7",
   "metadata": {},
   "outputs": [],
   "source": [
    "BRAND_2=[]\n",
    "for i in brand_2:\n",
    "    BRAND_2.append(i.text)\n",
    "len(BRAND_2)\n",
    "BRAND_2"
   ]
  },
  {
   "cell_type": "code",
   "execution_count": null,
   "id": "44d7051c",
   "metadata": {},
   "outputs": [],
   "source": [
    "pro_des_2=driver.find_elements(By.XPATH,'//a[@class=\"IRpwTa\"]')\n",
    "len(pro_des_1)"
   ]
  },
  {
   "cell_type": "code",
   "execution_count": null,
   "id": "c619fc5b",
   "metadata": {},
   "outputs": [],
   "source": [
    "PRO_DES_2=[]\n",
    "for i in pro_des_2:\n",
    "     PRO_DES_2.append(i.text)\n",
    "PRO_DES_2"
   ]
  },
  {
   "cell_type": "code",
   "execution_count": null,
   "id": "a93971d9",
   "metadata": {},
   "outputs": [],
   "source": [
    "price_2=driver.find_elements(By.XPATH,'//div[@class=\"_30jeq3\"]')"
   ]
  },
  {
   "cell_type": "code",
   "execution_count": null,
   "id": "59cab0ac",
   "metadata": {},
   "outputs": [],
   "source": [
    "PRICE_2=[]\n",
    "for i in price_2:\n",
    "    PRICE_2.append(i.text)\n",
    "PRICE_2"
   ]
  },
  {
   "cell_type": "code",
   "execution_count": null,
   "id": "636bfc66",
   "metadata": {},
   "outputs": [],
   "source": [
    "S_BRAND=BRAND+BRAND_1+BRAND_2\n",
    "S_PRO=PRO_DES+PRO_DES_1+PRO_DES_2\n",
    "S_PRICE=PRICE+PRICE_1+PRICE_2"
   ]
  },
  {
   "cell_type": "code",
   "execution_count": null,
   "id": "8b60bb51",
   "metadata": {},
   "outputs": [],
   "source": [
    "_BRAND=S_BRAND[0:100]\n",
    "len(_BRAND)"
   ]
  },
  {
   "cell_type": "code",
   "execution_count": null,
   "id": "ff2a7d59",
   "metadata": {},
   "outputs": [],
   "source": [
    "df=pd.DataFrame({'SNEAKER_PRICE':S_PRICE,'SNEAKER_PRO_DESC':S_PRO,'SNEAKER_PRICE':S_PRICE})"
   ]
  },
  {
   "cell_type": "markdown",
   "id": "4fa63b42",
   "metadata": {},
   "source": [
    "# 7: Go to the link - https://www.myntra.com/shoes\n",
    "Set second Price filter and Color filter to “Black”, as shown in the below image."
   ]
  },
  {
   "cell_type": "code",
   "execution_count": null,
   "id": "7311a7ee",
   "metadata": {},
   "outputs": [],
   "source": [
    "url=('http://www.myntra.com/shoes')\n",
    "driver.get(url)"
   ]
  },
  {
   "cell_type": "code",
   "execution_count": null,
   "id": "9e3a5c57",
   "metadata": {},
   "outputs": [],
   "source": [
    "CLR_FILTER=driver.find_element(By.XPATH,'/html/body/div[2]/div/div[1]/main/div[3]/div[1]/section/div/div[6]/ul/li[1]/label/div')\n",
    "CLR_FILTER"
   ]
  },
  {
   "cell_type": "code",
   "execution_count": null,
   "id": "0cb2bffb",
   "metadata": {},
   "outputs": [],
   "source": [
    "CLR_FILTER.click()"
   ]
  },
  {
   "cell_type": "code",
   "execution_count": null,
   "id": "67ab2065",
   "metadata": {},
   "outputs": [],
   "source": [
    "P_FILTER=driver.find_element(By.XPATH,'//*[@id=\"mountRoot\"]/div/div[1]/main/div[3]/div[1]/section/div/div[5]/ul/li[1]/label/div')\n",
    "P_FILTER"
   ]
  },
  {
   "cell_type": "code",
   "execution_count": null,
   "id": "5dccf188",
   "metadata": {},
   "outputs": [],
   "source": [
    "P_FILTER.click()"
   ]
  },
  {
   "cell_type": "code",
   "execution_count": null,
   "id": "1eb584e8",
   "metadata": {},
   "outputs": [],
   "source": [
    "brand=driver.find_elements(By.XPATH,'//h3[@class=\"product-brand\"]')\n",
    "len(brand)"
   ]
  },
  {
   "cell_type": "code",
   "execution_count": null,
   "id": "9b7effdd",
   "metadata": {},
   "outputs": [],
   "source": [
    "Brand=[]\n",
    "\n",
    "\n",
    "for i in brand:\n",
    "    Brand.append(i.text)\n",
    "len(Brand)"
   ]
  },
  {
   "cell_type": "code",
   "execution_count": null,
   "id": "90ae21b4",
   "metadata": {},
   "outputs": [],
   "source": [
    "type_=driver.find_elements(By.XPATH,'//h4[@class=\"product-product\"]')"
   ]
  },
  {
   "cell_type": "code",
   "execution_count": null,
   "id": "744d7a55",
   "metadata": {},
   "outputs": [],
   "source": [
    "Type_1=[]\n",
    "\n",
    "\n",
    "for i in type_:\n",
    "    Type_1.append(i.text)\n",
    "len(Type_1)"
   ]
  },
  {
   "cell_type": "code",
   "execution_count": null,
   "id": "e1f1e742",
   "metadata": {},
   "outputs": [],
   "source": [
    "price=driver.find_elements(By.XPATH,'//div[@class=\"product-price\"]')\n",
    "len(price)"
   ]
  },
  {
   "cell_type": "code",
   "execution_count": null,
   "id": "4dc1311e",
   "metadata": {},
   "outputs": [],
   "source": [
    "price=driver.find_elements(By.XPATH,'//div[@class=\"product-price\"]')\n",
    "len(price)"
   ]
  },
  {
   "cell_type": "code",
   "execution_count": null,
   "id": "4b02fc1a",
   "metadata": {},
   "outputs": [],
   "source": [
    "PRICE=[]\n",
    "\n",
    "\n",
    "for i in price:\n",
    "    PRICE.append(i.text)\n",
    "len(PRICE)"
   ]
  },
  {
   "cell_type": "code",
   "execution_count": null,
   "id": "bf202a77",
   "metadata": {},
   "outputs": [],
   "source": [
    "nxt=driver.find_element(By.XPATH,'/html/body/div[2]/div/div[1]/main/div[3]/div[2]/div/div[2]/section/div[2]/ul/li[3]/a')\n",
    "nxt"
   ]
  },
  {
   "cell_type": "code",
   "execution_count": null,
   "id": "23983d09",
   "metadata": {},
   "outputs": [],
   "source": [
    "nxt.click()"
   ]
  },
  {
   "cell_type": "code",
   "execution_count": null,
   "id": "9d3265f4",
   "metadata": {},
   "outputs": [],
   "source": [
    "brand_1=driver.find_elements(By.XPATH,'//h3[@class=\"product-brand\"]')\n",
    "len(brand_1)"
   ]
  },
  {
   "cell_type": "code",
   "execution_count": null,
   "id": "4ca872af",
   "metadata": {},
   "outputs": [],
   "source": [
    "Brand_1=[]\n",
    "\n",
    "\n",
    "for i in brand_1:\n",
    "    Brand_1.append(i.text)\n",
    "len(Brand_1)"
   ]
  },
  {
   "cell_type": "code",
   "execution_count": null,
   "id": "5ab8d04e",
   "metadata": {},
   "outputs": [],
   "source": [
    "type_=driver.find_elements(By.XPATH,'//h4[@class=\"product-product\"]')"
   ]
  },
  {
   "cell_type": "code",
   "execution_count": null,
   "id": "5b7a3800",
   "metadata": {},
   "outputs": [],
   "source": [
    "Type_2=[]\n",
    "\n",
    "\n",
    "for i in type_:\n",
    "    Type_2.append(i.text)\n",
    "len(Type_2)"
   ]
  },
  {
   "cell_type": "code",
   "execution_count": null,
   "id": "51fde496",
   "metadata": {},
   "outputs": [],
   "source": [
    "price=driver.find_elements(By.XPATH,'//div[@class=\"product-price\"]')\n",
    "len(price)"
   ]
  },
  {
   "cell_type": "code",
   "execution_count": null,
   "id": "3a54f388",
   "metadata": {},
   "outputs": [],
   "source": [
    "PRICE_1=[]\n",
    "\n",
    "\n",
    "for i in price:\n",
    "    PRICE_1.append(i.text)\n",
    "len(PRICE_1)"
   ]
  },
  {
   "cell_type": "code",
   "execution_count": null,
   "id": "686c51e8",
   "metadata": {},
   "outputs": [],
   "source": [
    "BRAND=Brand+Brand_1\n",
    "len(BRAND)\n",
    "TYPE=Type_1+Type_2\n",
    "len(TYPE)\n",
    "S_PRICE=PRICE+PRICE_1\n",
    "len(S_PRICE)"
   ]
  },
  {
   "cell_type": "code",
   "execution_count": null,
   "id": "a5eea52a",
   "metadata": {},
   "outputs": [],
   "source": [
    "DF=pd.DataFrame({'Sneaker_Brand':BRAND,'Sneaker_Type':TYPE,'Sneaker_Price':S_PRICE})\n",
    "DF"
   ]
  },
  {
   "cell_type": "markdown",
   "id": "ec26f6d3",
   "metadata": {},
   "source": [
    "# Q8: Go to webpage https://www.amazon.in/\n",
    "Enter “Laptop” in the search field and then click the search icon.\n",
    "Then set CPU Type filter to “Intel Core i7” as shown in the below image:"
   ]
  },
  {
   "cell_type": "code",
   "execution_count": null,
   "id": "69b7ed82",
   "metadata": {},
   "outputs": [],
   "source": [
    "url='https://www.amazon.in/'\n",
    "driver.get(url)"
   ]
  },
  {
   "cell_type": "code",
   "execution_count": null,
   "id": "107fbf01",
   "metadata": {},
   "outputs": [],
   "source": [
    "laptop=driver.find_element(By.XPATH,\"/html/body/div[1]/header/div/div[1]/div[2]/div/form/div[2]/div[1]/input\")\n",
    "laptop"
   ]
  },
  {
   "cell_type": "code",
   "execution_count": null,
   "id": "c5be5bf9",
   "metadata": {},
   "outputs": [],
   "source": [
    "laptop.send_keys('LAPTOP')"
   ]
  },
  {
   "cell_type": "code",
   "execution_count": null,
   "id": "9d2a24e6",
   "metadata": {},
   "outputs": [],
   "source": [
    "SEARCH=driver.find_element(By.XPATH,\"/html/body/div[1]/header/div/div[1]/div[2]/div/form/div[3]/div/span/input\")\n",
    "SEARCH"
   ]
  },
  {
   "cell_type": "code",
   "execution_count": null,
   "id": "99b4c0be",
   "metadata": {},
   "outputs": [],
   "source": [
    "SEARCH.click()"
   ]
  },
  {
   "cell_type": "code",
   "execution_count": null,
   "id": "cfba89fa",
   "metadata": {},
   "outputs": [],
   "source": [
    "filter_=driver.find_element(By.XPATH,\"/html/body/div[1]/div[2]/div[1]/div[2]/div/div[3]/span/div[1]/div/div/div[6]/ul[2]/li[13]/span/a/div\")\n",
    "filter_"
   ]
  },
  {
   "cell_type": "code",
   "execution_count": null,
   "id": "138836c4",
   "metadata": {},
   "outputs": [],
   "source": [
    "filter_.click()"
   ]
  },
  {
   "cell_type": "code",
   "execution_count": null,
   "id": "cea93bd3",
   "metadata": {},
   "outputs": [],
   "source": [
    "star_filter=driver.find_element(By.XPATH,'/html/body/div[1]/div[2]/div[1]/div[2]/div/div[3]/span/div[1]/div/div/div[3]/ul/li[1]/span/a/section')\n",
    "star_filter"
   ]
  },
  {
   "cell_type": "code",
   "execution_count": null,
   "id": "4afef663",
   "metadata": {},
   "outputs": [],
   "source": [
    "star_filter.click()"
   ]
  },
  {
   "cell_type": "code",
   "execution_count": null,
   "id": "8e6d51fc",
   "metadata": {},
   "outputs": [],
   "source": [
    "title=driver.find_elements(By.XPATH,'//span[@class=\"a-size-medium a-color-base a-text-normal\"]')\n",
    "len(title)"
   ]
  },
  {
   "cell_type": "code",
   "execution_count": null,
   "id": "702c48f5",
   "metadata": {},
   "outputs": [],
   "source": [
    "Title=[]\n",
    "for i in title:\n",
    "    Title.append(i.text)\n",
    "len(Title)"
   ]
  },
  {
   "cell_type": "code",
   "execution_count": null,
   "id": "4eb7e32e",
   "metadata": {},
   "outputs": [],
   "source": [
    "tit=Title[0:10]\n",
    "len(tit)"
   ]
  },
  {
   "cell_type": "code",
   "execution_count": null,
   "id": "7eb90591",
   "metadata": {},
   "outputs": [],
   "source": [
    "rat=driver.find_elements(By.XPATH,'//span[@class=\"a-icon-alt\"]')\n",
    "rat"
   ]
  },
  {
   "cell_type": "code",
   "execution_count": null,
   "id": "6d77affe",
   "metadata": {},
   "outputs": [],
   "source": [
    "Rating=[]\n",
    "for i in rat:\n",
    "    Rating.append(i.text)\n",
    "len(Rating)\n",
    "Rat=Rating[0:10]"
   ]
  },
  {
   "cell_type": "code",
   "execution_count": null,
   "id": "6232ac45",
   "metadata": {},
   "outputs": [],
   "source": [
    "price=driver.find_elements(By.XPATH,'//span[@class=\"a-price-whole\"]')\n",
    "len(price)"
   ]
  },
  {
   "cell_type": "code",
   "execution_count": null,
   "id": "ff67d167",
   "metadata": {},
   "outputs": [],
   "source": [
    "Price=[]\n",
    "for i in price:\n",
    "    Price.append(i.text)\n",
    "Price"
   ]
  },
  {
   "cell_type": "code",
   "execution_count": null,
   "id": "701a5dec",
   "metadata": {},
   "outputs": [],
   "source": [
    "Pri=Price[0:10]"
   ]
  },
  {
   "cell_type": "code",
   "execution_count": null,
   "id": "21e35396",
   "metadata": {},
   "outputs": [],
   "source": [
    "df=pd.DataFrame({'Title':tit,'Rating':Rat,'Price':Pri})\n",
    "df"
   ]
  },
  {
   "cell_type": "markdown",
   "id": "30ba8cb6",
   "metadata": {},
   "source": [
    "# Q9: Write a python program to scrape data for first 10 job results for Data Scientist Designation in Noida \n",
    "location. You have to scrape company name, No. of days ago when job was posted, Rating of the company. \n",
    "This task will be done in following steps:\n",
    "\n"
   ]
  },
  {
   "cell_type": "code",
   "execution_count": null,
   "id": "d3d5bd1c",
   "metadata": {},
   "outputs": [],
   "source": [
    "url=('https://www.ambitionbox.com/')\n",
    "driver.get(url)"
   ]
  },
  {
   "cell_type": "code",
   "execution_count": null,
   "id": "e8decfdf",
   "metadata": {},
   "outputs": [],
   "source": [
    "jobs=driver.find_element(By.XPATH,\"/html/body/div[1]/nav/nav/a[6]\")\n",
    "jobs"
   ]
  },
  {
   "cell_type": "code",
   "execution_count": null,
   "id": "01494738",
   "metadata": {},
   "outputs": [],
   "source": [
    "jobs.click()"
   ]
  },
  {
   "cell_type": "code",
   "execution_count": null,
   "id": "71f41f40",
   "metadata": {},
   "outputs": [],
   "source": [
    "datascientist=driver.find_element(By.XPATH,\"/html/body/div/div/div/div[2]/div[1]/div[1]/div/div/div/div/span/input\")\n",
    "datascientist"
   ]
  },
  {
   "cell_type": "code",
   "execution_count": null,
   "id": "5bf7b573",
   "metadata": {},
   "outputs": [],
   "source": [
    "datascientist.send_keys('Data Scientist')"
   ]
  },
  {
   "cell_type": "code",
   "execution_count": null,
   "id": "815974eb",
   "metadata": {},
   "outputs": [],
   "source": [
    "SEARCH.click()"
   ]
  },
  {
   "cell_type": "code",
   "execution_count": null,
   "id": "d224dba0",
   "metadata": {},
   "outputs": [],
   "source": [
    "filter_=driver.find_element(By.XPATH,\"/html/body/div/div/div/div[2]/div[1]/div[2]/div[1]/div/div/div/div[2]/div[1]/i\")\n",
    "filter_"
   ]
  },
  {
   "cell_type": "code",
   "execution_count": null,
   "id": "f3c1f445",
   "metadata": {},
   "outputs": [],
   "source": [
    "filter_.click()"
   ]
  },
  {
   "cell_type": "code",
   "execution_count": null,
   "id": "a2f6493f",
   "metadata": {},
   "outputs": [],
   "source": [
    "location.send_keys('Noida')"
   ]
  },
  {
   "cell_type": "code",
   "execution_count": null,
   "id": "0cecd37e",
   "metadata": {},
   "outputs": [],
   "source": [
    "location_=driver.find_element(By.XPATH,\"/html/body/div/div/div/div[2]/div[1]/div[2]/div[1]/div/div/div/div[2]/div[2]/div/div[3]/div[1]/div[1]/div/label\")\n",
    "location_"
   ]
  },
  {
   "cell_type": "code",
   "execution_count": null,
   "id": "a11c7e80",
   "metadata": {},
   "outputs": [],
   "source": [
    "location_.click()"
   ]
  },
  {
   "cell_type": "code",
   "execution_count": null,
   "id": "ee01953f",
   "metadata": {},
   "outputs": [],
   "source": [
    "title=driver.find_elements(By.XPATH,'//div[@itemprop=\"itemListElement\"]')\n",
    "len(title)"
   ]
  },
  {
   "cell_type": "code",
   "execution_count": null,
   "id": "af831186",
   "metadata": {},
   "outputs": [],
   "source": [
    "Title=[]\n",
    "for i in title:\n",
    "    Title.append(i.text)\n",
    "Title"
   ]
  },
  {
   "cell_type": "code",
   "execution_count": null,
   "id": "e57b70ec",
   "metadata": {},
   "outputs": [],
   "source": [
    "tit=Title[0:10]\n",
    "len(tit)"
   ]
  },
  {
   "cell_type": "code",
   "execution_count": null,
   "id": "052b686a",
   "metadata": {},
   "outputs": [],
   "source": [
    "company=driver.find_elements(By.XPATH,'//div[@class=\"company-info\"]')\n",
    "company\n",
    "Company=[]\n",
    "for i in company:\n",
    "    Company.append(i.text)\n",
    "Company\n",
    "Com=Company[0:10]"
   ]
  },
  {
   "cell_type": "code",
   "execution_count": null,
   "id": "8ec88aba",
   "metadata": {},
   "outputs": [],
   "source": [
    "Exp=driver.find_elements(By.XPATH,'//div[@class=\"other-info\"]')\n",
    "len(Exp)\n",
    "exp=[]\n",
    "for i in Exp:\n",
    "    exp.append(i.text)\n",
    "len(exp)"
   ]
  },
  {
   "cell_type": "code",
   "execution_count": null,
   "id": "13cb9003",
   "metadata": {},
   "outputs": [],
   "source": [
    "df=pd.DataFrame({'Job':Title,'Company':Com,'Experiance&Skills':exp})\n",
    "df"
   ]
  },
  {
   "cell_type": "markdown",
   "id": "f138fdc9",
   "metadata": {},
   "source": [
    "# Q10: Write a python program to scrape the salary data for Data Scientist designation.\n",
    "You have to scrape Company name, Number of salaries, Average salary, Minsalary, Max Salary. \n",
    "The above task will be, done as shown in the below steps:\n",
    "\n"
   ]
  },
  {
   "cell_type": "code",
   "execution_count": null,
   "id": "6b29dc3a",
   "metadata": {},
   "outputs": [],
   "source": [
    "url=('https://www.ambitionbox.com/')\n",
    "driver.get(url)"
   ]
  },
  {
   "cell_type": "code",
   "execution_count": null,
   "id": "e2a3225f",
   "metadata": {},
   "outputs": [],
   "source": [
    "Salary=driver.find_element(By.XPATH,\"/html/body/div[1]/nav/nav/a[4]\")\n",
    "Salary"
   ]
  },
  {
   "cell_type": "code",
   "execution_count": null,
   "id": "cef64418",
   "metadata": {},
   "outputs": [],
   "source": [
    "Salary.click()"
   ]
  },
  {
   "cell_type": "code",
   "execution_count": null,
   "id": "5ff3150d",
   "metadata": {},
   "outputs": [],
   "source": [
    "datascientist=driver.find_element(By.XPATH,\"/html/body/div/div/div/main/section[1]/div[2]/div[1]/span/input\")\n",
    "datascientist"
   ]
  },
  {
   "cell_type": "code",
   "execution_count": null,
   "id": "54994ec9",
   "metadata": {},
   "outputs": [],
   "source": [
    "datascientist.send_keys('Data Scientist')"
   ]
  },
  {
   "cell_type": "code",
   "execution_count": null,
   "id": "610dba30",
   "metadata": {},
   "outputs": [],
   "source": [
    "click_=driver.find_element(By.XPATH,'/html/body/div/div/div/main/section[1]/div[2]/div[1]/span/div/div/div[1]/div')"
   ]
  },
  {
   "cell_type": "code",
   "execution_count": null,
   "id": "3b43c303",
   "metadata": {},
   "outputs": [],
   "source": [
    "click_.click()"
   ]
  },
  {
   "cell_type": "code",
   "execution_count": null,
   "id": "12d98e9c",
   "metadata": {},
   "outputs": [],
   "source": [
    "title=driver.find_elements(By.XPATH,'//div[@class=\"company-info\"]')\n",
    "len(title)"
   ]
  },
  {
   "cell_type": "code",
   "execution_count": null,
   "id": "5054bf2e",
   "metadata": {},
   "outputs": [],
   "source": [
    "Title=[]\n",
    "for i in title:\n",
    "    Title.append(i.text)\n",
    "Tit=Title[0:10]"
   ]
  },
  {
   "cell_type": "code",
   "execution_count": null,
   "id": "d9a155b4",
   "metadata": {},
   "outputs": [],
   "source": [
    "Salary=driver.find_elements(By.XPATH,'//div[@class=\"salary-values\"]')\n",
    "len(Salary)\n",
    "SALARY=[]\n",
    "for i in Salary:\n",
    "    SALARY.append(i.text.replace('\\n','').split())\n",
    "Sal=SALARY[0:10]\n",
    "Sal"
   ]
  },
  {
   "cell_type": "code",
   "execution_count": null,
   "id": "d1253368",
   "metadata": {},
   "outputs": [],
   "source": [
    "avg=driver.find_elements(By.XPATH,'//p[@class=\"averageCtc\"]')\n",
    "len(avg)\n",
    "Average=[]\n",
    "for i in avg:\n",
    "    Average.append(i.text)\n",
    "AVG=Average[0:10]\n",
    "AVG"
   ]
  },
  {
   "cell_type": "code",
   "execution_count": null,
   "id": "4e1f2825",
   "metadata": {},
   "outputs": [],
   "source": [
    "df=pd.DataFrame({'Company_data':Tit,'Min___Max Sal':Sal,'Average CTC':AVG})\n",
    "df"
   ]
  },
  {
   "cell_type": "code",
   "execution_count": null,
   "id": "a7c765c2",
   "metadata": {},
   "outputs": [],
   "source": []
  }
 ],
 "metadata": {
  "kernelspec": {
   "display_name": "Python 3 (ipykernel)",
   "language": "python",
   "name": "python3"
  },
  "language_info": {
   "codemirror_mode": {
    "name": "ipython",
    "version": 3
   },
   "file_extension": ".py",
   "mimetype": "text/x-python",
   "name": "python",
   "nbconvert_exporter": "python",
   "pygments_lexer": "ipython3",
   "version": "3.9.7"
  }
 },
 "nbformat": 4,
 "nbformat_minor": 5
}
