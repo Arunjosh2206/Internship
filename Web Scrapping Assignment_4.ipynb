{
 "cells": [
  {
   "cell_type": "code",
   "execution_count": 130,
   "id": "ee9c5d38",
   "metadata": {},
   "outputs": [],
   "source": [
    "import selenium\n",
    "from selenium import webdriver\n",
    "import pandas as pd\n",
    "from selenium .webdriver.common.by import By\n",
    "import time\n",
    "import warnings\n",
    "from selenium.common.exceptions import NoSuchElementException,WebDriverException\n",
    "warnings.filterwarnings(\"ignore\")"
   ]
  },
  {
   "cell_type": "code",
   "execution_count": 131,
   "id": "e300f9bf",
   "metadata": {},
   "outputs": [],
   "source": [
    "driver=webdriver.Chrome(r'C:\\Users\\dell\\Downloads\\chromedriver_win32\\chromedriver.exe')"
   ]
  },
  {
   "cell_type": "markdown",
   "id": "530826ca",
   "metadata": {},
   "source": [
    "# Scrape the details of most viewed videos on YouTube from Wikipedia.\n",
    "Url = https://en.wikipedia.org/wiki/List_of_most-viewed_YouTube_videos"
   ]
  },
  {
   "cell_type": "code",
   "execution_count": 103,
   "id": "b9cbc5f4",
   "metadata": {},
   "outputs": [],
   "source": [
    "url=' https://en.wikipedia.org/wiki/List_of_most-viewed_YouTube_videos'\n",
    "driver.get(url)"
   ]
  },
  {
   "cell_type": "code",
   "execution_count": 108,
   "id": "715dbbe9",
   "metadata": {},
   "outputs": [],
   "source": [
    "Rank = []\n",
    "Name = []\n",
    "Artist = []\n",
    "Date = []\n",
    "Views = []"
   ]
  },
  {
   "cell_type": "code",
   "execution_count": 110,
   "id": "54c8df4a",
   "metadata": {},
   "outputs": [],
   "source": [
    "try:\n",
    "    for i in driver.find_elements(By.XPATH,\"//table[@class='wikitable sortable jquery-tablesorter'][1]/tbody/tr/td[1]\"):\n",
    "        Rank.append(i.text)\n",
    "except NoSuchElementException:\n",
    "    Rank.append(\"-\")"
   ]
  },
  {
   "cell_type": "code",
   "execution_count": 118,
   "id": "3c90393a",
   "metadata": {},
   "outputs": [],
   "source": [
    "try:\n",
    "    for i in driver.find_elements(By.XPATH,\"//table[@class='wikitable sortable jquery-tablesorter'][1]/tbody/tr/td[2]\"):\n",
    "        Name.append(i.text.strip(''))\n",
    "except NoSuchElementException:\n",
    "    Name.append(\"-\")"
   ]
  },
  {
   "cell_type": "code",
   "execution_count": 113,
   "id": "db60bde0",
   "metadata": {},
   "outputs": [],
   "source": [
    "try:\n",
    "    for i in driver.find_elements(By.XPATH,\"//table[@class='wikitable sortable jquery-tablesorter'][1]/tbody/tr/td[3]\"):\n",
    "        Artist.append(i.text)\n",
    "except NoSuchElementException:\n",
    "    Artist.append(\"-\")"
   ]
  },
  {
   "cell_type": "code",
   "execution_count": 114,
   "id": "bd3cf25e",
   "metadata": {},
   "outputs": [],
   "source": [
    "try:\n",
    "    for i in driver.find_elements(By.XPATH,\"//table[@class='wikitable sortable jquery-tablesorter'][1]/tbody/tr/td[5]\"):\n",
    "        Date.append(i.text)\n",
    "except NoSuchElementException:\n",
    "    Date.append(\"-\")"
   ]
  },
  {
   "cell_type": "code",
   "execution_count": 115,
   "id": "d5fd28f8",
   "metadata": {},
   "outputs": [],
   "source": [
    "try:\n",
    "    for i in driver.find_elements(By.XPATH,\"//table[@class='wikitable sortable jquery-tablesorter'][1]/tbody/tr/td[4]\"):\n",
    "        Views.append(i.text)\n",
    "except NoSuchElementException:\n",
    "    Views.append(\"-\")\n",
    "        "
   ]
  },
  {
   "cell_type": "code",
   "execution_count": 116,
   "id": "2257262e",
   "metadata": {},
   "outputs": [
    {
     "data": {
      "text/html": [
       "<div>\n",
       "<style scoped>\n",
       "    .dataframe tbody tr th:only-of-type {\n",
       "        vertical-align: middle;\n",
       "    }\n",
       "\n",
       "    .dataframe tbody tr th {\n",
       "        vertical-align: top;\n",
       "    }\n",
       "\n",
       "    .dataframe thead th {\n",
       "        text-align: right;\n",
       "    }\n",
       "</style>\n",
       "<table border=\"1\" class=\"dataframe\">\n",
       "  <thead>\n",
       "    <tr style=\"text-align: right;\">\n",
       "      <th></th>\n",
       "      <th>Rank</th>\n",
       "      <th>Name</th>\n",
       "      <th>Artist</th>\n",
       "      <th>Date</th>\n",
       "      <th>Views</th>\n",
       "    </tr>\n",
       "  </thead>\n",
       "  <tbody>\n",
       "    <tr>\n",
       "      <th>0</th>\n",
       "      <td>1.</td>\n",
       "      <td>\"Baby Shark Dance\"[3]</td>\n",
       "      <td>Pinkfong Baby Shark - Kids' Songs &amp; Stories</td>\n",
       "      <td>June 17, 2016</td>\n",
       "      <td>11.09</td>\n",
       "    </tr>\n",
       "    <tr>\n",
       "      <th>1</th>\n",
       "      <td>2.</td>\n",
       "      <td>\"Despacito\"[6]</td>\n",
       "      <td>Luis Fonsi</td>\n",
       "      <td>January 12, 2017</td>\n",
       "      <td>7.94</td>\n",
       "    </tr>\n",
       "    <tr>\n",
       "      <th>2</th>\n",
       "      <td>3.</td>\n",
       "      <td>\"Johny Johny Yes Papa\"[12]</td>\n",
       "      <td>LooLoo Kids</td>\n",
       "      <td>October 8, 2016</td>\n",
       "      <td>6.41</td>\n",
       "    </tr>\n",
       "    <tr>\n",
       "      <th>3</th>\n",
       "      <td>4.</td>\n",
       "      <td>\"Shape of You\"[13]</td>\n",
       "      <td>Ed Sheeran</td>\n",
       "      <td>January 30, 2017</td>\n",
       "      <td>5.78</td>\n",
       "    </tr>\n",
       "    <tr>\n",
       "      <th>4</th>\n",
       "      <td>5.</td>\n",
       "      <td>\"See You Again\"[15]</td>\n",
       "      <td>Wiz Khalifa</td>\n",
       "      <td>April 6, 2015</td>\n",
       "      <td>5.59</td>\n",
       "    </tr>\n",
       "    <tr>\n",
       "      <th>5</th>\n",
       "      <td>6.</td>\n",
       "      <td>\"Bath Song\"[20]</td>\n",
       "      <td>Cocomelon – Nursery Rhymes</td>\n",
       "      <td>May 2, 2018</td>\n",
       "      <td>5.55</td>\n",
       "    </tr>\n",
       "    <tr>\n",
       "      <th>6</th>\n",
       "      <td>7.</td>\n",
       "      <td>\"Phonics Song with Two Words\"[21]</td>\n",
       "      <td>ChuChu TV</td>\n",
       "      <td>March 6, 2014</td>\n",
       "      <td>4.79</td>\n",
       "    </tr>\n",
       "    <tr>\n",
       "      <th>7</th>\n",
       "      <td>8.</td>\n",
       "      <td>\"Uptown Funk\"[22]</td>\n",
       "      <td>Mark Ronson</td>\n",
       "      <td>November 19, 2014</td>\n",
       "      <td>4.65</td>\n",
       "    </tr>\n",
       "    <tr>\n",
       "      <th>8</th>\n",
       "      <td>9.</td>\n",
       "      <td>\"Learning Colors – Colorful Eggs on a Farm\"[23]</td>\n",
       "      <td>Miroshka TV</td>\n",
       "      <td>February 27, 2018</td>\n",
       "      <td>4.60</td>\n",
       "    </tr>\n",
       "    <tr>\n",
       "      <th>9</th>\n",
       "      <td>10.</td>\n",
       "      <td>\"Gangnam Style\"[24]</td>\n",
       "      <td>Psy</td>\n",
       "      <td>July 15, 2012</td>\n",
       "      <td>4.51</td>\n",
       "    </tr>\n",
       "    <tr>\n",
       "      <th>10</th>\n",
       "      <td>11.</td>\n",
       "      <td>\"Masha and the Bear – Recipe for Disaster\"[29]</td>\n",
       "      <td>Get Movies</td>\n",
       "      <td>January 31, 2012</td>\n",
       "      <td>4.50</td>\n",
       "    </tr>\n",
       "    <tr>\n",
       "      <th>11</th>\n",
       "      <td>12.</td>\n",
       "      <td>\"Wheels on the Bus\"[30]</td>\n",
       "      <td>Cocomelon – Nursery Rhymes</td>\n",
       "      <td>May 24, 2018</td>\n",
       "      <td>4.25</td>\n",
       "    </tr>\n",
       "    <tr>\n",
       "      <th>12</th>\n",
       "      <td>13.</td>\n",
       "      <td>\"Dame Tu Cosita\"[31]</td>\n",
       "      <td>El Chombo</td>\n",
       "      <td>April 5, 2018</td>\n",
       "      <td>4.01</td>\n",
       "    </tr>\n",
       "    <tr>\n",
       "      <th>13</th>\n",
       "      <td>14.</td>\n",
       "      <td>\"Sugar\"[32]</td>\n",
       "      <td>Maroon 5</td>\n",
       "      <td>January 14, 2015</td>\n",
       "      <td>3.74</td>\n",
       "    </tr>\n",
       "    <tr>\n",
       "      <th>14</th>\n",
       "      <td>15.</td>\n",
       "      <td>\"Roar\"[33]</td>\n",
       "      <td>Katy Perry</td>\n",
       "      <td>September 5, 2013</td>\n",
       "      <td>3.63</td>\n",
       "    </tr>\n",
       "    <tr>\n",
       "      <th>15</th>\n",
       "      <td>16.</td>\n",
       "      <td>\"Counting Stars\"[34]</td>\n",
       "      <td>OneRepublic</td>\n",
       "      <td>May 31, 2013</td>\n",
       "      <td>3.62</td>\n",
       "    </tr>\n",
       "    <tr>\n",
       "      <th>16</th>\n",
       "      <td>17.</td>\n",
       "      <td>\"Sorry\"[35]</td>\n",
       "      <td>Justin Bieber</td>\n",
       "      <td>October 22, 2015</td>\n",
       "      <td>3.57</td>\n",
       "    </tr>\n",
       "    <tr>\n",
       "      <th>17</th>\n",
       "      <td>18.</td>\n",
       "      <td>\"Thinking Out Loud\"[36]</td>\n",
       "      <td>Ed Sheeran</td>\n",
       "      <td>October 7, 2014</td>\n",
       "      <td>3.48</td>\n",
       "    </tr>\n",
       "    <tr>\n",
       "      <th>18</th>\n",
       "      <td>19.</td>\n",
       "      <td>\"Axel F\"[37]</td>\n",
       "      <td>Crazy Frog</td>\n",
       "      <td>June 16, 2009</td>\n",
       "      <td>3.46</td>\n",
       "    </tr>\n",
       "    <tr>\n",
       "      <th>19</th>\n",
       "      <td>20.</td>\n",
       "      <td>\"Baa Baa Black Sheep\"[38]</td>\n",
       "      <td>Cocomelon – Nursery Rhymes</td>\n",
       "      <td>June 25, 2018</td>\n",
       "      <td>3.32</td>\n",
       "    </tr>\n",
       "    <tr>\n",
       "      <th>20</th>\n",
       "      <td>21.</td>\n",
       "      <td>\"Dark Horse\"[39]</td>\n",
       "      <td>Katy Perry</td>\n",
       "      <td>February 20, 2014</td>\n",
       "      <td>3.32</td>\n",
       "    </tr>\n",
       "    <tr>\n",
       "      <th>21</th>\n",
       "      <td>22.</td>\n",
       "      <td>\"Faded\"[40]</td>\n",
       "      <td>Alan Walker</td>\n",
       "      <td>December 3, 2015</td>\n",
       "      <td>3.32</td>\n",
       "    </tr>\n",
       "    <tr>\n",
       "      <th>22</th>\n",
       "      <td>23.</td>\n",
       "      <td>\"Girls Like You\"[41]</td>\n",
       "      <td>Maroon 5</td>\n",
       "      <td>May 31, 2018</td>\n",
       "      <td>3.32</td>\n",
       "    </tr>\n",
       "    <tr>\n",
       "      <th>23</th>\n",
       "      <td>24.</td>\n",
       "      <td>\"Let Her Go\"[42]</td>\n",
       "      <td>Passenger</td>\n",
       "      <td>July 25, 2012</td>\n",
       "      <td>3.27</td>\n",
       "    </tr>\n",
       "    <tr>\n",
       "      <th>24</th>\n",
       "      <td>25.</td>\n",
       "      <td>\"Bailando\"[43]</td>\n",
       "      <td>Enrique Iglesias</td>\n",
       "      <td>April 11, 2014</td>\n",
       "      <td>3.25</td>\n",
       "    </tr>\n",
       "    <tr>\n",
       "      <th>25</th>\n",
       "      <td>26.</td>\n",
       "      <td>\"Lean On\"[44]</td>\n",
       "      <td>Major Lazer</td>\n",
       "      <td>March 22, 2015</td>\n",
       "      <td>3.24</td>\n",
       "    </tr>\n",
       "    <tr>\n",
       "      <th>26</th>\n",
       "      <td>27.</td>\n",
       "      <td>\"Perfect\"[45]</td>\n",
       "      <td>Ed Sheeran</td>\n",
       "      <td>November 9, 2017</td>\n",
       "      <td>3.22</td>\n",
       "    </tr>\n",
       "    <tr>\n",
       "      <th>27</th>\n",
       "      <td>28.</td>\n",
       "      <td>\"Waka Waka (This Time for Africa)\"[46]</td>\n",
       "      <td>Shakira</td>\n",
       "      <td>June 4, 2010</td>\n",
       "      <td>3.21</td>\n",
       "    </tr>\n",
       "    <tr>\n",
       "      <th>28</th>\n",
       "      <td>29.</td>\n",
       "      <td>\"Shake It Off\"[47]</td>\n",
       "      <td>Taylor Swift</td>\n",
       "      <td>August 18, 2014</td>\n",
       "      <td>3.19</td>\n",
       "    </tr>\n",
       "    <tr>\n",
       "      <th>29</th>\n",
       "      <td>30.</td>\n",
       "      <td>\"Mi Gente\"[48]</td>\n",
       "      <td>J Balvin</td>\n",
       "      <td>June 29, 2017</td>\n",
       "      <td>3.12</td>\n",
       "    </tr>\n",
       "  </tbody>\n",
       "</table>\n",
       "</div>"
      ],
      "text/plain": [
       "   Rank                                             Name  \\\n",
       "0    1.                            \"Baby Shark Dance\"[3]   \n",
       "1    2.                                   \"Despacito\"[6]   \n",
       "2    3.                       \"Johny Johny Yes Papa\"[12]   \n",
       "3    4.                               \"Shape of You\"[13]   \n",
       "4    5.                              \"See You Again\"[15]   \n",
       "5    6.                                  \"Bath Song\"[20]   \n",
       "6    7.                \"Phonics Song with Two Words\"[21]   \n",
       "7    8.                                \"Uptown Funk\"[22]   \n",
       "8    9.  \"Learning Colors – Colorful Eggs on a Farm\"[23]   \n",
       "9   10.                              \"Gangnam Style\"[24]   \n",
       "10  11.   \"Masha and the Bear – Recipe for Disaster\"[29]   \n",
       "11  12.                          \"Wheels on the Bus\"[30]   \n",
       "12  13.                             \"Dame Tu Cosita\"[31]   \n",
       "13  14.                                      \"Sugar\"[32]   \n",
       "14  15.                                       \"Roar\"[33]   \n",
       "15  16.                             \"Counting Stars\"[34]   \n",
       "16  17.                                      \"Sorry\"[35]   \n",
       "17  18.                          \"Thinking Out Loud\"[36]   \n",
       "18  19.                                     \"Axel F\"[37]   \n",
       "19  20.                        \"Baa Baa Black Sheep\"[38]   \n",
       "20  21.                                 \"Dark Horse\"[39]   \n",
       "21  22.                                      \"Faded\"[40]   \n",
       "22  23.                             \"Girls Like You\"[41]   \n",
       "23  24.                                 \"Let Her Go\"[42]   \n",
       "24  25.                                   \"Bailando\"[43]   \n",
       "25  26.                                    \"Lean On\"[44]   \n",
       "26  27.                                    \"Perfect\"[45]   \n",
       "27  28.           \"Waka Waka (This Time for Africa)\"[46]   \n",
       "28  29.                               \"Shake It Off\"[47]   \n",
       "29  30.                                   \"Mi Gente\"[48]   \n",
       "\n",
       "                                         Artist               Date  Views  \n",
       "0   Pinkfong Baby Shark - Kids' Songs & Stories      June 17, 2016  11.09  \n",
       "1                                    Luis Fonsi   January 12, 2017   7.94  \n",
       "2                                   LooLoo Kids    October 8, 2016   6.41  \n",
       "3                                    Ed Sheeran   January 30, 2017   5.78  \n",
       "4                                   Wiz Khalifa      April 6, 2015   5.59  \n",
       "5                    Cocomelon – Nursery Rhymes        May 2, 2018   5.55  \n",
       "6                                     ChuChu TV      March 6, 2014   4.79  \n",
       "7                                   Mark Ronson  November 19, 2014   4.65  \n",
       "8                                   Miroshka TV  February 27, 2018   4.60  \n",
       "9                                           Psy      July 15, 2012   4.51  \n",
       "10                                   Get Movies   January 31, 2012   4.50  \n",
       "11                   Cocomelon – Nursery Rhymes       May 24, 2018   4.25  \n",
       "12                                    El Chombo      April 5, 2018   4.01  \n",
       "13                                     Maroon 5   January 14, 2015   3.74  \n",
       "14                                   Katy Perry  September 5, 2013   3.63  \n",
       "15                                  OneRepublic       May 31, 2013   3.62  \n",
       "16                                Justin Bieber   October 22, 2015   3.57  \n",
       "17                                   Ed Sheeran    October 7, 2014   3.48  \n",
       "18                                   Crazy Frog      June 16, 2009   3.46  \n",
       "19                   Cocomelon – Nursery Rhymes      June 25, 2018   3.32  \n",
       "20                                   Katy Perry  February 20, 2014   3.32  \n",
       "21                                  Alan Walker   December 3, 2015   3.32  \n",
       "22                                     Maroon 5       May 31, 2018   3.32  \n",
       "23                                    Passenger      July 25, 2012   3.27  \n",
       "24                             Enrique Iglesias     April 11, 2014   3.25  \n",
       "25                                  Major Lazer     March 22, 2015   3.24  \n",
       "26                                   Ed Sheeran   November 9, 2017   3.22  \n",
       "27                                      Shakira       June 4, 2010   3.21  \n",
       "28                                 Taylor Swift    August 18, 2014   3.19  \n",
       "29                                     J Balvin      June 29, 2017   3.12  "
      ]
     },
     "execution_count": 116,
     "metadata": {},
     "output_type": "execute_result"
    }
   ],
   "source": [
    "pd.DataFrame({'Rank':Rank,'Name':Name,'Artist':Artist,'Date':Date,'Views':Views})"
   ]
  },
  {
   "cell_type": "markdown",
   "id": "54fd5ae4",
   "metadata": {},
   "source": [
    "# Scrape the details team India’s international fixtures from bcci.tv.\n",
    "Url = https://www.bcci.tv/.\n",
    "You need to find following details:"
   ]
  },
  {
   "cell_type": "code",
   "execution_count": 92,
   "id": "2ba79169",
   "metadata": {},
   "outputs": [],
   "source": [
    "url='https://www.bcci.tv/'\n",
    "driver.get(url)"
   ]
  },
  {
   "cell_type": "code",
   "execution_count": 94,
   "id": "3034ecf3",
   "metadata": {},
   "outputs": [],
   "source": [
    "viewall=driver.find_element(By.XPATH,'/html/body/div[5]/div/div[2]/div/div[2]/div/div[1]/div[2]/a')"
   ]
  },
  {
   "cell_type": "code",
   "execution_count": 95,
   "id": "8cce3dfa",
   "metadata": {},
   "outputs": [],
   "source": [
    "viewall.click()"
   ]
  },
  {
   "cell_type": "code",
   "execution_count": 96,
   "id": "41245440",
   "metadata": {},
   "outputs": [],
   "source": [
    "date=[]\n",
    "try:\n",
    "    DATE=driver.find_elements(By.XPATH,'//div[@class=\"match-card-left match-schedule\"]')\n",
    "    for i in DATE:\n",
    "        date.append(i.text)\n",
    "except NoSuchElementException:\n",
    "    date.append('-')"
   ]
  },
  {
   "cell_type": "code",
   "execution_count": 97,
   "id": "8c06f048",
   "metadata": {},
   "outputs": [
    {
     "data": {
      "text/plain": [
       "['18 AUG 2022', '20 AUG 2022', '22 AUG 2022']"
      ]
     },
     "execution_count": 97,
     "metadata": {},
     "output_type": "execute_result"
    }
   ],
   "source": [
    "date"
   ]
  },
  {
   "cell_type": "code",
   "execution_count": 98,
   "id": "28ec0580",
   "metadata": {},
   "outputs": [],
   "source": [
    "time=[]\n",
    "try:\n",
    "    TIME=driver.find_elements(By.XPATH,'//div[@class=\"match-card-right match-schedule \"]')\n",
    "    for i in TIME:\n",
    "        time.append(i.text)\n",
    "except NoSuchElementException:\n",
    "    time.append('-')"
   ]
  },
  {
   "cell_type": "code",
   "execution_count": 99,
   "id": "3bd6bab2",
   "metadata": {},
   "outputs": [
    {
     "data": {
      "text/plain": [
       "['12:45 PM IST', '12:45 PM IST', '12:45 PM IST']"
      ]
     },
     "execution_count": 99,
     "metadata": {},
     "output_type": "execute_result"
    }
   ],
   "source": [
    "time"
   ]
  },
  {
   "cell_type": "code",
   "execution_count": 100,
   "id": "e7094be3",
   "metadata": {},
   "outputs": [],
   "source": [
    "link=[]\n",
    "try:\n",
    "    LINK=driver.find_elements(By.XPATH,'//a[@class=\"match-center-btn ng-scope\"]')\n",
    "    for i in LINK:\n",
    "        link.append(i.get_attribute('href'))\n",
    "except NoSuchElementException:\n",
    "        link.append('-')"
   ]
  },
  {
   "cell_type": "code",
   "execution_count": 101,
   "id": "1aabbc50",
   "metadata": {},
   "outputs": [
    {
     "data": {
      "text/plain": [
       "['https://www.bcci.tv/events/77/india-tour-of-zimbabwe-odi-series-2022/match/618/1st-odi',\n",
       " 'https://www.bcci.tv/events/77/india-tour-of-zimbabwe-odi-series-2022/match/619/2nd-odi',\n",
       " 'https://www.bcci.tv/events/77/india-tour-of-zimbabwe-odi-series-2022/match/620/3rd-odi']"
      ]
     },
     "execution_count": 101,
     "metadata": {},
     "output_type": "execute_result"
    }
   ],
   "source": [
    "link"
   ]
  },
  {
   "cell_type": "code",
   "execution_count": 104,
   "id": "1f8274fc",
   "metadata": {},
   "outputs": [],
   "source": [
    "TITLE=[]\n",
    "for i in link:\n",
    "    driver.get(i)\n",
    "    try:\n",
    "        title=driver.find_element(By.XPATH,'/html/body/div[2]/div/div[1]/div[3]/div/div[2]/div[2]/div/div/div/ul/li[1]/span[2]')\n",
    "        TITLE.append(title.text)\n",
    "    except NoSuchElementException:\n",
    "        TITLE.append('-')"
   ]
  },
  {
   "cell_type": "code",
   "execution_count": 105,
   "id": "1962b618",
   "metadata": {},
   "outputs": [
    {
     "data": {
      "text/plain": [
       "['', '', 'INDIA TOUR OF ZIMBABWE ODI SERIES 2022']"
      ]
     },
     "execution_count": 105,
     "metadata": {},
     "output_type": "execute_result"
    }
   ],
   "source": [
    "TITLE"
   ]
  },
  {
   "cell_type": "code",
   "execution_count": 111,
   "id": "f25f23d8",
   "metadata": {},
   "outputs": [],
   "source": [
    "MATCH=[]\n",
    "for i in link:\n",
    "    driver.get(i)\n",
    "    try:\n",
    "        match=driver.find_element(By.XPATH,'/html/body/div[2]/div/div[1]/div[3]/div/div[2]/div[2]/div/div/div/ul/li[2]/span[2]')\n",
    "        MATCH.append(match.text)\n",
    "    except NoSuchElementException:\n",
    "        MATCH.append('-')"
   ]
  },
  {
   "cell_type": "code",
   "execution_count": 112,
   "id": "3f059d0c",
   "metadata": {},
   "outputs": [
    {
     "data": {
      "text/plain": [
       "['Zimbabwe VS India', 'Zimbabwe VS India', '']"
      ]
     },
     "execution_count": 112,
     "metadata": {},
     "output_type": "execute_result"
    }
   ],
   "source": [
    "MATCH"
   ]
  },
  {
   "cell_type": "code",
   "execution_count": 114,
   "id": "11efe2fa",
   "metadata": {},
   "outputs": [],
   "source": [
    "VENUE=[]\n",
    "for i in link:\n",
    "    driver.get(i)\n",
    "    try:\n",
    "        venue=driver.find_element(By.XPATH,'/html/body/div[2]/div/div[1]/div[3]/div[6]/div[4]/div[2]/div[2]/div/div/ul/li[3]/span[2]')\n",
    "        VENUE.append(venue.text)\n",
    "    except NoSuchElementException:\n",
    "        VENUE.append('-')"
   ]
  },
  {
   "cell_type": "code",
   "execution_count": 116,
   "id": "936a2a1c",
   "metadata": {},
   "outputs": [
    {
     "data": {
      "text/plain": [
       "['-', '-', '-']"
      ]
     },
     "execution_count": 116,
     "metadata": {},
     "output_type": "execute_result"
    }
   ],
   "source": [
    "VENUE"
   ]
  },
  {
   "cell_type": "code",
   "execution_count": 117,
   "id": "6a51a8c3",
   "metadata": {},
   "outputs": [],
   "source": [
    "df=pd.DataFrame({'TITLE':TITLE,'MATCH':MATCH,'VENUE':VENUE,'DATE':date,'TIME':time})"
   ]
  },
  {
   "cell_type": "code",
   "execution_count": 118,
   "id": "86c62a58",
   "metadata": {},
   "outputs": [
    {
     "data": {
      "text/html": [
       "<div>\n",
       "<style scoped>\n",
       "    .dataframe tbody tr th:only-of-type {\n",
       "        vertical-align: middle;\n",
       "    }\n",
       "\n",
       "    .dataframe tbody tr th {\n",
       "        vertical-align: top;\n",
       "    }\n",
       "\n",
       "    .dataframe thead th {\n",
       "        text-align: right;\n",
       "    }\n",
       "</style>\n",
       "<table border=\"1\" class=\"dataframe\">\n",
       "  <thead>\n",
       "    <tr style=\"text-align: right;\">\n",
       "      <th></th>\n",
       "      <th>TITLE</th>\n",
       "      <th>MATCH</th>\n",
       "      <th>VENUE</th>\n",
       "      <th>DATE</th>\n",
       "      <th>TIME</th>\n",
       "    </tr>\n",
       "  </thead>\n",
       "  <tbody>\n",
       "    <tr>\n",
       "      <th>0</th>\n",
       "      <td></td>\n",
       "      <td>Zimbabwe VS India</td>\n",
       "      <td>-</td>\n",
       "      <td>18 AUG 2022</td>\n",
       "      <td>12:45 PM IST</td>\n",
       "    </tr>\n",
       "    <tr>\n",
       "      <th>1</th>\n",
       "      <td></td>\n",
       "      <td>Zimbabwe VS India</td>\n",
       "      <td>-</td>\n",
       "      <td>20 AUG 2022</td>\n",
       "      <td>12:45 PM IST</td>\n",
       "    </tr>\n",
       "    <tr>\n",
       "      <th>2</th>\n",
       "      <td>INDIA TOUR OF ZIMBABWE ODI SERIES 2022</td>\n",
       "      <td></td>\n",
       "      <td>-</td>\n",
       "      <td>22 AUG 2022</td>\n",
       "      <td>12:45 PM IST</td>\n",
       "    </tr>\n",
       "  </tbody>\n",
       "</table>\n",
       "</div>"
      ],
      "text/plain": [
       "                                    TITLE              MATCH VENUE  \\\n",
       "0                                          Zimbabwe VS India     -   \n",
       "1                                          Zimbabwe VS India     -   \n",
       "2  INDIA TOUR OF ZIMBABWE ODI SERIES 2022                        -   \n",
       "\n",
       "          DATE          TIME  \n",
       "0  18 AUG 2022  12:45 PM IST  \n",
       "1  20 AUG 2022  12:45 PM IST  \n",
       "2  22 AUG 2022  12:45 PM IST  "
      ]
     },
     "execution_count": 118,
     "metadata": {},
     "output_type": "execute_result"
    }
   ],
   "source": [
    "df"
   ]
  },
  {
   "cell_type": "markdown",
   "id": "7fb0930e",
   "metadata": {},
   "source": [
    "# Scrape the details of selenium exception from guru99.com.\n",
    "Url = https://www.guru99.com/\n",
    "You need to find following details:\n"
   ]
  },
  {
   "cell_type": "code",
   "execution_count": 130,
   "id": "b4dd0091",
   "metadata": {},
   "outputs": [],
   "source": [
    "url='https://www.guru99.com/'\n",
    "driver.get(url)"
   ]
  },
  {
   "cell_type": "code",
   "execution_count": 131,
   "id": "dcffe588",
   "metadata": {},
   "outputs": [],
   "source": [
    "sel=driver.find_element(By.XPATH,'/html/body/div[1]/div/div/div/main/div/article/div/div[1]/div[2]/div[1]/div/ul[1]/li[3]/a')"
   ]
  },
  {
   "cell_type": "code",
   "execution_count": 132,
   "id": "2cf5eaad",
   "metadata": {},
   "outputs": [],
   "source": [
    "sel.click()"
   ]
  },
  {
   "cell_type": "code",
   "execution_count": 133,
   "id": "460a2e42",
   "metadata": {},
   "outputs": [],
   "source": [
    "tut=driver.find_element(By.XPATH,'/html/body/div[1]/div/div/div/main/div/article/div/div/table[5]/tbody/tr[34]/td[1]/a')"
   ]
  },
  {
   "cell_type": "code",
   "execution_count": 134,
   "id": "18089e1f",
   "metadata": {},
   "outputs": [],
   "source": [
    "tut.click()"
   ]
  },
  {
   "cell_type": "code",
   "execution_count": 141,
   "id": "61db30ca",
   "metadata": {},
   "outputs": [],
   "source": [
    "exc=driver.find_elements(By.XPATH,'//table[@class=\"code-block code-block-1\"]/tbody/tr/td')"
   ]
  },
  {
   "cell_type": "code",
   "execution_count": 148,
   "id": "807ea28f",
   "metadata": {},
   "outputs": [],
   "source": [
    "EXC=[]\n",
    "for i in exc:\n",
    "    EXC.append(i.text)"
   ]
  },
  {
   "cell_type": "code",
   "execution_count": 151,
   "id": "6432c6b3",
   "metadata": {},
   "outputs": [],
   "source": [
    "EXC_1=EXC[0::2]"
   ]
  },
  {
   "cell_type": "code",
   "execution_count": 155,
   "id": "c8200cd3",
   "metadata": {},
   "outputs": [],
   "source": [
    "EXC_2=EXC[1::2]"
   ]
  },
  {
   "cell_type": "code",
   "execution_count": 156,
   "id": "cbfe5a00",
   "metadata": {},
   "outputs": [],
   "source": [
    "df=pd.DataFrame({'EXCEPTIONS':EXC_1,'DESCRIPTION':EXC_2})"
   ]
  },
  {
   "cell_type": "code",
   "execution_count": 158,
   "id": "f82a836c",
   "metadata": {},
   "outputs": [
    {
     "data": {
      "text/html": [
       "<div>\n",
       "<style scoped>\n",
       "    .dataframe tbody tr th:only-of-type {\n",
       "        vertical-align: middle;\n",
       "    }\n",
       "\n",
       "    .dataframe tbody tr th {\n",
       "        vertical-align: top;\n",
       "    }\n",
       "\n",
       "    .dataframe thead th {\n",
       "        text-align: right;\n",
       "    }\n",
       "</style>\n",
       "<table border=\"1\" class=\"dataframe\">\n",
       "  <thead>\n",
       "    <tr style=\"text-align: right;\">\n",
       "      <th></th>\n",
       "      <th>EXCEPTIONS</th>\n",
       "      <th>DESCRIPTION</th>\n",
       "    </tr>\n",
       "  </thead>\n",
       "  <tbody>\n",
       "    <tr>\n",
       "      <th>0</th>\n",
       "      <td>ElementNotVisibleException</td>\n",
       "      <td>This type of Selenium exception occurs when an...</td>\n",
       "    </tr>\n",
       "    <tr>\n",
       "      <th>1</th>\n",
       "      <td>ElementNotSelectableException</td>\n",
       "      <td>This Selenium exception occurs when an element...</td>\n",
       "    </tr>\n",
       "    <tr>\n",
       "      <th>2</th>\n",
       "      <td>NoSuchElementException</td>\n",
       "      <td>This Exception occurs if an element could not ...</td>\n",
       "    </tr>\n",
       "    <tr>\n",
       "      <th>3</th>\n",
       "      <td>NoSuchFrameException</td>\n",
       "      <td>This Exception occurs if the frame target to b...</td>\n",
       "    </tr>\n",
       "    <tr>\n",
       "      <th>4</th>\n",
       "      <td>NoAlertPresentException</td>\n",
       "      <td>This Exception occurs when you switch to no pr...</td>\n",
       "    </tr>\n",
       "    <tr>\n",
       "      <th>5</th>\n",
       "      <td>NoSuchWindowException</td>\n",
       "      <td>This Exception occurs if the window target to ...</td>\n",
       "    </tr>\n",
       "    <tr>\n",
       "      <th>6</th>\n",
       "      <td>StaleElementReferenceException</td>\n",
       "      <td>This Selenium exception occurs happens when th...</td>\n",
       "    </tr>\n",
       "    <tr>\n",
       "      <th>7</th>\n",
       "      <td>SessionNotFoundException</td>\n",
       "      <td>The WebDriver is acting after you quit the bro...</td>\n",
       "    </tr>\n",
       "    <tr>\n",
       "      <th>8</th>\n",
       "      <td>TimeoutException</td>\n",
       "      <td>Thrown when there is not enough time for a com...</td>\n",
       "    </tr>\n",
       "    <tr>\n",
       "      <th>9</th>\n",
       "      <td>WebDriverException</td>\n",
       "      <td>This Exception takes place when the WebDriver ...</td>\n",
       "    </tr>\n",
       "    <tr>\n",
       "      <th>10</th>\n",
       "      <td>ConnectionClosedException</td>\n",
       "      <td>This type of Exception takes place when there ...</td>\n",
       "    </tr>\n",
       "    <tr>\n",
       "      <th>11</th>\n",
       "      <td>ElementClickInterceptedException</td>\n",
       "      <td>The command may not be completed as the elemen...</td>\n",
       "    </tr>\n",
       "    <tr>\n",
       "      <th>12</th>\n",
       "      <td>ElementNotInteractableException</td>\n",
       "      <td>This Selenium exception is thrown when any ele...</td>\n",
       "    </tr>\n",
       "    <tr>\n",
       "      <th>13</th>\n",
       "      <td>ErrorInResponseException</td>\n",
       "      <td>This happens while interacting with the Firefo...</td>\n",
       "    </tr>\n",
       "    <tr>\n",
       "      <th>14</th>\n",
       "      <td>ErrorHandler.UnknownServerException</td>\n",
       "      <td>Exception is used as a placeholder in case if ...</td>\n",
       "    </tr>\n",
       "    <tr>\n",
       "      <th>15</th>\n",
       "      <td>ImeActivationFailedException</td>\n",
       "      <td>This expectation will occur when IME engine ac...</td>\n",
       "    </tr>\n",
       "    <tr>\n",
       "      <th>16</th>\n",
       "      <td>ImeNotAvailableException</td>\n",
       "      <td>It takes place when IME support is unavailable.</td>\n",
       "    </tr>\n",
       "    <tr>\n",
       "      <th>17</th>\n",
       "      <td>InsecureCertificateException</td>\n",
       "      <td>Navigation made the user agent to hit a certif...</td>\n",
       "    </tr>\n",
       "    <tr>\n",
       "      <th>18</th>\n",
       "      <td>InvalidArgumentException</td>\n",
       "      <td>It occurs when an argument does not belong to ...</td>\n",
       "    </tr>\n",
       "    <tr>\n",
       "      <th>19</th>\n",
       "      <td>InvalidCookieDomainException</td>\n",
       "      <td>This happens when you try to add a cookie unde...</td>\n",
       "    </tr>\n",
       "    <tr>\n",
       "      <th>20</th>\n",
       "      <td>InvalidCoordinatesException</td>\n",
       "      <td>This type of Exception matches an interacting ...</td>\n",
       "    </tr>\n",
       "    <tr>\n",
       "      <th>21</th>\n",
       "      <td>InvalidElementStateExceptio</td>\n",
       "      <td>It occurs when command can’t be finished when ...</td>\n",
       "    </tr>\n",
       "    <tr>\n",
       "      <th>22</th>\n",
       "      <td>InvalidSessionIdException</td>\n",
       "      <td>This Exception took place when the given sessi...</td>\n",
       "    </tr>\n",
       "    <tr>\n",
       "      <th>23</th>\n",
       "      <td>InvalidSwitchToTargetException</td>\n",
       "      <td>This occurs when the frame or window target to...</td>\n",
       "    </tr>\n",
       "    <tr>\n",
       "      <th>24</th>\n",
       "      <td>JavascriptException</td>\n",
       "      <td>This issue occurs while executing JavaScript g...</td>\n",
       "    </tr>\n",
       "    <tr>\n",
       "      <th>25</th>\n",
       "      <td>JsonException</td>\n",
       "      <td>It occurs when you afford to get the session w...</td>\n",
       "    </tr>\n",
       "    <tr>\n",
       "      <th>26</th>\n",
       "      <td>NoSuchAttributeException</td>\n",
       "      <td>This kind of Exception occurs when the attribu...</td>\n",
       "    </tr>\n",
       "    <tr>\n",
       "      <th>27</th>\n",
       "      <td>MoveTargetOutOfBoundsException</td>\n",
       "      <td>It takes place if the target provided to the A...</td>\n",
       "    </tr>\n",
       "    <tr>\n",
       "      <th>28</th>\n",
       "      <td>NoSuchContextException</td>\n",
       "      <td>ContextAware does mobile device testing.</td>\n",
       "    </tr>\n",
       "    <tr>\n",
       "      <th>29</th>\n",
       "      <td>NoSuchCookieException</td>\n",
       "      <td>This Exception occurs when no cookie matching ...</td>\n",
       "    </tr>\n",
       "    <tr>\n",
       "      <th>30</th>\n",
       "      <td>NotFoundException</td>\n",
       "      <td>This Exception is a subclass of WebDriverExcep...</td>\n",
       "    </tr>\n",
       "    <tr>\n",
       "      <th>31</th>\n",
       "      <td>RemoteDriverServerException</td>\n",
       "      <td>This Selenium exception is thrown when the ser...</td>\n",
       "    </tr>\n",
       "    <tr>\n",
       "      <th>32</th>\n",
       "      <td>ScreenshotException</td>\n",
       "      <td>It is not possible to capture a screen.</td>\n",
       "    </tr>\n",
       "    <tr>\n",
       "      <th>33</th>\n",
       "      <td>SessionNotCreatedException</td>\n",
       "      <td>It happens when a new session could not be suc...</td>\n",
       "    </tr>\n",
       "    <tr>\n",
       "      <th>34</th>\n",
       "      <td>UnableToSetCookieException</td>\n",
       "      <td>This occurs if a driver is unable to set a coo...</td>\n",
       "    </tr>\n",
       "    <tr>\n",
       "      <th>35</th>\n",
       "      <td>UnexpectedTagNameException</td>\n",
       "      <td>Happens if a support class did not get a web e...</td>\n",
       "    </tr>\n",
       "    <tr>\n",
       "      <th>36</th>\n",
       "      <td>UnhandledAlertException</td>\n",
       "      <td>This expectation occurs when there is an alert...</td>\n",
       "    </tr>\n",
       "    <tr>\n",
       "      <th>37</th>\n",
       "      <td>UnexpectedAlertPresentException</td>\n",
       "      <td>It occurs when there is the appearance of an u...</td>\n",
       "    </tr>\n",
       "    <tr>\n",
       "      <th>38</th>\n",
       "      <td>UnknownMethodException</td>\n",
       "      <td>This Exception happens when the requested comm...</td>\n",
       "    </tr>\n",
       "    <tr>\n",
       "      <th>39</th>\n",
       "      <td>UnreachableBrowserException</td>\n",
       "      <td>This Exception occurs only when the browser is...</td>\n",
       "    </tr>\n",
       "    <tr>\n",
       "      <th>40</th>\n",
       "      <td>UnsupportedCommandException</td>\n",
       "      <td>This occurs when remote WebDriver does n’t sen...</td>\n",
       "    </tr>\n",
       "  </tbody>\n",
       "</table>\n",
       "</div>"
      ],
      "text/plain": [
       "                             EXCEPTIONS  \\\n",
       "0            ElementNotVisibleException   \n",
       "1         ElementNotSelectableException   \n",
       "2                NoSuchElementException   \n",
       "3                  NoSuchFrameException   \n",
       "4               NoAlertPresentException   \n",
       "5                 NoSuchWindowException   \n",
       "6        StaleElementReferenceException   \n",
       "7              SessionNotFoundException   \n",
       "8                      TimeoutException   \n",
       "9                    WebDriverException   \n",
       "10            ConnectionClosedException   \n",
       "11     ElementClickInterceptedException   \n",
       "12      ElementNotInteractableException   \n",
       "13             ErrorInResponseException   \n",
       "14  ErrorHandler.UnknownServerException   \n",
       "15         ImeActivationFailedException   \n",
       "16             ImeNotAvailableException   \n",
       "17         InsecureCertificateException   \n",
       "18             InvalidArgumentException   \n",
       "19         InvalidCookieDomainException   \n",
       "20          InvalidCoordinatesException   \n",
       "21          InvalidElementStateExceptio   \n",
       "22            InvalidSessionIdException   \n",
       "23       InvalidSwitchToTargetException   \n",
       "24                  JavascriptException   \n",
       "25                        JsonException   \n",
       "26             NoSuchAttributeException   \n",
       "27       MoveTargetOutOfBoundsException   \n",
       "28               NoSuchContextException   \n",
       "29                NoSuchCookieException   \n",
       "30                    NotFoundException   \n",
       "31          RemoteDriverServerException   \n",
       "32                  ScreenshotException   \n",
       "33           SessionNotCreatedException   \n",
       "34           UnableToSetCookieException   \n",
       "35           UnexpectedTagNameException   \n",
       "36              UnhandledAlertException   \n",
       "37      UnexpectedAlertPresentException   \n",
       "38               UnknownMethodException   \n",
       "39          UnreachableBrowserException   \n",
       "40          UnsupportedCommandException   \n",
       "\n",
       "                                          DESCRIPTION  \n",
       "0   This type of Selenium exception occurs when an...  \n",
       "1   This Selenium exception occurs when an element...  \n",
       "2   This Exception occurs if an element could not ...  \n",
       "3   This Exception occurs if the frame target to b...  \n",
       "4   This Exception occurs when you switch to no pr...  \n",
       "5   This Exception occurs if the window target to ...  \n",
       "6   This Selenium exception occurs happens when th...  \n",
       "7   The WebDriver is acting after you quit the bro...  \n",
       "8   Thrown when there is not enough time for a com...  \n",
       "9   This Exception takes place when the WebDriver ...  \n",
       "10  This type of Exception takes place when there ...  \n",
       "11  The command may not be completed as the elemen...  \n",
       "12  This Selenium exception is thrown when any ele...  \n",
       "13  This happens while interacting with the Firefo...  \n",
       "14  Exception is used as a placeholder in case if ...  \n",
       "15  This expectation will occur when IME engine ac...  \n",
       "16    It takes place when IME support is unavailable.  \n",
       "17  Navigation made the user agent to hit a certif...  \n",
       "18  It occurs when an argument does not belong to ...  \n",
       "19  This happens when you try to add a cookie unde...  \n",
       "20  This type of Exception matches an interacting ...  \n",
       "21  It occurs when command can’t be finished when ...  \n",
       "22  This Exception took place when the given sessi...  \n",
       "23  This occurs when the frame or window target to...  \n",
       "24  This issue occurs while executing JavaScript g...  \n",
       "25  It occurs when you afford to get the session w...  \n",
       "26  This kind of Exception occurs when the attribu...  \n",
       "27  It takes place if the target provided to the A...  \n",
       "28           ContextAware does mobile device testing.  \n",
       "29  This Exception occurs when no cookie matching ...  \n",
       "30  This Exception is a subclass of WebDriverExcep...  \n",
       "31  This Selenium exception is thrown when the ser...  \n",
       "32            It is not possible to capture a screen.  \n",
       "33  It happens when a new session could not be suc...  \n",
       "34  This occurs if a driver is unable to set a coo...  \n",
       "35  Happens if a support class did not get a web e...  \n",
       "36  This expectation occurs when there is an alert...  \n",
       "37  It occurs when there is the appearance of an u...  \n",
       "38  This Exception happens when the requested comm...  \n",
       "39  This Exception occurs only when the browser is...  \n",
       "40  This occurs when remote WebDriver does n’t sen...  "
      ]
     },
     "execution_count": 158,
     "metadata": {},
     "output_type": "execute_result"
    }
   ],
   "source": [
    "df"
   ]
  },
  {
   "cell_type": "code",
   "execution_count": 159,
   "id": "a2fca9ef",
   "metadata": {},
   "outputs": [],
   "source": [
    "df.to_csv('selenium Exceptions.csv',index=True)"
   ]
  },
  {
   "cell_type": "markdown",
   "id": "4ecee7e1",
   "metadata": {},
   "source": [
    "# Scrape the details of State-wise GDP of India from statisticstime.com.\n",
    "Url = http://statisticstimes.com/\n",
    "You have to find following details:"
   ]
  },
  {
   "cell_type": "code",
   "execution_count": null,
   "id": "41ddd021",
   "metadata": {},
   "outputs": [],
   "source": [
    "# url='https://www.statisticstimes.com/'\n",
    "driver.get(url)"
   ]
  },
  {
   "cell_type": "code",
   "execution_count": 169,
   "id": "49e5559f",
   "metadata": {},
   "outputs": [],
   "source": [
    "drop_down=driver.find_element(By.XPATH,'/html/body/div[2]/div[1]/div[2]/div[2]')"
   ]
  },
  {
   "cell_type": "code",
   "execution_count": 170,
   "id": "a2293117",
   "metadata": {},
   "outputs": [],
   "source": [
    "drop_down.click()"
   ]
  },
  {
   "cell_type": "code",
   "execution_count": 171,
   "id": "8bd13fa0",
   "metadata": {},
   "outputs": [],
   "source": [
    "ind=driver.find_element(By.XPATH,'/html/body/div[2]/div[1]/div[2]/div[2]/div/a[3]')"
   ]
  },
  {
   "cell_type": "code",
   "execution_count": 172,
   "id": "5b2d6c55",
   "metadata": {},
   "outputs": [],
   "source": [
    "ind.click()"
   ]
  },
  {
   "cell_type": "code",
   "execution_count": 174,
   "id": "822cc830",
   "metadata": {},
   "outputs": [],
   "source": [
    "ind_s=driver.find_element(By.XPATH,'/html/body/div[2]/div[2]/div[2]/ul/li[1]')"
   ]
  },
  {
   "cell_type": "code",
   "execution_count": 175,
   "id": "e2c6e1b6",
   "metadata": {},
   "outputs": [],
   "source": [
    "ind_s.click()"
   ]
  },
  {
   "cell_type": "code",
   "execution_count": 176,
   "id": "bff50123",
   "metadata": {},
   "outputs": [],
   "source": [
    "rank=driver.find_elements(By.XPATH,'//td[@class=\"data1\"]')"
   ]
  },
  {
   "cell_type": "code",
   "execution_count": 177,
   "id": "df54c956",
   "metadata": {},
   "outputs": [],
   "source": [
    "RANK=[]\n",
    "for i in rank:\n",
    "    RANK.append(i.text)"
   ]
  },
  {
   "cell_type": "code",
   "execution_count": 219,
   "id": "3af9a309",
   "metadata": {},
   "outputs": [],
   "source": [
    "RANK=RANK[0:33]"
   ]
  },
  {
   "cell_type": "code",
   "execution_count": 179,
   "id": "8c00383f",
   "metadata": {},
   "outputs": [],
   "source": [
    "state=driver.find_elements(By.XPATH,'//td[@class=\"name\"]')"
   ]
  },
  {
   "cell_type": "code",
   "execution_count": 205,
   "id": "96c9475b",
   "metadata": {},
   "outputs": [],
   "source": [
    "STATE=[]\n",
    "for i in state:\n",
    "    STATE.append(i.text)\n",
    "    "
   ]
  },
  {
   "cell_type": "code",
   "execution_count": 222,
   "id": "34b10bac",
   "metadata": {},
   "outputs": [],
   "source": [
    "STATE=STATE[0:33]"
   ]
  },
  {
   "cell_type": "code",
   "execution_count": 182,
   "id": "95c67e4c",
   "metadata": {},
   "outputs": [],
   "source": [
    "gsdp_1=driver.find_elements(By.XPATH,'//td[@class=\"data\"]')"
   ]
  },
  {
   "cell_type": "code",
   "execution_count": 183,
   "id": "a4184c8e",
   "metadata": {},
   "outputs": [],
   "source": [
    "GSDP_1=[]\n",
    "for i in gsdp_1:\n",
    "    GSDP_1.append(i.text)"
   ]
  },
  {
   "cell_type": "code",
   "execution_count": 208,
   "id": "0710b8a8",
   "metadata": {},
   "outputs": [
    {
     "data": {
      "text/plain": [
       "308"
      ]
     },
     "execution_count": 208,
     "metadata": {},
     "output_type": "execute_result"
    }
   ],
   "source": [
    "len(GSDP_1)"
   ]
  },
  {
   "cell_type": "code",
   "execution_count": 213,
   "id": "551a94be",
   "metadata": {},
   "outputs": [],
   "source": [
    "GSDP_2=GSDP_1[0::5]\n",
    "GSDP_2=GSDP_2[0:33]"
   ]
  },
  {
   "cell_type": "code",
   "execution_count": 221,
   "id": "84326511",
   "metadata": {},
   "outputs": [
    {
     "data": {
      "text/plain": [
       "33"
      ]
     },
     "execution_count": 221,
     "metadata": {},
     "output_type": "execute_result"
    }
   ],
   "source": [
    "len(GSDP_2)"
   ]
  },
  {
   "cell_type": "code",
   "execution_count": 215,
   "id": "c959939e",
   "metadata": {},
   "outputs": [],
   "source": [
    "GSDP_3=GSDP_1[1::5]\n",
    "GSDP_3=GSDP_3[0:33]"
   ]
  },
  {
   "cell_type": "code",
   "execution_count": 194,
   "id": "d771dd2f",
   "metadata": {},
   "outputs": [],
   "source": [
    "GDP=GSDP_1[2::5]"
   ]
  },
  {
   "cell_type": "code",
   "execution_count": 216,
   "id": "4c7fcb15",
   "metadata": {},
   "outputs": [],
   "source": [
    "GDP=GDP[0:33]"
   ]
  },
  {
   "cell_type": "code",
   "execution_count": 196,
   "id": "0108c71f",
   "metadata": {},
   "outputs": [],
   "source": [
    "shares=driver.find_elements(By.XPATH,'//td[@class=\"data sorting_1\"]')"
   ]
  },
  {
   "cell_type": "code",
   "execution_count": 197,
   "id": "919bd476",
   "metadata": {},
   "outputs": [],
   "source": [
    "SHARES=[]\n",
    "for i in shares:\n",
    "    SHARES.append(i.text)"
   ]
  },
  {
   "cell_type": "code",
   "execution_count": 217,
   "id": "8d866615",
   "metadata": {},
   "outputs": [],
   "source": [
    "SHARES=SHARES[0:33]"
   ]
  },
  {
   "cell_type": "code",
   "execution_count": 223,
   "id": "73a08d87",
   "metadata": {},
   "outputs": [],
   "source": [
    "df=pd.DataFrame({'RANK':RANK,'STATE':STATE,'GSDP(19-20)':GSDP_2,'GSDP(18-19)':GSDP_3,'GDP':GDP,'SHARES':SHARES})"
   ]
  },
  {
   "cell_type": "code",
   "execution_count": 224,
   "id": "da0a143d",
   "metadata": {},
   "outputs": [
    {
     "data": {
      "text/html": [
       "<div>\n",
       "<style scoped>\n",
       "    .dataframe tbody tr th:only-of-type {\n",
       "        vertical-align: middle;\n",
       "    }\n",
       "\n",
       "    .dataframe tbody tr th {\n",
       "        vertical-align: top;\n",
       "    }\n",
       "\n",
       "    .dataframe thead th {\n",
       "        text-align: right;\n",
       "    }\n",
       "</style>\n",
       "<table border=\"1\" class=\"dataframe\">\n",
       "  <thead>\n",
       "    <tr style=\"text-align: right;\">\n",
       "      <th></th>\n",
       "      <th>RANK</th>\n",
       "      <th>STATE</th>\n",
       "      <th>GSDP(19-20)</th>\n",
       "      <th>GSDP(18-19)</th>\n",
       "      <th>GDP</th>\n",
       "      <th>SHARES</th>\n",
       "    </tr>\n",
       "  </thead>\n",
       "  <tbody>\n",
       "    <tr>\n",
       "      <th>0</th>\n",
       "      <td>1</td>\n",
       "      <td>Maharashtra</td>\n",
       "      <td>-</td>\n",
       "      <td>2,632,792</td>\n",
       "      <td>399.921</td>\n",
       "      <td>13.94%</td>\n",
       "    </tr>\n",
       "    <tr>\n",
       "      <th>1</th>\n",
       "      <td>2</td>\n",
       "      <td>Tamil Nadu</td>\n",
       "      <td>1,845,853</td>\n",
       "      <td>1,630,208</td>\n",
       "      <td>247.629</td>\n",
       "      <td>8.63%</td>\n",
       "    </tr>\n",
       "    <tr>\n",
       "      <th>2</th>\n",
       "      <td>3</td>\n",
       "      <td>Uttar Pradesh</td>\n",
       "      <td>1,687,818</td>\n",
       "      <td>1,584,764</td>\n",
       "      <td>240.726</td>\n",
       "      <td>8.39%</td>\n",
       "    </tr>\n",
       "    <tr>\n",
       "      <th>3</th>\n",
       "      <td>4</td>\n",
       "      <td>Gujarat</td>\n",
       "      <td>-</td>\n",
       "      <td>1,502,899</td>\n",
       "      <td>228.290</td>\n",
       "      <td>7.96%</td>\n",
       "    </tr>\n",
       "    <tr>\n",
       "      <th>4</th>\n",
       "      <td>5</td>\n",
       "      <td>Karnataka</td>\n",
       "      <td>1,631,977</td>\n",
       "      <td>1,493,127</td>\n",
       "      <td>226.806</td>\n",
       "      <td>7.91%</td>\n",
       "    </tr>\n",
       "    <tr>\n",
       "      <th>5</th>\n",
       "      <td>6</td>\n",
       "      <td>West Bengal</td>\n",
       "      <td>1,253,832</td>\n",
       "      <td>1,089,898</td>\n",
       "      <td>165.556</td>\n",
       "      <td>5.77%</td>\n",
       "    </tr>\n",
       "    <tr>\n",
       "      <th>6</th>\n",
       "      <td>7</td>\n",
       "      <td>Rajasthan</td>\n",
       "      <td>1,020,989</td>\n",
       "      <td>942,586</td>\n",
       "      <td>143.179</td>\n",
       "      <td>4.99%</td>\n",
       "    </tr>\n",
       "    <tr>\n",
       "      <th>7</th>\n",
       "      <td>8</td>\n",
       "      <td>Andhra Pradesh</td>\n",
       "      <td>972,782</td>\n",
       "      <td>862,957</td>\n",
       "      <td>131.083</td>\n",
       "      <td>4.57%</td>\n",
       "    </tr>\n",
       "    <tr>\n",
       "      <th>8</th>\n",
       "      <td>9</td>\n",
       "      <td>Telangana</td>\n",
       "      <td>969,604</td>\n",
       "      <td>861,031</td>\n",
       "      <td>130.791</td>\n",
       "      <td>4.56%</td>\n",
       "    </tr>\n",
       "    <tr>\n",
       "      <th>9</th>\n",
       "      <td>10</td>\n",
       "      <td>Madhya Pradesh</td>\n",
       "      <td>906,672</td>\n",
       "      <td>809,592</td>\n",
       "      <td>122.977</td>\n",
       "      <td>4.29%</td>\n",
       "    </tr>\n",
       "    <tr>\n",
       "      <th>10</th>\n",
       "      <td>11</td>\n",
       "      <td>Kerala</td>\n",
       "      <td>-</td>\n",
       "      <td>781,653</td>\n",
       "      <td>118.733</td>\n",
       "      <td>4.14%</td>\n",
       "    </tr>\n",
       "    <tr>\n",
       "      <th>11</th>\n",
       "      <td>12</td>\n",
       "      <td>Delhi</td>\n",
       "      <td>856,112</td>\n",
       "      <td>774,870</td>\n",
       "      <td>117.703</td>\n",
       "      <td>4.10%</td>\n",
       "    </tr>\n",
       "    <tr>\n",
       "      <th>12</th>\n",
       "      <td>13</td>\n",
       "      <td>Haryana</td>\n",
       "      <td>831,610</td>\n",
       "      <td>734,163</td>\n",
       "      <td>111.519</td>\n",
       "      <td>3.89%</td>\n",
       "    </tr>\n",
       "    <tr>\n",
       "      <th>13</th>\n",
       "      <td>14</td>\n",
       "      <td>Bihar</td>\n",
       "      <td>611,804</td>\n",
       "      <td>530,363</td>\n",
       "      <td>80.562</td>\n",
       "      <td>2.81%</td>\n",
       "    </tr>\n",
       "    <tr>\n",
       "      <th>14</th>\n",
       "      <td>15</td>\n",
       "      <td>Punjab</td>\n",
       "      <td>574,760</td>\n",
       "      <td>526,376</td>\n",
       "      <td>79.957</td>\n",
       "      <td>2.79%</td>\n",
       "    </tr>\n",
       "    <tr>\n",
       "      <th>15</th>\n",
       "      <td>16</td>\n",
       "      <td>Odisha</td>\n",
       "      <td>521,275</td>\n",
       "      <td>487,805</td>\n",
       "      <td>74.098</td>\n",
       "      <td>2.58%</td>\n",
       "    </tr>\n",
       "    <tr>\n",
       "      <th>16</th>\n",
       "      <td>17</td>\n",
       "      <td>Assam</td>\n",
       "      <td>-</td>\n",
       "      <td>315,881</td>\n",
       "      <td>47.982</td>\n",
       "      <td>1.67%</td>\n",
       "    </tr>\n",
       "    <tr>\n",
       "      <th>17</th>\n",
       "      <td>18</td>\n",
       "      <td>Chhattisgarh</td>\n",
       "      <td>329,180</td>\n",
       "      <td>304,063</td>\n",
       "      <td>46.187</td>\n",
       "      <td>1.61%</td>\n",
       "    </tr>\n",
       "    <tr>\n",
       "      <th>18</th>\n",
       "      <td>19</td>\n",
       "      <td>Jharkhand</td>\n",
       "      <td>328,598</td>\n",
       "      <td>297,204</td>\n",
       "      <td>45.145</td>\n",
       "      <td>1.57%</td>\n",
       "    </tr>\n",
       "    <tr>\n",
       "      <th>19</th>\n",
       "      <td>20</td>\n",
       "      <td>Uttarakhand</td>\n",
       "      <td>-</td>\n",
       "      <td>245,895</td>\n",
       "      <td>37.351</td>\n",
       "      <td>1.30%</td>\n",
       "    </tr>\n",
       "    <tr>\n",
       "      <th>20</th>\n",
       "      <td>21</td>\n",
       "      <td>Jammu &amp; Kashmir</td>\n",
       "      <td>-</td>\n",
       "      <td>155,956</td>\n",
       "      <td>23.690</td>\n",
       "      <td>0.83%</td>\n",
       "    </tr>\n",
       "    <tr>\n",
       "      <th>21</th>\n",
       "      <td>22</td>\n",
       "      <td>Himachal Pradesh</td>\n",
       "      <td>165,472</td>\n",
       "      <td>153,845</td>\n",
       "      <td>23.369</td>\n",
       "      <td>0.81%</td>\n",
       "    </tr>\n",
       "    <tr>\n",
       "      <th>22</th>\n",
       "      <td>23</td>\n",
       "      <td>Goa</td>\n",
       "      <td>80,449</td>\n",
       "      <td>73,170</td>\n",
       "      <td>11.115</td>\n",
       "      <td>0.39%</td>\n",
       "    </tr>\n",
       "    <tr>\n",
       "      <th>23</th>\n",
       "      <td>24</td>\n",
       "      <td>Tripura</td>\n",
       "      <td>55,984</td>\n",
       "      <td>49,845</td>\n",
       "      <td>7.571</td>\n",
       "      <td>0.26%</td>\n",
       "    </tr>\n",
       "    <tr>\n",
       "      <th>24</th>\n",
       "      <td>25</td>\n",
       "      <td>Chandigarh</td>\n",
       "      <td>-</td>\n",
       "      <td>42,114</td>\n",
       "      <td>6.397</td>\n",
       "      <td>0.22%</td>\n",
       "    </tr>\n",
       "    <tr>\n",
       "      <th>25</th>\n",
       "      <td>26</td>\n",
       "      <td>Puducherry</td>\n",
       "      <td>38,253</td>\n",
       "      <td>34,433</td>\n",
       "      <td>5.230</td>\n",
       "      <td>0.18%</td>\n",
       "    </tr>\n",
       "    <tr>\n",
       "      <th>26</th>\n",
       "      <td>27</td>\n",
       "      <td>Meghalaya</td>\n",
       "      <td>36,572</td>\n",
       "      <td>33,481</td>\n",
       "      <td>5.086</td>\n",
       "      <td>0.18%</td>\n",
       "    </tr>\n",
       "    <tr>\n",
       "      <th>27</th>\n",
       "      <td>28</td>\n",
       "      <td>Sikkim</td>\n",
       "      <td>32,496</td>\n",
       "      <td>28,723</td>\n",
       "      <td>4.363</td>\n",
       "      <td>0.15%</td>\n",
       "    </tr>\n",
       "    <tr>\n",
       "      <th>28</th>\n",
       "      <td>29</td>\n",
       "      <td>Manipur</td>\n",
       "      <td>31,790</td>\n",
       "      <td>27,870</td>\n",
       "      <td>4.233</td>\n",
       "      <td>0.15%</td>\n",
       "    </tr>\n",
       "    <tr>\n",
       "      <th>29</th>\n",
       "      <td>30</td>\n",
       "      <td>Nagaland</td>\n",
       "      <td>-</td>\n",
       "      <td>27,283</td>\n",
       "      <td>4.144</td>\n",
       "      <td>0.14%</td>\n",
       "    </tr>\n",
       "    <tr>\n",
       "      <th>30</th>\n",
       "      <td>31</td>\n",
       "      <td>Arunachal Pradesh</td>\n",
       "      <td>-</td>\n",
       "      <td>24,603</td>\n",
       "      <td>3.737</td>\n",
       "      <td>0.13%</td>\n",
       "    </tr>\n",
       "    <tr>\n",
       "      <th>31</th>\n",
       "      <td>32</td>\n",
       "      <td>Mizoram</td>\n",
       "      <td>26,503</td>\n",
       "      <td>22,287</td>\n",
       "      <td>3.385</td>\n",
       "      <td>0.12%</td>\n",
       "    </tr>\n",
       "    <tr>\n",
       "      <th>32</th>\n",
       "      <td>33</td>\n",
       "      <td>Andaman &amp; Nicobar Islands</td>\n",
       "      <td>-</td>\n",
       "      <td>-</td>\n",
       "      <td>-</td>\n",
       "      <td>-</td>\n",
       "    </tr>\n",
       "  </tbody>\n",
       "</table>\n",
       "</div>"
      ],
      "text/plain": [
       "   RANK                      STATE GSDP(19-20) GSDP(18-19)      GDP  SHARES\n",
       "0     1                Maharashtra           -   2,632,792  399.921  13.94%\n",
       "1     2                 Tamil Nadu   1,845,853   1,630,208  247.629   8.63%\n",
       "2     3              Uttar Pradesh   1,687,818   1,584,764  240.726   8.39%\n",
       "3     4                    Gujarat           -   1,502,899  228.290   7.96%\n",
       "4     5                  Karnataka   1,631,977   1,493,127  226.806   7.91%\n",
       "5     6                West Bengal   1,253,832   1,089,898  165.556   5.77%\n",
       "6     7                  Rajasthan   1,020,989     942,586  143.179   4.99%\n",
       "7     8             Andhra Pradesh     972,782     862,957  131.083   4.57%\n",
       "8     9                  Telangana     969,604     861,031  130.791   4.56%\n",
       "9    10             Madhya Pradesh     906,672     809,592  122.977   4.29%\n",
       "10   11                     Kerala           -     781,653  118.733   4.14%\n",
       "11   12                      Delhi     856,112     774,870  117.703   4.10%\n",
       "12   13                    Haryana     831,610     734,163  111.519   3.89%\n",
       "13   14                      Bihar     611,804     530,363   80.562   2.81%\n",
       "14   15                     Punjab     574,760     526,376   79.957   2.79%\n",
       "15   16                     Odisha     521,275     487,805   74.098   2.58%\n",
       "16   17                      Assam           -     315,881   47.982   1.67%\n",
       "17   18               Chhattisgarh     329,180     304,063   46.187   1.61%\n",
       "18   19                  Jharkhand     328,598     297,204   45.145   1.57%\n",
       "19   20                Uttarakhand           -     245,895   37.351   1.30%\n",
       "20   21            Jammu & Kashmir           -     155,956   23.690   0.83%\n",
       "21   22           Himachal Pradesh     165,472     153,845   23.369   0.81%\n",
       "22   23                        Goa      80,449      73,170   11.115   0.39%\n",
       "23   24                    Tripura      55,984      49,845    7.571   0.26%\n",
       "24   25                 Chandigarh           -      42,114    6.397   0.22%\n",
       "25   26                 Puducherry      38,253      34,433    5.230   0.18%\n",
       "26   27                  Meghalaya      36,572      33,481    5.086   0.18%\n",
       "27   28                     Sikkim      32,496      28,723    4.363   0.15%\n",
       "28   29                    Manipur      31,790      27,870    4.233   0.15%\n",
       "29   30                   Nagaland           -      27,283    4.144   0.14%\n",
       "30   31          Arunachal Pradesh           -      24,603    3.737   0.13%\n",
       "31   32                    Mizoram      26,503      22,287    3.385   0.12%\n",
       "32   33  Andaman & Nicobar Islands           -           -        -       -"
      ]
     },
     "execution_count": 224,
     "metadata": {},
     "output_type": "execute_result"
    }
   ],
   "source": [
    "df"
   ]
  },
  {
   "cell_type": "markdown",
   "id": "0776ab26",
   "metadata": {},
   "source": [
    "# Scrape the details of trending repositories on Github.com.\n",
    "Url = https://github.com/\n",
    "You have to find the following details:"
   ]
  },
  {
   "cell_type": "code",
   "execution_count": null,
   "id": "4041fad5",
   "metadata": {},
   "outputs": [],
   "source": [
    "url='https://github.com/'\n",
    "driver.get(url)"
   ]
  },
  {
   "cell_type": "code",
   "execution_count": 6,
   "id": "0e76319f",
   "metadata": {},
   "outputs": [],
   "source": [
    "explore=driver.find_element(By.XPATH,'/html/body/div[1]/header/div[3]/nav/a[4]')"
   ]
  },
  {
   "cell_type": "code",
   "execution_count": 7,
   "id": "53657418",
   "metadata": {},
   "outputs": [],
   "source": [
    "explore.click()"
   ]
  },
  {
   "cell_type": "code",
   "execution_count": 8,
   "id": "f062a273",
   "metadata": {},
   "outputs": [],
   "source": [
    "trending=driver.find_element(By.XPATH,'/html/body/div[5]/main/div[1]/nav/div/a[3]')\n"
   ]
  },
  {
   "cell_type": "code",
   "execution_count": 9,
   "id": "e7435b2d",
   "metadata": {},
   "outputs": [],
   "source": [
    "trending.click()"
   ]
  },
  {
   "cell_type": "code",
   "execution_count": 10,
   "id": "52158655",
   "metadata": {},
   "outputs": [],
   "source": [
    "link=driver.find_elements(By.XPATH,'//h1[@class=\"h3 lh-condensed\"]/a')"
   ]
  },
  {
   "cell_type": "code",
   "execution_count": 13,
   "id": "a95e653a",
   "metadata": {},
   "outputs": [],
   "source": [
    "LINK=[]\n",
    "for i in link:\n",
    "    LINK.append(i.get_attribute('href'))"
   ]
  },
  {
   "cell_type": "code",
   "execution_count": 14,
   "id": "816bca58",
   "metadata": {},
   "outputs": [
    {
     "data": {
      "text/plain": [
       "['https://github.com/toeverything/AFFiNE',\n",
       " 'https://github.com/jwasham/coding-interview-university',\n",
       " 'https://github.com/iptv-org/iptv',\n",
       " 'https://github.com/ventoy/Ventoy',\n",
       " 'https://github.com/MarlinFirmware/Marlin',\n",
       " 'https://github.com/Dreamacro/clash',\n",
       " 'https://github.com/arthurspk/guiadevbrasil',\n",
       " 'https://github.com/donnemartin/system-design-primer',\n",
       " 'https://github.com/MatrixTM/MHDDoS',\n",
       " 'https://github.com/t3-oss/create-t3-app',\n",
       " 'https://github.com/punk-security/dnsReaper',\n",
       " 'https://github.com/juliocesarfort/public-pentesting-reports',\n",
       " 'https://github.com/facebookresearch/ParlAI',\n",
       " 'https://github.com/utmapp/UTM',\n",
       " 'https://github.com/theboy181/switch-ptchtxt-mods',\n",
       " 'https://github.com/Asabeneh/30-Days-Of-React',\n",
       " 'https://github.com/github/docs',\n",
       " 'https://github.com/josephmisiti/awesome-machine-learning',\n",
       " 'https://github.com/PKUFlyingPig/cs-self-learning',\n",
       " 'https://github.com/jina-ai/discoart',\n",
       " 'https://github.com/trickest/cve',\n",
       " 'https://github.com/HIT-UG-Group/DeepLearning-MuLi-Notes',\n",
       " 'https://github.com/hyprwm/Hyprland',\n",
       " 'https://github.com/EbookFoundation/free-programming-books',\n",
       " 'https://github.com/moyix/fauxpilot']"
      ]
     },
     "execution_count": 14,
     "metadata": {},
     "output_type": "execute_result"
    }
   ],
   "source": [
    "LINK"
   ]
  },
  {
   "cell_type": "code",
   "execution_count": 15,
   "id": "13fca9f4",
   "metadata": {},
   "outputs": [],
   "source": [
    "TITLE=[]\n",
    "for i in LINK:\n",
    "    driver.get(i)\n",
    "    try:\n",
    "        title=driver.find_element(By.XPATH,'/html/body/div[5]/div/main/div/div[1]/div/div/span[1]/a')\n",
    "        TITLE.append(title.text)\n",
    "    except NoSuchElementException:\n",
    "        TITLE.append('-')\n",
    "        "
   ]
  },
  {
   "cell_type": "code",
   "execution_count": 16,
   "id": "d38de5e5",
   "metadata": {},
   "outputs": [
    {
     "data": {
      "text/plain": [
       "['toeverything',\n",
       " 'jwasham',\n",
       " 'iptv-org',\n",
       " 'ventoy',\n",
       " 'MarlinFirmware',\n",
       " 'Dreamacro',\n",
       " 'arthurspk',\n",
       " 'donnemartin',\n",
       " 'MatrixTM',\n",
       " 't3-oss',\n",
       " 'punk-security',\n",
       " 'juliocesarfort',\n",
       " 'facebookresearch',\n",
       " 'utmapp',\n",
       " 'theboy181',\n",
       " 'Asabeneh',\n",
       " 'github',\n",
       " 'josephmisiti',\n",
       " 'PKUFlyingPig',\n",
       " 'jina-ai',\n",
       " 'trickest',\n",
       " 'HIT-UG-Group',\n",
       " 'hyprwm',\n",
       " 'EbookFoundation',\n",
       " 'moyix']"
      ]
     },
     "execution_count": 16,
     "metadata": {},
     "output_type": "execute_result"
    }
   ],
   "source": [
    "TITLE"
   ]
  },
  {
   "cell_type": "code",
   "execution_count": 26,
   "id": "8d010b0a",
   "metadata": {},
   "outputs": [],
   "source": [
    "DESC=[]\n",
    "for i in LINK[0:3]:\n",
    "    driver.get(i)\n",
    "    try:\n",
    "        desc=driver.find_element(By.XPATH,'/html/body/div[5]/div/main/turbo-frame/div/div/div/div[3]/div[2]/div/div[1]/div/p')\n",
    "        DESC.append( desc.text)\n",
    "    except NoSuchElementException:\n",
    "        DESC.append('-')\n",
    "    except TimeoutException:\n",
    "        DESC.append('-')\n",
    "        "
   ]
  },
  {
   "cell_type": "code",
   "execution_count": 27,
   "id": "4f389e79",
   "metadata": {},
   "outputs": [],
   "source": [
    "LANG_U=[]\n",
    "for i in LINK:\n",
    "    driver.get(i)\n",
    "    try:\n",
    "        lang_u=driver.find_element(By.XPATH,'/html/body/div[5]/div/main/turbo-frame/div/div/div/div[3]/div[2]/div/div[7]/div/ul')\n",
    "        LANG_U.append(lang_u.text)\n",
    "    except WebDriverException :\n",
    "        LANG_U.append('-')"
   ]
  },
  {
   "cell_type": "code",
   "execution_count": 29,
   "id": "1d268b2b",
   "metadata": {},
   "outputs": [],
   "source": [
    "contributers=[]\n",
    "for i in LINK[0:3]:\n",
    "    driver.get(i)\n",
    "    try:\n",
    "        con=driver.find_element(By.XPATH,'/html/body/div[5]/div/main/turbo-frame/div/div/div/div[3]/div[2]/div/div[5]/div/h2/a/span')\n",
    "        contributers.append(con.text)\n",
    "    except WebDriverException :\n",
    "         contributers.append('-')\n"
   ]
  },
  {
   "cell_type": "code",
   "execution_count": null,
   "id": "4d5abf75",
   "metadata": {},
   "outputs": [],
   "source": [
    "df=pd.DataFrame({'TITLE':TITLE[0:3],'DESCRIPTION':DESC,'LANGUAGE_USED':LANG_U,'CONTRIBUTERS_COUNT':contributers})"
   ]
  },
  {
   "cell_type": "markdown",
   "id": "cac22ccd",
   "metadata": {},
   "source": [
    "# Scrape the details of top 100 songs on billiboard.com.\n",
    "Url = https:/www.billboard.com/\n",
    "You have to find the following details"
   ]
  },
  {
   "cell_type": "code",
   "execution_count": 34,
   "id": "be26b251",
   "metadata": {},
   "outputs": [],
   "source": [
    "url='https://www.billboard.com/'\n",
    "driver.get(url)"
   ]
  },
  {
   "cell_type": "code",
   "execution_count": 41,
   "id": "726e9d01",
   "metadata": {},
   "outputs": [],
   "source": [
    "hot100=driver.find_element(By.XPATH,'/html/body/div[3]/header/div[2]/div/nav/ul/li[1]/a')"
   ]
  },
  {
   "cell_type": "code",
   "execution_count": null,
   "id": "4a0fb4e0",
   "metadata": {},
   "outputs": [],
   "source": [
    "hot100.click()"
   ]
  },
  {
   "cell_type": "code",
   "execution_count": 43,
   "id": "aa721bc5",
   "metadata": {},
   "outputs": [],
   "source": [
    "tit=driver.find_elements(By.XPATH,'//h3[@class=\"c-title  a-no-trucate a-font-primary-bold-s u-letter-spacing-0021 lrv-u-font-size-18@tablet lrv-u-font-size-16 u-line-height-125 u-line-height-normal@mobile-max a-truncate-ellipsis u-max-width-330 u-max-width-230@tablet-only\"]')"
   ]
  },
  {
   "cell_type": "code",
   "execution_count": 44,
   "id": "98291a96",
   "metadata": {},
   "outputs": [],
   "source": [
    "TIT=[]\n",
    "for i in tit:\n",
    "    TIT.append(i.text)"
   ]
  },
  {
   "cell_type": "code",
   "execution_count": 46,
   "id": "6c5f589c",
   "metadata": {},
   "outputs": [
    {
     "data": {
      "text/plain": [
       "99"
      ]
     },
     "execution_count": 46,
     "metadata": {},
     "output_type": "execute_result"
    }
   ],
   "source": [
    "len(TIT)"
   ]
  },
  {
   "cell_type": "code",
   "execution_count": 49,
   "id": "42057e36",
   "metadata": {},
   "outputs": [],
   "source": [
    "tit_1=driver.find_element(By.XPATH,'/html/body/div[4]/main/div[2]/div[3]/div/div/div/div[2]/div[2]/ul/li[4]/ul/li[1]/h3').text"
   ]
  },
  {
   "cell_type": "code",
   "execution_count": 51,
   "id": "5f12baf2",
   "metadata": {},
   "outputs": [
    {
     "data": {
      "text/plain": [
       "'About Damn Time'"
      ]
     },
     "execution_count": 51,
     "metadata": {},
     "output_type": "execute_result"
    }
   ],
   "source": [
    "tit_1"
   ]
  },
  {
   "cell_type": "code",
   "execution_count": 57,
   "id": "39e57d47",
   "metadata": {},
   "outputs": [],
   "source": [
    "TITLE=[tit_1,*TIT]"
   ]
  },
  {
   "cell_type": "code",
   "execution_count": 59,
   "id": "63e176f9",
   "metadata": {},
   "outputs": [
    {
     "data": {
      "text/plain": [
       "100"
      ]
     },
     "execution_count": 59,
     "metadata": {},
     "output_type": "execute_result"
    }
   ],
   "source": [
    "len(TITLE)"
   ]
  },
  {
   "cell_type": "code",
   "execution_count": 60,
   "id": "e984ff03",
   "metadata": {},
   "outputs": [],
   "source": [
    "artist=driver.find_element(By.XPATH,'/html/body/div[4]/main/div[2]/div[3]/div/div/div/div[2]/div[2]/ul/li[4]/ul/li[1]/span').text"
   ]
  },
  {
   "cell_type": "code",
   "execution_count": 61,
   "id": "9c7b1795",
   "metadata": {},
   "outputs": [
    {
     "data": {
      "text/plain": [
       "'Lizzo'"
      ]
     },
     "execution_count": 61,
     "metadata": {},
     "output_type": "execute_result"
    }
   ],
   "source": [
    "artist"
   ]
  },
  {
   "cell_type": "code",
   "execution_count": 64,
   "id": "76c49138",
   "metadata": {},
   "outputs": [],
   "source": [
    "artist_1=driver.find_elements(By.XPATH,'//span[@class=\"c-label  a-no-trucate a-font-primary-s lrv-u-font-size-14@mobile-max u-line-height-normal@mobile-max u-letter-spacing-0021 lrv-u-display-block a-truncate-ellipsis-2line u-max-width-330 u-max-width-230@tablet-only\"]')"
   ]
  },
  {
   "cell_type": "code",
   "execution_count": 65,
   "id": "06db5327",
   "metadata": {},
   "outputs": [],
   "source": [
    "art=[]\n",
    "for i in artist_1:\n",
    "    art.append(i.text)"
   ]
  },
  {
   "cell_type": "code",
   "execution_count": 67,
   "id": "cb9728ca",
   "metadata": {},
   "outputs": [
    {
     "data": {
      "text/plain": [
       "99"
      ]
     },
     "execution_count": 67,
     "metadata": {},
     "output_type": "execute_result"
    }
   ],
   "source": [
    "len(art)"
   ]
  },
  {
   "cell_type": "code",
   "execution_count": 68,
   "id": "8be7a6ac",
   "metadata": {},
   "outputs": [],
   "source": [
    "ARTIST=[artist,*art]"
   ]
  },
  {
   "cell_type": "code",
   "execution_count": 69,
   "id": "946c3062",
   "metadata": {},
   "outputs": [
    {
     "data": {
      "text/plain": [
       "100"
      ]
     },
     "execution_count": 69,
     "metadata": {},
     "output_type": "execute_result"
    }
   ],
   "source": [
    "len(ARTIST)"
   ]
  },
  {
   "cell_type": "code",
   "execution_count": 80,
   "id": "2e47f31d",
   "metadata": {},
   "outputs": [],
   "source": [
    "lastweek_1=driver.find_element(By.XPATH,'/html/body/div[3]/main/div[2]/div[3]/div/div/div/div[2]/div[2]/ul/li[4]/ul/li[4]/span').text"
   ]
  },
  {
   "cell_type": "code",
   "execution_count": 90,
   "id": "d72c391c",
   "metadata": {},
   "outputs": [
    {
     "data": {
      "text/plain": [
       "'1'"
      ]
     },
     "execution_count": 90,
     "metadata": {},
     "output_type": "execute_result"
    }
   ],
   "source": [
    "lastweek_1"
   ]
  },
  {
   "cell_type": "code",
   "execution_count": 72,
   "id": "3f8afdcb",
   "metadata": {},
   "outputs": [],
   "source": [
    "Lastweek=driver.find_elements(By.XPATH,'//span[@class=\"c-label  a-font-primary-m lrv-u-padding-tb-050@mobile-max\"]')"
   ]
  },
  {
   "cell_type": "code",
   "execution_count": 73,
   "id": "7773c5b9",
   "metadata": {},
   "outputs": [],
   "source": [
    "LW=[]\n",
    "for i in Lastweek:\n",
    "    LW.append(i.text)"
   ]
  },
  {
   "cell_type": "code",
   "execution_count": 79,
   "id": "189817c5",
   "metadata": {},
   "outputs": [],
   "source": [
    "Last_week_1=LW[0::6]"
   ]
  },
  {
   "cell_type": "code",
   "execution_count": 87,
   "id": "9318d465",
   "metadata": {},
   "outputs": [],
   "source": [
    "LASTWEEK=[*lastweek_1,*Last_week_1]"
   ]
  },
  {
   "cell_type": "code",
   "execution_count": 89,
   "id": "fec866e0",
   "metadata": {},
   "outputs": [
    {
     "data": {
      "text/plain": [
       "100"
      ]
     },
     "execution_count": 89,
     "metadata": {},
     "output_type": "execute_result"
    }
   ],
   "source": [
    "len(LASTWEEK)"
   ]
  },
  {
   "cell_type": "code",
   "execution_count": 91,
   "id": "9c70e106",
   "metadata": {},
   "outputs": [],
   "source": [
    "pe=driver.find_element(By.XPATH,'/html/body/div[3]/main/div[2]/div[3]/div/div/div/div[2]/div[2]/ul/li[4]/ul/li[5]/span').text"
   ]
  },
  {
   "cell_type": "code",
   "execution_count": 97,
   "id": "e6892100",
   "metadata": {},
   "outputs": [],
   "source": [
    "PE=LW[1::6]"
   ]
  },
  {
   "cell_type": "code",
   "execution_count": 98,
   "id": "fa474d07",
   "metadata": {},
   "outputs": [],
   "source": [
    "PR=[*pe,*PE]"
   ]
  },
  {
   "cell_type": "code",
   "execution_count": 100,
   "id": "28ec9093",
   "metadata": {},
   "outputs": [
    {
     "data": {
      "text/plain": [
       "100"
      ]
     },
     "execution_count": 100,
     "metadata": {},
     "output_type": "execute_result"
    }
   ],
   "source": [
    "len(PR)"
   ]
  },
  {
   "cell_type": "code",
   "execution_count": 101,
   "id": "9a8ce7b5",
   "metadata": {},
   "outputs": [],
   "source": [
    "wob=driver.find_element(By.XPATH,'/html/body/div[3]/main/div[2]/div[3]/div/div/div/div[2]/div[2]/ul/li[4]/ul/li[6]/span').text"
   ]
  },
  {
   "cell_type": "code",
   "execution_count": 110,
   "id": "8f9a7233",
   "metadata": {},
   "outputs": [
    {
     "data": {
      "text/plain": [
       "'15'"
      ]
     },
     "execution_count": 110,
     "metadata": {},
     "output_type": "execute_result"
    }
   ],
   "source": [
    "wob"
   ]
  },
  {
   "cell_type": "code",
   "execution_count": 104,
   "id": "8528fd13",
   "metadata": {},
   "outputs": [],
   "source": [
    "WOB=LW[2::6]"
   ]
  },
  {
   "cell_type": "code",
   "execution_count": 108,
   "id": "7c3ba80d",
   "metadata": {},
   "outputs": [
    {
     "data": {
      "text/plain": [
       "99"
      ]
     },
     "execution_count": 108,
     "metadata": {},
     "output_type": "execute_result"
    }
   ],
   "source": [
    "len(WOB)"
   ]
  },
  {
   "cell_type": "code",
   "execution_count": 111,
   "id": "7324c175",
   "metadata": {},
   "outputs": [],
   "source": [
    "WEEKLY=[wob,*WOB]"
   ]
  },
  {
   "cell_type": "code",
   "execution_count": 112,
   "id": "5897e3a1",
   "metadata": {},
   "outputs": [
    {
     "data": {
      "text/plain": [
       "100"
      ]
     },
     "execution_count": 112,
     "metadata": {},
     "output_type": "execute_result"
    }
   ],
   "source": [
    "len(WEEKLY)"
   ]
  },
  {
   "cell_type": "code",
   "execution_count": 113,
   "id": "f2e69abc",
   "metadata": {},
   "outputs": [],
   "source": [
    "df=pd.DataFrame({'Song_Name':TITLE,'ARTIST_NAME':ARTIST,'LastWeek_Rank':LASTWEEK,'PEAK_RANK':PR,' Weeks_on_board':WEEKLY})"
   ]
  },
  {
   "cell_type": "code",
   "execution_count": 115,
   "id": "e7143e7d",
   "metadata": {},
   "outputs": [
    {
     "data": {
      "text/html": [
       "<div>\n",
       "<style scoped>\n",
       "    .dataframe tbody tr th:only-of-type {\n",
       "        vertical-align: middle;\n",
       "    }\n",
       "\n",
       "    .dataframe tbody tr th {\n",
       "        vertical-align: top;\n",
       "    }\n",
       "\n",
       "    .dataframe thead th {\n",
       "        text-align: right;\n",
       "    }\n",
       "</style>\n",
       "<table border=\"1\" class=\"dataframe\">\n",
       "  <thead>\n",
       "    <tr style=\"text-align: right;\">\n",
       "      <th></th>\n",
       "      <th>Song_Name</th>\n",
       "      <th>ARTIST_NAME</th>\n",
       "      <th>LastWeek_Rank</th>\n",
       "      <th>PEAK_RANK</th>\n",
       "      <th>Weeks_on_board</th>\n",
       "    </tr>\n",
       "  </thead>\n",
       "  <tbody>\n",
       "    <tr>\n",
       "      <th>0</th>\n",
       "      <td>About Damn Time</td>\n",
       "      <td>Lizzo</td>\n",
       "      <td>1</td>\n",
       "      <td>1</td>\n",
       "      <td>15</td>\n",
       "    </tr>\n",
       "    <tr>\n",
       "      <th>1</th>\n",
       "      <td>As It Was</td>\n",
       "      <td>Harry Styles</td>\n",
       "      <td>2</td>\n",
       "      <td>1</td>\n",
       "      <td>17</td>\n",
       "    </tr>\n",
       "    <tr>\n",
       "      <th>2</th>\n",
       "      <td>Running Up That Hill (A Deal With God)</td>\n",
       "      <td>Kate Bush</td>\n",
       "      <td>3</td>\n",
       "      <td>3</td>\n",
       "      <td>29</td>\n",
       "    </tr>\n",
       "    <tr>\n",
       "      <th>3</th>\n",
       "      <td>First Class</td>\n",
       "      <td>Jack Harlow</td>\n",
       "      <td>4</td>\n",
       "      <td>1</td>\n",
       "      <td>16</td>\n",
       "    </tr>\n",
       "    <tr>\n",
       "      <th>4</th>\n",
       "      <td>Wait For U</td>\n",
       "      <td>Future Featuring Drake &amp; Tems</td>\n",
       "      <td>5</td>\n",
       "      <td>1</td>\n",
       "      <td>13</td>\n",
       "    </tr>\n",
       "    <tr>\n",
       "      <th>...</th>\n",
       "      <td>...</td>\n",
       "      <td>...</td>\n",
       "      <td>...</td>\n",
       "      <td>...</td>\n",
       "      <td>...</td>\n",
       "    </tr>\n",
       "    <tr>\n",
       "      <th>95</th>\n",
       "      <td>Te Felicito</td>\n",
       "      <td>Shakira &amp; Rauw Alejandro</td>\n",
       "      <td>95</td>\n",
       "      <td>67</td>\n",
       "      <td>8</td>\n",
       "    </tr>\n",
       "    <tr>\n",
       "      <th>96</th>\n",
       "      <td>Are You Entertained</td>\n",
       "      <td>Russ &amp; Ed Sheeran</td>\n",
       "      <td>-</td>\n",
       "      <td>97</td>\n",
       "      <td>1</td>\n",
       "    </tr>\n",
       "    <tr>\n",
       "      <th>97</th>\n",
       "      <td>Bzrp Music Sessions, Vol. 52</td>\n",
       "      <td>Bizarrap &amp; Quevedo</td>\n",
       "      <td>-</td>\n",
       "      <td>98</td>\n",
       "      <td>1</td>\n",
       "    </tr>\n",
       "    <tr>\n",
       "      <th>98</th>\n",
       "      <td>Right On</td>\n",
       "      <td>Lil Baby</td>\n",
       "      <td>97</td>\n",
       "      <td>13</td>\n",
       "      <td>15</td>\n",
       "    </tr>\n",
       "    <tr>\n",
       "      <th>99</th>\n",
       "      <td>La Corriente</td>\n",
       "      <td>Bad Bunny &amp; Tony Dize</td>\n",
       "      <td>99</td>\n",
       "      <td>32</td>\n",
       "      <td>9</td>\n",
       "    </tr>\n",
       "  </tbody>\n",
       "</table>\n",
       "<p>100 rows × 5 columns</p>\n",
       "</div>"
      ],
      "text/plain": [
       "                                 Song_Name                    ARTIST_NAME  \\\n",
       "0                          About Damn Time                          Lizzo   \n",
       "1                                As It Was                   Harry Styles   \n",
       "2   Running Up That Hill (A Deal With God)                      Kate Bush   \n",
       "3                              First Class                    Jack Harlow   \n",
       "4                               Wait For U  Future Featuring Drake & Tems   \n",
       "..                                     ...                            ...   \n",
       "95                             Te Felicito       Shakira & Rauw Alejandro   \n",
       "96                     Are You Entertained              Russ & Ed Sheeran   \n",
       "97            Bzrp Music Sessions, Vol. 52             Bizarrap & Quevedo   \n",
       "98                                Right On                       Lil Baby   \n",
       "99                            La Corriente          Bad Bunny & Tony Dize   \n",
       "\n",
       "   LastWeek_Rank PEAK_RANK  Weeks_on_board  \n",
       "0              1         1              15  \n",
       "1              2         1              17  \n",
       "2              3         3              29  \n",
       "3              4         1              16  \n",
       "4              5         1              13  \n",
       "..           ...       ...             ...  \n",
       "95            95        67               8  \n",
       "96             -        97               1  \n",
       "97             -        98               1  \n",
       "98            97        13              15  \n",
       "99            99        32               9  \n",
       "\n",
       "[100 rows x 5 columns]"
      ]
     },
     "execution_count": 115,
     "metadata": {},
     "output_type": "execute_result"
    }
   ],
   "source": [
    "df"
   ]
  },
  {
   "cell_type": "markdown",
   "id": "e05f38e1",
   "metadata": {},
   "source": [
    "# Scrape the details of Data science recruiters from naukri.com.\n",
    "Url = https://www.naukri.com/hr-recruiters-consultants\n",
    "You have to find the following details:"
   ]
  },
  {
   "cell_type": "code",
   "execution_count": 118,
   "id": "478557ee",
   "metadata": {},
   "outputs": [],
   "source": [
    "url='https://www.naukri.com/hr-recruiters-consultants'\n",
    "driver.get(url)"
   ]
  },
  {
   "cell_type": "code",
   "execution_count": 120,
   "id": "ad8f77a2",
   "metadata": {},
   "outputs": [],
   "source": [
    "searc_col=driver.find_element(By.XPATH,'/html/body/div[2]/div[2]/div[1]/div[1]/form/div[1]/div/div[1]/div[1]/div[2]/input')"
   ]
  },
  {
   "cell_type": "code",
   "execution_count": 122,
   "id": "6a67df31",
   "metadata": {},
   "outputs": [],
   "source": [
    "searc_col.send_keys('Data Science')"
   ]
  },
  {
   "cell_type": "code",
   "execution_count": 123,
   "id": "9238ba4f",
   "metadata": {},
   "outputs": [],
   "source": [
    "search_btn=driver.find_element(By.XPATH,'/html/body/div[2]/div[2]/div[1]/div[1]/form/div[1]/button')"
   ]
  },
  {
   "cell_type": "code",
   "execution_count": 125,
   "id": "9a7dd0be",
   "metadata": {},
   "outputs": [],
   "source": [
    "search_btn.click()"
   ]
  },
  {
   "cell_type": "code",
   "execution_count": 126,
   "id": "d150abb4",
   "metadata": {},
   "outputs": [],
   "source": [
    "name=driver.find_elements(By.XPATH,'//span[@class=\"fl ellipsis\"]')"
   ]
  },
  {
   "cell_type": "code",
   "execution_count": 128,
   "id": "8059129a",
   "metadata": {},
   "outputs": [],
   "source": [
    "Name=[]\n",
    "for i in name:\n",
    "    Name.append(i.text)"
   ]
  },
  {
   "cell_type": "code",
   "execution_count": 130,
   "id": "d5c725c0",
   "metadata": {},
   "outputs": [
    {
     "data": {
      "text/plain": [
       "50"
      ]
     },
     "execution_count": 130,
     "metadata": {},
     "output_type": "execute_result"
    }
   ],
   "source": [
    "len(Name)"
   ]
  },
  {
   "cell_type": "code",
   "execution_count": 131,
   "id": "3ea3b55b",
   "metadata": {},
   "outputs": [],
   "source": [
    "des=driver.find_elements(By.XPATH,'//span[@class=\"ellipsis clr\"]')"
   ]
  },
  {
   "cell_type": "code",
   "execution_count": 132,
   "id": "27fbdf4a",
   "metadata": {},
   "outputs": [],
   "source": [
    "Des=[]\n",
    "for i in des:\n",
    "    Des.append(i.text)"
   ]
  },
  {
   "cell_type": "code",
   "execution_count": 133,
   "id": "b10a9854",
   "metadata": {},
   "outputs": [
    {
     "data": {
      "text/plain": [
       "50"
      ]
     },
     "execution_count": 133,
     "metadata": {},
     "output_type": "execute_result"
    }
   ],
   "source": [
    "len(Des)"
   ]
  },
  {
   "cell_type": "code",
   "execution_count": 174,
   "id": "40b200b6",
   "metadata": {},
   "outputs": [],
   "source": [
    "comp=driver.find_elements(By.XPATH,'//a[@class=\"ellipsis\"]')"
   ]
  },
  {
   "cell_type": "code",
   "execution_count": 175,
   "id": "8be0279a",
   "metadata": {},
   "outputs": [],
   "source": [
    "Comp=[]\n",
    "for i in comp:\n",
    "    Comp.append(i.text)"
   ]
  },
  {
   "cell_type": "code",
   "execution_count": 181,
   "id": "1e178dd6",
   "metadata": {},
   "outputs": [],
   "source": [
    "COMPANY=len(Comp[1::2])"
   ]
  },
  {
   "cell_type": "code",
   "execution_count": 183,
   "id": "eab0f6a4",
   "metadata": {},
   "outputs": [],
   "source": [
    "skils=driver.find_elements(By.XPATH,'//div[@class=\"hireSec highlightable\"]')"
   ]
  },
  {
   "cell_type": "code",
   "execution_count": 184,
   "id": "90dce132",
   "metadata": {},
   "outputs": [],
   "source": [
    "SKILLS=[]\n",
    "for i in skils:\n",
    "    SKILLS.append(i.text)"
   ]
  },
  {
   "cell_type": "code",
   "execution_count": 185,
   "id": "d59d8e86",
   "metadata": {},
   "outputs": [
    {
     "data": {
      "text/plain": [
       "50"
      ]
     },
     "execution_count": 185,
     "metadata": {},
     "output_type": "execute_result"
    }
   ],
   "source": [
    "len(SKILLS)"
   ]
  },
  {
   "cell_type": "code",
   "execution_count": 203,
   "id": "aab3d448",
   "metadata": {},
   "outputs": [],
   "source": [
    "LOC=[]\n",
    "try:\n",
    "    loc=driver.find_elements(By.XPATH,'//small[@class=\"ellipsis\"]')\n",
    "    for i in loc:\n",
    "        LOC.append(i.text)\n",
    "except NoSuchElementException:\n",
    "        LOC.append('-')\n",
    "    "
   ]
  },
  {
   "cell_type": "code",
   "execution_count": 204,
   "id": "08ac2ff7",
   "metadata": {},
   "outputs": [
    {
     "data": {
      "text/plain": [
       "['Delhi',\n",
       " 'Hyderabad / Secunderabad',\n",
       " 'Pune',\n",
       " 'Ahmedabad',\n",
       " 'UK - (london)',\n",
       " 'Vadodara / Baroda',\n",
       " 'Chennai',\n",
       " 'Trivandrum',\n",
       " 'Indore',\n",
       " 'Bengaluru / Bangalore',\n",
       " 'Mumbai',\n",
       " 'Hyderabad',\n",
       " 'Hyderabad / Secunderabad',\n",
       " 'Bengaluru / Bangalore',\n",
       " 'Mumbai',\n",
       " 'Hyderabad / Secunderabad',\n",
       " 'Bhopal',\n",
       " 'Chandigarh',\n",
       " 'Pune',\n",
       " 'Navi Mumbai',\n",
       " 'Cochin',\n",
       " 'Delhi',\n",
       " 'Hyderabad / Secunderabad',\n",
       " 'Pune',\n",
       " 'Pune',\n",
       " 'Pune',\n",
       " 'Pune',\n",
       " 'Bengaluru / Bangalore',\n",
       " 'Bengaluru / Bangalore',\n",
       " 'Delhi',\n",
       " 'Bengaluru / Bangalore',\n",
       " 'Mysoru / Mysore',\n",
       " 'Hyderabad / Secunderabad',\n",
       " 'Bengaluru / Bangalore',\n",
       " 'New Delhi',\n",
       " 'Chennai',\n",
       " 'Aligarh',\n",
       " 'Salt Lake City',\n",
       " 'Pune',\n",
       " 'Bengaluru / Bangalore',\n",
       " 'Mumbai',\n",
       " 'Indore',\n",
       " 'Bengaluru / Bangalore',\n",
       " 'MYSORE',\n",
       " 'Hyderabad / Secunderabad',\n",
       " 'Bengaluru / Bangalore',\n",
       " 'Mumbai',\n",
       " 'Hyderabad / Secunderabad']"
      ]
     },
     "execution_count": 204,
     "metadata": {},
     "output_type": "execute_result"
    }
   ],
   "source": [
    "LOC"
   ]
  },
  {
   "cell_type": "code",
   "execution_count": 205,
   "id": "6c8a0c1c",
   "metadata": {},
   "outputs": [],
   "source": [
    "loc_1=['nil','nil']"
   ]
  },
  {
   "cell_type": "code",
   "execution_count": 206,
   "id": "4c40b108",
   "metadata": {},
   "outputs": [],
   "source": [
    "Location=[*LOC,*loc_1]"
   ]
  },
  {
   "cell_type": "code",
   "execution_count": 207,
   "id": "5d7a2905",
   "metadata": {},
   "outputs": [
    {
     "data": {
      "text/plain": [
       "['Delhi',\n",
       " 'Hyderabad / Secunderabad',\n",
       " 'Pune',\n",
       " 'Ahmedabad',\n",
       " 'UK - (london)',\n",
       " 'Vadodara / Baroda',\n",
       " 'Chennai',\n",
       " 'Trivandrum',\n",
       " 'Indore',\n",
       " 'Bengaluru / Bangalore',\n",
       " 'Mumbai',\n",
       " 'Hyderabad',\n",
       " 'Hyderabad / Secunderabad',\n",
       " 'Bengaluru / Bangalore',\n",
       " 'Mumbai',\n",
       " 'Hyderabad / Secunderabad',\n",
       " 'Bhopal',\n",
       " 'Chandigarh',\n",
       " 'Pune',\n",
       " 'Navi Mumbai',\n",
       " 'Cochin',\n",
       " 'Delhi',\n",
       " 'Hyderabad / Secunderabad',\n",
       " 'Pune',\n",
       " 'Pune',\n",
       " 'Pune',\n",
       " 'Pune',\n",
       " 'Bengaluru / Bangalore',\n",
       " 'Bengaluru / Bangalore',\n",
       " 'Delhi',\n",
       " 'Bengaluru / Bangalore',\n",
       " 'Mysoru / Mysore',\n",
       " 'Hyderabad / Secunderabad',\n",
       " 'Bengaluru / Bangalore',\n",
       " 'New Delhi',\n",
       " 'Chennai',\n",
       " 'Aligarh',\n",
       " 'Salt Lake City',\n",
       " 'Pune',\n",
       " 'Bengaluru / Bangalore',\n",
       " 'Mumbai',\n",
       " 'Indore',\n",
       " 'Bengaluru / Bangalore',\n",
       " 'MYSORE',\n",
       " 'Hyderabad / Secunderabad',\n",
       " 'Bengaluru / Bangalore',\n",
       " 'Mumbai',\n",
       " 'Hyderabad / Secunderabad',\n",
       " 'nil',\n",
       " 'nil']"
      ]
     },
     "execution_count": 207,
     "metadata": {},
     "output_type": "execute_result"
    }
   ],
   "source": [
    "Location"
   ]
  },
  {
   "cell_type": "code",
   "execution_count": 209,
   "id": "100784d5",
   "metadata": {},
   "outputs": [],
   "source": [
    "df=pd.DataFrame({'Name':Name,'Description':Des,'Company':COMPANY,'Skills':SKILLS,'Location':Location})"
   ]
  },
  {
   "cell_type": "markdown",
   "id": "aacf8df7",
   "metadata": {},
   "source": [
    "# . Scrape the details of Highest selling novels.\n",
    "URL = https://www.theguardian.com/news/datablog/2012/aug/09/best-selling-books-all-time-fifty-shades-grey-compare\n",
    "You have to find the following details:"
   ]
  },
  {
   "cell_type": "code",
   "execution_count": 3,
   "id": "55b1164d",
   "metadata": {},
   "outputs": [],
   "source": [
    "url='https://www.theguardian.com/news/datablog/2012/aug/09/best-selling-books-all-time-fifty-shades-grey-compare'\n",
    "driver.get(url)"
   ]
  },
  {
   "cell_type": "code",
   "execution_count": 4,
   "id": "c2526629",
   "metadata": {},
   "outputs": [],
   "source": [
    "Title=driver.find_elements(By.XPATH,'//td[@class=\"left\"]')"
   ]
  },
  {
   "cell_type": "code",
   "execution_count": 5,
   "id": "96c5ad51",
   "metadata": {},
   "outputs": [],
   "source": [
    "title=[]\n",
    "for i in Title:\n",
    "    title.append(i.text)"
   ]
  },
  {
   "cell_type": "code",
   "execution_count": 6,
   "id": "73a078ea",
   "metadata": {},
   "outputs": [
    {
     "data": {
      "text/plain": [
       "['1',\n",
       " 'Da Vinci Code,The',\n",
       " 'Brown, Dan',\n",
       " '5,094,805',\n",
       " 'Transworld',\n",
       " '2',\n",
       " 'Harry Potter and the Deathly Hallows',\n",
       " 'Rowling, J.K.',\n",
       " '4,475,152',\n",
       " 'Bloomsbury',\n",
       " '3',\n",
       " \"Harry Potter and the Philosopher's Stone\",\n",
       " 'Rowling, J.K.',\n",
       " '4,200,654',\n",
       " 'Bloomsbury',\n",
       " '4',\n",
       " 'Harry Potter and the Order of the Phoenix',\n",
       " 'Rowling, J.K.',\n",
       " '4,179,479',\n",
       " 'Bloomsbury',\n",
       " '5',\n",
       " 'Fifty Shades of Grey',\n",
       " 'James, E. L.',\n",
       " '3,758,936',\n",
       " 'Random House',\n",
       " '6',\n",
       " 'Harry Potter and the Goblet of Fire',\n",
       " 'Rowling, J.K.',\n",
       " '3,583,215',\n",
       " 'Bloomsbury',\n",
       " '7',\n",
       " 'Harry Potter and the Chamber of Secrets',\n",
       " 'Rowling, J.K.',\n",
       " '3,484,047',\n",
       " 'Bloomsbury',\n",
       " '8',\n",
       " 'Harry Potter and the Prisoner of Azkaban',\n",
       " 'Rowling, J.K.',\n",
       " '3,377,906',\n",
       " 'Bloomsbury',\n",
       " '9',\n",
       " 'Angels and Demons',\n",
       " 'Brown, Dan',\n",
       " '3,193,946',\n",
       " 'Transworld',\n",
       " '10',\n",
       " \"Harry Potter and the Half-blood Prince:Children's Edition\",\n",
       " 'Rowling, J.K.',\n",
       " '2,950,264',\n",
       " 'Bloomsbury',\n",
       " '11',\n",
       " 'Fifty Shades Darker',\n",
       " 'James, E. L.',\n",
       " '2,479,784',\n",
       " 'Random House',\n",
       " '12',\n",
       " 'Twilight',\n",
       " 'Meyer, Stephenie',\n",
       " '2,315,405',\n",
       " 'Little, Brown Book',\n",
       " '13',\n",
       " 'Girl with the Dragon Tattoo,The:Millennium Trilogy',\n",
       " 'Larsson, Stieg',\n",
       " '2,233,570',\n",
       " 'Quercus',\n",
       " '14',\n",
       " 'Fifty Shades Freed',\n",
       " 'James, E. L.',\n",
       " '2,193,928',\n",
       " 'Random House',\n",
       " '15',\n",
       " 'Lost Symbol,The',\n",
       " 'Brown, Dan',\n",
       " '2,183,031',\n",
       " 'Transworld',\n",
       " '16',\n",
       " 'New Moon',\n",
       " 'Meyer, Stephenie',\n",
       " '2,152,737',\n",
       " 'Little, Brown Book',\n",
       " '17',\n",
       " 'Deception Point',\n",
       " 'Brown, Dan',\n",
       " '2,062,145',\n",
       " 'Transworld',\n",
       " '18',\n",
       " 'Eclipse',\n",
       " 'Meyer, Stephenie',\n",
       " '2,052,876',\n",
       " 'Little, Brown Book',\n",
       " '19',\n",
       " 'Lovely Bones,The',\n",
       " 'Sebold, Alice',\n",
       " '2,005,598',\n",
       " 'Pan Macmillan',\n",
       " '20',\n",
       " 'Curious Incident of the Dog in the Night-time,The',\n",
       " 'Haddon, Mark',\n",
       " '1,979,552',\n",
       " 'Random House',\n",
       " '21',\n",
       " 'Digital Fortress',\n",
       " 'Brown, Dan',\n",
       " '1,928,900',\n",
       " 'Transworld',\n",
       " '22',\n",
       " 'Short History of Nearly Everything,A',\n",
       " 'Bryson, Bill',\n",
       " '1,852,919',\n",
       " 'Transworld',\n",
       " '23',\n",
       " 'Girl Who Played with Fire,The:Millennium Trilogy',\n",
       " 'Larsson, Stieg',\n",
       " '1,814,784',\n",
       " 'Quercus',\n",
       " '24',\n",
       " 'Breaking Dawn',\n",
       " 'Meyer, Stephenie',\n",
       " '1,787,118',\n",
       " 'Little, Brown Book',\n",
       " '25',\n",
       " 'Very Hungry Caterpillar,The:The Very Hungry Caterpillar',\n",
       " 'Carle, Eric',\n",
       " '1,783,535',\n",
       " 'Penguin',\n",
       " '26',\n",
       " 'Gruffalo,The',\n",
       " 'Donaldson, Julia',\n",
       " '1,781,269',\n",
       " 'Pan Macmillan',\n",
       " '27',\n",
       " \"Jamie's 30-Minute Meals\",\n",
       " 'Oliver, Jamie',\n",
       " '1,743,266',\n",
       " 'Penguin',\n",
       " '28',\n",
       " 'Kite Runner,The',\n",
       " 'Hosseini, Khaled',\n",
       " '1,629,119',\n",
       " 'Bloomsbury',\n",
       " '29',\n",
       " 'One Day',\n",
       " 'Nicholls, David',\n",
       " '1,616,068',\n",
       " 'Hodder & Stoughton',\n",
       " '30',\n",
       " 'Thousand Splendid Suns,A',\n",
       " 'Hosseini, Khaled',\n",
       " '1,583,992',\n",
       " 'Bloomsbury',\n",
       " '31',\n",
       " \"Girl Who Kicked the Hornets' Nest,The:Millennium Trilogy\",\n",
       " 'Larsson, Stieg',\n",
       " '1,555,135',\n",
       " 'Quercus',\n",
       " '32',\n",
       " \"Time Traveler's Wife,The\",\n",
       " 'Niffenegger, Audrey',\n",
       " '1,546,886',\n",
       " 'Random House',\n",
       " '33',\n",
       " 'Atonement',\n",
       " 'McEwan, Ian',\n",
       " '1,539,428',\n",
       " 'Random House',\n",
       " '34',\n",
       " \"Bridget Jones's Diary:A Novel\",\n",
       " 'Fielding, Helen',\n",
       " '1,508,205',\n",
       " 'Pan Macmillan',\n",
       " '35',\n",
       " 'World According to Clarkson,The',\n",
       " 'Clarkson, Jeremy',\n",
       " '1,489,403',\n",
       " 'Penguin',\n",
       " '36',\n",
       " \"Captain Corelli's Mandolin\",\n",
       " 'Bernieres, Louis de',\n",
       " '1,352,318',\n",
       " 'Random House',\n",
       " '37',\n",
       " 'Sound of Laughter,The',\n",
       " 'Kay, Peter',\n",
       " '1,310,207',\n",
       " 'Random House',\n",
       " '38',\n",
       " 'Life of Pi',\n",
       " 'Martel, Yann',\n",
       " '1,310,176',\n",
       " 'Canongate',\n",
       " '39',\n",
       " 'Billy Connolly',\n",
       " 'Stephenson, Pamela',\n",
       " '1,231,957',\n",
       " 'HarperCollins',\n",
       " '40',\n",
       " 'Child Called It,A',\n",
       " 'Pelzer, Dave',\n",
       " '1,217,712',\n",
       " 'Orion',\n",
       " '41',\n",
       " \"Gruffalo's Child,The\",\n",
       " 'Donaldson, Julia',\n",
       " '1,208,711',\n",
       " 'Pan Macmillan',\n",
       " '42',\n",
       " \"Angela's Ashes:A Memoir of a Childhood\",\n",
       " 'McCourt, Frank',\n",
       " '1,204,058',\n",
       " 'HarperCollins',\n",
       " '43',\n",
       " 'Birdsong',\n",
       " 'Faulks, Sebastian',\n",
       " '1,184,967',\n",
       " 'Random House',\n",
       " '44',\n",
       " 'Northern Lights:His Dark Materials S.',\n",
       " 'Pullman, Philip',\n",
       " '1,181,503',\n",
       " 'Scholastic Ltd.',\n",
       " '45',\n",
       " 'Labyrinth',\n",
       " 'Mosse, Kate',\n",
       " '1,181,093',\n",
       " 'Orion',\n",
       " '46',\n",
       " 'Harry Potter and the Half-blood Prince',\n",
       " 'Rowling, J.K.',\n",
       " '1,153,181',\n",
       " 'Bloomsbury',\n",
       " '47',\n",
       " 'Help,The',\n",
       " 'Stockett, Kathryn',\n",
       " '1,132,336',\n",
       " 'Penguin',\n",
       " '48',\n",
       " 'Man and Boy',\n",
       " 'Parsons, Tony',\n",
       " '1,130,802',\n",
       " 'HarperCollins',\n",
       " '49',\n",
       " 'Memoirs of a Geisha',\n",
       " 'Golden, Arthur',\n",
       " '1,126,337',\n",
       " 'Random House',\n",
       " '50',\n",
       " \"No.1 Ladies' Detective Agency,The:No.1 Ladies' Detective Agency S.\",\n",
       " 'McCall Smith, Alexander',\n",
       " '1,115,549',\n",
       " 'Little, Brown Book',\n",
       " '51',\n",
       " 'Island,The',\n",
       " 'Hislop, Victoria',\n",
       " '1,108,328',\n",
       " 'Headline',\n",
       " '52',\n",
       " 'PS, I Love You',\n",
       " 'Ahern, Cecelia',\n",
       " '1,107,379',\n",
       " 'HarperCollins',\n",
       " '53',\n",
       " 'You are What You Eat:The Plan That Will Change Your Life',\n",
       " 'McKeith, Gillian',\n",
       " '1,104,403',\n",
       " 'Penguin',\n",
       " '54',\n",
       " 'Shadow of the Wind,The',\n",
       " 'Zafon, Carlos Ruiz',\n",
       " '1,092,349',\n",
       " 'Orion',\n",
       " '55',\n",
       " 'Tales of Beedle the Bard,The',\n",
       " 'Rowling, J.K.',\n",
       " '1,090,847',\n",
       " 'Bloomsbury',\n",
       " '56',\n",
       " 'Broker,The',\n",
       " 'Grisham, John',\n",
       " '1,087,262',\n",
       " 'Random House',\n",
       " '57',\n",
       " \"Dr. Atkins' New Diet Revolution:The No-hunger, Luxurious Weight Loss P\",\n",
       " 'Atkins, Robert C.',\n",
       " '1,054,196',\n",
       " 'Random House',\n",
       " '58',\n",
       " 'Subtle Knife,The:His Dark Materials S.',\n",
       " 'Pullman, Philip',\n",
       " '1,037,160',\n",
       " 'Scholastic Ltd.',\n",
       " '59',\n",
       " 'Eats, Shoots and Leaves:The Zero Tolerance Approach to Punctuation',\n",
       " 'Truss, Lynne',\n",
       " '1,023,688',\n",
       " 'Profile Books Group',\n",
       " '60',\n",
       " \"Delia's How to Cook:(Bk.1)\",\n",
       " 'Smith, Delia',\n",
       " '1,015,956',\n",
       " 'Random House',\n",
       " '61',\n",
       " 'Chocolat',\n",
       " 'Harris, Joanne',\n",
       " '1,009,873',\n",
       " 'Transworld',\n",
       " '62',\n",
       " 'Boy in the Striped Pyjamas,The',\n",
       " 'Boyne, John',\n",
       " '1,004,414',\n",
       " 'Random House Childrens Books G',\n",
       " '63',\n",
       " \"My Sister's Keeper\",\n",
       " 'Picoult, Jodi',\n",
       " '1,003,780',\n",
       " 'Hodder & Stoughton',\n",
       " '64',\n",
       " 'Amber Spyglass,The:His Dark Materials S.',\n",
       " 'Pullman, Philip',\n",
       " '1,002,314',\n",
       " 'Scholastic Ltd.',\n",
       " '65',\n",
       " 'To Kill a Mockingbird',\n",
       " 'Lee, Harper',\n",
       " '998,213',\n",
       " 'Random House',\n",
       " '66',\n",
       " 'Men are from Mars, Women are from Venus:A Practical Guide for Improvin',\n",
       " 'Gray, John',\n",
       " '992,846',\n",
       " 'HarperCollins',\n",
       " '67',\n",
       " 'Dear Fatty',\n",
       " 'French, Dawn',\n",
       " '986,753',\n",
       " 'Random House',\n",
       " '68',\n",
       " 'Short History of Tractors in Ukrainian,A',\n",
       " 'Lewycka, Marina',\n",
       " '986,115',\n",
       " 'Penguin',\n",
       " '69',\n",
       " 'Hannibal',\n",
       " 'Harris, Thomas',\n",
       " '970,509',\n",
       " 'Random House',\n",
       " '70',\n",
       " 'Lord of the Rings,The',\n",
       " 'Tolkien, J. R. R.',\n",
       " '967,466',\n",
       " 'HarperCollins',\n",
       " '71',\n",
       " 'Stupid White Men:...and Other Sorry Excuses for the State of the Natio',\n",
       " 'Moore, Michael',\n",
       " '963,353',\n",
       " 'Penguin',\n",
       " '72',\n",
       " 'Interpretation of Murder,The',\n",
       " 'Rubenfeld, Jed',\n",
       " '962,515',\n",
       " 'Headline',\n",
       " '73',\n",
       " 'Sharon Osbourne Extreme:My Autobiography',\n",
       " 'Osbourne, Sharon',\n",
       " '959,496',\n",
       " 'Little, Brown Book',\n",
       " '74',\n",
       " 'Alchemist,The:A Fable About Following Your Dream',\n",
       " 'Coelho, Paulo',\n",
       " '956,114',\n",
       " 'HarperCollins',\n",
       " '75',\n",
       " \"At My Mother's Knee ...:and Other Low Joints\",\n",
       " \"O'Grady, Paul\",\n",
       " '945,640',\n",
       " 'Transworld',\n",
       " '76',\n",
       " 'Notes from a Small Island',\n",
       " 'Bryson, Bill',\n",
       " '931,312',\n",
       " 'Transworld',\n",
       " '77',\n",
       " 'Return of the Naked Chef,The',\n",
       " 'Oliver, Jamie',\n",
       " '925,425',\n",
       " 'Penguin',\n",
       " '78',\n",
       " 'Bridget Jones: The Edge of Reason',\n",
       " 'Fielding, Helen',\n",
       " '924,695',\n",
       " 'Pan Macmillan',\n",
       " '79',\n",
       " \"Jamie's Italy\",\n",
       " 'Oliver, Jamie',\n",
       " '906,968',\n",
       " 'Penguin',\n",
       " '80',\n",
       " 'I Can Make You Thin',\n",
       " 'McKenna, Paul',\n",
       " '905,086',\n",
       " 'Transworld',\n",
       " '81',\n",
       " 'Down Under',\n",
       " 'Bryson, Bill',\n",
       " '890,847',\n",
       " 'Transworld',\n",
       " '82',\n",
       " 'Summons,The',\n",
       " 'Grisham, John',\n",
       " '869,671',\n",
       " 'Random House',\n",
       " '83',\n",
       " 'Small Island',\n",
       " 'Levy, Andrea',\n",
       " '869,659',\n",
       " 'Headline',\n",
       " '84',\n",
       " 'Nigella Express',\n",
       " 'Lawson, Nigella',\n",
       " '862,602',\n",
       " 'Random House',\n",
       " '85',\n",
       " 'Brick Lane',\n",
       " 'Ali, Monica',\n",
       " '856,540',\n",
       " 'Transworld',\n",
       " '86',\n",
       " \"Memory Keeper's Daughter,The\",\n",
       " 'Edwards, Kim',\n",
       " '845,858',\n",
       " 'Penguin',\n",
       " '87',\n",
       " 'Room on the Broom',\n",
       " 'Donaldson, Julia',\n",
       " '842,535',\n",
       " 'Pan Macmillan',\n",
       " '88',\n",
       " 'About a Boy',\n",
       " 'Hornby, Nick',\n",
       " '828,215',\n",
       " 'Penguin',\n",
       " '89',\n",
       " 'My Booky Wook',\n",
       " 'Brand, Russell',\n",
       " '820,563',\n",
       " 'Hodder & Stoughton',\n",
       " '90',\n",
       " 'God Delusion,The',\n",
       " 'Dawkins, Richard',\n",
       " '816,907',\n",
       " 'Transworld',\n",
       " '91',\n",
       " '\"Beano\" Annual,The',\n",
       " '0',\n",
       " '816,585',\n",
       " 'D.C. Thomson',\n",
       " '92',\n",
       " 'White Teeth',\n",
       " 'Smith, Zadie',\n",
       " '815,586',\n",
       " 'Penguin',\n",
       " '93',\n",
       " 'House at Riverton,The',\n",
       " 'Morton, Kate',\n",
       " '814,370',\n",
       " 'Pan Macmillan',\n",
       " '94',\n",
       " 'Book Thief,The',\n",
       " 'Zusak, Markus',\n",
       " '809,641',\n",
       " 'Transworld',\n",
       " '95',\n",
       " 'Nights of Rain and Stars',\n",
       " 'Binchy, Maeve',\n",
       " '808,900',\n",
       " 'Orion',\n",
       " '96',\n",
       " 'Ghost,The',\n",
       " 'Harris, Robert',\n",
       " '807,311',\n",
       " 'Random House',\n",
       " '97',\n",
       " 'Happy Days with the Naked Chef',\n",
       " 'Oliver, Jamie',\n",
       " '794,201',\n",
       " 'Penguin',\n",
       " '98',\n",
       " 'Hunger Games,The:Hunger Games Trilogy',\n",
       " 'Collins, Suzanne',\n",
       " '792,187',\n",
       " 'Scholastic Ltd.',\n",
       " '99',\n",
       " \"Lost Boy,The:A Foster Child's Search for the Love of a Family\",\n",
       " 'Pelzer, Dave',\n",
       " '791,507',\n",
       " 'Orion',\n",
       " '100',\n",
       " \"Jamie's Ministry of Food:Anyone Can Learn to Cook in 24 Hours\",\n",
       " 'Oliver, Jamie',\n",
       " '791,095',\n",
       " 'Penguin']"
      ]
     },
     "execution_count": 6,
     "metadata": {},
     "output_type": "execute_result"
    }
   ],
   "source": [
    "title"
   ]
  },
  {
   "cell_type": "code",
   "execution_count": 9,
   "id": "c6f3d93d",
   "metadata": {},
   "outputs": [],
   "source": [
    "Rank=len(title[0::5])"
   ]
  },
  {
   "cell_type": "code",
   "execution_count": 12,
   "id": "2faec0a6",
   "metadata": {},
   "outputs": [],
   "source": [
    "Book=title[1::5]"
   ]
  },
  {
   "cell_type": "code",
   "execution_count": 15,
   "id": "521feaf0",
   "metadata": {},
   "outputs": [],
   "source": [
    "Author=title[2::5]"
   ]
  },
  {
   "cell_type": "code",
   "execution_count": 18,
   "id": "dad01f9c",
   "metadata": {},
   "outputs": [],
   "source": [
    "vol_sol=title[3::5]"
   ]
  },
  {
   "cell_type": "code",
   "execution_count": 20,
   "id": "4a17ca8d",
   "metadata": {},
   "outputs": [],
   "source": [
    "publisher=title[4::5]"
   ]
  },
  {
   "cell_type": "code",
   "execution_count": 21,
   "id": "54f33063",
   "metadata": {},
   "outputs": [],
   "source": [
    "ge=driver.find_elements(By.XPATH,'//td[@class=\"last left\"]')"
   ]
  },
  {
   "cell_type": "code",
   "execution_count": 22,
   "id": "ea9a914e",
   "metadata": {},
   "outputs": [],
   "source": [
    "GE=[]\n",
    "for i in ge:\n",
    "    GE.append(i.text)"
   ]
  },
  {
   "cell_type": "code",
   "execution_count": 24,
   "id": "f11533dd",
   "metadata": {},
   "outputs": [
    {
     "data": {
      "text/plain": [
       "100"
      ]
     },
     "execution_count": 24,
     "metadata": {},
     "output_type": "execute_result"
    }
   ],
   "source": [
    "len(GE)"
   ]
  },
  {
   "cell_type": "code",
   "execution_count": 26,
   "id": "5d8650ad",
   "metadata": {},
   "outputs": [],
   "source": [
    "df=pd.DataFrame({'Rank':Rank,'Book_Name':Book,'Author_Name':Author,'Volume_sold':vol_sol,'Publisher':publisher,'Genre':GE})"
   ]
  },
  {
   "cell_type": "markdown",
   "id": "260753bc",
   "metadata": {},
   "source": [
    "# 9. Scrape the details most watched tv series of all time from imdb.com.\n",
    "Url = https://www.imdb.com/list/ls095964455/\n",
    "You have to find the following details:"
   ]
  },
  {
   "cell_type": "code",
   "execution_count": 29,
   "id": "c34696e3",
   "metadata": {},
   "outputs": [],
   "source": [
    "url='http://www.imdb.com/list/ls095964455/'\n",
    "driver.get(url)"
   ]
  },
  {
   "cell_type": "code",
   "execution_count": 44,
   "id": "20c9313d",
   "metadata": {},
   "outputs": [],
   "source": [
    "Title=driver.find_elements(By.XPATH,'//h3[@class=\"lister-item-header\"]/a')"
   ]
  },
  {
   "cell_type": "code",
   "execution_count": 45,
   "id": "397f61d4",
   "metadata": {},
   "outputs": [],
   "source": [
    "title=[]\n",
    "for i in Title:\n",
    "    title.append(i.text)"
   ]
  },
  {
   "cell_type": "code",
   "execution_count": 94,
   "id": "45cd886b",
   "metadata": {},
   "outputs": [
    {
     "data": {
      "text/plain": [
       "100"
      ]
     },
     "execution_count": 94,
     "metadata": {},
     "output_type": "execute_result"
    }
   ],
   "source": [
    "len(title)"
   ]
  },
  {
   "cell_type": "code",
   "execution_count": 48,
   "id": "b99449b7",
   "metadata": {},
   "outputs": [],
   "source": [
    "gen=driver.find_elements(By.XPATH,'//span[@class=\"genre\"]')"
   ]
  },
  {
   "cell_type": "code",
   "execution_count": 49,
   "id": "9760cc59",
   "metadata": {},
   "outputs": [],
   "source": [
    "GEN=[]\n",
    "for i in gen:\n",
    "    GEN.append(i.text)"
   ]
  },
  {
   "cell_type": "code",
   "execution_count": 95,
   "id": "091a6f4d",
   "metadata": {},
   "outputs": [
    {
     "data": {
      "text/plain": [
       "100"
      ]
     },
     "execution_count": 95,
     "metadata": {},
     "output_type": "execute_result"
    }
   ],
   "source": [
    "len(GEN)"
   ]
  },
  {
   "cell_type": "code",
   "execution_count": 53,
   "id": "6a496e9f",
   "metadata": {},
   "outputs": [],
   "source": [
    "run=driver.find_elements(By.XPATH,'//span[@class=\"runtime\"]')"
   ]
  },
  {
   "cell_type": "code",
   "execution_count": 54,
   "id": "0cd321f3",
   "metadata": {},
   "outputs": [],
   "source": [
    "RUN=[]\n",
    "for i in run:\n",
    "    RUN.append(i.text)"
   ]
  },
  {
   "cell_type": "code",
   "execution_count": 56,
   "id": "5323fa75",
   "metadata": {},
   "outputs": [
    {
     "data": {
      "text/plain": [
       "100"
      ]
     },
     "execution_count": 56,
     "metadata": {},
     "output_type": "execute_result"
    }
   ],
   "source": [
    "len(RUN)"
   ]
  },
  {
   "cell_type": "code",
   "execution_count": 57,
   "id": "8edefbe1",
   "metadata": {},
   "outputs": [],
   "source": [
    "rat=driver.find_elements(By.XPATH,'//span[@class=\"ipl-rating-star__rating\"]')"
   ]
  },
  {
   "cell_type": "code",
   "execution_count": 58,
   "id": "4af1cac0",
   "metadata": {},
   "outputs": [],
   "source": [
    "RAT=[]\n",
    "for i in rat:\n",
    "    RAT.append(i.text)"
   ]
  },
  {
   "cell_type": "code",
   "execution_count": 98,
   "id": "0c6c4d97",
   "metadata": {},
   "outputs": [],
   "source": [
    "RAT=len(RAT[0::23])"
   ]
  },
  {
   "cell_type": "code",
   "execution_count": 85,
   "id": "0e7f23ff",
   "metadata": {},
   "outputs": [],
   "source": [
    "vot=driver.find_elements(By.XPATH,'//p[@class=\"text-muted text-small\"]/span')"
   ]
  },
  {
   "cell_type": "code",
   "execution_count": 86,
   "id": "b4f00ef3",
   "metadata": {},
   "outputs": [],
   "source": [
    "VOT=[]\n",
    "for i in vot:\n",
    "    VOT.append(i.text)"
   ]
  },
  {
   "cell_type": "code",
   "execution_count": 96,
   "id": "0e4e2399",
   "metadata": {},
   "outputs": [],
   "source": [
    "VOT=len(VOT[6::7])"
   ]
  },
  {
   "cell_type": "code",
   "execution_count": 99,
   "id": "6d1b757e",
   "metadata": {},
   "outputs": [
    {
     "data": {
      "text/html": [
       "<div>\n",
       "<style scoped>\n",
       "    .dataframe tbody tr th:only-of-type {\n",
       "        vertical-align: middle;\n",
       "    }\n",
       "\n",
       "    .dataframe tbody tr th {\n",
       "        vertical-align: top;\n",
       "    }\n",
       "\n",
       "    .dataframe thead th {\n",
       "        text-align: right;\n",
       "    }\n",
       "</style>\n",
       "<table border=\"1\" class=\"dataframe\">\n",
       "  <thead>\n",
       "    <tr style=\"text-align: right;\">\n",
       "      <th></th>\n",
       "      <th>TITLE</th>\n",
       "      <th>GENRE</th>\n",
       "      <th>RUN_TIME</th>\n",
       "      <th>RATING</th>\n",
       "      <th>VOTES</th>\n",
       "    </tr>\n",
       "  </thead>\n",
       "  <tbody>\n",
       "    <tr>\n",
       "      <th>0</th>\n",
       "      <td>Game of Thrones</td>\n",
       "      <td>Action, Adventure, Drama</td>\n",
       "      <td>57 min</td>\n",
       "      <td>100</td>\n",
       "      <td>100</td>\n",
       "    </tr>\n",
       "    <tr>\n",
       "      <th>1</th>\n",
       "      <td>Stranger Things</td>\n",
       "      <td>Drama, Fantasy, Horror</td>\n",
       "      <td>51 min</td>\n",
       "      <td>100</td>\n",
       "      <td>100</td>\n",
       "    </tr>\n",
       "    <tr>\n",
       "      <th>2</th>\n",
       "      <td>The Walking Dead</td>\n",
       "      <td>Drama, Horror, Thriller</td>\n",
       "      <td>44 min</td>\n",
       "      <td>100</td>\n",
       "      <td>100</td>\n",
       "    </tr>\n",
       "    <tr>\n",
       "      <th>3</th>\n",
       "      <td>13 Reasons Why</td>\n",
       "      <td>Drama, Mystery, Thriller</td>\n",
       "      <td>60 min</td>\n",
       "      <td>100</td>\n",
       "      <td>100</td>\n",
       "    </tr>\n",
       "    <tr>\n",
       "      <th>4</th>\n",
       "      <td>The 100</td>\n",
       "      <td>Drama, Mystery, Sci-Fi</td>\n",
       "      <td>43 min</td>\n",
       "      <td>100</td>\n",
       "      <td>100</td>\n",
       "    </tr>\n",
       "    <tr>\n",
       "      <th>...</th>\n",
       "      <td>...</td>\n",
       "      <td>...</td>\n",
       "      <td>...</td>\n",
       "      <td>...</td>\n",
       "      <td>...</td>\n",
       "    </tr>\n",
       "    <tr>\n",
       "      <th>95</th>\n",
       "      <td>Reign</td>\n",
       "      <td>Drama</td>\n",
       "      <td>42 min</td>\n",
       "      <td>100</td>\n",
       "      <td>100</td>\n",
       "    </tr>\n",
       "    <tr>\n",
       "      <th>96</th>\n",
       "      <td>A Series of Unfortunate Events</td>\n",
       "      <td>Adventure, Comedy, Drama</td>\n",
       "      <td>50 min</td>\n",
       "      <td>100</td>\n",
       "      <td>100</td>\n",
       "    </tr>\n",
       "    <tr>\n",
       "      <th>97</th>\n",
       "      <td>Criminal Minds</td>\n",
       "      <td>Crime, Drama, Mystery</td>\n",
       "      <td>42 min</td>\n",
       "      <td>100</td>\n",
       "      <td>100</td>\n",
       "    </tr>\n",
       "    <tr>\n",
       "      <th>98</th>\n",
       "      <td>Scream: The TV Series</td>\n",
       "      <td>Comedy, Crime, Drama</td>\n",
       "      <td>45 min</td>\n",
       "      <td>100</td>\n",
       "      <td>100</td>\n",
       "    </tr>\n",
       "    <tr>\n",
       "      <th>99</th>\n",
       "      <td>The Haunting of Hill House</td>\n",
       "      <td>Drama, Horror, Mystery</td>\n",
       "      <td>572 min</td>\n",
       "      <td>100</td>\n",
       "      <td>100</td>\n",
       "    </tr>\n",
       "  </tbody>\n",
       "</table>\n",
       "<p>100 rows × 5 columns</p>\n",
       "</div>"
      ],
      "text/plain": [
       "                             TITLE                     GENRE RUN_TIME  RATING  \\\n",
       "0                  Game of Thrones  Action, Adventure, Drama   57 min     100   \n",
       "1                  Stranger Things    Drama, Fantasy, Horror   51 min     100   \n",
       "2                 The Walking Dead   Drama, Horror, Thriller   44 min     100   \n",
       "3                   13 Reasons Why  Drama, Mystery, Thriller   60 min     100   \n",
       "4                          The 100    Drama, Mystery, Sci-Fi   43 min     100   \n",
       "..                             ...                       ...      ...     ...   \n",
       "95                           Reign                     Drama   42 min     100   \n",
       "96  A Series of Unfortunate Events  Adventure, Comedy, Drama   50 min     100   \n",
       "97                  Criminal Minds     Crime, Drama, Mystery   42 min     100   \n",
       "98           Scream: The TV Series      Comedy, Crime, Drama   45 min     100   \n",
       "99      The Haunting of Hill House    Drama, Horror, Mystery  572 min     100   \n",
       "\n",
       "    VOTES  \n",
       "0     100  \n",
       "1     100  \n",
       "2     100  \n",
       "3     100  \n",
       "4     100  \n",
       "..    ...  \n",
       "95    100  \n",
       "96    100  \n",
       "97    100  \n",
       "98    100  \n",
       "99    100  \n",
       "\n",
       "[100 rows x 5 columns]"
      ]
     },
     "execution_count": 99,
     "metadata": {},
     "output_type": "execute_result"
    }
   ],
   "source": [
    "pd.DataFrame({'TITLE':title,'GENRE':GEN,'RUN_TIME':RUN,'RATING':RAT,'VOTES':VOT})"
   ]
  },
  {
   "cell_type": "markdown",
   "id": "ca5717b1",
   "metadata": {},
   "source": [
    "# 10. Details of Datasets from UCI machine learning repositories.\n",
    "Url = https://archive.ics.uci.edu/\n",
    "You have to find the following details"
   ]
  },
  {
   "cell_type": "code",
   "execution_count": 135,
   "id": "50c57029",
   "metadata": {},
   "outputs": [],
   "source": [
    "url='https://archive.ics.uci.edu/'\n",
    "driver.get(url)"
   ]
  },
  {
   "cell_type": "code",
   "execution_count": 136,
   "id": "41998f46",
   "metadata": {},
   "outputs": [],
   "source": [
    "view_all=driver.find_element(By.XPATH,'/html/body/table[1]/tbody/tr/td[2]/span[2]/a')"
   ]
  },
  {
   "cell_type": "code",
   "execution_count": 137,
   "id": "f3279518",
   "metadata": {},
   "outputs": [],
   "source": [
    "view_all.click()"
   ]
  },
  {
   "cell_type": "code",
   "execution_count": 142,
   "id": "3b28e2a0",
   "metadata": {},
   "outputs": [],
   "source": [
    "link=driver.find_elements(By.XPATH,'//p[@class=\"normal\"]/a')"
   ]
  },
  {
   "cell_type": "code",
   "execution_count": 143,
   "id": "333f9bbf",
   "metadata": {},
   "outputs": [],
   "source": [
    "Link=[]\n",
    "for i in link:\n",
    "    Link.append(i.get_attribute('href'))"
   ]
  },
  {
   "cell_type": "code",
   "execution_count": 146,
   "id": "811d19fb",
   "metadata": {},
   "outputs": [],
   "source": [
    "Dataset_name=[]\n",
    "Data_type=[]\n",
    "Task=[]\n",
    "Attribute_type=[]\n",
    "No_of_instances=[]\n",
    "No_of_attributes=[]\n",
    "Year=[]"
   ]
  },
  {
   "cell_type": "code",
   "execution_count": 177,
   "id": "dd5cc560",
   "metadata": {},
   "outputs": [],
   "source": [
    "for i in Link[0:3]:\n",
    "    driver.get(i)\n",
    "    time.sleep(3)\n",
    "    \n",
    "    try:\n",
    "        dataset_name=driver.find_element(By.XPATH,\"//span[@class='heading']\")\n",
    "        Dataset_name.append(dataset_name.text)\n",
    "    except NoSuchElementException:\n",
    "        Dataset_name.append('-')\n",
    "    time.sleep(3)\n",
    "    \n",
    "    \n",
    "    try:\n",
    "        task=driver.find_element(By.XPATH,\"//table[@border='1']//tbody/tr[3]/td[2]\")\n",
    "        if task.text==\"N/A\": raise NoSuchElementException\n",
    "        Task.append(task.text)\n",
    "    except NoSuchElementException:\n",
    "        Task.append('-')\n",
    "    time.sleep(3)\n",
    "    \n",
    "    \n",
    "    try:\n",
    "        attribute_type=driver.find_element(By.XPATH,\"//table[@border='1']//tbody/tr[2]/td[2]\")\n",
    "        if attribute_type.text==\"N/A\": raise NoSuchElementException\n",
    "        Attribute_type.append(attribute_type.text)\n",
    "    except NoSuchElementException:\n",
    "        Attribute_type.append('-')\n",
    "    time.sleep(3)\n",
    "    \n",
    "    \n",
    "    try:\n",
    "        instances=driver.find_element(By.XPATH,\"//table[@border='1']//tbody/tr/td[4]\")\n",
    "        if instances.text==\"N/A\": raise NoSuchElementException\n",
    "        No_of_instances.append(instances.text)\n",
    "    except NoSuchElementException:\n",
    "        No_of_instances.append('-')\n",
    "    time.sleep(3)\n",
    "    \n",
    "    try:\n",
    "        year=driver.find_element(By.XPATH,\"//table[@border='1']//tbody/tr[2]/td[6]\")\n",
    "        if year.text == \"N/A\": raise NoSuchElementException\n",
    "        Year.append(year.text[:4])\n",
    "    except NoSuchElementException:\n",
    "        Year.append('-')\n",
    "    time.sleep(3)\n",
    "    \n",
    "    try:\n",
    "        attribute=driver.find_element(By.XPATH,\"//table[@border='1']//tbody/tr[2]/td[4]\")\n",
    "        if attribute.text==\"N/A\": raise NoSuchElementException\n",
    "        No_of_attributes.append(attribute.text)\n",
    "    except NoSuchElementException:\n",
    "        No_of_attributes.append('-')\n",
    "    time.sleep(3)\n",
    "    "
   ]
  },
  {
   "cell_type": "code",
   "execution_count": null,
   "id": "6bc1e92a",
   "metadata": {},
   "outputs": [],
   "source": [
    "df=pd.DataFrame()\n",
    "df['dataset_Name']=Dataset_name\n",
    "df['D_Types=']=Data_type\n",
    "df['Task']=Task\n",
    "df['Attribute_type']=Attribute_type\n",
    "df['No_of_instances']=No_of_instances\n",
    "df['No_of_attributes']=No_of_attributes\n",
    "df['Year']=Year"
   ]
  },
  {
   "cell_type": "code",
   "execution_count": null,
   "id": "27ced88f",
   "metadata": {},
   "outputs": [],
   "source": [
    "df"
   ]
  }
 ],
 "metadata": {
  "kernelspec": {
   "display_name": "Python 3 (ipykernel)",
   "language": "python",
   "name": "python3"
  },
  "language_info": {
   "codemirror_mode": {
    "name": "ipython",
    "version": 3
   },
   "file_extension": ".py",
   "mimetype": "text/x-python",
   "name": "python",
   "nbconvert_exporter": "python",
   "pygments_lexer": "ipython3",
   "version": "3.9.7"
  }
 },
 "nbformat": 4,
 "nbformat_minor": 5
}
